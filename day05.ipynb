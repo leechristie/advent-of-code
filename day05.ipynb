{
 "cells": [
  {
   "cell_type": "markdown",
   "source": [
    "# Advent of Code 2022\n",
    "\n",
    "## Day 5: Supply Stacks\n",
    "\n",
    "Solution code by [leechristie](https://github.com/leechristie) for Advent of Code 2022."
   ],
   "metadata": {
    "collapsed": false
   }
  },
  {
   "cell_type": "code",
   "execution_count": null,
   "outputs": [],
   "source": [
    "from typing import TextIO, Iterator, Optional\n",
    "from collections import deque"
   ],
   "metadata": {
    "collapsed": false
   }
  },
  {
   "cell_type": "code",
   "execution_count": null,
   "outputs": [],
   "source": [
    "# for reading the header containing the boxes - up to a blank line\n",
    "def read_header(file: TextIO) -> Iterator[str]:\n",
    "    for line in file:\n",
    "        line = line.strip('\\r\\n')  # don't want to strip normal spaces in header!\n",
    "        if not line.strip():\n",
    "            break\n",
    "        yield line\n",
    "\n",
    "# for reading remaining lines containing moves - up to end (or max lines for testing/debugging)\n",
    "def read_body(file: TextIO, limit: Optional[int] = None) -> Iterator[str]:\n",
    "    count = 0\n",
    "    for line in file:\n",
    "        line = line.strip()\n",
    "        yield line\n",
    "        count += 1\n",
    "        if limit is not None and count >= limit:\n",
    "            break"
   ],
   "metadata": {
    "collapsed": false
   }
  },
  {
   "cell_type": "code",
   "execution_count": null,
   "outputs": [],
   "source": [
    "def parse_box_row(line: str) -> list[str]:\n",
    "    # the line is 3 chars per column plus 1 space between each\n",
    "    assert (len(line) + 1) % 4 == 0\n",
    "    line = line + ' '\n",
    "    rv = []\n",
    "    for i in range(0, len(line), 4):\n",
    "        rv.append(line[i+1].strip())\n",
    "    return rv"
   ],
   "metadata": {
    "collapsed": false
   }
  },
  {
   "cell_type": "code",
   "execution_count": null,
   "outputs": [],
   "source": [
    "def build_header_to_stacks(file: TextIO) -> dict[int, deque]:\n",
    "    deques = None\n",
    "    for line in read_header(file):\n",
    "        row = parse_box_row(line)\n",
    "        if not deques:\n",
    "            deques = [deque() for _ in row]\n",
    "        assert (len(deques) == len(row)), 'non-uniform row lengths for header'\n",
    "        for d, element in zip(deques, row):\n",
    "            if element:\n",
    "                # using appendleft because the txt file has items in oposite of stack order\n",
    "                d.appendleft(element)\n",
    "    index = 1\n",
    "    rv = {}\n",
    "    for d in deques:\n",
    "        left = d.popleft()\n",
    "        assert int(left) == index, 'expected left to deque to be a counter digit'\n",
    "        rv[index] = d\n",
    "        index += 1\n",
    "    return rv"
   ],
   "metadata": {
    "collapsed": false
   }
  },
  {
   "cell_type": "code",
   "execution_count": null,
   "outputs": [],
   "source": [
    "class Move:\n",
    "\n",
    "    __init__ = ['count', 'source', 'destination']\n",
    "\n",
    "    def __init__(self, s: str):\n",
    "        tokens = s.split(' ')\n",
    "        assert len(tokens) == 6\n",
    "        assert tokens[0] == 'move'\n",
    "        self.count = int(tokens[1])\n",
    "        assert tokens[2] == 'from'\n",
    "        self.source = int(tokens[3])\n",
    "        assert tokens[4] == 'to'\n",
    "        self.destination = int(tokens[5])\n",
    "        assert self.count >= 1\n",
    "        assert self.source != self.destination\n",
    "\n",
    "    def __str__(self):\n",
    "        return f'move {self.count} from {self.source} to {self.destination}'\n",
    "\n",
    "    def apply_to(self, stacks: dict[int, deque], move_method) -> None:\n",
    "        source_stack = stacks[self.source]\n",
    "        destination_stack = stacks[self.destination]\n",
    "        assert (len(source_stack) >= self.count), f\"can't move {self.count} form stack {source_stack}\"\n",
    "        move_method(source_stack, destination_stack, self.count)\n",
    "\n",
    "\n",
    "def read_moves(file: TextIO, limit: Optional[int] = None) -> Iterator[Move]:\n",
    "    for line in read_body(file, limit=limit):\n",
    "        yield Move(line)"
   ],
   "metadata": {
    "collapsed": false
   }
  },
  {
   "cell_type": "code",
   "execution_count": null,
   "outputs": [],
   "source": [
    "def move_all(filename: str, move_method) -> str:\n",
    "\n",
    "    with open(filename) as file:\n",
    "\n",
    "        stacks = build_header_to_stacks(file)\n",
    "\n",
    "        for move in read_moves(file):\n",
    "            move.apply_to(stacks, move_method=move_method)\n",
    "\n",
    "        print('The top of each stack after moving boxes is:', end=' ')\n",
    "        for index in sorted(stacks):\n",
    "            print(stacks[index].pop(), end='')\n",
    "        print()"
   ],
   "metadata": {
    "collapsed": false
   }
  },
  {
   "cell_type": "code",
   "execution_count": null,
   "outputs": [],
   "source": [
    "INPUT_FILE = 'data/input05.txt'"
   ],
   "metadata": {
    "collapsed": false
   }
  },
  {
   "cell_type": "markdown",
   "source": [
    "### Part 1"
   ],
   "metadata": {
    "collapsed": false
   }
  },
  {
   "cell_type": "code",
   "execution_count": null,
   "outputs": [],
   "source": [
    "def move_one_at_a_time(source_stack: deque, destination_stack: deque, count: int) -> None:\n",
    "    for _ in range(count):\n",
    "        destination_stack.append(source_stack.pop())"
   ],
   "metadata": {
    "collapsed": false
   }
  },
  {
   "cell_type": "code",
   "execution_count": null,
   "outputs": [],
   "source": [
    "if __name__ == '__main__':\n",
    "    move_all(INPUT_FILE, move_method=move_one_at_a_time)"
   ],
   "metadata": {
    "collapsed": false
   }
  },
  {
   "cell_type": "markdown",
   "source": [
    "### Part 2"
   ],
   "metadata": {
    "collapsed": false
   }
  },
  {
   "cell_type": "code",
   "execution_count": null,
   "outputs": [],
   "source": [
    "def move_at_once(source_stack: deque, destination_stack: deque, count: int) -> None:\n",
    "    crane = deque()\n",
    "    for _ in range(count):\n",
    "        crane.append(source_stack.pop())\n",
    "    while crane:\n",
    "        destination_stack.append(crane.pop())"
   ],
   "metadata": {
    "collapsed": false
   }
  },
  {
   "cell_type": "code",
   "execution_count": null,
   "outputs": [],
   "source": [
    "if __name__ == '__main__':\n",
    "    move_all(INPUT_FILE, move_method=move_at_once)"
   ],
   "metadata": {
    "collapsed": false
   }
  }
 ],
 "metadata": {
  "kernelspec": {
   "display_name": "Python 3",
   "language": "python",
   "name": "python3"
  },
  "language_info": {
   "codemirror_mode": {
    "name": "ipython",
    "version": 2
   },
   "file_extension": ".py",
   "mimetype": "text/x-python",
   "name": "python",
   "nbconvert_exporter": "python",
   "pygments_lexer": "ipython2",
   "version": "2.7.6"
  }
 },
 "nbformat": 4,
 "nbformat_minor": 0
}
