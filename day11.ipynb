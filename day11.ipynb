{
 "cells": [
  {
   "cell_type": "markdown",
   "source": [
    "# Advent of Code 2022\n",
    "\n",
    "## Day 11: Monkey in the Middle\n",
    "\n",
    "Solution code by [leechristie](https://github.com/leechristie) for Advent of Code 2022.\n",
    "\n",
    "Today's part 2 required a bit of maths rather than just blind coding! I think that's the first time in this year's AoC that needed what I'd describe as mathematical thinking. But not too difficult, so I still managed to solve it myself.\n",
    "\n",
    "Firstly, in part 1, I build a `Monkey` class and a generator which loops over the file yielding `Monkey` objects to load the data. I used this as mutable state to track the state of the monkeys. The list of items is a `deque` although I'm sure a `list` would have worked fine. There's a lot of printing code in my logic behind this `verbos=` flag that gets passed to methods fo I could compare against the sample output in the question.\n",
    "\n",
    "I added a progress bar with `tqdm` to see how long part 2 was going to take without modification to the code other than removing the divide-by-3 and setting the rounds to 10,000. It would take too long. There item worry numbers are too big to compute even with Python's unbounded ints.\n",
    "\n",
    "I modified the method which applies the operator to divide by the product of all monkey divisors. They are all primes. I assume this is the lowest base I can use inless there's some other trick I'm missing? This works first time!\n",
    "\n",
    "Very fun."
   ],
   "metadata": {
    "collapsed": false
   }
  },
  {
   "cell_type": "markdown",
   "source": [
    "### Imports"
   ],
   "metadata": {
    "collapsed": false
   }
  },
  {
   "cell_type": "code",
   "execution_count": null,
   "outputs": [],
   "source": [
    "from typing import Iterator, Union, Optional\n",
    "from collections import deque\n",
    "\n",
    "import tqdm.notebook as tqdm"
   ],
   "metadata": {
    "collapsed": false
   }
  },
  {
   "cell_type": "markdown",
   "source": [
    "### Data File Processing"
   ],
   "metadata": {
    "collapsed": false
   }
  },
  {
   "cell_type": "code",
   "execution_count": null,
   "outputs": [],
   "source": [
    "def read_data_blocks(filename: str) -> Iterator[list[str]]:\n",
    "\n",
    "    buffer = []\n",
    "\n",
    "    with open(filename) as file:\n",
    "\n",
    "        for line in file:\n",
    "\n",
    "            line = line.strip('\\n')\n",
    "            if line:\n",
    "                buffer.append(line)\n",
    "            else:\n",
    "                yield buffer\n",
    "                buffer = []\n",
    "\n",
    "    # in case the final block is not terminated with \\n\n",
    "    if buffer:\n",
    "        yield buffer"
   ],
   "metadata": {
    "collapsed": false
   }
  },
  {
   "cell_type": "code",
   "execution_count": null,
   "outputs": [],
   "source": [
    "def strip_line(line: str, start: str, end: str='') -> str:\n",
    "    assert line.startswith(start), f'line \"{line}\" does not start with \"{start}\"'\n",
    "    assert line.endswith(end), f'line \"{line}\" does not end with \"{end}\"'\n",
    "    if end:\n",
    "        return line[len(start):-len(end)]\n",
    "    return line[len(start):]"
   ],
   "metadata": {
    "collapsed": false
   }
  },
  {
   "cell_type": "markdown",
   "source": [
    "### Monkey Object"
   ],
   "metadata": {
    "collapsed": false
   }
  },
  {
   "cell_type": "code",
   "execution_count": null,
   "outputs": [],
   "source": [
    "class Monkey:\n",
    "\n",
    "    __slots__ = ['number', 'items', 'operator', 'operand', 'divisor', 'if_true', 'if_false', 'inspections']\n",
    "\n",
    "    def __init__(self,\n",
    "                 number: int,\n",
    "                 items: list[int],\n",
    "                 operator: str,\n",
    "                 operand: Union[str, int],\n",
    "                 divisor: int,\n",
    "                 if_true: int,\n",
    "                 if_false: int):\n",
    "        self.number = number\n",
    "        self.items = deque(items)\n",
    "        self.operator = operator\n",
    "        self.operand = operand\n",
    "        self.divisor = divisor\n",
    "        self.if_true = if_true\n",
    "        self.if_false = if_false\n",
    "        self.inspections = 0\n",
    "\n",
    "    def inspect(self, item: int, verbose: bool=False) -> None:\n",
    "        self.inspections += 1\n",
    "        if verbose:\n",
    "            print(f'  Monkey inspects an item with a worry level of {item}.')\n",
    "\n",
    "    def apply_operator(self, old: int, verbose: bool=False, N:Optional[int]=None) -> int:\n",
    "\n",
    "        if self.operator == '*':\n",
    "\n",
    "            multiplier = old if self.operand == 'old' else self.operand\n",
    "            new = multiplier * old\n",
    "            if verbose:\n",
    "                print(f'    Worry level is multiplied by {multiplier} to {new}.')\n",
    "\n",
    "        else:\n",
    "\n",
    "            delta = old if self.operand == 'old' else self.operand\n",
    "            new = delta + old\n",
    "            if verbose:\n",
    "                print(f'    Worry level increases by {delta} to {new}.')\n",
    "\n",
    "        if N:\n",
    "            return new % N\n",
    "        return new\n",
    "\n",
    "    def __str__(self):\n",
    "        return f'Monkey {self.number}: {\", \".join([str(i) for i in self.items])}'\n",
    "\n",
    "    def __repr__(self):\n",
    "        return str(self)"
   ],
   "metadata": {
    "collapsed": false
   }
  },
  {
   "cell_type": "code",
   "execution_count": null,
   "outputs": [],
   "source": [
    "def read_monkeys(filename: str) -> Iterator[Monkey]:\n",
    "\n",
    "    for block in read_data_blocks(filename):\n",
    "\n",
    "        assert len(block) == 6\n",
    "        monkey_number, starting, op, test, if_true, if_false = block\n",
    "\n",
    "        monkey_number = int(strip_line(monkey_number, 'Monkey ', ':'))\n",
    "        starting = strip_line(starting, '  Starting items: ')\n",
    "        starting = [int(e) for e in starting.split(', ')]\n",
    "        op = strip_line(op, '  Operation: new = old ')\n",
    "        operator, operand = op.split(' ')\n",
    "        try:\n",
    "            operand = int(operand)\n",
    "        except ValueError:\n",
    "            pass\n",
    "        test = int(strip_line(test, '  Test: divisible by '))\n",
    "        if_true = int(strip_line(if_true, '    If true: throw to monkey '))\n",
    "        if_false = int(strip_line(if_false, '    If false: throw to monkey '))\n",
    "\n",
    "        yield Monkey(monkey_number, starting, operator, operand, test, if_true, if_false)"
   ],
   "metadata": {
    "collapsed": false
   }
  },
  {
   "cell_type": "markdown",
   "source": [
    "### Processing Rounds of Monkey Business"
   ],
   "metadata": {
    "collapsed": false
   }
  },
  {
   "cell_type": "code",
   "execution_count": null,
   "outputs": [],
   "source": [
    "def monkey_round(monkeys: list[Monkey], worry_reduction: bool=True, verbose:bool=False, N:Optional[int]=None) -> None:\n",
    "\n",
    "    for monkey in monkeys:\n",
    "\n",
    "        if verbose:\n",
    "            print(f'Monkey {monkey.number}:')\n",
    "\n",
    "        while monkey.items:\n",
    "            item = monkey.items.popleft()\n",
    "            monkey.inspect(item, verbose=verbose)\n",
    "            item = monkey.apply_operator(item, verbose=verbose, N=N)\n",
    "\n",
    "            if worry_reduction:\n",
    "                item = item // 3\n",
    "                if verbose:\n",
    "                    print(f'    Monkey gets bored with item. Worry level is divided by 3 to {item}.')\n",
    "\n",
    "            if item % monkey.divisor == 0:\n",
    "                if verbose:\n",
    "                    print(f'    Current worry level is divisible by {monkey.divisor}')\n",
    "                destination = monkey.if_true\n",
    "            else:\n",
    "                if verbose:\n",
    "                    print(f'    Current worry level is not divisible by {monkey.divisor}')\n",
    "                destination = monkey.if_false\n",
    "            if verbose:\n",
    "                print(f'    Item with worry level {item} is thrown to monkey {destination}')\n",
    "            monkeys[destination].items.append(item)"
   ],
   "metadata": {
    "collapsed": false
   }
  },
  {
   "cell_type": "code",
   "execution_count": null,
   "outputs": [],
   "source": [
    "def print_state(monkeys: list[Monkey], rounds_complete: int) -> None:\n",
    "    print(f'After {rounds_complete} rounds...')\n",
    "    for monkey in monkeys:\n",
    "        print(monkey)\n",
    "    print()"
   ],
   "metadata": {
    "collapsed": false
   }
  },
  {
   "cell_type": "code",
   "execution_count": null,
   "outputs": [],
   "source": [
    "def do_all_rounds(monkeys: list[Monkey],\n",
    "                  num_rounds: int,\n",
    "                  worry_reduction: bool=True,\n",
    "                  verbose: bool=False,\n",
    "                  progress_bar: bool=False,\n",
    "                  N:Optional[int]=None) -> int:\n",
    "\n",
    "    if verbose:\n",
    "        print_state(monkeys, 0)\n",
    "\n",
    "    iterator = range(num_rounds)\n",
    "    if progress_bar:\n",
    "        iterator = tqdm.tqdm(iterator)\n",
    "\n",
    "    for rounds_complete in iterator:\n",
    "        monkey_round(monkeys, worry_reduction=worry_reduction, verbose=verbose, N=N)\n",
    "        if verbose:\n",
    "            print_state(monkeys, rounds_complete+1)\n",
    "\n",
    "    inspections = []\n",
    "    for monkey in monkeys:\n",
    "        if verbose:\n",
    "            print(f'Monkey {monkey.number} inspected items {monkey.inspections} times.')\n",
    "        inspections.append(monkey.inspections)\n",
    "    inspections.sort(reverse=True)\n",
    "    monkey_business = inspections[0] * inspections[1]\n",
    "    if verbose:\n",
    "        print()\n",
    "\n",
    "    return monkey_business"
   ],
   "metadata": {
    "collapsed": false
   }
  },
  {
   "cell_type": "markdown",
   "source": [
    "### Part 1"
   ],
   "metadata": {
    "collapsed": false
   }
  },
  {
   "cell_type": "code",
   "execution_count": null,
   "outputs": [],
   "source": [
    "INPUT_FILE = 'data/input11.txt'"
   ],
   "metadata": {
    "collapsed": false
   }
  },
  {
   "cell_type": "code",
   "execution_count": null,
   "outputs": [],
   "source": [
    "def main(num_rounds: int, worry_reduction: bool, verbose: bool, progress_bar: bool, N:Optional[int]=None) -> None:\n",
    "\n",
    "    monkeys = []\n",
    "\n",
    "    for monkey in read_monkeys(INPUT_FILE):\n",
    "        assert monkey.number == len(monkeys)\n",
    "        monkeys.append(monkey)\n",
    "\n",
    "    monkey_business = do_all_rounds(monkeys,\n",
    "                                    num_rounds,\n",
    "                                    worry_reduction= worry_reduction,\n",
    "                                    verbose=verbose,\n",
    "                                    progress_bar=progress_bar,\n",
    "                                    N=N)\n",
    "\n",
    "    print(f'The level of monkey business after {num_rounds} rounds is {monkey_business}')"
   ],
   "metadata": {
    "collapsed": false
   }
  },
  {
   "cell_type": "code",
   "execution_count": null,
   "outputs": [],
   "source": [
    "if __name__ == '__main__':\n",
    "    main(num_rounds=20, worry_reduction=True, verbose=False, progress_bar=False, N=None)"
   ],
   "metadata": {
    "collapsed": false
   }
  },
  {
   "cell_type": "markdown",
   "source": [
    "### Testing Stuff"
   ],
   "metadata": {
    "collapsed": false
   }
  },
  {
   "cell_type": "markdown",
   "source": [
    "Applying the same code to part 2 without `worry_reduction` looks like it will take forever to finish due to the huge numbers.\n",
    "\n",
    "There needs ot me a maths trick.\n",
    "\n",
    "What's the product of the divisors of the tests?\n",
    "\n",
    "Maybe we can perform arithmetic mod this?"
   ],
   "metadata": {
    "collapsed": false
   }
  },
  {
   "cell_type": "code",
   "execution_count": null,
   "outputs": [],
   "source": [
    "def check_product_of_divisors():\n",
    "\n",
    "    monkeys = []\n",
    "\n",
    "    for monkey in read_monkeys(INPUT_FILE):\n",
    "        assert monkey.number == len(monkeys)\n",
    "        monkeys.append(monkey)\n",
    "\n",
    "    N = 1\n",
    "    for m in monkeys:\n",
    "        N *= m.divisor\n",
    "\n",
    "    return N\n",
    "\n",
    "print('product of divisors =', check_product_of_divisors())"
   ],
   "metadata": {
    "collapsed": false
   }
  },
  {
   "cell_type": "markdown",
   "source": [
    "### Part 2\n",
    "\n",
    "I've gone back and edited the `Monkey.apply_operator` to accept the argument `N` and divide by this number and take the remainder is it's not set to `None`."
   ],
   "metadata": {
    "collapsed": false
   }
  },
  {
   "cell_type": "code",
   "execution_count": null,
   "outputs": [],
   "source": [
    "if __name__ == '__main__':\n",
    "    N = check_product_of_divisors()\n",
    "    main(num_rounds=10000, worry_reduction=False, verbose=False, progress_bar=True, N=N)"
   ],
   "metadata": {
    "collapsed": false
   }
  },
  {
   "cell_type": "markdown",
   "source": [
    "Success."
   ],
   "metadata": {
    "collapsed": false
   }
  }
 ],
 "metadata": {
  "kernelspec": {
   "display_name": "Python 3",
   "language": "python",
   "name": "python3"
  },
  "language_info": {
   "codemirror_mode": {
    "name": "ipython",
    "version": 2
   },
   "file_extension": ".py",
   "mimetype": "text/x-python",
   "name": "python",
   "nbconvert_exporter": "python",
   "pygments_lexer": "ipython2",
   "version": "2.7.6"
  }
 },
 "nbformat": 4,
 "nbformat_minor": 0
}
