{
 "cells": [
  {
   "cell_type": "markdown",
   "source": [
    "# Advent of Code 2022\n",
    "\n",
    "## Solve Time Stats\n",
    "\n",
    "Code by [leechristie](https://github.com/leechristie)."
   ],
   "metadata": {
    "collapsed": false
   }
  },
  {
   "cell_type": "markdown",
   "source": [
    "### Imports"
   ],
   "metadata": {
    "collapsed": false
   }
  },
  {
   "cell_type": "code",
   "execution_count": null,
   "outputs": [],
   "source": [
    "import requests\n",
    "from bs4 import BeautifulSoup\n",
    "import time\n",
    "import pandas as pd\n",
    "import plotly.express as px\n",
    "import numpy as np"
   ],
   "metadata": {
    "collapsed": false
   }
  },
  {
   "cell_type": "markdown",
   "source": [
    "### Web Requests"
   ],
   "metadata": {
    "collapsed": false
   }
  },
  {
   "cell_type": "code",
   "execution_count": null,
   "outputs": [],
   "source": [
    "# requests the leaderboard for a given day, there is a sleep to prevent requesting too often\n",
    "def get_leaderboard_html(day: int) -> str:\n",
    "    assert type(day) == int\n",
    "    assert 1 <= day <= 25\n",
    "    url = f'https://adventofcode.com/2022/leaderboard/day/{day}'\n",
    "    print(f'requesting {url}', end='')\n",
    "    for _ in range(30):\n",
    "        time.sleep(1)\n",
    "        print(' .', end='')\n",
    "    result = requests.request(method='GET', url=url)\n",
    "    status = result.status_code\n",
    "    print(f' ({status})')\n",
    "    if status != 200:\n",
    "        raise RuntimeError(f'Request {url} returned status code {status}')\n",
    "    return result.text"
   ],
   "metadata": {
    "collapsed": false
   }
  },
  {
   "cell_type": "code",
   "execution_count": null,
   "outputs": [],
   "source": [
    "first_day = 1\n",
    "last_day = 25\n",
    "\n",
    "html = {}\n",
    "\n",
    "for day in range(first_day, last_day+1):\n",
    "    html[day] = get_leaderboard_html(day)"
   ],
   "metadata": {
    "collapsed": false
   }
  },
  {
   "cell_type": "code",
   "execution_count": null,
   "outputs": [],
   "source": [
    "for day in range(first_day, last_day+1):\n",
    "    print(f'day {day}: {len(html[day])} bytes')"
   ],
   "metadata": {
    "collapsed": false
   }
  },
  {
   "cell_type": "markdown",
   "source": [
    "### Parsing"
   ],
   "metadata": {
    "collapsed": false
   }
  },
  {
   "cell_type": "code",
   "execution_count": null,
   "outputs": [],
   "source": [
    "def get_position(entry):\n",
    "    return int(entry.find(class_='leaderboard-position').text.strip(' )'))\n",
    "\n",
    "def get_minutes(entry):\n",
    "    hh, mm, ss = entry.find(class_='leaderboard-time').text.split(' ')[-1].split(':')\n",
    "    hh = int(hh)\n",
    "    mm = int(mm)\n",
    "    ss = int(ss)\n",
    "    return hh * 60 + mm + ss / 60"
   ],
   "metadata": {
    "collapsed": false
   }
  },
  {
   "cell_type": "code",
   "execution_count": null,
   "outputs": [],
   "source": [
    "def add_rows(day, col_days, col_var, col_places, col_time):\n",
    "\n",
    "    soup = BeautifulSoup(html[day], 'html.parser')\n",
    "\n",
    "    entries = soup.find_all('div', class_=\"leaderboard-entry\")\n",
    "    gold, silver = entries[:100], entries[100:]\n",
    "\n",
    "    prev_gold = 0\n",
    "    for i in range(100):\n",
    "\n",
    "        col_days.append(str(day))\n",
    "        col_var.append('gold')\n",
    "        col_places.append(i+1)\n",
    "\n",
    "        current_gold = get_minutes(gold[i])\n",
    "        delta_gold = current_gold - prev_gold\n",
    "        prev_gold = current_gold\n",
    "        col_time.append(delta_gold)\n",
    "\n",
    "    prev_silver = 0\n",
    "    for i in range(100):\n",
    "\n",
    "        col_days.append(str(day))\n",
    "        col_var.append('silver')\n",
    "        col_places.append(i+1)\n",
    "\n",
    "        current_silver = get_minutes(silver[i])\n",
    "        delta_silver = current_silver - prev_silver\n",
    "        prev_silver = current_silver\n",
    "        col_time.append(delta_silver)\n",
    "\n",
    "def build_dataframe(first_day, last_day):\n",
    "    col_days = []\n",
    "    col_var = []\n",
    "    col_places = []\n",
    "    col_time = []\n",
    "    for day in range(first_day, last_day + 1):\n",
    "        add_rows(day, col_days, col_var, col_places, col_time)\n",
    "    return pd.DataFrame(data={\n",
    "        'Day': col_days,\n",
    "        'Variable': col_var,\n",
    "        'Place (#1 ~ #100)': col_places,\n",
    "        'Time (Minutes)': col_time\n",
    "    })\n",
    "\n",
    "df = build_dataframe(first_day, last_day)\n",
    "\n",
    "df"
   ],
   "metadata": {
    "collapsed": false
   }
  },
  {
   "cell_type": "markdown",
   "source": [
    "### Plotting"
   ],
   "metadata": {
    "collapsed": false
   }
  },
  {
   "cell_type": "code",
   "execution_count": null,
   "outputs": [],
   "source": [
    "px.bar(df[df['Variable']=='gold'],\n",
    "       x='Day',\n",
    "       y='Time (Minutes)',\n",
    "       color='Place (#1 ~ #100)',\n",
    "       barmode='stack',\n",
    "       title='Time for 1st through 100th Person to Solve Advent of Code 2022',\n",
    "       color_continuous_scale=[r'rgba(0,0,0,0)'] + [f'rgba({r},0,{255-r},1)' for r in np.linspace(0, 255, 100)],\n",
    "       height=675,\n",
    "       width=1200,\n",
    "       log_y=False)"
   ],
   "metadata": {
    "collapsed": false
   }
  },
  {
   "cell_type": "code",
   "execution_count": null,
   "outputs": [],
   "source": [],
   "metadata": {
    "collapsed": false
   }
  }
 ],
 "metadata": {
  "kernelspec": {
   "display_name": "Python 3",
   "language": "python",
   "name": "python3"
  },
  "language_info": {
   "codemirror_mode": {
    "name": "ipython",
    "version": 2
   },
   "file_extension": ".py",
   "mimetype": "text/x-python",
   "name": "python",
   "nbconvert_exporter": "python",
   "pygments_lexer": "ipython2",
   "version": "2.7.6"
  }
 },
 "nbformat": 4,
 "nbformat_minor": 0
}
