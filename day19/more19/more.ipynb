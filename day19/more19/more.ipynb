{
 "cells": [
  {
   "cell_type": "code",
   "execution_count": 2,
   "metadata": {
    "collapsed": true
   },
   "outputs": [
    {
     "name": "stdout",
     "output_type": "stream",
     "text": [
      "okay\n"
     ]
    }
   ],
   "source": [
    "def decode(x1, x2, x3, x4):\n",
    "    return [0] * x1 + [1] * x2 + [2] * x3 + [3] * x4\n",
    "\n",
    "def okay(plan):\n",
    "    if len(plan) <= 21:\n",
    "        return False\n",
    "    if not plan:\n",
    "        return False\n",
    "    return plan[-1] == 3 and 1 in plan and 2 in plan\n",
    "\n",
    "TOTAL1 = 31\n",
    "alls = []\n",
    "for x1 in range(0, TOTAL1 + 1):\n",
    "    TOTAL2 = TOTAL1 - x1\n",
    "    for x2 in range(0, TOTAL2 + 1):\n",
    "        TOTAL3 = TOTAL2 - x2\n",
    "        for x3 in range(0, TOTAL3 + 1):\n",
    "            TOTAL4 = TOTAL3 - x3\n",
    "            for x4 in range(0, TOTAL4 + 1):\n",
    "                plan = decode(x1, x2, x3, x4)\n",
    "                if okay(plan):\n",
    "                    plan = str(plan).replace('[', '').replace(']', '').replace(' ', '')\n",
    "                    alls.append(plan)\n",
    "\n",
    "import random\n",
    "random.shuffle(alls)\n",
    "with open('plans.csv', 'w') as file:\n",
    "    for p in alls:\n",
    "        print(p, file=file)\n",
    "\n",
    "print('okay')"
   ]
  },
  {
   "cell_type": "code",
   "execution_count": 2,
   "outputs": [],
   "source": [],
   "metadata": {
    "collapsed": false
   }
  }
 ],
 "metadata": {
  "kernelspec": {
   "display_name": "Python 3",
   "language": "python",
   "name": "python3"
  },
  "language_info": {
   "codemirror_mode": {
    "name": "ipython",
    "version": 2
   },
   "file_extension": ".py",
   "mimetype": "text/x-python",
   "name": "python",
   "nbconvert_exporter": "python",
   "pygments_lexer": "ipython2",
   "version": "2.7.6"
  }
 },
 "nbformat": 4,
 "nbformat_minor": 0
}
