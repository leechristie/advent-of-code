{
 "cells": [
  {
   "cell_type": "markdown",
   "source": [
    "# Advent of Code 2015\n",
    "\n",
    "## Day 14: Reindeer Olympics\n",
    "\n",
    "Solution code by [leechristie](https://github.com/leechristie) for Advent of Code 2015."
   ],
   "metadata": {
    "collapsed": false
   }
  },
  {
   "cell_type": "code",
   "execution_count": null,
   "outputs": [],
   "source": [
    "from collections import Counter\n",
    "\n",
    "from aoc import *"
   ],
   "metadata": {
    "collapsed": false
   }
  },
  {
   "cell_type": "code",
   "execution_count": null,
   "outputs": [],
   "source": [
    "from dataclasses import dataclass\n",
    "\n",
    "@dataclass\n",
    "class Reindeer:\n",
    "    name: str\n",
    "    speed: int\n",
    "    time: int\n",
    "    recovery: int\n",
    "\n",
    "    @property\n",
    "    def period(self):\n",
    "        return self.time + self.recovery\n",
    "\n",
    "    def calculate_distance(self, time_limit: int) -> int:\n",
    "        num_periods = time_limit // self.period\n",
    "        leftover = time_limit % self.period\n",
    "        time_moving = num_periods * self.time + min(self.time, leftover)\n",
    "        return time_moving * self.speed\n",
    "\n",
    "    @staticmethod\n",
    "    def load(filename: str):\n",
    "        rv = []\n",
    "        for name, speed, time, recovery in load_split_lines_at_indices(filename, ' ', [0, 3, 6, 13], dtypes=[str, int, int, int]):\n",
    "            rv.append(Reindeer(name, speed, time, recovery))\n",
    "        return rv"
   ],
   "metadata": {
    "collapsed": false
   }
  },
  {
   "cell_type": "markdown",
   "source": [
    "### Part 1"
   ],
   "metadata": {
    "collapsed": false
   }
  },
  {
   "cell_type": "code",
   "execution_count": null,
   "outputs": [],
   "source": [
    "DATA = Reindeer.load('data/input14.txt')\n",
    "TIME_LIMIT = 2503\n",
    "\n",
    "distance, deer = optimize(DATA, lambda r: r.calculate_distance(TIME_LIMIT))\n",
    "\n",
    "print(f'The best reindeer, {deer.name} travels {distance} km.')"
   ],
   "metadata": {
    "collapsed": false
   }
  },
  {
   "cell_type": "markdown",
   "source": [
    "### Part 2"
   ],
   "metadata": {
    "collapsed": false
   }
  },
  {
   "cell_type": "code",
   "execution_count": null,
   "outputs": [],
   "source": [
    "scores = Counter()\n",
    "for second in range(1, TIME_LIMIT + 1):\n",
    "    max_distance, _ = optimize(DATA, lambda r: r.calculate_distance(second))\n",
    "    for r in DATA:\n",
    "        if r.calculate_distance(second) == max_distance:\n",
    "            scores[r.name] += 1\n",
    "deer_name, score = scores.most_common(1)[0]\n",
    "\n",
    "print(f'The reindeer with the highest score, {deer_name} has a score of {score}.')"
   ],
   "metadata": {
    "collapsed": false
   }
  }
 ],
 "metadata": {
  "kernelspec": {
   "display_name": "Python 3",
   "language": "python",
   "name": "python3"
  },
  "language_info": {
   "codemirror_mode": {
    "name": "ipython",
    "version": 2
   },
   "file_extension": ".py",
   "mimetype": "text/x-python",
   "name": "python",
   "nbconvert_exporter": "python",
   "pygments_lexer": "ipython2",
   "version": "2.7.6"
  }
 },
 "nbformat": 4,
 "nbformat_minor": 0
}
