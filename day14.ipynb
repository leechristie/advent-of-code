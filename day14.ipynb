{
 "cells": [
  {
   "cell_type": "markdown",
   "source": [
    "# Advent of Code 2022\n",
    "\n",
    "## Day 14: Regolith Reservoir\n",
    "\n",
    "Solution code by [leechristie](https://github.com/leechristie) for Advent of Code 2022.\n",
    "\n",
    "For part 1 I used a Numpy array to represent the viewable area, after sand tries to write somewhere with an `IndexError` raised, it's over and we return the number of grains which landed. I was not happy with this design even though it works.\n",
    "\n",
    "After part 1 I stripped out the Numpy array from my code. Instead I use a `Cave` class which stores the state of the cave. Initially this is a wrapper for a Numpy array, then I switched out the backing data structure to a spare `dict` of points.\n",
    "\n",
    "There's a flag in the construction of the data structure which treats the bottom as `ABYSS` or `FLOOR`. The `solve` method will check for either falling into the `ABYSS` or blocking the `START` location with `SAND`.\n",
    "\n",
    "Part 2 new just calls the same solve method with the flag set.\n",
    "\n",
    "The `show` method on `Cave` can be used to print the state of the cave, though this was not set in the final code it can be toggled back on by setting `show=True` in the call to `solve`."
   ],
   "metadata": {
    "collapsed": false
   }
  },
  {
   "cell_type": "code",
   "execution_count": null,
   "outputs": [],
   "source": [
    "from typing import Iterator, Optional"
   ],
   "metadata": {
    "collapsed": false
   }
  },
  {
   "cell_type": "code",
   "execution_count": null,
   "outputs": [],
   "source": [
    "ABYSS = 'ABYSS'\n",
    "FLOOR = 'FLOOR'\n",
    "AIR = 'AIR'\n",
    "ROCK = 'ROCK'\n",
    "SAND = 'SAND'\n",
    "\n",
    "NUM_HEADER_DIGITS = 3"
   ],
   "metadata": {
    "collapsed": false
   }
  },
  {
   "cell_type": "markdown",
   "source": [
    "### Reading Input"
   ],
   "metadata": {
    "collapsed": false
   }
  },
  {
   "cell_type": "code",
   "execution_count": null,
   "outputs": [],
   "source": [
    "def read_lines(filename: str) -> Iterator[list[tuple[int, int]]]:\n",
    "    with open(filename) as file:\n",
    "        for line in file:\n",
    "            line = line.strip()\n",
    "            line = line.split(' -> ')\n",
    "            line = [tuple(e.split(',')) for e in line]\n",
    "            line = [(int(x), int(y)) for x, y in line]\n",
    "            yield line"
   ],
   "metadata": {
    "collapsed": false
   }
  },
  {
   "cell_type": "code",
   "execution_count": null,
   "outputs": [],
   "source": [
    "def read_all_points(filename: str) -> tuple[set[int], set[int]]:\n",
    "    xs = set()\n",
    "    ys = set()\n",
    "    for line in read_lines(filename):\n",
    "        for x, y in line:\n",
    "            xs.add(x)\n",
    "            ys.add(y)\n",
    "    return ys, xs"
   ],
   "metadata": {
    "collapsed": false
   }
  },
  {
   "cell_type": "markdown",
   "source": [
    "### Looping Over The Rocks"
   ],
   "metadata": {
    "collapsed": false
   }
  },
  {
   "cell_type": "code",
   "execution_count": null,
   "outputs": [],
   "source": [
    "def is_single_point(from_point: tuple[int, int], to_point: tuple[int, int]) -> bool:\n",
    "    return from_point == to_point\n",
    "\n",
    "def is_vertical(from_point: tuple[int, int], to_point: tuple[int, int]) -> bool:\n",
    "    return from_point[1] == to_point[1] and not from_point[0] == to_point[0]\n",
    "\n",
    "def is_horizontal(from_point: tuple[int, int], to_point: tuple[int, int]) -> bool:\n",
    "    return from_point[0] == to_point[0] and not from_point[1] == to_point[1]\n",
    "\n",
    "def is_orthogonal(from_point: tuple[int, int], to_point: tuple[int, int]):\n",
    "    return is_single_point(from_point, to_point) \\\n",
    "           or is_vertical(from_point, to_point) \\\n",
    "           or is_horizontal(from_point, to_point)\n",
    "\n",
    "# yields all points between a start point and an end point\n",
    "def path(from_point: tuple[int, int], to_point: tuple[int, int]) -> Iterator[tuple[int, int]]:\n",
    "    assert is_orthogonal(from_point, to_point)\n",
    "    if is_single_point(from_point, to_point):\n",
    "        yield from_point\n",
    "    elif is_horizontal(from_point, to_point):\n",
    "        lower = min([from_point[1], to_point[1]])\n",
    "        bound = max([from_point[1], to_point[1]]) + 1\n",
    "        for x in range(lower, bound):\n",
    "            yield from_point[0], x\n",
    "    elif is_vertical(from_point, to_point):\n",
    "        lower = min([from_point[0], to_point[0]])\n",
    "        bound = max([from_point[0], to_point[0]]) + 1\n",
    "        for y in range(lower, bound):\n",
    "            yield y, from_point[1]\n",
    "    else:\n",
    "        raise AssertionError\n",
    "\n",
    "# yields all rock points in a data file\n",
    "def all_rocks(filename: str) -> Iterator[tuple[int, int]]:\n",
    "    for line in read_lines(filename):\n",
    "        previous = None\n",
    "        for x, y in line:\n",
    "            current = y, x\n",
    "            if previous is not None:\n",
    "                for point in path(previous, current):\n",
    "                    yield point\n",
    "            previous = current"
   ],
   "metadata": {
    "collapsed": false
   }
  },
  {
   "cell_type": "markdown",
   "source": [
    "### Data Structure"
   ],
   "metadata": {
    "collapsed": false
   }
  },
  {
   "cell_type": "code",
   "execution_count": null,
   "outputs": [],
   "source": [
    "class Cave:\n",
    "\n",
    "    __slots__ = ['data', 'floor_height', 'floor_type']\n",
    "\n",
    "    def __init__(self, floor_height: int, floor_type: str):\n",
    "        self.data = {}\n",
    "        self.floor_height = floor_height\n",
    "        self.floor_type = floor_type\n",
    "\n",
    "    def __getitem__(self, key: tuple[int, int]) -> str:\n",
    "        if key in self.data:\n",
    "            return self.data[key]\n",
    "        y, _ = key\n",
    "        if y >= self.floor_height:\n",
    "            return self.floor_type\n",
    "        return AIR\n",
    "\n",
    "    def __setitem__(self, key: tuple[int, int], value: str) -> None:\n",
    "\n",
    "        if value not in (ABYSS, FLOOR, AIR, ROCK, SAND):\n",
    "            raise ValueError(f'unknown object type: {value}')\n",
    "\n",
    "        # no action needed\n",
    "        if self[key] == value:\n",
    "            return\n",
    "\n",
    "        # prevent accidentally overwriting parts of the cave\n",
    "        if self[key] != AIR:\n",
    "            raise IndexError(f'can not overwrite {self[key]} with {value}')\n",
    "\n",
    "        self.data[key] = value\n",
    "\n",
    "    @staticmethod\n",
    "    def read_cave(filename: str, floor: bool=False) -> 'Cave':\n",
    "        ys, xs = read_all_points(filename)\n",
    "        rv = Cave(floor_height=max(ys)+2, floor_type=FLOOR if floor else ABYSS)\n",
    "        for y, x in all_rocks(filename):\n",
    "            rv[y, x] = ROCK\n",
    "        return rv\n",
    "\n",
    "    def calc_bounds(self) -> tuple[int, int, int, int]:\n",
    "\n",
    "        left, right, top, bottom = None, None, None, None\n",
    "\n",
    "        for y, x in self.data:\n",
    "            if top is None or y < top:\n",
    "                top = y\n",
    "            if bottom is None or y > bottom:\n",
    "                bottom = y\n",
    "            if left is None or left > x:\n",
    "                left = x\n",
    "            if right is None or right < x:\n",
    "                right = x\n",
    "\n",
    "        # make sure the floor is shown\n",
    "        if bottom < self.floor_height:\n",
    "            bottom = self.floor_height\n",
    "\n",
    "        return left, right, top, bottom\n",
    "\n",
    "    def show(self, start: tuple[int, int]) -> None:\n",
    "\n",
    "        left, right, top, bottom = self.calc_bounds()\n",
    "\n",
    "        # print header row\n",
    "        for place in range(NUM_HEADER_DIGITS):\n",
    "            print('    ', end='')\n",
    "            for x in range(left, right + 1):\n",
    "                if x in (left, start[1], right):\n",
    "                    print(str(x)[place], end='')\n",
    "                else:\n",
    "                    print(' ', end='')\n",
    "            print()\n",
    "\n",
    "        # print body rows\n",
    "        for y in range(top, bottom+ 1):\n",
    "            print(f'{y:>3} ', end='')\n",
    "            for x in range(left, right + 1):\n",
    "                if self[y, x] == AIR:\n",
    "                    print('.', end='')\n",
    "                elif self[y, x] == ROCK:\n",
    "                    print('#', end='')\n",
    "                elif self[y, x] == SAND:\n",
    "                    print('o', end='')\n",
    "                elif self[y, x] == ABYSS:\n",
    "                    print('.', end='')\n",
    "                elif self[y, x] == FLOOR:\n",
    "                    print('#', end='')\n",
    "                elif (y, x) == start:\n",
    "                    print('+', end='')\n",
    "                else:\n",
    "                    raise AssertionError('unknown object for rendering at {y, x}')\n",
    "            print()"
   ],
   "metadata": {
    "collapsed": false
   }
  },
  {
   "cell_type": "markdown",
   "source": [
    "### Sand Movement"
   ],
   "metadata": {
    "collapsed": false
   }
  },
  {
   "cell_type": "code",
   "execution_count": null,
   "outputs": [],
   "source": [
    "def step(current: tuple[int, int], state: Cave) -> tuple[Optional[tuple[int, int]], bool, bool]:\n",
    "\n",
    "    # current point\n",
    "    y, x = current\n",
    "    assert (state[y, x] == AIR), f'current position of sand is {y, x} which is on top of {state[y, x]}'\n",
    "\n",
    "    # directly down\n",
    "    y, x = current\n",
    "    y += 1\n",
    "    if state[y, x] == AIR:\n",
    "        return (y, x), True, False\n",
    "    elif state[y, x] == ABYSS:\n",
    "        return None, False, True\n",
    "\n",
    "    # down and to the left\n",
    "    y, x = current\n",
    "    y += 1\n",
    "    x -= 1\n",
    "    if state[y, x] == AIR:\n",
    "        return (y, x), True, False\n",
    "    elif state[y, x] == ABYSS:\n",
    "        return None, False, True\n",
    "\n",
    "    # down and to the right\n",
    "    y, x = current\n",
    "    y += 1\n",
    "    x += 1\n",
    "    if state[y, x] == AIR:\n",
    "        return (y, x), True, False\n",
    "    elif state[y, x] == ABYSS:\n",
    "        return None, False, True\n",
    "\n",
    "    # come to rest\n",
    "    return current, False, False"
   ],
   "metadata": {
    "collapsed": false
   }
  },
  {
   "cell_type": "code",
   "execution_count": null,
   "outputs": [],
   "source": [
    "def solve(state: Cave, start: tuple[int, int], show=False) -> int:\n",
    "    sand_at_rest = 0\n",
    "    sand, moving, ended = None, None, False\n",
    "    while not ended:\n",
    "        sand, moving, ended = start, True, ended\n",
    "        if state[sand] == SAND:\n",
    "            break\n",
    "        while moving:\n",
    "            sand, moving, ended = step(sand, state)\n",
    "        if sand:\n",
    "            assert state[sand] == AIR\n",
    "            state[sand] = SAND\n",
    "        if not ended:\n",
    "            sand_at_rest += 1\n",
    "    if show:\n",
    "        state.show(start)\n",
    "    return sand_at_rest"
   ],
   "metadata": {
    "collapsed": false
   }
  },
  {
   "cell_type": "markdown",
   "source": [
    "### Part 1"
   ],
   "metadata": {
    "collapsed": false
   }
  },
  {
   "cell_type": "code",
   "execution_count": null,
   "outputs": [],
   "source": [
    "INPUT_FILE = 'data/input14.txt'"
   ],
   "metadata": {
    "collapsed": false
   }
  },
  {
   "cell_type": "code",
   "execution_count": null,
   "outputs": [],
   "source": [
    "def main():\n",
    "    state = Cave.read_cave(INPUT_FILE)\n",
    "    sand_at_rest = solve(state, start=(0, 500), show=False)\n",
    "    print(f'The number of grains of sand at rest is {sand_at_rest}')"
   ],
   "metadata": {
    "collapsed": false
   }
  },
  {
   "cell_type": "code",
   "execution_count": null,
   "outputs": [],
   "source": [
    "if __name__ == '__main__':\n",
    "    main()"
   ],
   "metadata": {
    "collapsed": false
   }
  },
  {
   "cell_type": "markdown",
   "source": [
    "### Part 2"
   ],
   "metadata": {
    "collapsed": false
   }
  },
  {
   "cell_type": "code",
   "execution_count": null,
   "outputs": [],
   "source": [
    "def main():\n",
    "    state = Cave.read_cave(INPUT_FILE, floor=True)\n",
    "    sand_at_rest = solve(state, start=(0, 500), show=False)\n",
    "    print(f'The number of grains of sand at rest is {sand_at_rest}')"
   ],
   "metadata": {
    "collapsed": false
   }
  },
  {
   "cell_type": "code",
   "execution_count": null,
   "outputs": [],
   "source": [
    "if __name__ == '__main__':\n",
    "    main()"
   ],
   "metadata": {
    "collapsed": false
   }
  }
 ],
 "metadata": {
  "kernelspec": {
   "display_name": "Python 3",
   "language": "python",
   "name": "python3"
  },
  "language_info": {
   "codemirror_mode": {
    "name": "ipython",
    "version": 2
   },
   "file_extension": ".py",
   "mimetype": "text/x-python",
   "name": "python",
   "nbconvert_exporter": "python",
   "pygments_lexer": "ipython2",
   "version": "2.7.6"
  }
 },
 "nbformat": 4,
 "nbformat_minor": 0
}
