{
 "cells": [
  {
   "cell_type": "markdown",
   "source": [
    "# Advent of Code 2015\n",
    "\n",
    "## Day 13: Knights of the Dinner Table\n",
    "\n",
    "Solution code by [leechristie](https://github.com/leechristie) for Advent of Code 2015."
   ],
   "metadata": {
    "collapsed": false
   }
  },
  {
   "cell_type": "code",
   "execution_count": null,
   "outputs": [],
   "source": [
    "from aoc import *\n",
    "import numpy as np\n",
    "\n",
    "filename = 'data/input13.txt'\n",
    "\n",
    "# load people and preprocessed list of seating happiness\n",
    "people_to_id = {}\n",
    "to_process = []\n",
    "for tokens in load_split_lines(filename, ' ', str):\n",
    "    person0, gainlose, value, person1 = tokens[0], (1 if tokens[2] == 'gain' else -1), int(tokens[3]), tokens[-1][:-1]\n",
    "    value *= gainlose\n",
    "    if person0 not in people_to_id:\n",
    "        people_to_id[person0] = len(people_to_id)\n",
    "    to_process.append((person0, value, person1))\n",
    "num_people = len(people_to_id)\n",
    "\n",
    "# convert seating happiness to ID instead of names\n",
    "for i in range(len(to_process)):\n",
    "    person0, value, person1 = to_process[i]\n",
    "    to_process[i] = people_to_id[person0], people_to_id[person1], value\n",
    "\n",
    "# makes a matrix of happiness change\n",
    "matrix = np.zeros((num_people, num_people), dtype=int)\n",
    "for person0, person1, value in to_process:\n",
    "    matrix[(person0, person1)] = value\n",
    "\n",
    "# turns the matrix symmetric\n",
    "for i in range(num_people):\n",
    "    for j in range(i+1, num_people):\n",
    "        value0 = matrix[(i, j)]\n",
    "        value1 = matrix[(j, i)]\n",
    "        total_value = value0 + value1\n",
    "        matrix[(i, j)] = total_value\n",
    "        matrix[(j, i)] = total_value"
   ],
   "metadata": {
    "collapsed": false
   }
  },
  {
   "cell_type": "markdown",
   "source": [
    "### Part 1"
   ],
   "metadata": {
    "collapsed": false
   }
  },
  {
   "cell_type": "code",
   "execution_count": null,
   "outputs": [],
   "source": [
    "value, _ = exhaustively_evaluate_symmetric_tsp_from_dense_matrix(matrix)\n",
    "\n",
    "print(f'The maximum change in happiness is {value}')"
   ],
   "metadata": {
    "collapsed": false
   }
  },
  {
   "cell_type": "markdown",
   "source": [
    "### Part 2"
   ],
   "metadata": {
    "collapsed": false
   }
  },
  {
   "cell_type": "code",
   "execution_count": null,
   "outputs": [],
   "source": [
    "value, _ = exhaustively_evaluate_symmetric_tsp_from_dense_matrix(matrix, return_home=False)\n",
    "\n",
    "print(f'The maximum change in happiness is {value}')"
   ],
   "metadata": {
    "collapsed": false
   }
  }
 ],
 "metadata": {
  "kernelspec": {
   "display_name": "Python 3",
   "language": "python",
   "name": "python3"
  },
  "language_info": {
   "codemirror_mode": {
    "name": "ipython",
    "version": 2
   },
   "file_extension": ".py",
   "mimetype": "text/x-python",
   "name": "python",
   "nbconvert_exporter": "python",
   "pygments_lexer": "ipython2",
   "version": "2.7.6"
  }
 },
 "nbformat": 4,
 "nbformat_minor": 0
}
