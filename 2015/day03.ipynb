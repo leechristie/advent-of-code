{
 "cells": [
  {
   "cell_type": "markdown",
   "source": [
    "# Advent of Code 2015\n",
    "\n",
    "## Day 3: Perfectly Spherical Houses in a Vacuum\n",
    "\n",
    "Solution code by [leechristie](https://github.com/leechristie) for Advent of Code 2015."
   ],
   "metadata": {
    "collapsed": false
   }
  },
  {
   "cell_type": "code",
   "execution_count": 1,
   "outputs": [],
   "source": [
    "from aoc import *\n",
    "\n",
    "DATA = load_and_map_chars('data/input03.txt', Velocity.from_arrow)"
   ],
   "metadata": {
    "collapsed": false
   }
  },
  {
   "cell_type": "markdown",
   "source": [
    "### Part 1"
   ],
   "metadata": {
    "collapsed": false
   }
  },
  {
   "cell_type": "code",
   "execution_count": 2,
   "outputs": [],
   "source": [
    "def loop_positions(velocities, start, visited):\n",
    "    position = start\n",
    "    for velocity in velocities:\n",
    "        position += velocity\n",
    "        visited.add(position)"
   ],
   "metadata": {
    "collapsed": false
   }
  },
  {
   "cell_type": "code",
   "execution_count": 3,
   "outputs": [
    {
     "name": "stdout",
     "output_type": "stream",
     "text": [
      "2572 houses receive at least 1 present\n"
     ]
    }
   ],
   "source": [
    "visited = set()\n",
    "loop_positions(DATA, Position(), visited)\n",
    "total = len(visited)\n",
    "\n",
    "print(f'{total} houses receive at least 1 present')"
   ],
   "metadata": {
    "collapsed": false
   }
  },
  {
   "cell_type": "markdown",
   "source": [
    "### Part 2"
   ],
   "metadata": {
    "collapsed": false
   }
  },
  {
   "cell_type": "code",
   "execution_count": 4,
   "outputs": [
    {
     "name": "stdout",
     "output_type": "stream",
     "text": [
      "2631 houses receive at least 1 present\n"
     ]
    }
   ],
   "source": [
    "visited = set()\n",
    "loop_positions(DATA[0::2], Position(), visited)\n",
    "loop_positions(DATA[1::2], Position(), visited)\n",
    "total = len(visited)\n",
    "\n",
    "print(f'{total} houses receive at least 1 present')"
   ],
   "metadata": {
    "collapsed": false
   }
  }
 ],
 "metadata": {
  "kernelspec": {
   "display_name": "Python 3",
   "language": "python",
   "name": "python3"
  },
  "language_info": {
   "codemirror_mode": {
    "name": "ipython",
    "version": 2
   },
   "file_extension": ".py",
   "mimetype": "text/x-python",
   "name": "python",
   "nbconvert_exporter": "python",
   "pygments_lexer": "ipython2",
   "version": "2.7.6"
  }
 },
 "nbformat": 4,
 "nbformat_minor": 0
}
