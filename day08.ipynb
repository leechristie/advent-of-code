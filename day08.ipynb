{
 "cells": [
  {
   "cell_type": "markdown",
   "source": [
    "# Advent of Code 2022\n",
    "\n",
    "## Day 8: Treetop Tree House\n",
    "\n",
    "Solution code by [leechristie](https://github.com/leechristie) for Advent of Code 2022.\n",
    "\n",
    "Before starting part 1 I had two possible solutions in mind. I chose the one I thought would be more efficient, but this turned out to make part 2 more difficult. As part 2 is not revealed until part 1 is submitted, I didn't know this at the time.\n",
    "\n",
    "My solution to part 1 creates generators I called light \"beams\", these are generators of points that move from outside through the trees. The `count_hits` function follows each beam, tracking how high off the ground the first part that has not already hit a tree is. I count these hits in a Numpy array and then count the zeros. There is no need to specifically exclude the outer ring of trees.\n",
    "\n",
    "In part 2 I wanted to reuse my beam logic and not have to re-write everything, but now we're considering where the trees can see form inside out. I wrote a kind-of \"adapter\" function `outward_beams` that generates 4 beams aligned with a given tree and cuts off points before reaching the tree, thus the beams are going out from the tree. A `calc_scene_score_of_tree` function uses the beams and works out the score for that tree.\n",
    "\n",
    "If had known what part 2 was I would have writen part 1 slightly differently."
   ],
   "metadata": {
    "collapsed": false
   }
  },
  {
   "cell_type": "markdown",
   "source": [
    "### Imports"
   ],
   "metadata": {
    "collapsed": false
   }
  },
  {
   "cell_type": "code",
   "execution_count": null,
   "outputs": [],
   "source": [
    "import numpy as np\n",
    "from typing import Iterator"
   ],
   "metadata": {
    "collapsed": false
   }
  },
  {
   "cell_type": "markdown",
   "source": [
    "### File Reading"
   ],
   "metadata": {
    "collapsed": false
   }
  },
  {
   "cell_type": "code",
   "execution_count": null,
   "outputs": [],
   "source": [
    "def read_array(filename: str) -> np.array:\n",
    "    rv = []\n",
    "    with open(filename) as file:\n",
    "        for line in file:\n",
    "            rv.append([int(char) for char in line.strip()])\n",
    "    return np.array(rv, dtype=int)"
   ],
   "metadata": {
    "collapsed": false
   }
  },
  {
   "cell_type": "code",
   "execution_count": null,
   "outputs": [],
   "source": [
    "INPUT_FILE = 'data/input08.txt'"
   ],
   "metadata": {
    "collapsed": false
   }
  },
  {
   "cell_type": "markdown",
   "source": [
    "### Light Beam Generators\n",
    "\n",
    "The `beam` method returns a list of beams from each direction. Each beam is an iterator of points.\n",
    "\n",
    "If the grid is 4x3 then there are 14 beams, that is 4 from the top, 4 from the bottom, 3 from the left and 3 from the right."
   ],
   "metadata": {
    "collapsed": false
   }
  },
  {
   "cell_type": "code",
   "execution_count": null,
   "outputs": [],
   "source": [
    "def lr_beam(shape: tuple[int, int], *, y: int) -> Iterator[tuple[int, int]]:\n",
    "    height, width = shape\n",
    "    for x in range(0, width):\n",
    "        yield y, x\n",
    "\n",
    "\n",
    "def rl_beam(shape: tuple[int, int], *, y: int) -> Iterator[tuple[int, int]]:\n",
    "    height, width = shape\n",
    "    for x in reversed(range(0, width)):\n",
    "        yield y, x\n",
    "\n",
    "\n",
    "def tb_beam(shape: tuple[int, int], *, x: int) -> Iterator[tuple[int, int]]:\n",
    "    height, width = shape\n",
    "    for y in range(0, height):\n",
    "        yield y, x\n",
    "\n",
    "\n",
    "def bt_beam(shape: tuple[int, int], *, x: int) -> Iterator[tuple[int, int]]:\n",
    "    height, width = shape\n",
    "    for y in reversed(range(0, height)):\n",
    "        yield y, x\n",
    "\n",
    "def beams(shape: tuple[int, int]) -> list[Iterator[tuple[int, int]]]:\n",
    "    rv = []\n",
    "    rv.extend([lr_beam(shape, y=y) for y in range(shape[0])])\n",
    "    rv.extend([rl_beam(shape, y=y) for y in range(shape[0])])\n",
    "    rv.extend([tb_beam(shape, x=x) for x in range(shape[1])])\n",
    "    rv.extend([bt_beam(shape, x=x) for x in range(shape[1])])\n",
    "    return rv"
   ],
   "metadata": {
    "collapsed": false
   }
  },
  {
   "cell_type": "markdown",
   "source": [
    "### Helper Functions"
   ],
   "metadata": {
    "collapsed": false
   }
  },
  {
   "cell_type": "code",
   "execution_count": null,
   "outputs": [],
   "source": [
    "# helper function to count zeros in a numpy array, uses count_nonzero\n",
    "def count_zero(arr: np.ndarray):\n",
    "    return np.count_nonzero(arr == 0)"
   ],
   "metadata": {
    "collapsed": false
   }
  },
  {
   "cell_type": "markdown",
   "source": [
    "### Part 1"
   ],
   "metadata": {
    "collapsed": false
   }
  },
  {
   "cell_type": "code",
   "execution_count": null,
   "outputs": [],
   "source": [
    "# shines beams from all directions and counts the number of hits on each tree\n",
    "def count_hits(trees: np.ndarray):\n",
    "\n",
    "    # the number of times a beam hits each tree\n",
    "    hits = np.zeros(trees.shape, dtype=int)\n",
    "\n",
    "    for iterator in beams(trees.shape):\n",
    "\n",
    "        beam_height = -1\n",
    "\n",
    "        for y, x in iterator:\n",
    "\n",
    "            tree_height = trees[y,x]\n",
    "\n",
    "            if tree_height > beam_height:\n",
    "                hits[y,x] += 1\n",
    "                beam_height = tree_height\n",
    "\n",
    "    return hits"
   ],
   "metadata": {
    "collapsed": false
   }
  },
  {
   "cell_type": "code",
   "execution_count": null,
   "outputs": [],
   "source": [
    "def main():\n",
    "    trees = read_array(INPUT_FILE)\n",
    "    hits = count_hits(trees)\n",
    "    num_hit_trees = np.count_nonzero(hits)\n",
    "    print(f'The number of visible trees is {num_hit_trees}.')"
   ],
   "metadata": {
    "collapsed": false
   }
  },
  {
   "cell_type": "code",
   "execution_count": null,
   "outputs": [],
   "source": [
    "if __name__ == '__main__':\n",
    "    main()"
   ],
   "metadata": {
    "collapsed": false
   }
  },
  {
   "cell_type": "markdown",
   "source": [
    "### Part 2"
   ],
   "metadata": {
    "collapsed": false
   }
  },
  {
   "cell_type": "code",
   "execution_count": null,
   "outputs": [],
   "source": [
    "# the beams going outwards from a given tree\n",
    "def outward_beams(shape: tuple[int, int], loc_y: int, loc_x: int) -> list[Iterator[tuple[int, int]]]:\n",
    "    return [\n",
    "        (((y, x) for y, x in lr_beam(shape, y=loc_y) if x > loc_x)),\n",
    "        (((y, x) for y, x in rl_beam(shape, y=loc_y) if x < loc_x)),\n",
    "        (((y, x) for y, x in tb_beam(shape, x=loc_x) if y > loc_y)),\n",
    "        (((y, x) for y, x in bt_beam(shape, x=loc_x) if y < loc_y))\n",
    "    ]"
   ],
   "metadata": {
    "collapsed": false
   }
  },
  {
   "cell_type": "code",
   "execution_count": null,
   "outputs": [],
   "source": [
    "def calc_scene_score_of_tree_for_direction(trees: np.ndarray, origin_height: int, beam: Iterator[tuple[int, int]]) -> int:\n",
    "\n",
    "    count = 0\n",
    "\n",
    "    for y, x in beam:\n",
    "\n",
    "        count += 1\n",
    "\n",
    "        # stop at higher or equal tree (or at the edge, which is the end of the iterator)\n",
    "        if trees[y,x] >= origin_height:\n",
    "            break\n",
    "\n",
    "    return count"
   ],
   "metadata": {
    "collapsed": false
   }
  },
  {
   "cell_type": "code",
   "execution_count": null,
   "outputs": [],
   "source": [
    "def calc_scene_score_of_tree(trees: np.ndarray, origin_y: int, origin_x: int) -> int:\n",
    "    origin_height = trees[origin_y,origin_x]\n",
    "    score = 1\n",
    "    for beam in outward_beams(trees.shape, origin_y, origin_x):\n",
    "        current_direction_score = calc_scene_score_of_tree_for_direction(trees, origin_height, beam)\n",
    "        score *= current_direction_score\n",
    "    return score"
   ],
   "metadata": {
    "collapsed": false
   }
  },
  {
   "cell_type": "code",
   "execution_count": null,
   "outputs": [],
   "source": [
    "def main():\n",
    "\n",
    "    trees = read_array(INPUT_FILE)\n",
    "\n",
    "    maximum = -1\n",
    "    for origin_y in range(trees.shape[0]):\n",
    "        for origin_x in range(trees.shape[1]):\n",
    "            score = calc_scene_score_of_tree(trees, origin_y, origin_x)\n",
    "            if score > maximum:\n",
    "                maximum = score\n",
    "\n",
    "    print(f'The highest score for a tree is {maximum} points.')"
   ],
   "metadata": {
    "collapsed": false
   }
  },
  {
   "cell_type": "code",
   "execution_count": null,
   "outputs": [],
   "source": [
    "if __name__ == '__main__':\n",
    "    main()"
   ],
   "metadata": {
    "collapsed": false
   }
  }
 ],
 "metadata": {
  "kernelspec": {
   "display_name": "Python 3",
   "language": "python",
   "name": "python3"
  },
  "language_info": {
   "codemirror_mode": {
    "name": "ipython",
    "version": 2
   },
   "file_extension": ".py",
   "mimetype": "text/x-python",
   "name": "python",
   "nbconvert_exporter": "python",
   "pygments_lexer": "ipython2",
   "version": "2.7.6"
  }
 },
 "nbformat": 4,
 "nbformat_minor": 0
}
