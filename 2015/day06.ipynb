{
 "cells": [
  {
   "cell_type": "markdown",
   "source": [
    "# Advent of Code 2015\n",
    "\n",
    "## Day 6: Probably a Fire Hazard\n",
    "\n",
    "Solution code by [leechristie](https://github.com/leechristie) for Advent of Code 2015."
   ],
   "metadata": {
    "collapsed": false
   }
  },
  {
   "cell_type": "code",
   "execution_count": null,
   "outputs": [],
   "source": [
    "from aoc import *\n",
    "import numpy as np\n",
    "\n",
    "def iterate_instructions(filename: str) -> Iterator[tuple[str, Position, Position]]:\n",
    "    for line in load_lines(filename):\n",
    "        v, line = split_prefix(line, ('turn on ', 'turn off ', 'toggle '))\n",
    "        s, e = line.split(' through ')\n",
    "        s = Position.parse(s)\n",
    "        e = Position.parse(e)\n",
    "        yield v.strip(), s, e"
   ],
   "metadata": {
    "collapsed": false
   }
  },
  {
   "cell_type": "markdown",
   "source": [
    "### Part 1"
   ],
   "metadata": {
    "collapsed": false
   }
  },
  {
   "cell_type": "code",
   "execution_count": null,
   "outputs": [],
   "source": [
    "lights = np.zeros((1000, 1000), bool)\n",
    "\n",
    "for verb, start, end in iterate_instructions('data/input06.txt'):\n",
    "    print(verb, start, end)\n",
    "    for p in Position.closed_rectangle(start, end):\n",
    "        if verb == 'turn on':\n",
    "            lights[p.np()] = True\n",
    "        elif verb == 'turn off':\n",
    "            lights[p.np()] = False\n",
    "        else:\n",
    "            assert verb == 'toggle'\n",
    "            lights[p.np()] = not lights[p.np()]"
   ],
   "metadata": {
    "collapsed": false
   }
  },
  {
   "cell_type": "code",
   "execution_count": null,
   "outputs": [],
   "source": [
    "print(f'The number of lights which are left on is {np.count_nonzero(lights)}')"
   ],
   "metadata": {
    "collapsed": false
   }
  },
  {
   "cell_type": "markdown",
   "source": [
    "### Part 2"
   ],
   "metadata": {
    "collapsed": false
   }
  },
  {
   "cell_type": "code",
   "execution_count": null,
   "outputs": [],
   "source": [
    "lights = np.zeros((1000, 1000), int)\n",
    "\n",
    "for verb, start, end in iterate_instructions('data/input06.txt'):\n",
    "    print(verb, start, end)\n",
    "    for p in Position.closed_rectangle(start, end):\n",
    "        if verb == 'turn on':\n",
    "            lights[p.np()] = min(100, lights[p.np()] + 1)\n",
    "        elif verb == 'turn off':\n",
    "            lights[p.np()] = max(0, lights[p.np()] - 1)\n",
    "        else:\n",
    "            assert verb == 'toggle'\n",
    "            lights[p.np()] = min(100, lights[p.np()] + 2)"
   ],
   "metadata": {
    "collapsed": false
   }
  },
  {
   "cell_type": "code",
   "execution_count": null,
   "outputs": [],
   "source": [
    "print(f'The total brightness is {lights.sum()}')"
   ],
   "metadata": {
    "collapsed": false
   }
  }
 ],
 "metadata": {
  "kernelspec": {
   "display_name": "Python 3",
   "language": "python",
   "name": "python3"
  },
  "language_info": {
   "codemirror_mode": {
    "name": "ipython",
    "version": 2
   },
   "file_extension": ".py",
   "mimetype": "text/x-python",
   "name": "python",
   "nbconvert_exporter": "python",
   "pygments_lexer": "ipython2",
   "version": "2.7.6"
  }
 },
 "nbformat": 4,
 "nbformat_minor": 0
}
