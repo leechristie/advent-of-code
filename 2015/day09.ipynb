{
 "cells": [
  {
   "cell_type": "markdown",
   "source": [
    "# Advent of Code 2015\n",
    "\n",
    "## Day 9: All in a Single Night\n",
    "\n",
    "Solution code by [leechristie](https://github.com/leechristie) for Advent of Code 2015."
   ],
   "metadata": {
    "collapsed": false
   }
  },
  {
   "cell_type": "code",
   "execution_count": null,
   "outputs": [],
   "source": [
    "from aoc import *\n",
    "\n",
    "from collections import defaultdict\n",
    "from itertools import permutations"
   ],
   "metadata": {
    "collapsed": false
   }
  },
  {
   "cell_type": "code",
   "execution_count": null,
   "outputs": [],
   "source": [
    "distance_matrix = defaultdict(lambda: defaultdict(int))\n",
    "\n",
    "filename = 'data/input09.txt'\n",
    "for tokens in load_split_lines(filename, ' ', str):\n",
    "    assert len(tokens) == 5\n",
    "    assert tokens[1] == 'to'\n",
    "    assert tokens[3] == '='\n",
    "    from_city, to_city, distance = tokens[0], tokens[2], int(tokens[4])\n",
    "    distance_matrix[from_city][to_city] = distance\n",
    "    distance_matrix[to_city][from_city] = distance\n",
    "\n",
    "distance_matrix = {k: dict(v) for (k, v) in distance_matrix.items()}\n",
    "cities = sorted(distance_matrix)"
   ],
   "metadata": {
    "collapsed": false
   }
  },
  {
   "cell_type": "code",
   "execution_count": null,
   "outputs": [],
   "source": [
    "def total_distance(perm, distance_matrix):\n",
    "    rv = 0\n",
    "    for i in range(len(perm)-1):\n",
    "        j = i+1\n",
    "        rv += distance_matrix[perm[i]][perm[j]]\n",
    "    return rv"
   ],
   "metadata": {
    "collapsed": false
   }
  },
  {
   "cell_type": "code",
   "execution_count": null,
   "outputs": [],
   "source": [
    "best = None\n",
    "worst = None\n",
    "for p in permutations(cities):\n",
    "    total = total_distance(p, distance_matrix)\n",
    "    if best is None or best > total:\n",
    "        best = total\n",
    "    if worst is None or worst < total:\n",
    "        worst = total"
   ],
   "metadata": {
    "collapsed": false
   }
  },
  {
   "cell_type": "markdown",
   "source": [
    "### Part 1"
   ],
   "metadata": {
    "collapsed": false
   }
  },
  {
   "cell_type": "code",
   "execution_count": null,
   "outputs": [],
   "source": [
    "print(f'The shortest distance is {best}')"
   ],
   "metadata": {
    "collapsed": false
   }
  },
  {
   "cell_type": "markdown",
   "source": [
    "### Part 2"
   ],
   "metadata": {
    "collapsed": false
   }
  },
  {
   "cell_type": "code",
   "execution_count": null,
   "outputs": [],
   "source": [
    "print(f'The longest distance is {worst}')"
   ],
   "metadata": {
    "collapsed": false
   }
  }
 ],
 "metadata": {
  "kernelspec": {
   "display_name": "Python 3",
   "language": "python",
   "name": "python3"
  },
  "language_info": {
   "codemirror_mode": {
    "name": "ipython",
    "version": 2
   },
   "file_extension": ".py",
   "mimetype": "text/x-python",
   "name": "python",
   "nbconvert_exporter": "python",
   "pygments_lexer": "ipython2",
   "version": "2.7.6"
  }
 },
 "nbformat": 4,
 "nbformat_minor": 0
}
