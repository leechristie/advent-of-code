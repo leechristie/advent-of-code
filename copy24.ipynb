{
 "cells": [
  {
   "cell_type": "markdown",
   "source": [
    "### Imports"
   ],
   "metadata": {
    "collapsed": false
   }
  },
  {
   "cell_type": "code",
   "execution_count": 1,
   "outputs": [],
   "source": [
    "from typing import Any, Callable\n",
    "from abc import ABC, abstractmethod\n",
    "from functools import partial"
   ],
   "metadata": {
    "collapsed": false
   }
  },
  {
   "cell_type": "markdown",
   "source": [
    "### Interface"
   ],
   "metadata": {
    "collapsed": false
   }
  },
  {
   "cell_type": "code",
   "execution_count": 2,
   "outputs": [],
   "source": [
    "class AbstractHeap(ABC):\n",
    "\n",
    "    @abstractmethod\n",
    "    def add(self, element: Any, key: int) -> None:\n",
    "        pass\n",
    "\n",
    "    @abstractmethod\n",
    "    def decrease_key(self, element: Any, new_key: int) -> None:\n",
    "        pass\n",
    "\n",
    "    @abstractmethod\n",
    "    def delete_minimum(self) -> Any:\n",
    "        pass\n",
    "\n",
    "    @abstractmethod\n",
    "    def __bool__(self) -> bool:\n",
    "        pass"
   ],
   "metadata": {
    "collapsed": false
   }
  },
  {
   "cell_type": "markdown",
   "source": [
    "### Heap Implementation"
   ],
   "metadata": {
    "collapsed": false
   }
  },
  {
   "cell_type": "code",
   "execution_count": 3,
   "outputs": [],
   "source": [
    "class ArrayHeap(AbstractHeap):\n",
    "\n",
    "    __slots__ = ['data']\n",
    "\n",
    "    def __init__(self):\n",
    "        self.data = []\n",
    "\n",
    "    def add(self, element: Any, key: int):\n",
    "        for k, e in self.data:\n",
    "            if e == element:\n",
    "                raise ValueError(f'duplicate element: {element}')\n",
    "        self.data.append((key, element))\n",
    "        self.data.sort()\n",
    "\n",
    "    def decrease_key(self, element: Any, new_key: int):\n",
    "        index = None\n",
    "        for i, e in enumerate(self.data):\n",
    "            if e[1] == element:\n",
    "                index = i\n",
    "        if index is None:\n",
    "            raise ValueError(f'no such element: {element}')\n",
    "        old_key, _ = self.data[index]\n",
    "        if old_key < new_key:\n",
    "            raise ValueError(f'cannot increase key for {element} from {old_key} to {new_key}')\n",
    "        del self.data[index]\n",
    "        self.add(element, new_key)\n",
    "\n",
    "    def delete_minimum(self):\n",
    "        if not self:\n",
    "            raise ValueError(f'no such element')\n",
    "        _, rv = self.data[0]\n",
    "        del self.data[0]\n",
    "        return rv\n",
    "\n",
    "    def __bool__(self):\n",
    "        return bool(self.data)\n",
    "\n",
    "    def __str__(self):\n",
    "        return '\\n'.join([f'{key}: {element}' for key, element in self.data])\n",
    "\n",
    "    def __repr__(self):\n",
    "        return str(self)"
   ],
   "metadata": {
    "collapsed": false
   }
  },
  {
   "cell_type": "markdown",
   "source": [
    "### Dijkstra Search"
   ],
   "metadata": {
    "collapsed": false
   }
  },
  {
   "cell_type": "code",
   "execution_count": 4,
   "outputs": [],
   "source": [
    "def search(heap_factory: Callable[[], AbstractHeap],\n",
    "           source_vertex: Any,\n",
    "           neighbourhood_function: Callable[[Any], list[tuple[Any, int]]],\n",
    "           is_target: Callable[[Any], bool],\n",
    "           heuristic: Callable[[Any], int] = lambda _: 0) -> tuple[list[Any], set[Any]]:\n",
    "\n",
    "    previous_vertices = {} # to reconstruct the path\n",
    "\n",
    "    frontier = heap_factory()\n",
    "    frontier.add(source_vertex, 0)\n",
    "    distances = {source_vertex: 0}\n",
    "\n",
    "    while frontier:\n",
    "\n",
    "        current = frontier.delete_minimum()\n",
    "        old_total_distance = distances[current]\n",
    "\n",
    "        # if done, path from source to target\n",
    "        if is_target(current):\n",
    "\n",
    "            rv = [current]\n",
    "            while rv[0] != source_vertex:\n",
    "                p = previous_vertices[rv[0]]\n",
    "                rv = [p] + rv\n",
    "            return rv, set(distances)\n",
    "\n",
    "        for neighbour, cost in neighbourhood_function(current):\n",
    "\n",
    "            new_total_distance = old_total_distance + cost\n",
    "            known_distance = None\n",
    "            if neighbour in distances:\n",
    "                known_distance = distances[neighbour]\n",
    "\n",
    "            # newly discovered node\n",
    "            if not known_distance:\n",
    "                distances[neighbour] = new_total_distance\n",
    "                frontier.add(neighbour, new_total_distance)\n",
    "                previous_vertices[neighbour] = current\n",
    "\n",
    "            # previously discovered node\n",
    "            elif new_total_distance < known_distance:\n",
    "                distances[neighbour] = new_total_distance\n",
    "                frontier.decrease_key(neighbour, new_total_distance)\n",
    "                previous_vertices[neighbour] = current\n",
    "\n",
    "    raise ValueError(f'No path found!!!')"
   ],
   "metadata": {
    "collapsed": false
   }
  },
  {
   "cell_type": "markdown",
   "source": [
    "### Test Code"
   ],
   "metadata": {
    "collapsed": false
   }
  },
  {
   "cell_type": "code",
   "execution_count": 5,
   "outputs": [
    {
     "name": "stdout",
     "output_type": "stream",
     "text": [
      "🟩🟩🟩🟨🟨🟨🟨⬜⬛⬛\n",
      "🟨⬜🟩🟨🟨🟨⬜⬜🟩⬛\n",
      "⬜⬜🟩⬜⬜⬜🟩🟩🟩🟨\n",
      "🟨🟨🟩🟩🟩🟩🟩⬜🟨⬛\n",
      "🟨🟨🟨🟨🟨🟨🟨⬜⬛⬛\n"
     ]
    }
   ],
   "source": [
    "import numpy as np\n",
    "\n",
    "HEIGHT, WIDTH = 5, 10\n",
    "ARR = np.zeros((HEIGHT, WIDTH), dtype=int)\n",
    "ARR[2, 0] = 1\n",
    "ARR[2, 1] = 1\n",
    "ARR[1, 1] = 1\n",
    "ARR[0, 7] = 1\n",
    "ARR[1, 7] = 1\n",
    "ARR[1, 6] = 1\n",
    "ARR[2, 4] = 1\n",
    "ARR[2, 5] = 1\n",
    "ARR[2, 3] = 1\n",
    "ARR[3, 7] = 1\n",
    "ARR[4, 7] = 1\n",
    "\n",
    "def neighbours(vertex):\n",
    "    global HEIGHT, WIDTH, ARR\n",
    "    y, x = vertex\n",
    "    assert 0 <= y < HEIGHT and 0 <= x < WIDTH\n",
    "    y -= 1\n",
    "    if 0 <= y < HEIGHT and 0 <= x < WIDTH and ARR[y, x] != 1:\n",
    "        yield (y, x), 1\n",
    "    y += 1\n",
    "    x += 1\n",
    "    if 0 <= y < HEIGHT and 0 <= x < WIDTH and ARR[y, x] != 1:\n",
    "        yield (y, x), 1\n",
    "    x -= 1\n",
    "    y += 1\n",
    "    if 0 <= y < HEIGHT and 0 <= x < WIDTH and ARR[y, x] != 1:\n",
    "        yield (y, x), 1\n",
    "    y -= 1\n",
    "    x -= 1\n",
    "    if 0 <= y < HEIGHT and 0 <= x < WIDTH and ARR[y, x] != 1:\n",
    "        yield (y, x), 1\n",
    "\n",
    "path, visited = search(ArrayHeap, (0, 0), neighbours, lambda x: x == (1, 8))\n",
    "for point in visited:\n",
    "    ARR[point] = 3\n",
    "for point in path:\n",
    "    ARR[point] = 2\n",
    "\n",
    "for y in range(HEIGHT):\n",
    "    for x in range(WIDTH):\n",
    "        if ARR[y, x] == 0:\n",
    "            print('⬛', end='')\n",
    "        elif ARR[y, x] == 1:\n",
    "            print('⬜', end='')\n",
    "        elif ARR[y, x] == 2:\n",
    "            print('🟩', end='')\n",
    "        elif ARR[y, x] == 3:\n",
    "            print('🟨', end='')\n",
    "        else:\n",
    "            raise ValueError(ARR[y, x])\n",
    "    print()#%% md\n",
    "### Imports"
   ],
   "metadata": {
    "collapsed": false
   }
  },
  {
   "cell_type": "code",
   "execution_count": 6,
   "outputs": [],
   "source": [
    "from typing import Any, Callable\n",
    "from abc import ABC, abstractmethod"
   ],
   "metadata": {
    "collapsed": false
   }
  },
  {
   "cell_type": "markdown",
   "source": [
    "### Interface"
   ],
   "metadata": {
    "collapsed": false
   }
  },
  {
   "cell_type": "code",
   "execution_count": 7,
   "outputs": [],
   "source": [
    "class AbstractHeap(ABC):\n",
    "\n",
    "    @abstractmethod\n",
    "    def add(self, element: Any, key: int) -> None:\n",
    "        pass\n",
    "\n",
    "    @abstractmethod\n",
    "    def decrease_key(self, element: Any, new_key: int) -> None:\n",
    "        pass\n",
    "\n",
    "    @abstractmethod\n",
    "    def delete_minimum(self) -> Any:\n",
    "        pass\n",
    "\n",
    "    @abstractmethod\n",
    "    def __bool__(self) -> bool:\n",
    "        pass"
   ],
   "metadata": {
    "collapsed": false
   }
  },
  {
   "cell_type": "markdown",
   "source": [
    "### Heap Implementation"
   ],
   "metadata": {
    "collapsed": false
   }
  },
  {
   "cell_type": "code",
   "execution_count": 8,
   "outputs": [],
   "source": [
    "class ArrayHeap(AbstractHeap):\n",
    "\n",
    "    __slots__ = ['data']\n",
    "\n",
    "    def __init__(self):\n",
    "        self.data = []\n",
    "\n",
    "    def add(self, element: Any, key: int):\n",
    "        for k, e in self.data:\n",
    "            if e == element:\n",
    "                raise ValueError(f'duplicate element: {element}')\n",
    "        self.data.append((key, element))\n",
    "        self.data.sort()\n",
    "\n",
    "    def decrease_key(self, element: Any, new_key: int):\n",
    "        index = None\n",
    "        for i, e in enumerate(self.data):\n",
    "            if e[1] == element:\n",
    "                index = i\n",
    "        if index is None:\n",
    "            raise ValueError(f'no such element: {element}')\n",
    "        old_key, _ = self.data[index]\n",
    "        if old_key < new_key:\n",
    "            raise ValueError(f'cannot increase key for {element} from {old_key} to {new_key}')\n",
    "        del self.data[index]\n",
    "        self.add(element, new_key)\n",
    "\n",
    "    def delete_minimum(self):\n",
    "        if not self:\n",
    "            raise ValueError(f'no such element')\n",
    "        _, rv = self.data[0]\n",
    "        del self.data[0]\n",
    "        return rv\n",
    "\n",
    "    def __bool__(self):\n",
    "        return bool(self.data)\n",
    "\n",
    "    def __str__(self):\n",
    "        return '\\n'.join([f'{key}: {element}' for key, element in self.data])\n",
    "\n",
    "    def __repr__(self):\n",
    "        return str(self)"
   ],
   "metadata": {
    "collapsed": false
   }
  },
  {
   "cell_type": "markdown",
   "source": [
    "### Dijkstra Search"
   ],
   "metadata": {
    "collapsed": false
   }
  },
  {
   "cell_type": "code",
   "execution_count": 9,
   "outputs": [],
   "source": [
    "def dijkstra(heap_factory: Callable[[], AbstractHeap],\n",
    "             source_vertex: Any,\n",
    "             neighbourhood_function: Callable[[Any], list[tuple[Any, int]]],\n",
    "             is_target: Callable[[Any], bool]) -> tuple[list[Any], set[Any]]:\n",
    "    return a_star(heap_factory, source_vertex, neighbourhood_function, is_target, heuristic=lambda _: 0)"
   ],
   "metadata": {
    "collapsed": false
   }
  },
  {
   "cell_type": "code",
   "execution_count": 10,
   "outputs": [],
   "source": [
    "def a_star(heap_factory: Callable[[], AbstractHeap],\n",
    "           source_vertex: Any,\n",
    "           neighbourhood_function: Callable[[Any], list[tuple[Any, int]]],\n",
    "           is_target: Callable[[Any], bool],\n",
    "           heuristic: Callable[[Any], int]) -> tuple[list[Any], set[Any]]:\n",
    "\n",
    "    previous_vertices = {} # to reconstruct the path\n",
    "\n",
    "    g_scores = {source_vertex: 0}\n",
    "    f_scores = {source_vertex: heuristic(source_vertex)}\n",
    "\n",
    "    frontier = heap_factory()\n",
    "    frontier.add(source_vertex, f_scores)\n",
    "\n",
    "    visited = set()\n",
    "\n",
    "    while frontier:\n",
    "\n",
    "        current = frontier.delete_minimum()\n",
    "        visited.add(current)\n",
    "        current_g_score = g_scores[current]\n",
    "\n",
    "        # if done, path from source to target\n",
    "        if is_target(current):\n",
    "\n",
    "            rv = [current]\n",
    "            while rv[0] != source_vertex:\n",
    "                p = previous_vertices[rv[0]]\n",
    "                rv = [p] + rv\n",
    "            return rv, visited\n",
    "\n",
    "        for neighbour, cost in neighbourhood_function(current):\n",
    "\n",
    "            new_g_score = current_g_score + cost\n",
    "\n",
    "            known_g_score = None\n",
    "            if neighbour in g_scores:\n",
    "                known_g_score = g_scores[neighbour]\n",
    "\n",
    "            # newly discovered node\n",
    "            if not known_g_score:\n",
    "                g_scores[neighbour] = new_g_score\n",
    "                neighbour_f_score = new_g_score + heuristic(neighbour)\n",
    "                f_scores[neighbour] = neighbour_f_score\n",
    "                frontier.add(neighbour, neighbour_f_score)\n",
    "                previous_vertices[neighbour] = current\n",
    "\n",
    "            # previously discovered node\n",
    "            elif new_g_score < known_g_score:\n",
    "                g_scores[neighbour] = new_g_score\n",
    "                neighbour_f_score = new_g_score + heuristic(neighbour)\n",
    "                f_scores[neighbour] = neighbour_f_score\n",
    "                frontier.decrease_key(neighbour, neighbour_f_score)\n",
    "                previous_vertices[neighbour] = current\n",
    "\n",
    "    raise ValueError(f'No path found!!!')"
   ],
   "metadata": {
    "collapsed": false
   }
  },
  {
   "cell_type": "markdown",
   "source": [
    "### Test Code"
   ],
   "metadata": {
    "collapsed": false
   }
  },
  {
   "cell_type": "code",
   "execution_count": 11,
   "outputs": [
    {
     "name": "stdout",
     "output_type": "stream",
     "text": [
      "🟩🟩🟩🟨🟨🟨🟨⬜⬛⬛\n",
      "🟨⬜🟩🟨🟨🟨⬜⬜🟩⬛\n",
      "⬜⬜🟩⬜⬜⬜🟩🟩🟩⬛\n",
      "🟨🟨🟩🟩🟩🟩🟩⬜⬛⬛\n",
      "🟨🟨🟨🟨🟨🟨🟨⬜⬛⬛\n",
      "13\n",
      "31\n"
     ]
    }
   ],
   "source": [
    "import numpy as np\n",
    "\n",
    "HEIGHT, WIDTH = 5, 10\n",
    "ARR = np.zeros((HEIGHT, WIDTH), dtype=int)\n",
    "ARR[2, 0] = 1\n",
    "ARR[2, 1] = 1\n",
    "ARR[1, 1] = 1\n",
    "ARR[0, 7] = 1\n",
    "ARR[1, 7] = 1\n",
    "ARR[1, 6] = 1\n",
    "ARR[2, 4] = 1\n",
    "ARR[2, 5] = 1\n",
    "ARR[2, 3] = 1\n",
    "ARR[3, 7] = 1\n",
    "ARR[4, 7] = 1\n",
    "\n",
    "def neighbours(vertex):\n",
    "    global HEIGHT, WIDTH, ARR\n",
    "    y, x = vertex\n",
    "    assert 0 <= y < HEIGHT and 0 <= x < WIDTH\n",
    "    y -= 1\n",
    "    if 0 <= y < HEIGHT and 0 <= x < WIDTH and ARR[y, x] != 1:\n",
    "        yield (y, x), 1\n",
    "    y += 1\n",
    "    x += 1\n",
    "    if 0 <= y < HEIGHT and 0 <= x < WIDTH and ARR[y, x] != 1:\n",
    "        yield (y, x), 1\n",
    "    x -= 1\n",
    "    y += 1\n",
    "    if 0 <= y < HEIGHT and 0 <= x < WIDTH and ARR[y, x] != 1:\n",
    "        yield (y, x), 1\n",
    "    y -= 1\n",
    "    x -= 1\n",
    "    if 0 <= y < HEIGHT and 0 <= x < WIDTH and ARR[y, x] != 1:\n",
    "        yield (y, x), 1\n",
    "\n",
    "def manhattan(a, b):\n",
    "    return abs(a[0] - b[0]) + abs(a[1] - b[1])\n",
    "\n",
    "TARGET = (1, 8)\n",
    "heuristic = partial(manhattan, TARGET)\n",
    "\n",
    "path, visited = dijkstra(ArrayHeap, (0, 0), neighbours, lambda x: x == TARGET)\n",
    "for point in visited:\n",
    "    ARR[point] = 3\n",
    "for point in path:\n",
    "    ARR[point] = 2\n",
    "\n",
    "for y in range(HEIGHT):\n",
    "    for x in range(WIDTH):\n",
    "        if ARR[y, x] == 0:\n",
    "            print('⬛', end='')\n",
    "        elif ARR[y, x] == 1:\n",
    "            print('⬜', end='')\n",
    "        elif ARR[y, x] == 2:\n",
    "            print('🟩', end='')\n",
    "        elif ARR[y, x] == 3:\n",
    "            print('🟨', end='')\n",
    "        else:\n",
    "            raise ValueError(ARR[y, x])\n",
    "    print()\n",
    "print(len(path) - 1)\n",
    "print(len(visited))\n",
    "\n",
    "# Dijkstra h(x) = 0\n",
    "# 🟩🟩🟩🟨🟨🟨🟨⬜⬛⬛\n",
    "# 🟨⬜🟩🟨🟨🟨⬜⬜🟩⬛\n",
    "# ⬜⬜🟩⬜⬜⬜🟩🟩🟩⬛\n",
    "# 🟨🟨🟩🟩🟩🟩🟩⬜⬛⬛\n",
    "# 🟨🟨🟨🟨🟨🟨🟨⬜⬛⬛\n",
    "# cost = len(path)-1 = 13 edge units\n",
    "# visited = len(visited) = 31 vertices\n",
    "\n",
    "# A* h(x) = mahattan\n",
    "# 🟩🟩🟩🟨🟨🟨🟨⬜⬛⬛\n",
    "# 🟨⬜🟩🟨🟨🟨⬜⬜🟩⬛\n",
    "# ⬜⬜🟩⬜⬜⬜🟩🟩🟩⬛\n",
    "# ⬛⬛🟩🟩🟩🟩🟩⬜⬛⬛\n",
    "# ⬛⬛⬛⬛⬛⬛⬛⬜⬛⬛\n",
    "# cost = len(path)-1 = 13\n",
    "# visited = len(visited) = 22"
   ],
   "metadata": {
    "collapsed": false
   }
  },
  {
   "cell_type": "code",
   "execution_count": 11,
   "outputs": [],
   "source": [],
   "metadata": {
    "collapsed": false
   }
  }
 ],
 "metadata": {
  "kernelspec": {
   "display_name": "Python 3",
   "language": "python",
   "name": "python3"
  },
  "language_info": {
   "codemirror_mode": {
    "name": "ipython",
    "version": 2
   },
   "file_extension": ".py",
   "mimetype": "text/x-python",
   "name": "python",
   "nbconvert_exporter": "python",
   "pygments_lexer": "ipython2",
   "version": "2.7.6"
  }
 },
 "nbformat": 4,
 "nbformat_minor": 0
}
