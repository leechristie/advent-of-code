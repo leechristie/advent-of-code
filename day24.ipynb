{
 "cells": [
  {
   "cell_type": "markdown",
   "source": [
    "# Advent of Code 2022\n",
    "\n",
    "## Day 24: Blizzard Basin\n",
    "\n",
    "Solution code by [leechristie](https://github.com/leechristie) for Advent of Code 2022.\n",
    "\n",
    "I pulled up the Dijkstra search I wrote for day 12 and modified it to do A*.\n",
    "\n",
    "I created a `ValleyMap` object which has *n* `ValleyMapState` objects where *n* is the period of the map. The period of the map is the LCM(width, height) where width, height are the interior dimension (so exclude the band of 1 around the outside). This allows precomputing location of walkable ground at every timestep in constant time lookup after all *n* states have been precomputed. n = lcm(6, 4) = 12 for the example and n = lcm(35, 100) = 700 for the real input file.\n",
    "\n"
   ],
   "metadata": {
    "collapsed": false
   }
  },
  {
   "cell_type": "markdown",
   "source": [
    "### Helpers\n",
    "\n",
    "I wrote generic Dijkstra/A* stuff and put it in a file `day24/search.py` to make this notebook a little tidier."
   ],
   "metadata": {
    "collapsed": false
   }
  },
  {
   "cell_type": "code",
   "execution_count": null,
   "outputs": [],
   "source": [
    "from day24.search import a_star, ArrayHeap, manhattan"
   ],
   "metadata": {
    "collapsed": false
   }
  },
  {
   "cell_type": "markdown",
   "source": [
    "### Imports"
   ],
   "metadata": {
    "collapsed": false
   }
  },
  {
   "cell_type": "code",
   "execution_count": null,
   "outputs": [],
   "source": [
    "import numpy as np\n",
    "from math import lcm\n",
    "from tqdm.autonotebook import tqdm\n",
    "from typing import Iterator, Callable"
   ],
   "metadata": {
    "collapsed": false
   }
  },
  {
   "cell_type": "markdown",
   "source": [
    "### The Valley"
   ],
   "metadata": {
    "collapsed": false
   }
  },
  {
   "cell_type": "code",
   "execution_count": null,
   "outputs": [],
   "source": [
    "WALL = -10000\n",
    "UP = 1\n",
    "RIGHT = 2\n",
    "DOWN = 4\n",
    "LEFT = 8\n",
    "DECODING = {'.' : 0,\n",
    "            '#' : WALL,\n",
    "            '^' : UP, '>' : RIGHT, 'v' : DOWN, '<' : LEFT}\n",
    "HORIZONTAL = {DECODING['<'], DECODING['>']}\n",
    "VERTICAL = {DECODING['^'], DECODING['v']}\n",
    "EMOJI = {\n",
    "    0 : '⬛',      # empty space\n",
    "    WALL: '◻️',    # wall\n",
    "    UP: '⬆️',      # 0001\n",
    "    RIGHT: '➡️️',   # 0010\n",
    "    3: '2️⃣',   # 0011\n",
    "    DOWN: '⬇️',   # 0100\n",
    "    5: '2️⃣',   # 0101\n",
    "    6: '2️⃣',   # 0110\n",
    "    7: '3️⃣',   # 0111\n",
    "    LEFT: '⬅️',   # 1000\n",
    "    9: '2️⃣',   # 1001\n",
    "    10: '2️⃣',  # 1010\n",
    "    11: '3️⃣',  # 1011\n",
    "    12: '2️⃣',  # 1100\n",
    "    13: '3️⃣',  # 1101\n",
    "    14: '3️⃣',  # 1110\n",
    "    15: '4️⃣'   # 1111\n",
    "}\n",
    "\n",
    "class ValleyMapState:\n",
    "\n",
    "    __slots__ = ['arr']\n",
    "    total_states_created = 0\n",
    "\n",
    "    def __init__(self, arr: np.ndarray):\n",
    "        self.arr = arr\n",
    "        ValleyMapState.total_states_created += 1\n",
    "\n",
    "    def is_ground(self, loc: tuple[int, int]) -> bool:\n",
    "        height, width = self.arr.shape\n",
    "        y, x = loc\n",
    "        return (0 <= y < height) and (0 <= x <= width) and (self.arr[loc] == 0)\n",
    "\n",
    "    def next_state(self) -> 'ValleyMapState':\n",
    "        next_arr = np.zeros(self.arr.shape, dtype=int)\n",
    "        height, width = self.arr.shape\n",
    "\n",
    "        # copy walls\n",
    "        for y in range(height):\n",
    "            for x in range(width):\n",
    "                if self.arr[y, x] == WALL:\n",
    "                    next_arr[y, x] = WALL\n",
    "\n",
    "        # looping over only 1 to n-2, so we check the interior only\n",
    "        for y in range(1, height - 1):\n",
    "            y_above = (((y - 1) - 1) % (height - 2)) + 1\n",
    "            y_below = (((y - 1) + 1) % (height - 2)) + 1\n",
    "            assert 1 <= y_above < (height - 1)\n",
    "            assert 1 <= y_below < (height - 1)\n",
    "            for x in range(1, width - 1):\n",
    "                loc = y, x\n",
    "                x_left = (((x - 1) - 1) % (width - 2)) + 1\n",
    "                x_right = (((x - 1) + 1) % (width - 2)) + 1\n",
    "                assert 1 <= x_left < (width - 1)\n",
    "                assert 1 <= x_right < (width - 1)\n",
    "                above = y_above, x\n",
    "                right = y, x_right\n",
    "                below = y_below, x\n",
    "                left = y, x_left\n",
    "                assert (self.arr[above] >= 0), f'{self.arr[above] = }, where {(x, y) = }, {above = }, expected >= 0'\n",
    "                assert (self.arr[right] >= 0), f'{self.arr[right] = }, where {(x, y) = }, {right = }, expected >= 0'\n",
    "                assert (self.arr[below] >= 0), f'{self.arr[below] = }, where {(x, y) = }, {below = }, expected >= 0'\n",
    "                assert (self.arr[left] >= 0), f'{self.arr[left] = }, where {(x, y) = }, {left = }, expected >= 0'\n",
    "                num = 0\n",
    "                if (self.arr[right] & LEFT) == LEFT:\n",
    "                    next_arr[loc] += LEFT\n",
    "                    num += 1\n",
    "                if (self.arr[below] & UP) == UP:\n",
    "                    next_arr[loc] += UP\n",
    "                    num += 1\n",
    "                if (self.arr[above] & DOWN) == DOWN:\n",
    "                    next_arr[loc] += DOWN\n",
    "                    num += 1\n",
    "                if (self.arr[left] & RIGHT) == RIGHT:\n",
    "                    next_arr[loc] += RIGHT\n",
    "                    num += 1\n",
    "                assert 0 <= num <= 4\n",
    "\n",
    "        return ValleyMapState(next_arr)\n",
    "\n",
    "    def emoji(self, loc: tuple[int, int]) -> str:\n",
    "        return EMOJI[self.arr[loc]]\n",
    "\n",
    "    def __repr__(self):\n",
    "        return str(self)\n",
    "\n",
    "    def __str__(self):\n",
    "        rv = ''\n",
    "        height, width = self.arr.shape\n",
    "        for y in range(height):\n",
    "            for x in range(width):\n",
    "                rv += self.emoji((y, x))\n",
    "            rv += '\\n'\n",
    "        return rv\n",
    "\n",
    "ValleyMapState.total_states_created = 0\n",
    "\n",
    "def spatial_neighbours(point: tuple[int, int]) -> Iterator[tuple[int, int]]:\n",
    "    y, x = point\n",
    "    yield y, x\n",
    "    yield y-1, x\n",
    "    yield y, x+1\n",
    "    yield y+1, x\n",
    "    yield y, x-1\n",
    "\n",
    "\n",
    "class ValleyMap:\n",
    "\n",
    "    __slots__ = ['height', 'width', 'states', 'horizontal_period', 'vertical_period', 'period', 'start', 'end', 'heuristic']\n",
    "\n",
    "    def __init__(self, arr: np.ndarray):\n",
    "        self.height, self.width = arr.shape\n",
    "        self.start = (0, 1)\n",
    "        self.end = (self.height - 1, self.width - 2)\n",
    "        self.horizontal_period = self.width - 2\n",
    "        self.vertical_period = self.height - 2\n",
    "        self.period = lcm(self.horizontal_period, self.vertical_period)\n",
    "        for y in range(self.height):\n",
    "            x = self.start[1]\n",
    "            assert arr[y, x] not in VERTICAL\n",
    "        for y in range(self.height):\n",
    "            x = self.end[1]\n",
    "            assert arr[y, x] not in VERTICAL\n",
    "        self.states = [None] * self.period\n",
    "        self.states[0] = ValleyMapState(arr)\n",
    "        def heuristic(vertex: tuple[int, tuple[int, int]]) -> int:\n",
    "            _, point = vertex\n",
    "            return manhattan(point, self.end)\n",
    "        self.heuristic: Callable[[tuple[int, tuple[int, int]]], int] = heuristic\n",
    "\n",
    "    def neighbours(self, vertex: tuple[int, tuple[int, int]]) -> tuple[tuple[int, tuple[int, int]], int]:\n",
    "        time, point = vertex\n",
    "        for n in spatial_neighbours(point):\n",
    "            if self.is_ground(time + 1, n):\n",
    "                yield (time + 1, n), 1\n",
    "\n",
    "    def is_goal(self, vertex: tuple[int, tuple[int, int]]) -> bool:\n",
    "        _, point = vertex\n",
    "        return point == self.end\n",
    "\n",
    "    def is_ground(self, time: int, loc: tuple[int, int]) -> bool:\n",
    "        return self[time].is_ground(loc)\n",
    "\n",
    "    def precompute_states(self, pbar: bool = False) -> None:\n",
    "        if pbar:\n",
    "            for i in tqdm(range(self.period), desc='Precomputing Valley States'):\n",
    "                _ = self[i]  # called for side effect\n",
    "        else:\n",
    "            for i in range(self.period):\n",
    "                _ = self[i]  # called for side effect\n",
    "        assert None not in self.states\n",
    "\n",
    "    def __getitem__(self, item: int) -> ValleyMapState:\n",
    "        assert type(item) == int and item >= 0\n",
    "        item = item % len(self.states)\n",
    "        if self.states[item] is None:\n",
    "            self.states[item] = self[item - 1].next_state()  # recursive call\n",
    "        return self.states[item]\n",
    "\n",
    "    def __repr__(self):\n",
    "        return str(self)\n",
    "\n",
    "    def __str__(self):\n",
    "        return str(self[0])\n",
    "\n",
    "    @staticmethod\n",
    "    def read(filename: str) -> 'ValleyMap':\n",
    "        lines = []\n",
    "        with open(filename) as file:\n",
    "            for line in file:\n",
    "                lines.append([DECODING[char] for char in line.strip()])\n",
    "        rv = np.array(lines)\n",
    "        return ValleyMap(rv)"
   ],
   "metadata": {
    "collapsed": false
   }
  },
  {
   "cell_type": "markdown",
   "source": [
    "### Part 1"
   ],
   "metadata": {
    "collapsed": false
   }
  },
  {
   "cell_type": "code",
   "execution_count": null,
   "outputs": [],
   "source": [
    "def main():\n",
    "\n",
    "    # load the valley and precompute states\n",
    "    valley_map = ValleyMap.read(INPUT_FILE)\n",
    "    valley_map.precompute_states(pbar=(valley_map.period > 12))\n",
    "    print('Precomputed states')\n",
    "\n",
    "    # start state is valley start point a time 0\n",
    "    start = 0, valley_map.start\n",
    "\n",
    "    path, visited = a_star(ArrayHeap,\n",
    "                           start,\n",
    "                           valley_map.neighbours,\n",
    "                           valley_map.is_goal,\n",
    "                           valley_map.heuristic,\n",
    "                           pbar=(valley_map.period > 12))\n",
    "\n",
    "    end_time, end_point = path[-1]\n",
    "    assert end_point == valley_map.end\n",
    "\n",
    "    print(f'Shortest path to {end_point} is after {end_time} time steps')"
   ],
   "metadata": {
    "collapsed": false
   }
  },
  {
   "cell_type": "code",
   "execution_count": null,
   "outputs": [],
   "source": [
    "INPUT_FILE = 'data/example24.txt'\n",
    "#INPUT_FILE = 'data/input24.txt'\n",
    "\n",
    "if __name__ == '__main__':\n",
    "    main()"
   ],
   "metadata": {
    "collapsed": false
   }
  }
 ],
 "metadata": {
  "kernelspec": {
   "display_name": "Python 3",
   "language": "python",
   "name": "python3"
  },
  "language_info": {
   "codemirror_mode": {
    "name": "ipython",
    "version": 2
   },
   "file_extension": ".py",
   "mimetype": "text/x-python",
   "name": "python",
   "nbconvert_exporter": "python",
   "pygments_lexer": "ipython2",
   "version": "2.7.6"
  }
 },
 "nbformat": 4,
 "nbformat_minor": 0
}
