{
 "cells": [
  {
   "cell_type": "markdown",
   "source": [
    "# Advent of Code 2015\n",
    "\n",
    "## Day 15: Science for Hungry People\n",
    "\n",
    "Solution code by [leechristie](https://github.com/leechristie) for Advent of Code 2015."
   ],
   "metadata": {
    "collapsed": false
   }
  },
  {
   "cell_type": "code",
   "execution_count": null,
   "outputs": [],
   "source": [
    "from aoc import *\n",
    "\n",
    "@dataclass\n",
    "class IngredientValues:\n",
    "    capacity: int\n",
    "    durability: int\n",
    "    flavor: int\n",
    "    texture: int\n",
    "    calories: int\n",
    "\n",
    "    def __mul__(self, other):\n",
    "        return IngredientValues(self.capacity * other,\n",
    "                                self.durability * other,\n",
    "                                self.flavor * other,\n",
    "                                self.texture * other,\n",
    "                                self.calories * other)\n",
    "\n",
    "    def __rmul__(self, other):\n",
    "        return self.__mul__(other)\n",
    "\n",
    "    def __add__(self, other):\n",
    "        return IngredientValues(self.capacity + other.capacity,\n",
    "                                self.durability + other.durability,\n",
    "                                self.flavor + other.flavor,\n",
    "                                self.texture + other.texture,\n",
    "                                self.calories + other.calories)\n",
    "\n",
    "    def score(self):\n",
    "        return max(0, self.capacity)\\\n",
    "             * max(0, self.durability)\\\n",
    "             * max(0, self.flavor)\\\n",
    "             * max(0, self.texture)\n",
    "\n",
    "DATA = {}\n",
    "for name, capacity, durability, flavor, texture, calories in load_split_lines_at_indices('data/input15.txt',\n",
    "                                                                                         ' ',\n",
    "                                                                                         [0, 2, 4, 6, 8, 10],\n",
    "                                                                                         dtypes=[str, int, int, int, int, int],\n",
    "                                                                                         ignore=',:'):\n",
    "    DATA[name] = IngredientValues(capacity, durability, flavor, texture, calories)"
   ],
   "metadata": {
    "collapsed": false
   }
  },
  {
   "cell_type": "markdown",
   "source": [
    "### Part 1"
   ],
   "metadata": {
    "collapsed": false
   }
  },
  {
   "cell_type": "code",
   "execution_count": null,
   "outputs": [],
   "source": [
    "def solve(data, total_target, calories_target=None):\n",
    "    best = -1\n",
    "    for count0 in range(total_target + 1):\n",
    "        for count1 in range(total_target + 1 - count0):\n",
    "            for count2 in range(total_target + 1 - count0 - count1):\n",
    "                counts = [count0, count1, count2, total_target - count0 - count1 - count2]\n",
    "                total = IngredientValues(0, 0, 0, 0, 0)\n",
    "                for count, name in zip(counts, data):\n",
    "                    values = data[name]\n",
    "                    total += count * values\n",
    "                if calories_target is None or total.calories == calories_target:\n",
    "                    total_score = total.score()\n",
    "                    if total_score > best:\n",
    "                        best = total_score\n",
    "    return best"
   ],
   "metadata": {
    "collapsed": false
   }
  },
  {
   "cell_type": "code",
   "execution_count": null,
   "outputs": [],
   "source": [
    "print(f'The best possible score is {solve(DATA, 100)} points.')"
   ],
   "metadata": {
    "collapsed": false
   }
  },
  {
   "cell_type": "markdown",
   "source": [
    "### Part 2"
   ],
   "metadata": {
    "collapsed": false
   }
  },
  {
   "cell_type": "code",
   "execution_count": null,
   "outputs": [],
   "source": [
    "print(f'The best possible score for 500 calories is {solve(DATA, 100, calories_target=500)} points.')"
   ],
   "metadata": {
    "collapsed": false
   }
  }
 ],
 "metadata": {
  "kernelspec": {
   "display_name": "Python 3",
   "language": "python",
   "name": "python3"
  },
  "language_info": {
   "codemirror_mode": {
    "name": "ipython",
    "version": 2
   },
   "file_extension": ".py",
   "mimetype": "text/x-python",
   "name": "python",
   "nbconvert_exporter": "python",
   "pygments_lexer": "ipython2",
   "version": "2.7.6"
  }
 },
 "nbformat": 4,
 "nbformat_minor": 0
}
