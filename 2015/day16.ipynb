{
 "cells": [
  {
   "cell_type": "markdown",
   "source": [
    "# Advent of Code 2015\n",
    "\n",
    "## Day 16: Aunt Sue\n",
    "\n",
    "Solution code by [leechristie](https://github.com/leechristie) for Advent of Code 2015."
   ],
   "metadata": {
    "collapsed": false
   }
  },
  {
   "cell_type": "code",
   "execution_count": null,
   "outputs": [],
   "source": [
    "from aoc import *"
   ],
   "metadata": {
    "collapsed": false
   }
  },
  {
   "cell_type": "code",
   "execution_count": null,
   "outputs": [],
   "source": [
    "def solve(filename, criteria):\n",
    "    for sue, item1, count1, item2, count2, item3, count3 in load_split_lines_at_indices(filename, ' ', [1, 2, 3, 4, 5, 6, 7], [int, str], ignore=':,'):\n",
    "        item_counts = {item1: count1, item2: count2, item3: count3}\n",
    "        wrong = False\n",
    "        for item, count in item_counts.items():\n",
    "            if not criteria[item](count):\n",
    "                wrong = True\n",
    "        if not wrong:\n",
    "            return sue\n",
    "    return None"
   ],
   "metadata": {
    "collapsed": false
   }
  },
  {
   "cell_type": "markdown",
   "source": [
    "### Part 1"
   ],
   "metadata": {
    "collapsed": false
   }
  },
  {
   "cell_type": "code",
   "execution_count": null,
   "outputs": [],
   "source": [
    "CRITERIA = {\n",
    "    'children': lambda x: x == 3,\n",
    "    'cats': lambda x: x == 7,\n",
    "    'samoyeds': lambda x: x == 2,\n",
    "    'pomeranians': lambda x: x == 3,\n",
    "    'akitas': lambda x: x == 0,\n",
    "    'vizslas': lambda x: x == 0,\n",
    "    'goldfish': lambda x: x == 5,\n",
    "    'trees': lambda x: x == 3,\n",
    "    'cars': lambda x: x == 2,\n",
    "    'perfumes': lambda x: x == 1\n",
    "}"
   ],
   "metadata": {
    "collapsed": false
   }
  },
  {
   "cell_type": "code",
   "execution_count": null,
   "outputs": [],
   "source": [
    "sue = solve('data/input16.txt', CRITERIA)\n",
    "print(f'The message was really sent by Sue {sue}.')"
   ],
   "metadata": {
    "collapsed": false
   }
  },
  {
   "cell_type": "markdown",
   "source": [
    "### Part 2"
   ],
   "metadata": {
    "collapsed": false
   }
  },
  {
   "cell_type": "code",
   "execution_count": null,
   "outputs": [],
   "source": [
    "CRITERIA = {\n",
    "\n",
    "    'cats': lambda x: x > 7,\n",
    "    'trees': lambda x: x > 3,\n",
    "\n",
    "    'pomeranians': lambda x: x < 3,\n",
    "    'goldfish': lambda x: x < 5,\n",
    "\n",
    "    'children': lambda x: x == 3,\n",
    "    'samoyeds': lambda x: x == 2,\n",
    "    'akitas': lambda x: x == 0,\n",
    "    'vizslas': lambda x: x == 0,\n",
    "    'cars': lambda x: x == 2,\n",
    "    'perfumes': lambda x: x == 1\n",
    "\n",
    "}"
   ],
   "metadata": {
    "collapsed": false
   }
  },
  {
   "cell_type": "code",
   "execution_count": null,
   "outputs": [],
   "source": [
    "sue = solve('data/input16.txt', CRITERIA)\n",
    "print(f'The message was really sent by Sue {sue}.')"
   ],
   "metadata": {
    "collapsed": false
   }
  }
 ],
 "metadata": {
  "kernelspec": {
   "display_name": "Python 3",
   "language": "python",
   "name": "python3"
  },
  "language_info": {
   "codemirror_mode": {
    "name": "ipython",
    "version": 2
   },
   "file_extension": ".py",
   "mimetype": "text/x-python",
   "name": "python",
   "nbconvert_exporter": "python",
   "pygments_lexer": "ipython2",
   "version": "2.7.6"
  }
 },
 "nbformat": 4,
 "nbformat_minor": 0
}
