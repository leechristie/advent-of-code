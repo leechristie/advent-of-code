{
 "cells": [
  {
   "cell_type": "markdown",
   "source": [
    "# Advent of Code 2015\n",
    "\n",
    "## Day 25: Let It Snow\n",
    "\n",
    "Solution code by [leechristie](https://github.com/leechristie) for Advent of Code 2015."
   ],
   "metadata": {
    "collapsed": false
   }
  },
  {
   "cell_type": "code",
   "execution_count": null,
   "outputs": [],
   "source": [
    "from aoc import *\n",
    "from typing import Iterator\n",
    "from tqdm.notebook import tqdm"
   ],
   "metadata": {
    "collapsed": false
   }
  },
  {
   "cell_type": "code",
   "execution_count": null,
   "outputs": [],
   "source": [
    "def diagonal_order() -> Iterator[tuple[int, Position]]:\n",
    "    yield (count := 1), Position(x=(x := 1), y=(y := 1))\n",
    "    yield (count := count + 1), Position(x=x, y=(y := y + 1))\n",
    "    while True:\n",
    "        x, y = (x + 1, y - 1) if y > 1 else (y, x + 1)\n",
    "        yield (count := count + 1), Position(x=x, y=y)"
   ],
   "metadata": {
    "collapsed": false
   }
  },
  {
   "cell_type": "code",
   "execution_count": null,
   "outputs": [],
   "source": [
    "TARGET = Position(x=3083, y=2978)  # puzzle input"
   ],
   "metadata": {
    "collapsed": false
   }
  },
  {
   "cell_type": "code",
   "execution_count": null,
   "outputs": [],
   "source": [
    "INIT = 20151125\n",
    "MULT = 252533\n",
    "MOD = 33554393\n",
    "\n",
    "current = None\n",
    "\n",
    "FREQ_UPDATE_DESC = 100_000\n",
    "\n",
    "with tqdm() as p:\n",
    "    for index, point in diagonal_order():\n",
    "        if current is None:\n",
    "            current = INIT\n",
    "        else:\n",
    "            current = (current * MULT) % MOD\n",
    "        p.update(1)\n",
    "        if index % FREQ_UPDATE_DESC == 1:\n",
    "            p.set_description(str(point.x + point.y) + ' of ' + str(TARGET.x + TARGET.y))\n",
    "        if point == TARGET:\n",
    "            print(f'Index = {index}')\n",
    "            print(f'Position = {point}')\n",
    "            print(f'Value = {current}')\n",
    "            break"
   ],
   "metadata": {
    "collapsed": false
   }
  },
  {
   "cell_type": "code",
   "execution_count": null,
   "outputs": [],
   "source": [],
   "metadata": {
    "collapsed": false
   }
  }
 ],
 "metadata": {
  "kernelspec": {
   "display_name": "Python 3",
   "language": "python",
   "name": "python3"
  },
  "language_info": {
   "codemirror_mode": {
    "name": "ipython",
    "version": 2
   },
   "file_extension": ".py",
   "mimetype": "text/x-python",
   "name": "python",
   "nbconvert_exporter": "python",
   "pygments_lexer": "ipython2",
   "version": "2.7.6"
  }
 },
 "nbformat": 4,
 "nbformat_minor": 0
}
