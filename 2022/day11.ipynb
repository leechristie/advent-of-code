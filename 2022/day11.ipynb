{
 "cells": [
  {
   "cell_type": "markdown",
   "source": [
    "# Advent of Code 2022\n",
    "\n",
    "## Day 11: Monkey in the Middle\n",
    "\n",
    "Solution code by [leechristie](https://github.com/leechristie) for Advent of Code 2022.\n",
    "\n",
    "Today's part 2 required a bit of maths rather than just blind coding! I think that's the first time in this year's AoC that needed what I'd describe as mathematical thinking. But not too difficult, so I still managed to solve it myself.\n",
    "\n",
    "Firstly, in part 1, I build a `Monkey` class and a generator which loops over the file yielding `Monkey` objects to load the data. I used this as mutable state to track the state of the monkeys. The list of items is a `deque` although I'm sure a `list` would have worked fine. There's a lot of printing code in my logic behind this `verbos=` flag that gets passed to methods fo I could compare against the sample output in the question.\n",
    "\n",
    "I added a progress bar with `tqdm` to see how long part 2 was going to take without modification to the code other than removing the divide-by-3 and setting the rounds to 10,000. It would take too long. There item worry numbers are too big to compute even with Python's unbounded ints.\n",
    "\n",
    "I modified the method which applies the operator to divide by the product of all monkey divisors. They are all primes. I assume this is the lowest base I can use inless there's some other trick I'm missing? This works first time!\n",
    "\n",
    "Very fun."
   ],
   "metadata": {
    "collapsed": false
   },
   "outputs": []
  },
  {
   "cell_type": "markdown",
   "source": [
    "### Update!\n",
    "\n",
    "I've refactored my solution a bit\n",
    "\n",
    "Now, instead of patching in the `% N` thing, I pass in a `Callable` called `worry_reduction` which gets applied as `lambda item: item // 3` in part 1 and `lambda item: item % N` in part 2. That way the code can be the same for both parts except for that and the change to the number of round!\n",
    "\n",
    "I also removed the `verbose=` stuff so there's no longer the extra printing that's not really needed, allowing me to make other small clean ups."
   ],
   "metadata": {
    "collapsed": false
   }
  },
  {
   "cell_type": "markdown",
   "source": [
    "### Imports"
   ],
   "metadata": {
    "collapsed": false
   }
  },
  {
   "cell_type": "code",
   "execution_count": null,
   "outputs": [],
   "source": [
    "from typing import Iterator, Union, Callable\n",
    "from collections import deque"
   ],
   "metadata": {
    "collapsed": false
   }
  },
  {
   "cell_type": "markdown",
   "source": [
    "### Data File Processing"
   ],
   "metadata": {
    "collapsed": false
   }
  },
  {
   "cell_type": "code",
   "execution_count": null,
   "outputs": [],
   "source": [
    "def read_data_blocks(filename: str) -> Iterator[list[str]]:\n",
    "\n",
    "    buffer = []\n",
    "\n",
    "    with open(filename) as file:\n",
    "\n",
    "        for line in file:\n",
    "\n",
    "            line = line.strip('\\n')\n",
    "            if line:\n",
    "                buffer.append(line)\n",
    "            else:\n",
    "                yield buffer\n",
    "                buffer = []\n",
    "\n",
    "    # in case the final block is not terminated with \\n\n",
    "    if buffer:\n",
    "        yield buffer"
   ],
   "metadata": {
    "collapsed": false
   }
  },
  {
   "cell_type": "code",
   "execution_count": null,
   "outputs": [],
   "source": [
    "def strip_line(line: str, start: str, end: str='') -> str:\n",
    "    assert line.startswith(start), f'line \"{line}\" does not start with \"{start}\"'\n",
    "    assert line.endswith(end), f'line \"{line}\" does not end with \"{end}\"'\n",
    "    if end:\n",
    "        return line[len(start):-len(end)]\n",
    "    return line[len(start):]"
   ],
   "metadata": {
    "collapsed": false
   }
  },
  {
   "cell_type": "markdown",
   "source": [
    "### Monkey Object"
   ],
   "metadata": {
    "collapsed": false
   }
  },
  {
   "cell_type": "code",
   "execution_count": null,
   "outputs": [],
   "source": [
    "class Monkey:\n",
    "\n",
    "    __slots__ = ['number', 'items', 'operator', 'operand', 'divisor', 'if_true', 'if_false', 'inspections']\n",
    "\n",
    "    def __init__(self,\n",
    "                 number: int,\n",
    "                 items: list[int],\n",
    "                 operator: str,\n",
    "                 operand: Union[str, int],\n",
    "                 divisor: int,\n",
    "                 if_true: int,\n",
    "                 if_false: int):\n",
    "        self.number = number\n",
    "        self.items = deque(items)\n",
    "        self.operator = operator\n",
    "        self.operand = operand\n",
    "        self.divisor = divisor\n",
    "        self.if_true = if_true\n",
    "        self.if_false = if_false\n",
    "        self.inspections = 0\n",
    "\n",
    "    def apply_operator(self, old: int) -> int:\n",
    "        self.inspections += 1\n",
    "        if self.operator == '*':\n",
    "            return old * (old if self.operand == 'old' else self.operand)\n",
    "        return old + (old if self.operand == 'old' else self.operand)"
   ],
   "metadata": {
    "collapsed": false
   }
  },
  {
   "cell_type": "code",
   "execution_count": null,
   "outputs": [],
   "source": [
    "def read_monkeys(filename: str) -> list[Monkey]:\n",
    "\n",
    "    rv = []\n",
    "\n",
    "    for block in read_data_blocks(filename):\n",
    "\n",
    "        assert len(block) == 6\n",
    "        monkey_number, starting, op, test, if_true, if_false = block\n",
    "\n",
    "        monkey_number = int(strip_line(monkey_number, 'Monkey ', ':'))\n",
    "        starting = strip_line(starting, '  Starting items: ')\n",
    "        starting = [int(e) for e in starting.split(', ')]\n",
    "        op = strip_line(op, '  Operation: new = old ')\n",
    "        operator, operand = op.split(' ')\n",
    "        try:\n",
    "            operand = int(operand)\n",
    "        except ValueError:\n",
    "            pass\n",
    "        test = int(strip_line(test, '  Test: divisible by '))\n",
    "        if_true = int(strip_line(if_true, '    If true: throw to monkey '))\n",
    "        if_false = int(strip_line(if_false, '    If false: throw to monkey '))\n",
    "\n",
    "        assert monkey_number == len(rv)\n",
    "        rv.append(Monkey(monkey_number, starting, operator, operand, test, if_true, if_false))\n",
    "\n",
    "    return rv"
   ],
   "metadata": {
    "collapsed": false
   }
  },
  {
   "cell_type": "markdown",
   "source": [
    "### Processing Rounds of Monkey Business"
   ],
   "metadata": {
    "collapsed": false
   }
  },
  {
   "cell_type": "code",
   "execution_count": null,
   "outputs": [],
   "source": [
    "def monkey_round(monkeys: list[Monkey],\n",
    "                 worry_reduction: Callable[[int], int]) -> None:\n",
    "\n",
    "    for monkey in monkeys:\n",
    "\n",
    "        while monkey.items:\n",
    "\n",
    "            item = monkey.items.popleft()\n",
    "            item = monkey.apply_operator(item)\n",
    "\n",
    "            item = worry_reduction(item)\n",
    "\n",
    "            if item % monkey.divisor == 0:\n",
    "                monkeys[monkey.if_true].items.append(item)\n",
    "            else:\n",
    "                monkeys[monkey.if_false].items.append(item)"
   ],
   "metadata": {
    "collapsed": false
   }
  },
  {
   "cell_type": "code",
   "execution_count": null,
   "outputs": [],
   "source": [
    "def do_all_rounds(monkeys: list[Monkey],\n",
    "                  num_rounds: int,\n",
    "                  worry_reduction: Callable[[int], int]) -> int:\n",
    "\n",
    "    for rounds_complete in range(num_rounds):\n",
    "        monkey_round(monkeys, worry_reduction=worry_reduction)\n",
    "\n",
    "    inspections = []\n",
    "    for monkey in monkeys:\n",
    "        inspections.append(monkey.inspections)\n",
    "    inspections.sort(reverse=True)\n",
    "    monkey_business = inspections[0] * inspections[1]\n",
    "\n",
    "    return monkey_business"
   ],
   "metadata": {
    "collapsed": false
   }
  },
  {
   "cell_type": "markdown",
   "source": [
    "### Part 1"
   ],
   "metadata": {
    "collapsed": false
   }
  },
  {
   "cell_type": "code",
   "execution_count": null,
   "outputs": [],
   "source": [
    "INPUT_FILE = 'data/input11.txt'"
   ],
   "metadata": {
    "collapsed": false
   }
  },
  {
   "cell_type": "code",
   "execution_count": null,
   "outputs": [],
   "source": [
    "def main():\n",
    "\n",
    "    monkeys = read_monkeys(INPUT_FILE)\n",
    "    num_rounds = 20\n",
    "    worry_reduction = lambda item: item // 3\n",
    "\n",
    "    monkey_business = do_all_rounds(monkeys, num_rounds, worry_reduction)\n",
    "    print(f'The level of monkey business after {num_rounds} rounds is {monkey_business}')"
   ],
   "metadata": {
    "collapsed": false
   }
  },
  {
   "cell_type": "code",
   "execution_count": null,
   "outputs": [],
   "source": [
    "if __name__ == '__main__':\n",
    "    main()"
   ],
   "metadata": {
    "collapsed": false
   }
  },
  {
   "cell_type": "markdown",
   "source": [
    "### Part 2"
   ],
   "metadata": {
    "collapsed": false
   }
  },
  {
   "cell_type": "code",
   "execution_count": null,
   "outputs": [],
   "source": [
    "def product_of_divisors(monkeys: list[Monkey]) -> int:\n",
    "    rv = 1\n",
    "    for m in monkeys:\n",
    "        rv *= m.divisor\n",
    "    return rv"
   ],
   "metadata": {
    "collapsed": false
   }
  },
  {
   "cell_type": "code",
   "execution_count": null,
   "outputs": [],
   "source": [
    "def main():\n",
    "\n",
    "    monkeys = read_monkeys(INPUT_FILE)\n",
    "    num_rounds = 10000\n",
    "    base = product_of_divisors(monkeys)\n",
    "    worry_reduction = lambda item: item % base\n",
    "\n",
    "    monkey_business = do_all_rounds(monkeys, num_rounds, worry_reduction)\n",
    "    print(f'The level of monkey business after {num_rounds} rounds is {monkey_business}')"
   ],
   "metadata": {
    "collapsed": false
   }
  },
  {
   "cell_type": "code",
   "execution_count": null,
   "outputs": [],
   "source": [
    "if __name__ == '__main__':\n",
    "    main()"
   ],
   "metadata": {
    "collapsed": false
   }
  }
 ],
 "metadata": {
  "kernelspec": {
   "display_name": "Python 3",
   "language": "python",
   "name": "python3"
  },
  "language_info": {
   "codemirror_mode": {
    "name": "ipython",
    "version": 2
   },
   "file_extension": ".py",
   "mimetype": "text/x-python",
   "name": "python",
   "nbconvert_exporter": "python",
   "pygments_lexer": "ipython2",
   "version": "2.7.6"
  }
 },
 "nbformat": 4,
 "nbformat_minor": 0
}
