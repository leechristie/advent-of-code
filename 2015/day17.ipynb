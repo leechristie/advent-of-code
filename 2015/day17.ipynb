{
 "cells": [
  {
   "cell_type": "markdown",
   "source": [
    "# Advent of Code 2015\n",
    "\n",
    "## Day 17: No Such Thing as Too Much\n",
    "\n",
    "Solution code by [leechristie](https://github.com/leechristie) for Advent of Code 2015."
   ],
   "metadata": {
    "collapsed": false
   }
  },
  {
   "cell_type": "code",
   "execution_count": null,
   "outputs": [],
   "source": [
    "from aoc import *\n",
    "\n",
    "DATA = load_lines('data/input17.txt', dtype=int)\n",
    "DATA.sort(reverse=True)"
   ],
   "metadata": {
    "collapsed": false
   }
  },
  {
   "cell_type": "code",
   "execution_count": null,
   "outputs": [],
   "source": [
    "from collections import Counter\n",
    "\n",
    "def count_solutions(target: int, containers: list[int], counter: Counter[int], used_count: int = 0) -> None:\n",
    "\n",
    "    # we have met the target\n",
    "    assert target >= 0\n",
    "    if target == 0:\n",
    "        counter[used_count] += 1\n",
    "        return\n",
    "\n",
    "    # we have run out of containers\n",
    "    if not containers:\n",
    "        return\n",
    "\n",
    "    first, rest = containers[0], containers[1:]\n",
    "\n",
    "    # the first is too large to use\n",
    "    if first > target:\n",
    "        count_solutions(target, rest, counter, used_count)\n",
    "\n",
    "    # the first is small enough to include\n",
    "    else:\n",
    "        count_solutions(target - first, rest, counter, used_count + 1)\n",
    "        count_solutions(target, rest, counter, used_count)\n",
    "\n",
    "TARGET = 150\n",
    "\n",
    "counter = Counter()\n",
    "count_solutions(TARGET, DATA, counter)"
   ],
   "metadata": {
    "collapsed": false
   }
  },
  {
   "cell_type": "markdown",
   "source": [
    "### Part 1"
   ],
   "metadata": {
    "collapsed": false
   }
  },
  {
   "cell_type": "code",
   "execution_count": null,
   "outputs": [],
   "source": [
    "print(f'The number of combinations which work is {sum(counter.values())}.')"
   ],
   "metadata": {
    "collapsed": false
   }
  },
  {
   "cell_type": "markdown",
   "source": [
    "### Part 2"
   ],
   "metadata": {
    "collapsed": false
   }
  },
  {
   "cell_type": "code",
   "execution_count": null,
   "outputs": [],
   "source": [
    "minimum_containers = min(counter)\n",
    "\n",
    "print(f'The number of combinations for the minimum containers, {minimum_containers} which work is {counter[minimum_containers]}.')"
   ],
   "metadata": {
    "collapsed": false
   }
  }
 ],
 "metadata": {
  "kernelspec": {
   "display_name": "Python 3",
   "language": "python",
   "name": "python3"
  },
  "language_info": {
   "codemirror_mode": {
    "name": "ipython",
    "version": 2
   },
   "file_extension": ".py",
   "mimetype": "text/x-python",
   "name": "python",
   "nbconvert_exporter": "python",
   "pygments_lexer": "ipython2",
   "version": "2.7.6"
  }
 },
 "nbformat": 4,
 "nbformat_minor": 0
}
