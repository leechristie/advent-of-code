{
 "cells": [
  {
   "cell_type": "code",
   "execution_count": 1,
   "metadata": {
    "collapsed": true
   },
   "outputs": [
    {
     "name": "stdout",
     "output_type": "stream",
     "text": [
      "blueprints.add(new Blueprint(1, 4, 2, 3, 14, 2, 7));\n",
      "blueprints.add(new Blueprint(2, 2, 3, 3, 8, 3, 12));\n"
     ]
    }
   ],
   "source": [
    "\n",
    "\n",
    "import re\n",
    "\n",
    "with open('../data/example19.txt') as file:\n",
    "    for line in file:\n",
    "        line = line.strip()\n",
    "        match = re.search(r'^Blueprint ([0-9]+): Each ore robot costs ([0-9]+) ore. Each clay robot costs ([0-9]+) ore. Each obsidian robot costs ([0-9]+) ore and ([0-9]+) clay. Each geode robot costs ([0-9]+) ore and ([0-9]+) obsidian.$', line)\n",
    "        #print(line)\n",
    "        id, ore_ore, ore_clay, ore_obsidian, clay_obsidian, ore_geode, obsidian_geode = [int(e) for e in match.groups()]\n",
    "        print(f'blueprints.add(new Blueprint({id}, {ore_ore}, {ore_clay}, {ore_obsidian}, {clay_obsidian}, {ore_geode}, {obsidian_geode}));')"
   ]
  },
  {
   "cell_type": "code",
   "execution_count": null,
   "outputs": [],
   "source": [],
   "metadata": {
    "collapsed": false
   }
  }
 ],
 "metadata": {
  "kernelspec": {
   "display_name": "Python 3",
   "language": "python",
   "name": "python3"
  },
  "language_info": {
   "codemirror_mode": {
    "name": "ipython",
    "version": 2
   },
   "file_extension": ".py",
   "mimetype": "text/x-python",
   "name": "python",
   "nbconvert_exporter": "python",
   "pygments_lexer": "ipython2",
   "version": "2.7.6"
  }
 },
 "nbformat": 4,
 "nbformat_minor": 0
}
