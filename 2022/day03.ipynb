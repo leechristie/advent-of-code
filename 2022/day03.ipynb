{
 "cells": [
  {
   "cell_type": "markdown",
   "source": [
    "# Advent of Code 2022\n",
    "\n",
    "## Day 3: Rucksack Reorganization\n",
    "\n",
    "Solution code by [leechristie](https://github.com/leechristie) for Advent of Code 2022.\n",
    "\n",
    "Today I added a bit more logic in the input reading generator. This groups together multiple lines into a single `yield` for use with part 2.\n",
    "\n",
    "`find_single_common_char` finds the single overlap in characters between two strings, for part 2 I re-implemented in terms of a new function `find_common_chars`, but there is probably a cleaner way to find a common char between three sets.\n",
    "\n",
    "I found an excuse to use the forbidden comma-equals `,=` operator that shouldn't normally make it through code review."
   ],
   "metadata": {
    "collapsed": false
   }
  },
  {
   "cell_type": "code",
   "execution_count": null,
   "outputs": [],
   "source": [
    "from collections.abc import Iterator\n",
    "from typing import Union, Optional"
   ],
   "metadata": {
    "collapsed": false
   }
  },
  {
   "cell_type": "code",
   "execution_count": null,
   "outputs": [],
   "source": [
    "# read lines in group of `group_size` lines at a time\n",
    "def read_lines(filename: str, group_size: Optional[int] = None) -> Iterator[Union[str, tuple[str]]]:\n",
    "    assert (group_size is None) or (type(group_size) == int and group_size >= 2)\n",
    "    with open(filename) as file:\n",
    "        rv = []\n",
    "        for line in file:\n",
    "            line = line.strip()\n",
    "            rv.append(line)\n",
    "            if group_size is None or len(rv) == group_size:\n",
    "                if group_size:\n",
    "                    yield tuple(rv)\n",
    "                else:\n",
    "                    yield rv[0]\n",
    "                rv = []\n",
    "\n",
    "        # make sure we don't leave any extra lines\n",
    "        assert not rv, f'{len(rv)} left unprocessed at the end of the file!'"
   ],
   "metadata": {
    "collapsed": false
   }
  },
  {
   "cell_type": "code",
   "execution_count": null,
   "outputs": [],
   "source": [
    "def find_common_chars(left: str, right: str) -> set[str]:\n",
    "    rv = set()\n",
    "    for l in left:\n",
    "        if l in right:\n",
    "            rv.add(l)\n",
    "    return rv"
   ],
   "metadata": {
    "collapsed": false
   }
  },
  {
   "cell_type": "code",
   "execution_count": null,
   "outputs": [],
   "source": [
    "def find_single_common_char(left: str, right: Union[str, set[str]]) -> str:\n",
    "    rv = find_common_chars(left, right)\n",
    "    assert (len(rv) == 1), f'expected overlap of exactly 1 item, found {len(rv)} items!'\n",
    "    rv ,= rv # comma-equals single-item unpacking operator ;)\n",
    "    return rv"
   ],
   "metadata": {
    "collapsed": false
   }
  },
  {
   "cell_type": "code",
   "execution_count": null,
   "outputs": [],
   "source": [
    "def find_priority(i: str) -> int:\n",
    "    assert (type(i) == str and len(i) == 1), f'invalid item: {i}'\n",
    "    assert ('a' <= i <= 'z' or 'A' <= i <= 'Z'), f'invalid item: {i}'\n",
    "    if 'a' <= i <= 'z':\n",
    "        return ord(i) - ord('a') + 1\n",
    "    return ord(i) - ord('A') + 1 + 26"
   ],
   "metadata": {
    "collapsed": false
   }
  },
  {
   "cell_type": "code",
   "execution_count": null,
   "outputs": [],
   "source": [
    "INPUT_FILE = 'data/input03.txt'"
   ],
   "metadata": {
    "collapsed": false
   }
  },
  {
   "cell_type": "markdown",
   "source": [
    "### Part 1"
   ],
   "metadata": {
    "collapsed": false
   }
  },
  {
   "cell_type": "code",
   "execution_count": null,
   "outputs": [],
   "source": [
    "def split_compartments(item: str) -> tuple[str, str]:\n",
    "    cut = len(item) // 2\n",
    "    return item[:cut], item[cut:]"
   ],
   "metadata": {
    "collapsed": false
   }
  },
  {
   "cell_type": "code",
   "execution_count": null,
   "outputs": [],
   "source": [
    "def main():\n",
    "\n",
    "    total_priority = 0\n",
    "\n",
    "    for line in read_lines(INPUT_FILE):\n",
    "\n",
    "        left, right = split_compartments(line)\n",
    "\n",
    "        overlap = find_single_common_char(left, right)\n",
    "        total_priority += find_priority(overlap)\n",
    "\n",
    "    print(f'The total priority is {total_priority}.')"
   ],
   "metadata": {
    "collapsed": false
   }
  },
  {
   "cell_type": "code",
   "execution_count": null,
   "outputs": [],
   "source": [
    "if __name__ == '__main__':\n",
    "    main()"
   ],
   "metadata": {
    "collapsed": false
   }
  },
  {
   "cell_type": "markdown",
   "source": [
    "### Part 2"
   ],
   "metadata": {
    "collapsed": false
   }
  },
  {
   "cell_type": "code",
   "execution_count": null,
   "outputs": [],
   "source": [
    "def main():\n",
    "\n",
    "    total_priority = 0\n",
    "\n",
    "    for elf1, elf2, elf3 in read_lines(INPUT_FILE, group_size=3):\n",
    "        common_item = find_single_common_char(elf1, find_common_chars(elf2, elf3))\n",
    "\n",
    "        total_priority += find_priority(common_item)\n",
    "\n",
    "    print(f'The total priority of the badges is {total_priority}.')"
   ],
   "metadata": {
    "collapsed": false
   }
  },
  {
   "cell_type": "code",
   "execution_count": null,
   "outputs": [],
   "source": [
    "if __name__ == '__main__':\n",
    "    main()"
   ],
   "metadata": {
    "collapsed": false
   }
  }
 ],
 "metadata": {
  "kernelspec": {
   "display_name": "Python 3",
   "language": "python",
   "name": "python3"
  },
  "language_info": {
   "codemirror_mode": {
    "name": "ipython",
    "version": 2
   },
   "file_extension": ".py",
   "mimetype": "text/x-python",
   "name": "python",
   "nbconvert_exporter": "python",
   "pygments_lexer": "ipython2",
   "version": "2.7.6"
  }
 },
 "nbformat": 4,
 "nbformat_minor": 0
}
