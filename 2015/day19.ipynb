{
 "cells": [
  {
   "cell_type": "markdown",
   "source": [
    "# Advent of Code 2015\n",
    "\n",
    "## Day 19: Medicine for Rudolph (PART 2 UNFINISHED)\n",
    "\n",
    "Solution code by [leechristie](https://github.com/leechristie) for Advent of Code 2015."
   ],
   "metadata": {
    "collapsed": false
   }
  },
  {
   "cell_type": "code",
   "execution_count": null,
   "outputs": [],
   "source": [
    "def load_input(filename: str) -> tuple[list[tuple[str, str]], str]:\n",
    "    with open(filename) as file:\n",
    "        replacements = []\n",
    "        for line in file:\n",
    "            line = line.strip()\n",
    "            if not line:\n",
    "                break\n",
    "            line = line.split(' => ')\n",
    "            replacements.append(tuple(line))\n",
    "        final = None\n",
    "        for line in file:\n",
    "            assert not final\n",
    "            final = line\n",
    "        return replacements, final.strip('\\r\\n ')\n",
    "\n",
    "REPLACEMENTS, MOLECULE = load_input('data/input19.txt')"
   ],
   "metadata": {
    "collapsed": false
   }
  },
  {
   "cell_type": "code",
   "execution_count": null,
   "outputs": [],
   "source": [
    "REPLACEMENTS"
   ],
   "metadata": {
    "collapsed": false
   }
  },
  {
   "cell_type": "markdown",
   "source": [
    "### Part 1"
   ],
   "metadata": {
    "collapsed": false
   }
  },
  {
   "cell_type": "code",
   "execution_count": null,
   "outputs": [],
   "source": [
    "from collections import defaultdict\n",
    "\n",
    "REPLACEMENTS1 = defaultdict(list)\n",
    "REPLACEMENTS2 = defaultdict(list)\n",
    "for from_element, to_molecule in REPLACEMENTS:\n",
    "    if len(from_element) == 1:\n",
    "        REPLACEMENTS1[from_element].append(to_molecule)\n",
    "    elif len(from_element) == 2:\n",
    "        REPLACEMENTS2[from_element].append(to_molecule)\n",
    "    else:\n",
    "        raise ValueError(f'bad element length: {from_element}')\n",
    "REPLACEMENTS1 = dict(REPLACEMENTS1)\n",
    "REPLACEMENTS2 = dict(REPLACEMENTS2)"
   ],
   "metadata": {
    "collapsed": false
   }
  },
  {
   "cell_type": "code",
   "execution_count": null,
   "outputs": [],
   "source": [
    "def possible_new_molecules(molecule, replacements1, replacements2):\n",
    "\n",
    "    rv = set()\n",
    "\n",
    "    for index in range(len(molecule)):\n",
    "\n",
    "        pre = molecule[:index]\n",
    "        substr1 = molecule[index]\n",
    "        post1 = molecule[index+1:]\n",
    "        if substr1 in replacements1:\n",
    "            for replacement in replacements1[substr1]:\n",
    "                rv.add(pre + replacement + post1)\n",
    "\n",
    "        substr2 = molecule[index:index+2]\n",
    "        if len(substr2) == 2:\n",
    "            post2 = molecule[index+2:]\n",
    "            if substr2 in replacements2:\n",
    "                for replacement in replacements2[substr2]:\n",
    "                    rv.add(pre + replacement + post2)\n",
    "\n",
    "    return rv"
   ],
   "metadata": {
    "collapsed": false
   }
  },
  {
   "cell_type": "code",
   "execution_count": null,
   "outputs": [],
   "source": [
    "result = possible_new_molecules(MOLECULE, REPLACEMENTS1, REPLACEMENTS2)\n",
    "\n",
    "print(f'The number of possible new molecules after 1 replacement is {len(result)}.')"
   ],
   "metadata": {
    "collapsed": false
   }
  },
  {
   "cell_type": "markdown",
   "source": [
    "### Part 2"
   ],
   "metadata": {
    "collapsed": false
   }
  },
  {
   "cell_type": "markdown",
   "source": [
    "Some encoding stuff."
   ],
   "metadata": {
    "collapsed": false
   }
  },
  {
   "cell_type": "code",
   "execution_count": null,
   "outputs": [],
   "source": [
    "MUTABLE_ELEMENTS = set()\n",
    "\n",
    "for k, v in REPLACEMENTS:\n",
    "    if k != 'e':\n",
    "        if len(k) == 1:\n",
    "            MUTABLE_ELEMENTS.add(k)\n",
    "        else:\n",
    "            MUTABLE_ELEMENTS.add(k)\n",
    "MUTABLE_ELEMENTS = sorted(MUTABLE_ELEMENTS)\n",
    "MUTABLE_ELEMENTS = ['e'] + MUTABLE_ELEMENTS\n",
    "\n",
    "LEFTOVERS = set()\n",
    "for _, v in REPLACEMENTS:\n",
    "    for e in MUTABLE_ELEMENTS:\n",
    "        v = v.replace(e, ' ')\n",
    "    v = v.strip()\n",
    "    if v:\n",
    "        LEFTOVERS.add(v)\n",
    "\n",
    "# manually input immutable elements\n",
    "IMMUTABLE_ELEMENTS = ['CRn', 'Rn', 'Ar', 'Y']\n",
    "\n",
    "INDEX_TO_ELEMENT =  MUTABLE_ELEMENTS + IMMUTABLE_ELEMENTS\n",
    "ELEMENT_TO_INDEX = {}\n",
    "for i, e in enumerate(INDEX_TO_ELEMENT):\n",
    "    ELEMENT_TO_INDEX[e] = i\n",
    "\n",
    "def encode(molecule: str) -> tuple[int]:\n",
    "    rv = []\n",
    "    while len(molecule) > 0:\n",
    "        modified = False\n",
    "        for i, e in enumerate(INDEX_TO_ELEMENT):\n",
    "            if not modified:\n",
    "                if molecule.startswith(e):\n",
    "                    molecule = molecule[len(e):]\n",
    "                    rv.append(i)\n",
    "                    modified = True\n",
    "    return tuple(rv)\n",
    "\n",
    "def decode(encoding: tuple[int]) -> str:\n",
    "    rv = ''\n",
    "    for e in encoding:\n",
    "        rv += INDEX_TO_ELEMENT[e]\n",
    "    return rv"
   ],
   "metadata": {
    "collapsed": false
   }
  },
  {
   "cell_type": "markdown",
   "source": [
    "Encode the start and end."
   ],
   "metadata": {
    "collapsed": false
   }
  },
  {
   "cell_type": "code",
   "execution_count": null,
   "outputs": [],
   "source": [
    "ENCODED_START_POINT = encode('e')\n",
    "assert decode(ENCODED_START_POINT) == 'e'\n",
    "\n",
    "ENCODED_END_POINT = encode(MOLECULE)\n",
    "assert decode(ENCODED_END_POINT) == MOLECULE"
   ],
   "metadata": {
    "collapsed": false
   }
  },
  {
   "cell_type": "markdown",
   "source": [
    "Encode the replacements forward and backward."
   ],
   "metadata": {
    "collapsed": false
   }
  },
  {
   "cell_type": "code",
   "execution_count": null,
   "outputs": [],
   "source": [
    "ENCODED_FORWARD_REPLACEMENTS = {}\n",
    "ENCODED_BACKWARD_REPLACEMENTS = {}\n",
    "\n",
    "for from_element, to_molecule in REPLACEMENTS:\n",
    "    encoded_from_element = encode(from_element)\n",
    "    assert len(encoded_from_element) == 1\n",
    "    encoded_from_element ,= encoded_from_element\n",
    "    encoded_to_molecule = encode(to_molecule)\n",
    "    if encoded_from_element not in ENCODED_FORWARD_REPLACEMENTS:\n",
    "        ENCODED_FORWARD_REPLACEMENTS[encoded_from_element] = set()\n",
    "    ENCODED_FORWARD_REPLACEMENTS[encoded_from_element].add(encoded_to_molecule)\n",
    "    if encoded_to_molecule not in ENCODED_BACKWARD_REPLACEMENTS:\n",
    "        ENCODED_BACKWARD_REPLACEMENTS[encoded_to_molecule] = set()\n",
    "    ENCODED_BACKWARD_REPLACEMENTS[encoded_to_molecule].add(encoded_from_element)\n",
    "\n",
    "for k, v in list(ENCODED_BACKWARD_REPLACEMENTS.items()):\n",
    "    assert len(v) == 1\n",
    "    ENCODED_BACKWARD_REPLACEMENTS[k] = list(v)[0]"
   ],
   "metadata": {
    "collapsed": false
   }
  },
  {
   "cell_type": "code",
   "execution_count": null,
   "outputs": [],
   "source": [
    "ENCODED_FORWARD_REPLACEMENTS"
   ],
   "metadata": {
    "collapsed": false
   }
  },
  {
   "cell_type": "code",
   "execution_count": null,
   "outputs": [],
   "source": [
    "ENCODED_BACKWARD_REPLACEMENTS"
   ],
   "metadata": {
    "collapsed": false
   }
  },
  {
   "cell_type": "code",
   "execution_count": null,
   "outputs": [],
   "source": [
    "def has_collision(set_1: set[tuple[int]], set_2: set[tuple[int]]) -> bool:\n",
    "    return False  # TODO\n",
    "\n",
    "\n",
    "def advance_forward(current_forward_depth: int,\n",
    "                    current_forward_lower_depth_strings: set[tuple[int]],\n",
    "                    current_forward_string: set[tuple[int]]) -> int:\n",
    "    print('advancing forward')\n",
    "    return current_forward_depth + 1 # TODO\n",
    "\n",
    "\n",
    "def advance_backward(current_backward_depth: int,\n",
    "                     current_backward_lower_depth_strings: set[tuple[int]],\n",
    "                     current_backward_string: set[tuple[int]]) -> int:\n",
    "    print('advancing backward')\n",
    "    return current_backward_depth + 1 # TODO\n",
    "\n",
    "\n",
    "def solve_part_2(encoded_start_point: tuple[int], encoded_end_point: tuple[int]) -> int:\n",
    "\n",
    "    print(f'start point is = {encoded_start_point}')\n",
    "    print(f'end point is = {encoded_end_point}')\n",
    "\n",
    "    current_forward_depth = 0\n",
    "    current_backward_depth = 0\n",
    "\n",
    "    # check if already solved\n",
    "    if encoded_start_point == encoded_end_point:\n",
    "        return current_forward_depth + current_backward_depth # will be 0 if doing nothing\n",
    "\n",
    "    current_forward_lower_depth_strings = set() # non yet by definition, we are at zero\n",
    "    current_forward_string = {encoded_start_point} # only one for now\n",
    "\n",
    "    current_backward_lower_depth_strings = set() # non yet by definition, we are at zero\n",
    "    current_backward_string = {encoded_end_point} # only one for now\n",
    "\n",
    "    # since ENCODED_START_POINT != ENCODED_END_POINT, we can't have collision yet\n",
    "    assert not has_collision(current_forward_string, current_backward_string)\n",
    "\n",
    "    while not has_collision(current_forward_string, current_backward_string):\n",
    "\n",
    "        # forward depth is less (or equal), advance forward\n",
    "        if current_forward_depth <= current_backward_depth:\n",
    "\n",
    "            current_forward_depth = advance_forward(current_forward_depth, current_forward_lower_depth_strings, current_forward_string)\n",
    "\n",
    "        # backward depth is less, advance backward\n",
    "        else:\n",
    "\n",
    "            current_backward_depth = advance_backward(current_backward_depth, current_backward_lower_depth_strings, current_backward_string)\n",
    "\n",
    "\n",
    "    # TODO"
   ],
   "metadata": {
    "collapsed": false
   }
  },
  {
   "cell_type": "code",
   "execution_count": null,
   "outputs": [],
   "source": [
    "solve_part_2(ENCODED_START_POINT, ENCODED_END_POINT)"
   ],
   "metadata": {
    "collapsed": false
   }
  },
  {
   "cell_type": "code",
   "execution_count": null,
   "outputs": [],
   "source": [],
   "metadata": {
    "collapsed": false
   }
  },
  {
   "cell_type": "code",
   "execution_count": null,
   "outputs": [],
   "source": [],
   "metadata": {
    "collapsed": false
   }
  }
 ],
 "metadata": {
  "kernelspec": {
   "display_name": "Python 3",
   "language": "python",
   "name": "python3"
  },
  "language_info": {
   "codemirror_mode": {
    "name": "ipython",
    "version": 2
   },
   "file_extension": ".py",
   "mimetype": "text/x-python",
   "name": "python",
   "nbconvert_exporter": "python",
   "pygments_lexer": "ipython2",
   "version": "2.7.6"
  }
 },
 "nbformat": 4,
 "nbformat_minor": 0
}
