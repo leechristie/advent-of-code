{
 "cells": [
  {
   "cell_type": "markdown",
   "source": [
    "# Advent of Code 2015\n",
    "\n",
    "## Day 19: Medicine for Rudolph (PART 2 UNFINISHED)\n",
    "\n",
    "Solution code by [leechristie](https://github.com/leechristie) for Advent of Code 2015."
   ],
   "metadata": {
    "collapsed": false
   }
  },
  {
   "cell_type": "code",
   "execution_count": 1,
   "outputs": [],
   "source": [
    "import random\n",
    "import time\n",
    "\n",
    "\n",
    "def load_input(filename: str) -> tuple[list[tuple[str, str]], str]:\n",
    "    with open(filename) as file:\n",
    "        replacements = []\n",
    "        for line in file:\n",
    "            line = line.strip()\n",
    "            if not line:\n",
    "                break\n",
    "            line = line.split(' => ')\n",
    "            replacements.append(tuple(line))\n",
    "        final = None\n",
    "        for line in file:\n",
    "            assert not final\n",
    "            final = line\n",
    "        return replacements, final.strip('\\r\\n ')\n",
    "\n",
    "REPLACEMENTS, MOLECULE = load_input('data/input19.txt')"
   ],
   "metadata": {
    "collapsed": false
   }
  },
  {
   "cell_type": "code",
   "execution_count": 2,
   "outputs": [
    {
     "data": {
      "text/plain": "[('Al', 'ThF'),\n ('Al', 'ThRnFAr'),\n ('B', 'BCa'),\n ('B', 'TiB'),\n ('B', 'TiRnFAr'),\n ('Ca', 'CaCa'),\n ('Ca', 'PB'),\n ('Ca', 'PRnFAr'),\n ('Ca', 'SiRnFYFAr'),\n ('Ca', 'SiRnMgAr'),\n ('Ca', 'SiTh'),\n ('F', 'CaF'),\n ('F', 'PMg'),\n ('F', 'SiAl'),\n ('H', 'CRnAlAr'),\n ('H', 'CRnFYFYFAr'),\n ('H', 'CRnFYMgAr'),\n ('H', 'CRnMgYFAr'),\n ('H', 'HCa'),\n ('H', 'NRnFYFAr'),\n ('H', 'NRnMgAr'),\n ('H', 'NTh'),\n ('H', 'OB'),\n ('H', 'ORnFAr'),\n ('Mg', 'BF'),\n ('Mg', 'TiMg'),\n ('N', 'CRnFAr'),\n ('N', 'HSi'),\n ('O', 'CRnFYFAr'),\n ('O', 'CRnMgAr'),\n ('O', 'HP'),\n ('O', 'NRnFAr'),\n ('O', 'OTi'),\n ('P', 'CaP'),\n ('P', 'PTi'),\n ('P', 'SiRnFAr'),\n ('Si', 'CaSi'),\n ('Th', 'ThCa'),\n ('Ti', 'BP'),\n ('Ti', 'TiTi'),\n ('e', 'HF'),\n ('e', 'NAl'),\n ('e', 'OMg')]"
     },
     "execution_count": 2,
     "metadata": {},
     "output_type": "execute_result"
    }
   ],
   "source": [
    "REPLACEMENTS"
   ],
   "metadata": {
    "collapsed": false
   }
  },
  {
   "cell_type": "markdown",
   "source": [
    "### Part 1"
   ],
   "metadata": {
    "collapsed": false
   }
  },
  {
   "cell_type": "code",
   "execution_count": 3,
   "outputs": [],
   "source": [
    "from collections import defaultdict\n",
    "\n",
    "REPLACEMENTS1 = defaultdict(list)\n",
    "REPLACEMENTS2 = defaultdict(list)\n",
    "for from_element, to_molecule in REPLACEMENTS:\n",
    "    if len(from_element) == 1:\n",
    "        REPLACEMENTS1[from_element].append(to_molecule)\n",
    "    elif len(from_element) == 2:\n",
    "        REPLACEMENTS2[from_element].append(to_molecule)\n",
    "    else:\n",
    "        raise ValueError(f'bad element length: {from_element}')\n",
    "REPLACEMENTS1 = dict(REPLACEMENTS1)\n",
    "REPLACEMENTS2 = dict(REPLACEMENTS2)"
   ],
   "metadata": {
    "collapsed": false
   }
  },
  {
   "cell_type": "code",
   "execution_count": 4,
   "outputs": [],
   "source": [
    "def possible_new_molecules(molecule, replacements1, replacements2):\n",
    "\n",
    "    rv = set()\n",
    "\n",
    "    for index in range(len(molecule)):\n",
    "\n",
    "        pre = molecule[:index]\n",
    "        substr1 = molecule[index]\n",
    "        post1 = molecule[index+1:]\n",
    "        if substr1 in replacements1:\n",
    "            for replacement in replacements1[substr1]:\n",
    "                rv.add(pre + replacement + post1)\n",
    "\n",
    "        substr2 = molecule[index:index+2]\n",
    "        if len(substr2) == 2:\n",
    "            post2 = molecule[index+2:]\n",
    "            if substr2 in replacements2:\n",
    "                for replacement in replacements2[substr2]:\n",
    "                    rv.add(pre + replacement + post2)\n",
    "\n",
    "    return rv"
   ],
   "metadata": {
    "collapsed": false
   }
  },
  {
   "cell_type": "code",
   "execution_count": 5,
   "outputs": [
    {
     "name": "stdout",
     "output_type": "stream",
     "text": [
      "The number of possible new molecules after 1 replacement is 518.\n"
     ]
    }
   ],
   "source": [
    "result = possible_new_molecules(MOLECULE, REPLACEMENTS1, REPLACEMENTS2)\n",
    "\n",
    "print(f'The number of possible new molecules after 1 replacement is {len(result)}.')"
   ],
   "metadata": {
    "collapsed": false
   }
  },
  {
   "cell_type": "markdown",
   "source": [
    "### Part 2"
   ],
   "metadata": {
    "collapsed": false
   }
  },
  {
   "cell_type": "markdown",
   "source": [
    "Some encoding stuff."
   ],
   "metadata": {
    "collapsed": false
   }
  },
  {
   "cell_type": "code",
   "execution_count": 6,
   "outputs": [],
   "source": [
    "MUTABLE_ELEMENTS = set()\n",
    "\n",
    "for k, v in REPLACEMENTS:\n",
    "    if k != 'e':\n",
    "        if len(k) == 1:\n",
    "            MUTABLE_ELEMENTS.add(k)\n",
    "        else:\n",
    "            MUTABLE_ELEMENTS.add(k)\n",
    "MUTABLE_ELEMENTS = sorted(MUTABLE_ELEMENTS)\n",
    "MUTABLE_ELEMENTS = ['e'] + MUTABLE_ELEMENTS\n",
    "\n",
    "LEFTOVERS = set()\n",
    "for _, v in REPLACEMENTS:\n",
    "    for e in MUTABLE_ELEMENTS:\n",
    "        v = v.replace(e, ' ')\n",
    "    v = v.strip()\n",
    "    if v:\n",
    "        LEFTOVERS.add(v)\n",
    "\n",
    "# manually input immutable elements\n",
    "IMMUTABLE_ELEMENTS = ['CRn', 'Rn', 'Ar', 'Y']\n",
    "\n",
    "INDEX_TO_ELEMENT =  MUTABLE_ELEMENTS + IMMUTABLE_ELEMENTS\n",
    "ELEMENT_TO_INDEX = {}\n",
    "for i, e in enumerate(INDEX_TO_ELEMENT):\n",
    "    ELEMENT_TO_INDEX[e] = i\n",
    "\n",
    "def encode(molecule: str) -> tuple[int]:\n",
    "    rv = []\n",
    "    while len(molecule) > 0:\n",
    "        modified = False\n",
    "        for i, e in enumerate(INDEX_TO_ELEMENT):\n",
    "            if not modified:\n",
    "                if molecule.startswith(e):\n",
    "                    molecule = molecule[len(e):]\n",
    "                    rv.append(i)\n",
    "                    modified = True\n",
    "    return tuple(rv)\n",
    "\n",
    "def decode(encoding: tuple[int]) -> str:\n",
    "    rv = ''\n",
    "    for e in encoding:\n",
    "        rv += INDEX_TO_ELEMENT[e]\n",
    "    return rv"
   ],
   "metadata": {
    "collapsed": false
   }
  },
  {
   "cell_type": "markdown",
   "source": [
    "Encode the start and end."
   ],
   "metadata": {
    "collapsed": false
   }
  },
  {
   "cell_type": "code",
   "execution_count": 7,
   "outputs": [],
   "source": [
    "ENCODED_START_POINT = encode('e')\n",
    "assert decode(ENCODED_START_POINT) == 'e'\n",
    "\n",
    "ENCODED_END_POINT = encode(MOLECULE)\n",
    "assert decode(ENCODED_END_POINT) == MOLECULE"
   ],
   "metadata": {
    "collapsed": false
   }
  },
  {
   "cell_type": "markdown",
   "source": [
    "Encode the replacements forward and backward."
   ],
   "metadata": {
    "collapsed": false
   }
  },
  {
   "cell_type": "code",
   "execution_count": 8,
   "outputs": [],
   "source": [
    "ENCODED_FORWARD_REPLACEMENTS = {}\n",
    "ENCODED_BACKWARD_REPLACEMENTS = {}\n",
    "\n",
    "for from_element, to_molecule in REPLACEMENTS:\n",
    "    encoded_from_element = encode(from_element)\n",
    "    assert len(encoded_from_element) == 1\n",
    "    encoded_from_element ,= encoded_from_element\n",
    "    encoded_to_molecule = encode(to_molecule)\n",
    "    if encoded_from_element not in ENCODED_FORWARD_REPLACEMENTS:\n",
    "        ENCODED_FORWARD_REPLACEMENTS[encoded_from_element] = set()\n",
    "    ENCODED_FORWARD_REPLACEMENTS[encoded_from_element].add(encoded_to_molecule)\n",
    "    if encoded_to_molecule not in ENCODED_BACKWARD_REPLACEMENTS:\n",
    "        ENCODED_BACKWARD_REPLACEMENTS[encoded_to_molecule] = set()\n",
    "    ENCODED_BACKWARD_REPLACEMENTS[encoded_to_molecule].add(encoded_from_element)\n",
    "\n",
    "for k, v in list(ENCODED_BACKWARD_REPLACEMENTS.items()):\n",
    "    assert len(v) == 1\n",
    "    ENCODED_BACKWARD_REPLACEMENTS[k] = list(v)[0]"
   ],
   "metadata": {
    "collapsed": false
   }
  },
  {
   "cell_type": "code",
   "execution_count": 9,
   "outputs": [
    {
     "data": {
      "text/plain": "{1: {(11, 4), (11, 14, 4, 15)},\n 2: {(2, 3), (12, 2), (12, 14, 4, 15)},\n 3: {(3, 3),\n  (9, 2),\n  (9, 14, 4, 15),\n  (10, 11),\n  (10, 14, 4, 16, 4, 15),\n  (10, 14, 6, 15)},\n 4: {(3, 4), (9, 6), (10, 1)},\n 5: {(5, 3),\n  (7, 11),\n  (7, 14, 4, 16, 4, 15),\n  (7, 14, 6, 15),\n  (8, 2),\n  (8, 14, 4, 15),\n  (13, 1, 15),\n  (13, 4, 16, 4, 16, 4, 15),\n  (13, 4, 16, 6, 15),\n  (13, 6, 16, 4, 15)},\n 6: {(2, 4), (12, 6)},\n 7: {(5, 10), (13, 4, 15)},\n 8: {(5, 9), (7, 14, 4, 15), (8, 12), (13, 4, 16, 4, 15), (13, 6, 15)},\n 9: {(3, 9), (9, 12), (10, 14, 4, 15)},\n 10: {(3, 10)},\n 11: {(11, 3)},\n 12: {(2, 9), (12, 12)},\n 0: {(5, 4), (7, 1), (8, 6)}}"
     },
     "execution_count": 9,
     "metadata": {},
     "output_type": "execute_result"
    }
   ],
   "source": [
    "ENCODED_FORWARD_REPLACEMENTS"
   ],
   "metadata": {
    "collapsed": false
   }
  },
  {
   "cell_type": "code",
   "execution_count": 10,
   "outputs": [
    {
     "data": {
      "text/plain": "{(11, 4): 1,\n (11, 14, 4, 15): 1,\n (2, 3): 2,\n (12, 2): 2,\n (12, 14, 4, 15): 2,\n (3, 3): 3,\n (9, 2): 3,\n (9, 14, 4, 15): 3,\n (10, 14, 4, 16, 4, 15): 3,\n (10, 14, 6, 15): 3,\n (10, 11): 3,\n (3, 4): 4,\n (9, 6): 4,\n (10, 1): 4,\n (13, 1, 15): 5,\n (13, 4, 16, 4, 16, 4, 15): 5,\n (13, 4, 16, 6, 15): 5,\n (13, 6, 16, 4, 15): 5,\n (5, 3): 5,\n (7, 14, 4, 16, 4, 15): 5,\n (7, 14, 6, 15): 5,\n (7, 11): 5,\n (8, 2): 5,\n (8, 14, 4, 15): 5,\n (2, 4): 6,\n (12, 6): 6,\n (13, 4, 15): 7,\n (5, 10): 7,\n (13, 4, 16, 4, 15): 8,\n (13, 6, 15): 8,\n (5, 9): 8,\n (7, 14, 4, 15): 8,\n (8, 12): 8,\n (3, 9): 9,\n (9, 12): 9,\n (10, 14, 4, 15): 9,\n (3, 10): 10,\n (11, 3): 11,\n (2, 9): 12,\n (12, 12): 12,\n (5, 4): 0,\n (7, 1): 0,\n (8, 6): 0}"
     },
     "execution_count": 10,
     "metadata": {},
     "output_type": "execute_result"
    }
   ],
   "source": [
    "ENCODED_BACKWARD_REPLACEMENTS"
   ],
   "metadata": {
    "collapsed": false
   }
  },
  {
   "cell_type": "code",
   "execution_count": 11,
   "outputs": [],
   "source": [
    "def has_collision(set_1: set[tuple[int]], set_2: set[tuple[int]]) -> bool:\n",
    "    for x in set_1:\n",
    "        if x in set_2:\n",
    "            return True\n",
    "    return False\n",
    "\n",
    "\n",
    "def advance_forward(current_forward_depth: int,\n",
    "                    current_forward_lower_or_equal_depth_strings: set[tuple[int]],\n",
    "                    current_forward_string: set[tuple[int]]) -> int:\n",
    "    print(f'advancing forward from depth {current_forward_depth} to depth {current_forward_depth + 1}, front size is {len(current_forward_string)}')\n",
    "    new_forward_string = set()\n",
    "    for current in current_forward_string:\n",
    "        for index, value in enumerate(current):\n",
    "            if value in ENCODED_FORWARD_REPLACEMENTS:\n",
    "                for replacement in ENCODED_FORWARD_REPLACEMENTS[value]:\n",
    "                    new_value = current[:index] + replacement + current[index+1:]\n",
    "                    #print(f'replace {value} at index {index} of {current} with {replacement} to make {new_value}')\n",
    "                    if new_value not in current_forward_lower_or_equal_depth_strings:\n",
    "                        current_forward_lower_or_equal_depth_strings.add(new_value)\n",
    "                        new_forward_string.add(new_value)\n",
    "    current_forward_string.clear()\n",
    "    current_forward_string.update(new_forward_string)\n",
    "    return current_forward_depth + 1\n",
    "\n",
    "\n",
    "def advance_backward(current_backward_depth: int,\n",
    "                     current_backward_lower_or_equal_depth_strings: set[tuple[int]],\n",
    "                     current_backward_string: set[tuple[int]]) -> int:\n",
    "    print(f'advancing backward from depth {current_backward_depth} to depth {current_backward_depth + 1}, front size is {len(current_backward_string)}')\n",
    "    new_backward_string = set()\n",
    "    for current in current_backward_string:\n",
    "        for index in range(len(current)):\n",
    "            for match, replacement in ENCODED_BACKWARD_REPLACEMENTS.items():\n",
    "                if current[index:index+len(match)] == match:\n",
    "                    new_value = current[:index] + (replacement, ) + current[index+len(match):]\n",
    "                    #print(f'replace {match} at index {index} of {current} with {replacement} to make {new_value}')\n",
    "                    if new_value not in current_backward_lower_or_equal_depth_strings:\n",
    "                        current_backward_lower_or_equal_depth_strings.add(new_value)\n",
    "                        new_backward_string.add(new_value)\n",
    "    current_backward_string.clear()\n",
    "    current_backward_string.update(new_backward_string)\n",
    "    return current_backward_depth + 1"
   ],
   "metadata": {
    "collapsed": false
   }
  },
  {
   "cell_type": "code",
   "execution_count": 12,
   "outputs": [
    {
     "name": "stdout",
     "output_type": "stream",
     "text": [
      "start point is = (0,)\n",
      "end point is = (13, 10, 14, 3, 9, 12, 6, 16, 3, 9, 12, 14, 4, 15, 10, 11, 4, 15, 3, 10, 11, 10, 11, 9, 2, 3, 3, 10, 14, 10, 14, 12, 12, 6, 15, 9, 2, 3, 9, 6, 16, 9, 12, 14, 4, 15, 4, 15, 3, 10, 14, 2, 9, 6, 15, 9, 14, 3, 9, 12, 14, 4, 15, 3, 10, 11, 3, 3, 4, 15, 9, 2, 3, 3, 9, 12, 12, 14, 4, 15, 3, 10, 14, 10, 1, 16, 10, 11, 14, 4, 15, 15, 3, 10, 14, 2, 4, 15, 3, 3, 10, 14, 10, 11, 3, 3, 3, 4, 16, 3, 9, 12, 2, 3, 10, 11, 3, 10, 11, 9, 6, 15, 10, 14, 3, 9, 2, 4, 16, 3, 3, 4, 15, 3, 3, 3, 3, 10, 11, 3, 10, 14, 9, 14, 4, 15, 9, 2, 10, 11, 9, 14, 4, 15, 10, 14, 6, 15, 3, 4, 16, 4, 15, 3, 10, 14, 10, 1, 15, 12, 12, 12, 12, 12, 12, 12, 14, 9, 6, 15, 9, 12, 12, 12, 2, 10, 14, 10, 1, 15, 12, 12, 14, 9, 6, 15, 3, 4, 16, 2, 9, 2, 9, 12, 14, 10, 14, 6, 15, 10, 11, 3, 4, 15, 3, 10, 11, 4, 15, 9, 14, 4, 15, 3, 10, 14, 12, 2, 10, 11, 10, 14, 10, 1, 16, 3, 4, 15, 9, 14, 4, 15, 10, 11, 3, 4, 15, 3, 3, 10, 11, 3, 3, 3, 10, 14, 9, 14, 3, 4, 15, 4, 16, 9, 6, 15, 3, 9, 2, 3, 9, 2, 10, 14, 4, 16, 9, 2, 3, 4, 15, 3, 10, 1)\n",
      "advancing forward from depth 0 to depth 1, front size is 1\n",
      "advancing backward from depth 0 to depth 1, front size is 1\n",
      "advancing forward from depth 1 to depth 2, front size is 3\n",
      "advancing backward from depth 1 to depth 2, front size is 101\n",
      "advancing forward from depth 2 to depth 3, front size is 18\n",
      "advancing backward from depth 2 to depth 3, front size is 5076\n"
     ]
    },
    {
     "ename": "KeyboardInterrupt",
     "evalue": "",
     "output_type": "error",
     "traceback": [
      "\u001B[0;31m---------------------------------------------------------------------------\u001B[0m",
      "\u001B[0;31mKeyboardInterrupt\u001B[0m                         Traceback (most recent call last)",
      "Input \u001B[0;32mIn [12]\u001B[0m, in \u001B[0;36m<cell line: 36>\u001B[0;34m()\u001B[0m\n\u001B[1;32m     29\u001B[0m         \u001B[38;5;66;03m# backward depth is less, advance backward\u001B[39;00m\n\u001B[1;32m     30\u001B[0m         \u001B[38;5;28;01melse\u001B[39;00m:\n\u001B[1;32m     32\u001B[0m             current_backward_depth \u001B[38;5;241m=\u001B[39m advance_backward(current_backward_depth, current_backward_lower_depth_strings, current_backward_string)\n\u001B[0;32m---> 36\u001B[0m \u001B[43msolve_part_2\u001B[49m\u001B[43m(\u001B[49m\u001B[43mENCODED_START_POINT\u001B[49m\u001B[43m,\u001B[49m\u001B[43m \u001B[49m\u001B[43mENCODED_END_POINT\u001B[49m\u001B[43m)\u001B[49m\n",
      "Input \u001B[0;32mIn [12]\u001B[0m, in \u001B[0;36msolve_part_2\u001B[0;34m(encoded_start_point, encoded_end_point)\u001B[0m\n\u001B[1;32m     27\u001B[0m     current_forward_depth \u001B[38;5;241m=\u001B[39m advance_forward(current_forward_depth, current_forward_lower_depth_strings, current_forward_string)\n\u001B[1;32m     29\u001B[0m \u001B[38;5;66;03m# backward depth is less, advance backward\u001B[39;00m\n\u001B[1;32m     30\u001B[0m \u001B[38;5;28;01melse\u001B[39;00m:\n\u001B[0;32m---> 32\u001B[0m     current_backward_depth \u001B[38;5;241m=\u001B[39m \u001B[43madvance_backward\u001B[49m\u001B[43m(\u001B[49m\u001B[43mcurrent_backward_depth\u001B[49m\u001B[43m,\u001B[49m\u001B[43m \u001B[49m\u001B[43mcurrent_backward_lower_depth_strings\u001B[49m\u001B[43m,\u001B[49m\u001B[43m \u001B[49m\u001B[43mcurrent_backward_string\u001B[49m\u001B[43m)\u001B[49m\n",
      "Input \u001B[0;32mIn [11]\u001B[0m, in \u001B[0;36madvance_backward\u001B[0;34m(current_backward_depth, current_backward_lower_or_equal_depth_strings, current_backward_string)\u001B[0m\n\u001B[1;32m     36\u001B[0m new_value \u001B[38;5;241m=\u001B[39m current[:index] \u001B[38;5;241m+\u001B[39m (replacement, ) \u001B[38;5;241m+\u001B[39m current[index\u001B[38;5;241m+\u001B[39m\u001B[38;5;28mlen\u001B[39m(match):]\n\u001B[1;32m     37\u001B[0m \u001B[38;5;66;03m#print(f'replace {match} at index {index} of {current} with {replacement} to make {new_value}')\u001B[39;00m\n\u001B[0;32m---> 38\u001B[0m \u001B[38;5;28;01mif\u001B[39;00m new_value \u001B[38;5;129;01mnot\u001B[39;00m \u001B[38;5;129;01min\u001B[39;00m current_backward_lower_or_equal_depth_strings:\n\u001B[1;32m     39\u001B[0m     current_backward_lower_or_equal_depth_strings\u001B[38;5;241m.\u001B[39madd(new_value)\n\u001B[1;32m     40\u001B[0m     new_backward_string\u001B[38;5;241m.\u001B[39madd(new_value)\n",
      "\u001B[0;31mKeyboardInterrupt\u001B[0m: "
     ]
    }
   ],
   "source": [
    "def solve_part_2(encoded_start_point: tuple[int], encoded_end_point: tuple[int]) -> int:\n",
    "\n",
    "    print(f'start point is = {encoded_start_point}')\n",
    "    print(f'end point is = {encoded_end_point}')\n",
    "\n",
    "    current_forward_depth = 0\n",
    "    current_backward_depth = 0\n",
    "\n",
    "    # check if already solved\n",
    "    if encoded_start_point == encoded_end_point:\n",
    "        return current_forward_depth + current_backward_depth # will be 0 if doing nothing\n",
    "\n",
    "    current_forward_lower_depth_strings = set() # non yet by definition, we are at zero\n",
    "    current_forward_string = {encoded_start_point} # only one for now\n",
    "\n",
    "    current_backward_lower_depth_strings = set() # non yet by definition, we are at zero\n",
    "    current_backward_string = {encoded_end_point} # only one for now\n",
    "\n",
    "    # since ENCODED_START_POINT != ENCODED_END_POINT, we can't have collision yet\n",
    "    assert not has_collision(current_forward_string, current_backward_string)\n",
    "\n",
    "    while not has_collision(current_forward_string, current_backward_string):\n",
    "\n",
    "        # forward depth is less (or equal), advance forward\n",
    "        if current_forward_depth <= current_backward_depth:\n",
    "\n",
    "            current_forward_depth = advance_forward(current_forward_depth, current_forward_lower_depth_strings, current_forward_string)\n",
    "\n",
    "        # backward depth is less, advance backward\n",
    "        else:\n",
    "\n",
    "            current_backward_depth = advance_backward(current_backward_depth, current_backward_lower_depth_strings, current_backward_string)\n",
    "\n",
    "\n",
    "\n",
    "solve_part_2(ENCODED_START_POINT, ENCODED_END_POINT)"
   ],
   "metadata": {
    "collapsed": false
   }
  },
  {
   "cell_type": "code",
   "execution_count": null,
   "outputs": [],
   "source": [
    "print(f'start point is = {ENCODED_START_POINT}')\n",
    "\n",
    "current_forward_depth = 0\n",
    "\n",
    "current_forward_lower_depth_strings = set() # non yet by definition, we are at zero\n",
    "current_forward_string = {ENCODED_START_POINT} # only one for now\n",
    "\n",
    "while True:\n",
    "\n",
    "    current_forward_depth = advance_forward(current_forward_depth, current_forward_lower_depth_strings, current_forward_string)"
   ],
   "metadata": {
    "collapsed": false
   }
  },
  {
   "cell_type": "markdown",
   "source": [
    "Can go about 10 steps forward from start and about 4 steps backward from end."
   ],
   "metadata": {
    "collapsed": false
   }
  },
  {
   "cell_type": "code",
   "execution_count": 24,
   "outputs": [
    {
     "name": "stdout",
     "output_type": "stream",
     "text": [
      "addForward(1, new int[] {11, 14, 4, 15})\n",
      "addForward(1, new int[] {11, 4})\n",
      "addForward(2, new int[] {2, 3})\n",
      "addForward(2, new int[] {12, 14, 4, 15})\n",
      "addForward(2, new int[] {12, 2})\n",
      "addForward(3, new int[] {10, 11})\n",
      "addForward(3, new int[] {10, 14, 4, 16, 4, 15})\n",
      "addForward(3, new int[] {9, 2})\n",
      "addForward(3, new int[] {3, 3})\n",
      "addForward(3, new int[] {10, 14, 6, 15})\n",
      "addForward(3, new int[] {9, 14, 4, 15})\n",
      "addForward(4, new int[] {9, 6})\n",
      "addForward(4, new int[] {10, 1})\n",
      "addForward(4, new int[] {3, 4})\n",
      "addForward(5, new int[] {8, 14, 4, 15})\n",
      "addForward(5, new int[] {13, 4, 16, 6, 15})\n",
      "addForward(5, new int[] {7, 14, 4, 16, 4, 15})\n",
      "addForward(5, new int[] {7, 14, 6, 15})\n",
      "addForward(5, new int[] {13, 6, 16, 4, 15})\n",
      "addForward(5, new int[] {5, 3})\n",
      "addForward(5, new int[] {8, 2})\n",
      "addForward(5, new int[] {7, 11})\n",
      "addForward(5, new int[] {13, 4, 16, 4, 16, 4, 15})\n",
      "addForward(5, new int[] {13, 1, 15})\n",
      "addForward(6, new int[] {12, 6})\n",
      "addForward(6, new int[] {2, 4})\n",
      "addForward(7, new int[] {5, 10})\n",
      "addForward(7, new int[] {13, 4, 15})\n",
      "addForward(8, new int[] {13, 4, 16, 4, 15})\n",
      "addForward(8, new int[] {7, 14, 4, 15})\n",
      "addForward(8, new int[] {8, 12})\n",
      "addForward(8, new int[] {5, 9})\n",
      "addForward(8, new int[] {13, 6, 15})\n",
      "addForward(9, new int[] {9, 12})\n",
      "addForward(9, new int[] {3, 9})\n",
      "addForward(9, new int[] {10, 14, 4, 15})\n",
      "addForward(10, new int[] {3, 10})\n",
      "addForward(11, new int[] {11, 3})\n",
      "addForward(12, new int[] {2, 9})\n",
      "addForward(12, new int[] {12, 12})\n",
      "addForward(0, new int[] {5, 4})\n",
      "addForward(0, new int[] {7, 1})\n",
      "addForward(0, new int[] {8, 6})\n"
     ]
    }
   ],
   "source": [
    "for k, v in ENCODED_FORWARD_REPLACEMENTS.items():\n",
    "    for vv in v:\n",
    "        vvv = ', '.join([str(vvvv) for vvvv in vv])\n",
    "        c = '{'\n",
    "        d = '}'\n",
    "        print(f'addForward({k}, new int[] {c}{vvv}{d})')"
   ],
   "metadata": {
    "collapsed": false
   }
  },
  {
   "cell_type": "code",
   "execution_count": 28,
   "outputs": [
    {
     "name": "stdout",
     "output_type": "stream",
     "text": [
      "addBackward(new int[] {11, 4}, 1);\n",
      "addBackward(new int[] {11, 14, 4, 15}, 1);\n",
      "addBackward(new int[] {2, 3}, 2);\n",
      "addBackward(new int[] {12, 2}, 2);\n",
      "addBackward(new int[] {12, 14, 4, 15}, 2);\n",
      "addBackward(new int[] {3, 3}, 3);\n",
      "addBackward(new int[] {9, 2}, 3);\n",
      "addBackward(new int[] {9, 14, 4, 15}, 3);\n",
      "addBackward(new int[] {10, 14, 4, 16, 4, 15}, 3);\n",
      "addBackward(new int[] {10, 14, 6, 15}, 3);\n",
      "addBackward(new int[] {10, 11}, 3);\n",
      "addBackward(new int[] {3, 4}, 4);\n",
      "addBackward(new int[] {9, 6}, 4);\n",
      "addBackward(new int[] {10, 1}, 4);\n",
      "addBackward(new int[] {13, 1, 15}, 5);\n",
      "addBackward(new int[] {13, 4, 16, 4, 16, 4, 15}, 5);\n",
      "addBackward(new int[] {13, 4, 16, 6, 15}, 5);\n",
      "addBackward(new int[] {13, 6, 16, 4, 15}, 5);\n",
      "addBackward(new int[] {5, 3}, 5);\n",
      "addBackward(new int[] {7, 14, 4, 16, 4, 15}, 5);\n",
      "addBackward(new int[] {7, 14, 6, 15}, 5);\n",
      "addBackward(new int[] {7, 11}, 5);\n",
      "addBackward(new int[] {8, 2}, 5);\n",
      "addBackward(new int[] {8, 14, 4, 15}, 5);\n",
      "addBackward(new int[] {2, 4}, 6);\n",
      "addBackward(new int[] {12, 6}, 6);\n",
      "addBackward(new int[] {13, 4, 15}, 7);\n",
      "addBackward(new int[] {5, 10}, 7);\n",
      "addBackward(new int[] {13, 4, 16, 4, 15}, 8);\n",
      "addBackward(new int[] {13, 6, 15}, 8);\n",
      "addBackward(new int[] {5, 9}, 8);\n",
      "addBackward(new int[] {7, 14, 4, 15}, 8);\n",
      "addBackward(new int[] {8, 12}, 8);\n",
      "addBackward(new int[] {3, 9}, 9);\n",
      "addBackward(new int[] {9, 12}, 9);\n",
      "addBackward(new int[] {10, 14, 4, 15}, 9);\n",
      "addBackward(new int[] {3, 10}, 10);\n",
      "addBackward(new int[] {11, 3}, 11);\n",
      "addBackward(new int[] {2, 9}, 12);\n",
      "addBackward(new int[] {12, 12}, 12);\n",
      "addBackward(new int[] {5, 4}, 0);\n",
      "addBackward(new int[] {7, 1}, 0);\n",
      "addBackward(new int[] {8, 6}, 0);\n"
     ]
    }
   ],
   "source": [
    "for k, v in ENCODED_BACKWARD_REPLACEMENTS.items():\n",
    "    kkk = ', '.join([str(kkkk) for kkkk in k])\n",
    "    c = '{'\n",
    "    d = '}'\n",
    "    print(f'addBackward(new int[] {c}{kkk}{d}, {v});')"
   ],
   "metadata": {
    "collapsed": false
   }
  },
  {
   "cell_type": "code",
   "execution_count": null,
   "outputs": [],
   "source": [],
   "metadata": {
    "collapsed": false
   }
  }
 ],
 "metadata": {
  "kernelspec": {
   "display_name": "Python 3",
   "language": "python",
   "name": "python3"
  },
  "language_info": {
   "codemirror_mode": {
    "name": "ipython",
    "version": 2
   },
   "file_extension": ".py",
   "mimetype": "text/x-python",
   "name": "python",
   "nbconvert_exporter": "python",
   "pygments_lexer": "ipython2",
   "version": "2.7.6"
  }
 },
 "nbformat": 4,
 "nbformat_minor": 0
}
