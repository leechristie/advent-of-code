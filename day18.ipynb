{
 "cells": [
  {
   "cell_type": "markdown",
   "source": [
    "# Advent of Code 2022\n",
    "\n",
    "## Day 18: Boiling Boulders\n",
    "\n",
    "Solution code by [leechristie](https://github.com/leechristie) for Advent of Code 2022.\n",
    "\n",
    "Day 18 was pretty easy, and only took about 20 minutes. The code was messy though, and for part 2 I used a recursion where I had to increase the Python stack size.\n",
    "\n",
    "I re-wrote part 2 to use a deque and while loop. It doesn't really matter if we're using a stack or queue and if it's depth first or breadth first, as the problem is quite simple. Also, explicitly made a class to describe `Point3D` for a point and `Bounds3D` to calculate and check for points in a bounding cuboid. A `margin` parameter expands the box. I think this helps keep the code relatively clear and expressive. I may end up using `Point3D` again if later puzzles have 3D points in them.\n",
    "\n",
    "I also re-wrote the `SpareLavaBlob` class to calculate the total as it goes. When a rock is placed, it's rock value is set to `6` in the rock set and total is increased by `6`. It's neighbours are incremented by `1` in the air set. When a rock is placed where it's air value is not `0`, it's value will be `6` minus air value and total is increased by `6` minus air value. When a rock is placed next to an existing rock, the rock value is decreased by `1` and the total is decreased by `1`. This keeps an invariant of the total equal to the surface area at all time, which can be read in a single operation."
   ],
   "metadata": {
    "collapsed": false
   }
  },
  {
   "cell_type": "markdown",
   "source": [
    "### Imports"
   ],
   "metadata": {
    "collapsed": false
   }
  },
  {
   "cell_type": "code",
   "execution_count": null,
   "outputs": [],
   "source": [
    "from typing import Iterator\n",
    "from collections import Counter, deque"
   ],
   "metadata": {
    "collapsed": false
   }
  },
  {
   "cell_type": "markdown",
   "source": [
    "### 3D Points\n",
    "\n",
    "I used a slightly fancier `Point3D` class today than just a `namedtuple` so I could add a `neighbours` method."
   ],
   "metadata": {
    "collapsed": false
   }
  },
  {
   "cell_type": "code",
   "execution_count": null,
   "outputs": [],
   "source": [
    "class Point3D:\n",
    "\n",
    "    __slots__ = ['__tuple', '__hash', '__str', '__repr']\n",
    "\n",
    "    def __init__(self, *, x: int, y: int, z: int):\n",
    "        self.__tuple = (x, y, z)\n",
    "        self.__hash = hash(self.__tuple)\n",
    "        self.__repr = f'Point3D({x=}, {y=}, {z=})'\n",
    "        self.__str = f'({x}, {y}, {z})'\n",
    "\n",
    "    def __hash__(self):\n",
    "        return self.__hash\n",
    "\n",
    "    def __repr__(self):\n",
    "        return self.__repr\n",
    "\n",
    "    def __str__(self):\n",
    "        return self.__str\n",
    "\n",
    "    def __eq__(self, other):\n",
    "        return type(other) == Point3D and self.__tuple == other.__tuple\n",
    "\n",
    "    @property\n",
    "    def x(self):\n",
    "        return self.__tuple[0]\n",
    "\n",
    "    @property\n",
    "    def y(self):\n",
    "        return self.__tuple[1]\n",
    "\n",
    "    @property\n",
    "    def z(self):\n",
    "        return self.__tuple[2]\n",
    "\n",
    "    def neighbours(self) -> list['Point3D']:\n",
    "        x, y, z = self.__tuple\n",
    "        return [\n",
    "            Point3D(x=x-1, y=y,   z=z),\n",
    "            Point3D(x=x+1, y=y,   z=z),\n",
    "            Point3D(x=x,   y=y-1, z=z),\n",
    "            Point3D(x=x,   y=y+1, z=z),\n",
    "            Point3D(x=x,   y=y,   z=z-1),\n",
    "            Point3D(x=x,   y=y,   z=z+1)\n",
    "        ]"
   ],
   "metadata": {
    "collapsed": false
   }
  },
  {
   "cell_type": "code",
   "execution_count": null,
   "outputs": [],
   "source": [
    "class Bounds3D:\n",
    "\n",
    "    __slots__ = ['x_min', 'x_max', 'y_min', 'y_max', 'z_min', 'z_max']\n",
    "\n",
    "    def __init__(self, *, x_min, x_max, y_min, y_max, z_min, z_max):\n",
    "        self.x_min = x_min\n",
    "        self.x_max = x_max\n",
    "        self.y_min = y_min\n",
    "        self.y_max = y_max\n",
    "        self.z_min = z_min\n",
    "        self.z_max = z_max\n",
    "\n",
    "    def __contains__(self, point: Point3D) -> bool:\n",
    "        if not self.x_min <= point.x <= self.x_max:\n",
    "            return False\n",
    "        if not self.y_min <= point.y <= self.y_max:\n",
    "            return False\n",
    "        if not self.z_min <= point.z <= self.z_max:\n",
    "            return False\n",
    "        return True\n",
    "\n",
    "    def __str__(self):\n",
    "        return f'(x∈[{self.x_min}, {self.x_max}], y∈[{self.y_min}, {self.y_max}], z∈[{self.z_min}, {self.z_max}])'\n",
    "\n",
    "    def __repr__(self):\n",
    "        return f'Bounds3D(x_min={self.x_min}, x_max={self.x_max}, y_min={self.x_min}, y_max={self.x_max}, z_min={self.z_min}, z_max={self.z_max})'\n",
    "\n",
    "    def volume(self):\n",
    "        return (self.x_max - self.x_min + 1) * (self.y_max - self.y_min + 1) * (self.z_max - self.z_min + 1)\n",
    "\n",
    "    @staticmethod\n",
    "    def containing(points: set[Point3D], margin: int = 0) -> 'Bounds3D':\n",
    "        x_min = None\n",
    "        x_max = None\n",
    "        y_min = None\n",
    "        y_max = None\n",
    "        z_min = None\n",
    "        z_max = None\n",
    "        for p in points:\n",
    "            if x_min is None or p.x < x_min:\n",
    "                x_min = p.x\n",
    "            if x_max is None or p.x > x_max:\n",
    "                x_max = p.x\n",
    "            if y_min is None or p.y < y_min:\n",
    "                y_min = p.y\n",
    "            if y_max is None or p.y > y_max:\n",
    "                y_max = p.y\n",
    "            if z_min is None or p.z < z_min:\n",
    "                z_min = p.z\n",
    "            if z_max is None or p.z > z_max:\n",
    "                z_max = p.z\n",
    "        return Bounds3D(x_min=x_min-margin,\n",
    "                        x_max=x_max+margin,\n",
    "                        y_min=y_min-margin,\n",
    "                        y_max=y_max+margin,\n",
    "                        z_min=z_min-margin,\n",
    "                        z_max=z_max+margin)"
   ],
   "metadata": {
    "collapsed": false
   }
  },
  {
   "cell_type": "markdown",
   "source": [
    "### Input Parsing"
   ],
   "metadata": {
    "collapsed": false
   }
  },
  {
   "cell_type": "code",
   "execution_count": null,
   "outputs": [],
   "source": [
    "def read_lines(filename: str) -> Iterator[Point3D]:\n",
    "    with open(filename) as file:\n",
    "        for line in file:\n",
    "            x, y, z = (int(i) for i in line.strip().split(','))\n",
    "            yield Point3D(x=x, y=y, z=z)"
   ],
   "metadata": {
    "collapsed": false
   }
  },
  {
   "cell_type": "markdown",
   "source": [
    "### Sparse Data Structure"
   ],
   "metadata": {
    "collapsed": false
   }
  },
  {
   "cell_type": "code",
   "execution_count": null,
   "outputs": [],
   "source": [
    "class SparseLavaBlob:\n",
    "\n",
    "    __slots__ = ['__rocks', '__air', '__surface_area']\n",
    "\n",
    "    def __init__(self):\n",
    "        self.__rocks: dict[Point3D, int] = {}\n",
    "        self.__air: Counter[Point3D] = Counter()\n",
    "        self.__surface_area = 0\n",
    "\n",
    "    def surface_area(self) -> int:\n",
    "        return self.__surface_area\n",
    "\n",
    "    def rocks(self) -> set[Point3D]:\n",
    "        return set(self.__rocks)\n",
    "\n",
    "    def add(self, location: Point3D) -> None:\n",
    "\n",
    "        if location in self.__rocks:\n",
    "            raise ValueError(f'Duplicate rock: {location}')\n",
    "\n",
    "        # new rock already has existing neighbours\n",
    "        if location in self.__air:\n",
    "\n",
    "            # convert from air to rock\n",
    "            value = 6 - self.__air[location]\n",
    "            del self.__air[location]\n",
    "            self.__rocks[location] = value\n",
    "            self.__surface_area += value\n",
    "\n",
    "        # new rock has no neighbours yet\n",
    "        else:\n",
    "\n",
    "            # add new rock\n",
    "            self.__rocks[location] = 6\n",
    "            self.__surface_area += 6\n",
    "\n",
    "        # update the neighbours\n",
    "        for n in location.neighbours():\n",
    "            if n in self.__rocks:\n",
    "                self.__rocks[n] -= 1\n",
    "                self.__surface_area -= 1\n",
    "            elif n in self.__air:\n",
    "                self.__air[n] += 1\n",
    "            else:\n",
    "                self.__air[n] = 1"
   ],
   "metadata": {
    "collapsed": false
   }
  },
  {
   "cell_type": "markdown",
   "source": [
    "### Pre-Processing"
   ],
   "metadata": {
    "collapsed": false
   }
  },
  {
   "cell_type": "code",
   "execution_count": null,
   "outputs": [],
   "source": [
    "BLOB = SparseLavaBlob()\n",
    "for loc in read_lines('data/input18.txt'):\n",
    "    BLOB.add(loc)"
   ],
   "metadata": {
    "collapsed": false
   }
  },
  {
   "cell_type": "markdown",
   "source": [
    "### Part 1"
   ],
   "metadata": {
    "collapsed": false
   }
  },
  {
   "cell_type": "code",
   "execution_count": null,
   "outputs": [],
   "source": [
    "def main():\n",
    "    global BLOB\n",
    "    print(f'The surface area of the lava blob is {BLOB.surface_area()} units squared.')"
   ],
   "metadata": {
    "collapsed": false
   }
  },
  {
   "cell_type": "code",
   "execution_count": null,
   "outputs": [],
   "source": [
    "if __name__ == '__main__':\n",
    "    main()"
   ],
   "metadata": {
    "collapsed": false
   }
  },
  {
   "cell_type": "markdown",
   "source": [
    "### Part 2"
   ],
   "metadata": {
    "collapsed": false
   }
  },
  {
   "cell_type": "code",
   "execution_count": null,
   "outputs": [],
   "source": [
    "def flood_fill_exterior(blob: SparseLavaBlob) -> set[Point3D]:\n",
    "\n",
    "    # get the rocks and the bounding box with margin 1\n",
    "    rocks = blob.rocks()\n",
    "    bound = Bounds3D.containing(rocks, margin=1)\n",
    "\n",
    "    # setup the queue and visited nodes\n",
    "    visited = set()\n",
    "    queue = deque()\n",
    "    queue.append(Point3D(x=bound.x_min, y=bound.y_min, z=bound.z_min))\n",
    "\n",
    "    # iterative search using dequeue, avoid stack overflow from recursive version\n",
    "    while queue:\n",
    "        location = queue.pop()\n",
    "        if location in bound and location not in rocks and location not in visited:\n",
    "            visited.add(location)\n",
    "            for n in location.neighbours():\n",
    "                queue.append(n)\n",
    "\n",
    "    # visited nodes is the set of points inside the bounding cube, but outside the rocks\n",
    "    return visited"
   ],
   "metadata": {
    "collapsed": false
   }
  },
  {
   "cell_type": "code",
   "execution_count": null,
   "outputs": [],
   "source": [
    "def main():\n",
    "\n",
    "    global BLOB\n",
    "\n",
    "    # run the flood fill algorithm\n",
    "    flood = flood_fill_exterior(BLOB)\n",
    "\n",
    "    # count the neighbouring cubes of rocks which contain exterior flood\n",
    "    total = sum(sum(1 for n in rock.neighbours() if n in flood) for rock in BLOB.rocks())\n",
    "\n",
    "    print(f'The exposed exterior surface area of the lava blob is {total} units squared.')"
   ],
   "metadata": {
    "collapsed": false
   }
  },
  {
   "cell_type": "code",
   "execution_count": null,
   "outputs": [],
   "source": [
    "if __name__ == '__main__':\n",
    "    main()"
   ],
   "metadata": {
    "collapsed": false
   }
  }
 ],
 "metadata": {
  "kernelspec": {
   "display_name": "Python 3",
   "language": "python",
   "name": "python3"
  },
  "language_info": {
   "codemirror_mode": {
    "name": "ipython",
    "version": 2
   },
   "file_extension": ".py",
   "mimetype": "text/x-python",
   "name": "python",
   "nbconvert_exporter": "python",
   "pygments_lexer": "ipython2",
   "version": "2.7.6"
  }
 },
 "nbformat": 4,
 "nbformat_minor": 0
}
