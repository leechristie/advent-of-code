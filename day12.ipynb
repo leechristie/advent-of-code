{
 "cells": [
  {
   "cell_type": "markdown",
   "source": [
    "# Advent of Code 2022\n",
    "\n",
    "## Day 12: Hill Climbing Algorithm\n",
    "\n",
    "Solution code by [leechristie](https://github.com/leechristie) for Advent of Code 2022.\n",
    "\n",
    "I implmented [Dijkstra's shortest path algorithm](https://en.wikipedia.org/wiki/Dijkstra%27s_algorithm). Kinda, I didn't bother with an efficient implementation of a heap and just used a heap based on a sorted list. The graph is small enough that this doesn't matter, but an obvious implement is replacing this with a [binary heap](https://en.wikipedia.org/wiki/Binary_heap) so don't use this code for anything that needs ot be efficient. Also I don't need [A*](https://en.wikipedia.org/wiki/A*_search_algorithm) again because it's small enough, also A* wouldn't have worked for part 2, only part 1.\n",
    "\n",
    "This wasn't difficult to think of since I'm very familiar with using graph search in my day job.\n",
    "\n",
    "In part 2 we don't have a target node but rather a target value, so I added an option to pass either `target`: or `target_height` to the search.\n",
    "\n",
    "Once we get the path, the solution is just the path length - 1."
   ],
   "metadata": {
    "collapsed": false
   }
  },
  {
   "cell_type": "markdown",
   "source": [
    "### Imports"
   ],
   "metadata": {
    "collapsed": false
   }
  },
  {
   "cell_type": "code",
   "execution_count": null,
   "outputs": [],
   "source": [
    "import string\n",
    "import numpy as np\n",
    "from typing import Optional"
   ],
   "metadata": {
    "collapsed": false
   }
  },
  {
   "cell_type": "markdown",
   "source": [
    "### Decoding the File"
   ],
   "metadata": {
    "collapsed": false
   }
  },
  {
   "cell_type": "code",
   "execution_count": null,
   "outputs": [],
   "source": [
    "SYMBOLS = 'S' + string.ascii_lowercase + 'E'\n",
    "\n",
    "def decode_map(filename):\n",
    "    rv = []\n",
    "    with open(filename) as file:\n",
    "        for line in file:\n",
    "            current = []\n",
    "            line = line.strip()\n",
    "            for char in line:\n",
    "                current.append(SYMBOLS.index(char))\n",
    "            rv.append(current)\n",
    "    return np.array(rv)\n",
    "\n",
    "def locate(arr, value):\n",
    "    height, width = arr.shape\n",
    "    for y in range(height):\n",
    "        for x in range(width):\n",
    "            if arr[y,x] == value:\n",
    "                return y, x\n",
    "    raise ValueError(f'{value} not found in arr')"
   ],
   "metadata": {
    "collapsed": false
   }
  },
  {
   "cell_type": "code",
   "execution_count": null,
   "outputs": [],
   "source": [
    "INPUT_FILE = 'data/input12.txt'"
   ],
   "metadata": {
    "collapsed": false
   }
  },
  {
   "cell_type": "markdown",
   "source": [
    "### Finding the Neighbours of a Node"
   ],
   "metadata": {
    "collapsed": false
   }
  },
  {
   "cell_type": "code",
   "execution_count": null,
   "outputs": [],
   "source": [
    "def in_bound(arr, node):\n",
    "    height, width = arr.shape\n",
    "    y, x = node\n",
    "    return 0 <= y < height and 0 <= x < width\n",
    "\n",
    "def unconditional_neighbours(node):\n",
    "    y, x = node\n",
    "    yield y+1, x\n",
    "    yield y-1, x\n",
    "    yield y, x+1\n",
    "    yield y, x-1\n",
    "\n",
    "def neighbours(arr, node):\n",
    "    v = arr[node]\n",
    "    rv = []\n",
    "    for y, x in unconditional_neighbours(node):\n",
    "        if in_bound(arr, (y, x)) and arr[y, x] <= v+1:\n",
    "            rv.append((y, x))\n",
    "    return rv"
   ],
   "metadata": {
    "collapsed": false
   }
  },
  {
   "cell_type": "markdown",
   "source": [
    "### Different Neighbour Function for Part 2\n",
    "\n",
    "Just applies the neighbour rule backwards."
   ],
   "metadata": {
    "collapsed": false
   }
  },
  {
   "cell_type": "code",
   "execution_count": null,
   "outputs": [],
   "source": [
    "def reverse_neighbours(arr, node):\n",
    "    v = arr[node]\n",
    "    rv = []\n",
    "    for y, x in unconditional_neighbours(node):\n",
    "        if in_bound(arr, (y, x)):\n",
    "            to_height = v\n",
    "            from_height = arr[y, x]\n",
    "            if to_height <= from_height + 1:\n",
    "               rv.append((y, x))\n",
    "    return rv"
   ],
   "metadata": {
    "collapsed": false
   }
  },
  {
   "cell_type": "markdown",
   "source": [
    "### Heap\n",
    "\n",
    "Don't use this implementation of a heap in a real application, it's not efficient. Good enough for the puzzle."
   ],
   "metadata": {
    "collapsed": false
   }
  },
  {
   "cell_type": "code",
   "execution_count": null,
   "outputs": [],
   "source": [
    "class Heap:\n",
    "\n",
    "    __slots__ = ['data']\n",
    "\n",
    "    def __init__(self):\n",
    "        self.data = []\n",
    "\n",
    "    def add(self, element: tuple[int, int], key: int):\n",
    "        for k, e in self.data:\n",
    "            if e == element:\n",
    "                raise ValueError(f'duplicate element: {element}')\n",
    "        self.data.append((key, element))\n",
    "        self.data.sort()\n",
    "\n",
    "    def decrease_key(self, element: tuple[int, int], key: int):\n",
    "        index = None\n",
    "        for i, e in enumerate(self.data):\n",
    "            if e[1] == element:\n",
    "                index = i\n",
    "        if index is None:\n",
    "            raise ValueError(f'no such element: {element}')\n",
    "        old_key, _ = self.data[index]\n",
    "        if old_key < key:\n",
    "            raise ValueError(f'cannot increase key for {element} from {old_key} to {key}')\n",
    "        del self.data[index]\n",
    "        self.add(element, key)\n",
    "\n",
    "    def delete_minimum(self):\n",
    "        if not self:\n",
    "            raise ValueError(f'no such element')\n",
    "        _, rv = self.data[0]\n",
    "        del self.data[0]\n",
    "        return rv\n",
    "\n",
    "    def __bool__(self):\n",
    "        return bool(self.data)\n",
    "\n",
    "    def __str__(self):\n",
    "        return '\\n'.join([f'{key}: {element}' for key, element in self.data])\n",
    "\n",
    "    def __repr__(self):\n",
    "        return str(self)"
   ],
   "metadata": {
    "collapsed": false
   }
  },
  {
   "cell_type": "markdown",
   "source": [
    "### Dijkstra's Shortest Path Algorithm\n",
    "\n"
   ],
   "metadata": {
    "collapsed": false
   }
  },
  {
   "cell_type": "code",
   "execution_count": null,
   "outputs": [],
   "source": [
    "def contruct_path(prev, source, target):\n",
    "    rv = [target]\n",
    "    while rv[0] != source:\n",
    "        p = prev[rv[0]]\n",
    "        rv = [p] + rv\n",
    "    return rv\n",
    "\n",
    "def search(arr: np.ndarray,\n",
    "           source: tuple[int, int],\n",
    "           target: Optional[tuple[int, int]],\n",
    "           target_height: Optional[int]):\n",
    "\n",
    "    previous_vertices = {} # to reconstruct the path\n",
    "\n",
    "    frontier = Heap()\n",
    "    frontier.add(source, 0)\n",
    "    distances = {source: 0}\n",
    "\n",
    "    while frontier:\n",
    "\n",
    "        current = frontier.delete_minimum()\n",
    "        old_total_distance = distances[current]\n",
    "\n",
    "        # part 1\n",
    "        if target is not None:\n",
    "\n",
    "            # if done, path from source to target\n",
    "            if current == target:\n",
    "                return contruct_path(previous_vertices, source, target)\n",
    "\n",
    "            # standard neighbour function\n",
    "            neighbour_function = neighbours\n",
    "\n",
    "        # part 2\n",
    "        else:\n",
    "\n",
    "            # if done, path from source to current\n",
    "            if arr[current] == target_height:\n",
    "                return contruct_path(previous_vertices, source, current)\n",
    "\n",
    "            # reverse neighbour function\n",
    "            neighbour_function = reverse_neighbours\n",
    "\n",
    "        for neighbour in neighbour_function(arr, current):\n",
    "\n",
    "            new_total_distance = old_total_distance + 1\n",
    "            known_distance = None\n",
    "            if neighbour in distances:\n",
    "                known_distance = distances[neighbour]\n",
    "\n",
    "            # newly discovered node\n",
    "            if not known_distance:\n",
    "                distances[neighbour] = new_total_distance\n",
    "                frontier.add(neighbour, new_total_distance)\n",
    "                previous_vertices[neighbour] = current\n",
    "\n",
    "            # previously discovered node\n",
    "            elif new_total_distance < known_distance:\n",
    "                distances[neighbour] = new_total_distance\n",
    "                frontier.decrease_key(neighbour, new_total_distance)\n",
    "                previous_vertices[neighbour] = current\n",
    "\n",
    "    raise ValueError(f'No path found!!!')"
   ],
   "metadata": {
    "collapsed": false
   }
  },
  {
   "cell_type": "markdown",
   "source": [
    "### Part 1"
   ],
   "metadata": {
    "collapsed": false
   }
  },
  {
   "cell_type": "code",
   "execution_count": null,
   "outputs": [],
   "source": [
    "def main():\n",
    "\n",
    "    map = decode_map(INPUT_FILE)\n",
    "    start = locate(map, SYMBOLS.index('S'))\n",
    "    end = locate(map, SYMBOLS.index('E'))\n",
    "\n",
    "    path = search(map, start, end, None)\n",
    "    num_vertices = len(path)\n",
    "    num_edges = num_vertices - 1\n",
    "\n",
    "    print(f'The number of steps taken from start to end is {num_edges}.')"
   ],
   "metadata": {
    "collapsed": false
   }
  },
  {
   "cell_type": "code",
   "execution_count": null,
   "outputs": [],
   "source": [
    "if __name__ == '__main__':\n",
    "    main()"
   ],
   "metadata": {
    "collapsed": false
   }
  },
  {
   "cell_type": "markdown",
   "source": [
    "part 2"
   ],
   "metadata": {
    "collapsed": false
   }
  },
  {
   "cell_type": "code",
   "execution_count": null,
   "outputs": [],
   "source": [
    "def main():\n",
    "\n",
    "    map = decode_map(INPUT_FILE)\n",
    "    end = locate(map, SYMBOLS.index('E'))\n",
    "\n",
    "    path = search(map, end, target=None, target_height=1)\n",
    "    num_vertices = len(path)\n",
    "    num_edges = num_vertices - 1\n",
    "\n",
    "    print(f'The number of steps taken from any height 1 to end is {num_edges}.')"
   ],
   "metadata": {
    "collapsed": false
   }
  },
  {
   "cell_type": "code",
   "execution_count": null,
   "outputs": [],
   "source": [
    "if __name__ == '__main__':\n",
    "    main()"
   ],
   "metadata": {
    "collapsed": false
   }
  }
 ],
 "metadata": {
  "kernelspec": {
   "display_name": "Python 3",
   "language": "python",
   "name": "python3"
  },
  "language_info": {
   "codemirror_mode": {
    "name": "ipython",
    "version": 2
   },
   "file_extension": ".py",
   "mimetype": "text/x-python",
   "name": "python",
   "nbconvert_exporter": "python",
   "pygments_lexer": "ipython2",
   "version": "2.7.6"
  }
 },
 "nbformat": 4,
 "nbformat_minor": 0
}
