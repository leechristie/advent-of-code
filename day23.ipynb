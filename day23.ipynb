{
 "cells": [
  {
   "cell_type": "markdown",
   "source": [
    "# Advent of Code 2022\n",
    "\n",
    "## Day 23: Unstable Diffusion\n",
    "\n",
    "Solution code by [leechristie](https://github.com/leechristie) for Advent of Code 2022.\n",
    "\n",
    "Not too hard today. The class which does most of the work is `State`, which has a `step` method which moves the elves one round. A lot of this class is rendering code for debugging in the string method. For part 1, I just go through a wile loop until the number of elves moves is 0."
   ],
   "metadata": {
    "collapsed": false
   }
  },
  {
   "cell_type": "markdown",
   "source": [
    "### Imports"
   ],
   "metadata": {
    "collapsed": false
   }
  },
  {
   "cell_type": "code",
   "execution_count": null,
   "outputs": [],
   "source": [
    "from collections import namedtuple\n",
    "import tqdm.notebook as tqdm"
   ],
   "metadata": {
    "collapsed": false
   }
  },
  {
   "cell_type": "markdown",
   "source": [
    "### Position/Movement Stuff"
   ],
   "metadata": {
    "collapsed": false
   }
  },
  {
   "cell_type": "code",
   "execution_count": null,
   "outputs": [],
   "source": [
    "# noinspection PyTypeChecker\n",
    "Point = namedtuple('Point', ['x', 'y'])\n",
    "\n",
    "# noinspection PyTypeChecker\n",
    "Delta = namedtuple('Delta', ['dx', 'dy'])\n",
    "\n",
    "Point.__add__ = lambda self, delta: Point(x=self.x+delta.dx, y=self.y+delta.dy)\n",
    "\n",
    "\n",
    "class Consideration:\n",
    "\n",
    "    __slots__ = ['name', 'icon', 'deltas', 'relative']\n",
    "\n",
    "    def __init__(self, name: str, icon: str, relative: Delta, deltas: tuple[Delta, Delta, Delta]):\n",
    "        self.name = name\n",
    "        self.icon = icon\n",
    "        assert len(deltas) == 3\n",
    "        self.deltas = deltas\n",
    "        self.relative = relative\n",
    "\n",
    "    def is_valid(self, location: Point, locations: set[Point]):\n",
    "        for delta in self.deltas:\n",
    "            if location + delta in locations:\n",
    "                return False\n",
    "        return True\n",
    "\n",
    "    def __str__(self):\n",
    "        return self.icon\n",
    "\n",
    "    def __repr__(self):\n",
    "        return self.name\n",
    "\n",
    "NORTH = Consideration('NORTH', '⬆️', Delta(dx=0, dy=-1), (Delta(dx=-1, dy=-1), Delta(dx=0, dy=-1), Delta(dx=1, dy=-1)))\n",
    "SOUTH = Consideration('SOUTH', '⬇️', Delta(dx=0, dy=1), (Delta(dx=-1, dy=1), Delta(dx=0, dy=1), Delta(dx=1, dy=1)))\n",
    "WEST = Consideration('WEST', '⬅️', Delta(dx=-1, dy=0), (Delta(dx=-1, dy=-1), Delta(dx=-1, dy=0), Delta(dx=-1, dy=1)))\n",
    "EAST = Consideration('EAST', '➡️', Delta(dx=1, dy=0), (Delta(dx=1, dy=-1), Delta(dx=1, dy=0), Delta(dx=1, dy=1)))\n",
    "\n",
    "SEQUENCE = NORTH, SOUTH, WEST, EAST\n",
    "\n",
    "ALL_8_SPACES = (Delta(dx=-1, dy=-1), Delta(dx=0, dy=-1), Delta(dx=1, dy=-1),\n",
    "                Delta(dx=-1, dy=0),                      Delta(dx=1, dy=0),\n",
    "                Delta(dx=-1, dy=1), Delta(dx=0, dy=1), Delta(dx=1, dy=1))"
   ],
   "metadata": {
    "collapsed": false
   }
  },
  {
   "cell_type": "markdown",
   "source": [
    "### The Elf Class"
   ],
   "metadata": {
    "collapsed": false
   }
  },
  {
   "cell_type": "code",
   "execution_count": null,
   "outputs": [],
   "source": [
    "class Elf:\n",
    "\n",
    "    __slots__ = ['hash_proxy', 'location']\n",
    "    next_hash_proxy = 0\n",
    "\n",
    "    def __init__(self, location: Point):\n",
    "        self.hash_proxy = Elf.next_hash_proxy\n",
    "        Elf.next_hash_proxy += 1\n",
    "        self.location = location\n",
    "\n",
    "    def has_space(self, locations: set[Point]):\n",
    "        for rel in ALL_8_SPACES:\n",
    "            if self.location + rel in locations:\n",
    "                return False\n",
    "        return True\n",
    "\n",
    "    def __str__(self):\n",
    "        return '🧝'\n",
    "\n",
    "    def __repr__(self):\n",
    "        return f'Elf(hash={self.hash_proxy}, location={repr(self.location)})'\n",
    "\n",
    "    def __hash__(self):\n",
    "        return hash(self.hash_proxy)\n",
    "\n",
    "    def __eq__(self, other: 'Elf') -> bool:\n",
    "        if type(other) != Elf:\n",
    "            return False\n",
    "        return self.hash_proxy == other.hash_proxy\n",
    "\n",
    "    def __ne__(self, other: 'Elf') -> bool:\n",
    "        if type(other) != Elf:\n",
    "            return True\n",
    "        return self.hash_proxy != other.hash_proxy\n",
    "\n",
    "Elf.next_hash_proxy = 0"
   ],
   "metadata": {
    "collapsed": false
   }
  },
  {
   "cell_type": "markdown",
   "source": [
    "### The State Class"
   ],
   "metadata": {
    "collapsed": false
   }
  },
  {
   "cell_type": "code",
   "execution_count": null,
   "outputs": [],
   "source": [
    "class State:\n",
    "\n",
    "    __slots__ = ['elves', 'plan', 'elf_count', 'last_elves_moved', 'rounds']\n",
    "\n",
    "    def __init__(self, raw: list[str]):\n",
    "        assert type(raw) == list\n",
    "        self.elf_count = 0\n",
    "        self.last_elves_moved = None\n",
    "        height = len(raw)\n",
    "        if not height:\n",
    "            raise ValueError('empty input')\n",
    "        width = None\n",
    "        for line in raw:\n",
    "            assert type(line) == str\n",
    "            if width is not None and len(line) != width:\n",
    "                raise ValueError('non-rectangular input')\n",
    "            width = len(line)\n",
    "        if width is None or width < 1:\n",
    "            raise ValueError('zero width')\n",
    "        self.elves = {}\n",
    "        for y, line in enumerate(raw):\n",
    "            for x, char in enumerate(line):\n",
    "                if char not in {'.', '#'}:\n",
    "                    raise ValueError(f'unknown symbol: {repr(char)}')\n",
    "                if char == '#':\n",
    "                    self.elf_count += 1\n",
    "                    point = Point(x=x, y=y)\n",
    "                    assert point not in self.elves\n",
    "                    self.elves[point] = Elf(point)\n",
    "        self.plan = SEQUENCE\n",
    "        self.rounds = 0\n",
    "\n",
    "    def bounding_box(self) -> tuple[tuple[int, int], tuple[int, int]]:\n",
    "        x_min, x_max = None, None\n",
    "        y_min, y_max = None, None\n",
    "        for point in self.elves:\n",
    "            if x_min is None or point.x < x_min:\n",
    "                x_min = point.x\n",
    "            if x_max is None or point.x > x_max:\n",
    "                x_max = point.x\n",
    "            if y_min is None or point.y < y_min:\n",
    "                y_min = point.y\n",
    "            if y_max is None or point.y > y_max:\n",
    "                y_max = point.y\n",
    "        assert x_min is not None\n",
    "        assert x_max is not None\n",
    "        assert y_min is not None\n",
    "        assert y_max is not None\n",
    "        return (x_min, x_max), (y_min, y_max)\n",
    "\n",
    "    def bounding_box_size(self):\n",
    "        x_range, y_range = self.bounding_box()\n",
    "        x_min, x_max = x_range\n",
    "        y_min, y_max = y_range\n",
    "        return (x_max + 1 - x_min) * (y_max + 1 - y_min)\n",
    "\n",
    "    def step(self):\n",
    "\n",
    "        # phase 1\n",
    "        next_location_to_elf_list: dict[Point, list[Elf]] = {}\n",
    "        elf_to_next_location: dict[Elf, Point] = {}\n",
    "        elf_to_consideration: dict[Elf, Consideration] = {}\n",
    "        for point, elf in self.elves.items():\n",
    "            if elf.has_space(self.elves.keys()):\n",
    "                next_location_to_elf_list[point] = [elf]\n",
    "                elf_to_next_location[elf] = point\n",
    "        for con in self.plan:\n",
    "            for point, elf in self.elves.items():\n",
    "                if elf not in elf_to_next_location and con.is_valid(point, self.elves.keys()):\n",
    "                    next_location = point + con.relative\n",
    "                    elf_to_next_location[elf] = next_location\n",
    "                    elf_to_consideration[elf] = con\n",
    "                    if next_location in next_location_to_elf_list:\n",
    "                        next_location_to_elf_list[next_location].append(elf)\n",
    "                    else:\n",
    "                        next_location_to_elf_list[next_location] = [elf]\n",
    "\n",
    "        #print(self.to_str(elf_to_consideration))\n",
    "\n",
    "        #print(self.to_str(elf_to_consideration, {key: len(value) for key, value in next_location_to_elf_list.items()}))\n",
    "\n",
    "        # phase 2\n",
    "        elves_moved = 0\n",
    "        for next_location, elves in next_location_to_elf_list.items():\n",
    "            assert len(elves) > 0\n",
    "            if len(elves) == 1:\n",
    "                elf ,= elves\n",
    "                old_location = elf.location\n",
    "                if old_location != next_location:\n",
    "                    elf.location = next_location\n",
    "                    del self.elves[old_location]\n",
    "                    assert next_location not in self.elves\n",
    "                    self.elves[next_location] = elf\n",
    "                    elves_moved += 1\n",
    "        self.last_elves_moved = elves_moved\n",
    "\n",
    "        # cycle plan\n",
    "        first, rest = self.plan[0:1], self.plan[1:]\n",
    "        self.plan = rest + first\n",
    "        new_value = self.rounds + 1\n",
    "        self.rounds = new_value\n",
    "        assert self.rounds == new_value\n",
    "\n",
    "    def to_str(self, elf_to_consideration: dict[Elf, Consideration] = None, next_location_to_elf_count: dict[Point, int] = None):\n",
    "        if elf_to_consideration is None:\n",
    "            elf_to_consideration = {}\n",
    "        rv = ''\n",
    "        elf_count = 0\n",
    "        x_range, y_range = self.bounding_box()\n",
    "        x_min, x_max = x_range\n",
    "        y_min, y_max = y_range\n",
    "        points = 0\n",
    "        for y in range(y_min, y_max + 1):\n",
    "            for x in range(x_min, x_max + 1):\n",
    "                point = Point(x=x, y=y)\n",
    "                if point in self.elves:\n",
    "                    assert (self.elves[point].location == point), f'elf mapped to location {point} records own location as {self.elves[point].location}'\n",
    "                    elf = self.elves[point]\n",
    "                    if elf in elf_to_consideration:\n",
    "                        if next_location_to_elf_count is not None:\n",
    "                            next_point = point + elf_to_consideration[elf].relative\n",
    "                            assert next_point in next_location_to_elf_count\n",
    "                            assert next_location_to_elf_count[next_point] > 0\n",
    "                            if next_location_to_elf_count[next_point] == 1:\n",
    "                                rv += elf_to_consideration[elf].icon\n",
    "                            else:\n",
    "                                rv += '❌'\n",
    "                        else:\n",
    "                            rv += elf_to_consideration[elf].icon\n",
    "                    else:\n",
    "                        rv += str(self.elves[point])\n",
    "                    elf_count += 1\n",
    "                else:\n",
    "                    rv += '⬛'\n",
    "                points += 1\n",
    "            rv += '\\n'\n",
    "        if elf_count != self.elf_count or elf_count != len(self.elves):\n",
    "            raise ValueError(f'elf count mismatch: __str__.{elf_count = }, {self.elf_count = }, {len(self.elves) = }')\n",
    "        size = self.bounding_box_size()\n",
    "        assert size == points\n",
    "        rv += f'elves: {elf_count}\\n'\n",
    "        rv += f'elves moved: {self.last_elves_moved}\\n'\n",
    "        rv += f'bounding box size: {size}\\n'\n",
    "        rv += f'empty squares: {size - elf_count}\\n'\n",
    "        rv += f'plan: ' + ', '.join([str(plan) for plan in self.plan])\n",
    "        rv += f'\\nrounds: {self.rounds}\\n'\n",
    "        return rv + '\\n'\n",
    "\n",
    "    def __str__(self):\n",
    "        return self.to_str()\n",
    "\n",
    "    def __repr__(self):\n",
    "        return str(self)\n",
    "\n",
    "    @staticmethod\n",
    "    def read(filename: str) -> 'State':\n",
    "        with open(filename) as file:\n",
    "            raw = []\n",
    "            for line in file:\n",
    "                raw.append(line.strip())\n",
    "            return State(raw)"
   ],
   "metadata": {
    "collapsed": false
   }
  },
  {
   "cell_type": "markdown",
   "source": [
    "### Part 1"
   ],
   "metadata": {
    "collapsed": false
   }
  },
  {
   "cell_type": "code",
   "execution_count": null,
   "outputs": [],
   "source": [
    "def main():\n",
    "    state = State.read(INPUT_FILE)\n",
    "    for _ in range(NUM_ROUNDS):\n",
    "        state.step()\n",
    "    print(f'The number of empty squares is {state.bounding_box_size() - state.elf_count}')"
   ],
   "metadata": {
    "collapsed": false
   }
  },
  {
   "cell_type": "code",
   "execution_count": null,
   "outputs": [],
   "source": [
    "NUM_ROUNDS = 10\n",
    "INPUT_FILE = 'data/input23.txt'\n",
    "\n",
    "if __name__ == '__main__':\n",
    "    main()"
   ],
   "metadata": {
    "collapsed": false
   }
  },
  {
   "cell_type": "markdown",
   "source": [
    "### Part 2"
   ],
   "metadata": {
    "collapsed": false
   }
  },
  {
   "cell_type": "code",
   "execution_count": null,
   "outputs": [],
   "source": [
    "def main():\n",
    "    state = State.read(INPUT_FILE)\n",
    "    with tqdm.tqdm() as pbar:\n",
    "        while state.last_elves_moved != 0:\n",
    "            state.step()\n",
    "            pbar.desc = str(state.last_elves_moved) + ' elves moved in last round'\n",
    "            pbar.update(1)\n",
    "    print(f'The number of rounds is {state.rounds}')"
   ],
   "metadata": {
    "collapsed": false
   }
  },
  {
   "cell_type": "code",
   "execution_count": null,
   "outputs": [],
   "source": [
    "INPUT_FILE = 'data/input23.txt'\n",
    "\n",
    "if __name__ == '__main__':\n",
    "    main()"
   ],
   "metadata": {
    "collapsed": false
   }
  }
 ],
 "metadata": {
  "kernelspec": {
   "display_name": "Python 3",
   "language": "python",
   "name": "python3"
  },
  "language_info": {
   "codemirror_mode": {
    "name": "ipython",
    "version": 2
   },
   "file_extension": ".py",
   "mimetype": "text/x-python",
   "name": "python",
   "nbconvert_exporter": "python",
   "pygments_lexer": "ipython2",
   "version": "2.7.6"
  }
 },
 "nbformat": 4,
 "nbformat_minor": 0
}
