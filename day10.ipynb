{
 "cells": [
  {
   "cell_type": "markdown",
   "source": [
    "# Advent of Code 2022\n",
    "\n",
    "## Day 10: Cathode-Ray Tube\n",
    "\n",
    "Solution code by [leechristie](https://github.com/leechristie) for Advent of Code 2022.\n",
    "\n",
    "Part 1 was easy enough but it took a while to understand in what order the register should be updated among the cycle counter updates.\n",
    "\n",
    "For part 2 I started by writing a function to print the current pixel position but I had something wrong with the timing. I changed it to represent the current row as a string and output it step-by-step with description of what as happening. I was getting a bit messed up by the cycle counter starting at 1 instead of 0 like the position counter. Eventually I added an explicit convertion `position = (cycle - 1) ∞ WIDTH` to be clear. After I debugged it, I switched back to printing in the function `display_pixel`."
   ],
   "metadata": {
    "collapsed": false
   }
  },
  {
   "cell_type": "code",
   "execution_count": null,
   "outputs": [],
   "source": [
    "from typing import Optional, Iterator\n",
    "\n",
    "\n",
    "def read_lines(filename: str, limit: Optional[int] = None) -> Iterator[tuple[int, int]]:\n",
    "    count = 0\n",
    "    with open(filename) as file:\n",
    "        for line in file:\n",
    "            line = line.strip()\n",
    "            tokens = line.split(' ')\n",
    "            if len(tokens) == 1:\n",
    "                yield tokens[0], None\n",
    "            else:\n",
    "                assert len(tokens) == 2\n",
    "                op, num = tokens\n",
    "                num = int(num)\n",
    "                yield op, num\n",
    "            count += 1\n",
    "            if limit is not None and count >= limit:\n",
    "                break"
   ],
   "metadata": {
    "collapsed": false
   }
  },
  {
   "cell_type": "code",
   "execution_count": null,
   "outputs": [],
   "source": [
    "INPUT_FILE = 'data/input10.txt'"
   ],
   "metadata": {
    "collapsed": false
   }
  },
  {
   "cell_type": "markdown",
   "source": [
    "### Part 1"
   ],
   "metadata": {
    "collapsed": false
   }
  },
  {
   "cell_type": "code",
   "execution_count": null,
   "outputs": [],
   "source": [
    "# updated cycles and total, also remove samples from the list once processes\n",
    "def update(cycle: Optional[int],\n",
    "           total: Optional[int],\n",
    "           signal: int,\n",
    "           samples: list[int],\n",
    "           verbose: bool=False) -> tuple[int, int]:\n",
    "\n",
    "    # either in the init stage or not\n",
    "    assert (cycle is None and total is None) or (cycle is not None and total is not None)\n",
    "\n",
    "    # cycle is updated first\n",
    "    if cycle is None and total is None:\n",
    "        cycle = 1\n",
    "        total = 0\n",
    "    else:\n",
    "        cycle += 1\n",
    "\n",
    "    # sample is processed after updating cycle count\n",
    "    if cycle in samples:\n",
    "        if verbose:\n",
    "            print(f'at sample cycle {cycle}, signal is {signal}, multiplied is {cycle * signal}')\n",
    "        total += cycle * signal\n",
    "        samples.remove(cycle)\n",
    "\n",
    "    return cycle, total"
   ],
   "metadata": {
    "collapsed": false
   }
  },
  {
   "cell_type": "code",
   "execution_count": null,
   "outputs": [],
   "source": [
    "def main():\n",
    "\n",
    "    signal = 1\n",
    "    samples = [20, 60, 100, 140, 180, 220]\n",
    "    cycle, total = update(None, None, signal, samples, verbose=True)\n",
    "\n",
    "    for operation, operand in read_lines(INPUT_FILE):\n",
    "\n",
    "        if operand is None:\n",
    "\n",
    "            assert operation == 'noop'\n",
    "            cycle, total = update(cycle, total, signal, samples, verbose=True)\n",
    "\n",
    "        else:\n",
    "\n",
    "            assert operation == 'addx'\n",
    "            cycle, total = update(cycle, total, signal, samples, verbose=True)\n",
    "            signal += operand\n",
    "            cycle, total = update(cycle, total, signal, samples, verbose=True)\n",
    "\n",
    "    # make sure there are no leftover samples\n",
    "    assert not samples\n",
    "\n",
    "    print(f'Total of samples is: {total}')"
   ],
   "metadata": {
    "collapsed": false
   }
  },
  {
   "cell_type": "code",
   "execution_count": null,
   "outputs": [],
   "source": [
    "if __name__ == '__main__':\n",
    "    main()"
   ],
   "metadata": {
    "collapsed": false
   }
  },
  {
   "cell_type": "markdown",
   "source": [
    "### Part 2"
   ],
   "metadata": {
    "collapsed": false
   }
  },
  {
   "cell_type": "code",
   "execution_count": null,
   "outputs": [],
   "source": [
    "WIDTH = 40"
   ],
   "metadata": {
    "collapsed": false
   }
  },
  {
   "cell_type": "code",
   "execution_count": null,
   "outputs": [],
   "source": [
    "def print_pixel(cycle, sprite_x):\n",
    "    position = (cycle - 1) % WIDTH\n",
    "    if sprite_x - 1 <= position <= sprite_x + 1:\n",
    "        print('#', end='')\n",
    "    else:\n",
    "        print('.', end='')\n",
    "    if position % WIDTH == WIDTH - 1:\n",
    "        print()"
   ],
   "metadata": {
    "collapsed": false
   }
  },
  {
   "cell_type": "code",
   "execution_count": null,
   "outputs": [],
   "source": [
    "def display_pixel(cycle: int, sprite_x: int):\n",
    "\n",
    "    position = (cycle - 1) % WIDTH\n",
    "\n",
    "    if position in {sprite_x-1, sprite_x, sprite_x+1}:\n",
    "        print('#', end='')\n",
    "    else:\n",
    "        print('.', end='')\n",
    "\n",
    "    # end of line\n",
    "    if position % WIDTH == WIDTH - 1:\n",
    "        print()"
   ],
   "metadata": {
    "collapsed": false
   }
  },
  {
   "cell_type": "code",
   "execution_count": null,
   "outputs": [],
   "source": [
    "def main():\n",
    "\n",
    "    sprite_x = 1\n",
    "    cycle = 1\n",
    "\n",
    "    for operation, operand in read_lines(INPUT_FILE):\n",
    "\n",
    "        if operand is None:\n",
    "\n",
    "            display_pixel(cycle, sprite_x)\n",
    "            cycle += 1\n",
    "\n",
    "        else:\n",
    "\n",
    "            display_pixel(cycle, sprite_x)\n",
    "            cycle += 1\n",
    "\n",
    "            display_pixel(cycle, sprite_x)\n",
    "            cycle += 1\n",
    "\n",
    "            sprite_x += operand"
   ],
   "metadata": {
    "collapsed": false
   }
  },
  {
   "cell_type": "code",
   "execution_count": null,
   "outputs": [],
   "source": [
    "main()"
   ],
   "metadata": {
    "collapsed": false
   }
  }
 ],
 "metadata": {
  "kernelspec": {
   "display_name": "Python 3",
   "language": "python",
   "name": "python3"
  },
  "language_info": {
   "codemirror_mode": {
    "name": "ipython",
    "version": 2
   },
   "file_extension": ".py",
   "mimetype": "text/x-python",
   "name": "python",
   "nbconvert_exporter": "python",
   "pygments_lexer": "ipython2",
   "version": "2.7.6"
  }
 },
 "nbformat": 4,
 "nbformat_minor": 0
}
