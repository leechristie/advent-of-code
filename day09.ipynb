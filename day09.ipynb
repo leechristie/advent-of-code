{
 "cells": [
  {
   "cell_type": "markdown",
   "source": [
    "# Advent of Code 2022\n",
    "\n",
    "## Day 9: Rope Bridge\n",
    "\n",
    "Solution code by [leechristie](https://github.com/leechristie) for Advent of Code 2022.\n",
    "\n",
    "I used a generator again to read the input. I yield each step of the movement as a unit-length displacement\n",
    "\n",
    "e.g. `U 3` yields\n",
    "\n",
    "    (1, 0)\n",
    "    (1, 0)\n",
    "    (1, 0)\n",
    "\n",
    "The purpose was to be able to simplify the main loop to process one step at a time.\n",
    "\n",
    "The choice of Up = positive first vector component is arbitrary, but initially I was going to use a Numpy array to track where the tail had been and render the output for testing, and this would have mapped more directly to that (with the array flipped upside down for rendering, e could keep the start as 0, 0). But it turned out to be easier to use a `set` to track the tail position and then read its length, and we don't really need absolute positive or orientation information anyway, everything can be relative.\n",
    "\n",
    "I think the `main` loop turned out quite tidy. The only difference between parts 1 and 2 are that head, tail(each a 2-tuple of ints) becomes a list of 10 2-tuples, we move the heed then loop over 1 .. 9 to apply the tail movement.\n",
    "\n",
    "Most of the bugs I encountered in this puzzle was in the code for calculating movement, that section could use more refactoring."
   ],
   "metadata": {
    "collapsed": false
   }
  },
  {
   "cell_type": "markdown",
   "source": [
    "### Imports"
   ],
   "metadata": {
    "collapsed": false
   }
  },
  {
   "cell_type": "code",
   "execution_count": null,
   "outputs": [],
   "source": [
    "from typing import Optional, Iterator, Union\n",
    "from math import sqrt"
   ],
   "metadata": {
    "collapsed": false
   }
  },
  {
   "cell_type": "markdown",
   "source": [
    "### Input Reading"
   ],
   "metadata": {
    "collapsed": false
   }
  },
  {
   "cell_type": "code",
   "execution_count": null,
   "outputs": [],
   "source": [
    "VELOCITY = {\n",
    "    'U': (1, 0),  # setting up to be positive first component (arbitrary)\n",
    "    'D': (-1, 0),\n",
    "    'R': (0, 1),  # setting right to be positive second component\n",
    "    'L': (0, -1)\n",
    "}\n",
    "\n",
    "def read_lines(filename: str, limit: Optional[int] = None) -> Iterator[tuple[int, int]]:\n",
    "    count = 0\n",
    "    with open(filename) as file:\n",
    "        for line in file:\n",
    "            line = line.strip()\n",
    "            left, right = line.split(' ')\n",
    "            for _ in range(int(right)):\n",
    "                yield VELOCITY[left]\n",
    "            count += 1\n",
    "            if limit is not None and count >= limit:\n",
    "                break"
   ],
   "metadata": {
    "collapsed": false
   }
  },
  {
   "cell_type": "code",
   "execution_count": null,
   "outputs": [],
   "source": [
    "INPUT_FILE = 'data/input09.txt'"
   ],
   "metadata": {
    "collapsed": false
   }
  },
  {
   "cell_type": "markdown",
   "source": [
    "### Code for Calculating Movement"
   ],
   "metadata": {
    "collapsed": false
   }
  },
  {
   "cell_type": "code",
   "execution_count": null,
   "outputs": [],
   "source": [
    "def move(a: tuple[int, int], da: tuple[int, int]) -> tuple[int, int]:\n",
    "    return a[0] + da[0], a[1] + da[1]\n",
    "\n",
    "def norm(x: int) -> int:\n",
    "    assert type(x) == int\n",
    "    return int(x / abs(x))\n",
    "\n",
    "def distance(a: tuple[int, int], b: tuple[int, int]) -> Union[int, float]:\n",
    "    d0 = abs(a[0] - b[0])\n",
    "    d1 = abs(a[1] - b[1])\n",
    "    if not d0 and not d1:\n",
    "        return 0\n",
    "    if not d0:\n",
    "        return int(d1)\n",
    "    if not d1:\n",
    "        return int(d0)\n",
    "    rv = sqrt(d0 ** 2 + d1 ** 2)\n",
    "    return float(rv)\n",
    "\n",
    "def step_tail_orthogonal(tail: tuple[int, int], head: tuple[int, int]) -> tuple[int, int]:\n",
    "    d0 = int(head[0] - tail[0])\n",
    "    d1 = int(head[1] - tail[1])\n",
    "    if d0:\n",
    "        if abs(d0) > 1:\n",
    "            return norm(d0), 0\n",
    "        return 0, 0\n",
    "    if abs(d1) > 1:\n",
    "        return 0, norm(d1)\n",
    "    return 0, 0\n",
    "\n",
    "def step_tail_diagonal(tail: tuple[int, int], head: tuple[int, int]) -> tuple[int, int]:\n",
    "    d0 = int(head[0] - tail[0])\n",
    "    d1 = int(head[1] - tail[1])\n",
    "    if distance(tail, head) > sqrt(2):\n",
    "        return norm(d0), norm(d1)\n",
    "    return 0, 0\n",
    "\n",
    "def step_tail(tail: tuple[int, int], head: tuple[int, int]) -> tuple[int, int]:\n",
    "    if head == tail:\n",
    "        return 0, 0\n",
    "    d = distance(tail, head)\n",
    "    if type(d) is int:\n",
    "        rv = step_tail_orthogonal(tail, head)\n",
    "        return rv\n",
    "    rv = step_tail_diagonal(tail, head)\n",
    "    return rv"
   ],
   "metadata": {
    "collapsed": false
   }
  },
  {
   "cell_type": "markdown",
   "source": [
    "### Part 1"
   ],
   "metadata": {
    "collapsed": false
   }
  },
  {
   "cell_type": "code",
   "execution_count": null,
   "outputs": [],
   "source": [
    "def main():\n",
    "\n",
    "    head, tail, history = (0, 0), (0, 0), {(0, 0)}\n",
    "\n",
    "    for step in read_lines(INPUT_FILE):\n",
    "\n",
    "        # move the head\n",
    "        head = move(head, step)\n",
    "\n",
    "        # move the tail afterwards, in response to head move\n",
    "        tail = move(tail, step_tail(tail, head))\n",
    "        history.add(tail)\n",
    "\n",
    "        assert distance(head, tail) in {0, 1, sqrt(2)}\n",
    "\n",
    "    print(f'The tail visited {len(history)} points.')"
   ],
   "metadata": {
    "collapsed": false
   }
  },
  {
   "cell_type": "code",
   "execution_count": null,
   "outputs": [],
   "source": [
    "if __name__ == '__main__':\n",
    "    main()"
   ],
   "metadata": {
    "collapsed": false
   }
  },
  {
   "cell_type": "markdown",
   "source": [
    "### Part 2"
   ],
   "metadata": {
    "collapsed": false
   }
  },
  {
   "cell_type": "code",
   "execution_count": null,
   "outputs": [],
   "source": [
    "def main():\n",
    "\n",
    "    # initial state\n",
    "    rope, history = [(0, 0)] * 10, {(0, 0)}\n",
    "\n",
    "    for step in read_lines(INPUT_FILE):\n",
    "\n",
    "        # move the head\n",
    "        rope[0] = move(rope[0], step)\n",
    "\n",
    "        for t in range(1, len(rope)):\n",
    "            h = t - 1\n",
    "\n",
    "            # move the next link in response to the previous link moving\n",
    "            step_t = step_tail(rope[t], rope[h])\n",
    "            rope[t] = move(rope[t], step_t)\n",
    "\n",
    "            assert distance(rope[h], rope[t]) in {0, 1, sqrt(2)}\n",
    "\n",
    "        history.add(rope[-1])\n",
    "\n",
    "    print(f'The tail visited {len(history)} points.')"
   ],
   "metadata": {
    "collapsed": false
   }
  },
  {
   "cell_type": "code",
   "execution_count": null,
   "outputs": [],
   "source": [
    "if __name__ == '__main__':\n",
    "    main()"
   ],
   "metadata": {
    "collapsed": false
   }
  }
 ],
 "metadata": {
  "kernelspec": {
   "display_name": "Python 3",
   "language": "python",
   "name": "python3"
  },
  "language_info": {
   "codemirror_mode": {
    "name": "ipython",
    "version": 2
   },
   "file_extension": ".py",
   "mimetype": "text/x-python",
   "name": "python",
   "nbconvert_exporter": "python",
   "pygments_lexer": "ipython2",
   "version": "2.7.6"
  }
 },
 "nbformat": 4,
 "nbformat_minor": 0
}
