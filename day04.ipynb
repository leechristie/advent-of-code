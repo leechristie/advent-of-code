{
 "cells": [
  {
   "cell_type": "markdown",
   "source": [
    "# Advent of Code 2022\n",
    "\n",
    "## Day 4: Camp Cleanup\n",
    "\n",
    "Solution code by [leechristie](https://github.com/leechristie) for Advent of Code 2022."
   ],
   "metadata": {
    "collapsed": false
   }
  },
  {
   "cell_type": "code",
   "execution_count": null,
   "outputs": [],
   "source": [
    "from collections.abc import Iterator\n",
    "from typing import Optional"
   ],
   "metadata": {
    "collapsed": false
   }
  },
  {
   "cell_type": "code",
   "execution_count": null,
   "outputs": [],
   "source": [
    "class Range:\n",
    "\n",
    "    __slots__ = ['start', 'stop']\n",
    "\n",
    "    def __init__(self, start: int, stop: int):\n",
    "        assert type(start) == int\n",
    "        assert type(stop) == int\n",
    "        assert (start <= stop), f'invalid range {start}-{stop}'\n",
    "        self.start = start\n",
    "        self.stop = stop\n",
    "\n",
    "    def __str__(self):\n",
    "        return f'{self.start}-{self.stop}'\n",
    "\n",
    "    def contains(self, other: 'Range') -> bool:\n",
    "        return self.start <= other.start and self.stop >= other.stop\n",
    "\n",
    "    def disjoint(self, other: 'Range') -> bool:\n",
    "        return self.stop < other.start or other.stop < self.start\n",
    "\n",
    "    def overlaps(self, other: 'Range') -> bool:\n",
    "        return not self.disjoint(other)\n",
    "\n",
    "    @staticmethod\n",
    "    def parse(string: str) -> 'Range':\n",
    "        start, stop = string.split('-')\n",
    "        return Range(int(start), int(stop))\n",
    "\n",
    "\n",
    "def read_lines(filename: str, limit: Optional[int] = None) -> Iterator[tuple[Range, Range]]:\n",
    "    count = 0\n",
    "    with open(filename) as file:\n",
    "        for line in file:\n",
    "            line = line.strip()\n",
    "            left, right = line.split(',')\n",
    "            yield Range.parse(left), Range.parse(right)\n",
    "            count += 1\n",
    "            if limit is not None and count >= limit:\n",
    "                break"
   ],
   "metadata": {
    "collapsed": false
   }
  },
  {
   "cell_type": "code",
   "execution_count": null,
   "outputs": [],
   "source": [
    "INPUT_FILE = 'data/input04.txt'"
   ],
   "metadata": {
    "collapsed": false
   }
  },
  {
   "cell_type": "markdown",
   "source": [
    "### Part 1"
   ],
   "metadata": {
    "collapsed": false
   }
  },
  {
   "cell_type": "code",
   "execution_count": null,
   "outputs": [],
   "source": [
    "def main():\n",
    "    total = 0\n",
    "    for range0, range1 in read_lines(INPUT_FILE):\n",
    "        one_contains_other = range0.contains(range1) or range1.contains(range0)\n",
    "        if one_contains_other:\n",
    "            total += 1\n",
    "\n",
    "    print(f'In {total} assignment pairs, one range fully contains the other.')"
   ],
   "metadata": {
    "collapsed": false
   }
  },
  {
   "cell_type": "code",
   "execution_count": null,
   "outputs": [],
   "source": [
    "if __name__ == '__main__':\n",
    "    main()"
   ],
   "metadata": {
    "collapsed": false
   }
  },
  {
   "cell_type": "markdown",
   "source": [
    "### Part 2"
   ],
   "metadata": {
    "collapsed": false
   }
  },
  {
   "cell_type": "code",
   "execution_count": null,
   "outputs": [],
   "source": [
    "def main():\n",
    "    total = 0\n",
    "    for range0, range1 in read_lines(INPUT_FILE):\n",
    "        if range0.overlaps(range1):\n",
    "            total += 1\n",
    "\n",
    "    print(f'In {total} assignment pairs the ranges overlap.')"
   ],
   "metadata": {
    "collapsed": false
   }
  },
  {
   "cell_type": "code",
   "execution_count": null,
   "outputs": [],
   "source": [
    "if __name__ == '__main__':\n",
    "    main()"
   ],
   "metadata": {
    "collapsed": false
   }
  }
 ],
 "metadata": {
  "kernelspec": {
   "display_name": "Python 3",
   "language": "python",
   "name": "python3"
  },
  "language_info": {
   "codemirror_mode": {
    "name": "ipython",
    "version": 2
   },
   "file_extension": ".py",
   "mimetype": "text/x-python",
   "name": "python",
   "nbconvert_exporter": "python",
   "pygments_lexer": "ipython2",
   "version": "2.7.6"
  }
 },
 "nbformat": 4,
 "nbformat_minor": 0
}
