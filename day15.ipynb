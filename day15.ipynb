{
 "cells": [
  {
   "cell_type": "markdown",
   "source": [
    "# Advent of Code 2022\n",
    "\n",
    "## Day 15: Beacon Exclusion Zone\n",
    "\n",
    "Solution code by [leechristie](https://github.com/leechristie) for Advent of Code 2022.\n",
    "\n",
    "Because yesterday I switched between using Numpy and not, today I decided to introduce a `Point` namedtuple. I don't want to have to worry about x, y verses y, x.\n",
    "\n",
    "I don't normally use regex to parse the input because regex makes me sad. But I'll use it today because the input contained a lot of text in a standard format and this seemed a lot cleaner. I wrote `read_scans` to yield the two points per line.\n",
    "\n",
    "For part 1 it seemed there's two reasonable ways to solve it. Either track a complete list of scanned points within the manhattan distance of each scan, or just store the scans and iterate over points. The former seems easier as you don't need to compute the bounds of the area at any time but unfortunately the manhattan balls are way too big to store. It will work on the small sample, but not the real data. So we need to store the scan points instead.\n",
    "\n",
    "As an optimisation, you could also discard points that don't reach row 2000000. For example scan anywhere on row 42 with a nearest beacon 100 units away will be irrelevant to clearing row 2000000, but I didn't do that yet as I suspect part 2 might need all the data somehow.\n",
    "\n",
    "For part 2, looping over all 16000000000000 points is going to take way too long. My observation is that if there is only one possible beacon location missing, then that must mean the beacon is N+1 units away from at least one beacon (whose nearest beacon was N units away), otherwise the location next to it wouldn't have been scanned either and the solution would be non-unique.\n",
    "\n",
    "Part 2 is still very slow, it takes about 20 minutes to complete searching the candidates. There must surely be a way to cut the time down further, but this is fast enough for me to run and get the solution.\n",
    "\n",
    "**Preprocessing:** 2m 8s\n",
    "**Part 1:** 36s\n",
    "**Part 2:** 12m 58s"
   ],
   "metadata": {
    "collapsed": false
   }
  },
  {
   "cell_type": "markdown",
   "source": [
    "### Imports"
   ],
   "metadata": {
    "collapsed": false
   }
  },
  {
   "cell_type": "code",
   "execution_count": null,
   "outputs": [],
   "source": [
    "from typing import Iterator\n",
    "from collections import namedtuple\n",
    "import re\n",
    "import tqdm.notebook as tn"
   ],
   "metadata": {
    "collapsed": false
   }
  },
  {
   "cell_type": "markdown",
   "source": [
    "### Geometry"
   ],
   "metadata": {
    "collapsed": false
   }
  },
  {
   "cell_type": "code",
   "execution_count": null,
   "outputs": [],
   "source": [
    "# noinspection PyTypeChecker\n",
    "Point = namedtuple('Point', ['x', 'y'])"
   ],
   "metadata": {
    "collapsed": false
   }
  },
  {
   "cell_type": "code",
   "execution_count": null,
   "outputs": [],
   "source": [
    "def manhattan_distance(a: Point, b: Point) -> int:\n",
    "    return abs(a.x - b.x) + abs(a.y - b.y)"
   ],
   "metadata": {
    "collapsed": false
   }
  },
  {
   "cell_type": "code",
   "execution_count": null,
   "outputs": [],
   "source": [
    "def manhattan_circle(center: Point, radius: int) -> Iterator[Point]:\n",
    "\n",
    "     # top half\n",
    "     x_radius = 0\n",
    "     for y in range(center.y - radius, center.y + 1):\n",
    "         for x in {center.x - x_radius, center.x + x_radius}:\n",
    "             yield Point(x=x, y=y)\n",
    "         x_radius += 1\n",
    "\n",
    "     # bottom half\n",
    "     x_radius -= 2\n",
    "     for y in range(center.y + 1, center.y + radius + 1):\n",
    "         for x in {center.x - x_radius, center.x + x_radius}:\n",
    "             yield Point(x=x, y=y)\n",
    "         x_radius -= 1"
   ],
   "metadata": {
    "collapsed": false
   }
  },
  {
   "cell_type": "markdown",
   "source": [
    "### Data Structure"
   ],
   "metadata": {
    "collapsed": false
   }
  },
  {
   "cell_type": "code",
   "execution_count": null,
   "outputs": [],
   "source": [
    "# noinspection PyTypeChecker\n",
    "Scan = namedtuple('Scan', ['sensor', 'beacon', 'distance'])\n",
    "\n",
    "class World:\n",
    "\n",
    "    __slots__ = ['scans', '_sensors', '_beacons', 'left', 'right', 'candidates']\n",
    "\n",
    "    def __init__(self):\n",
    "        self.scans: list[Scan] = []\n",
    "        self._sensors: set[Point] = set()\n",
    "        self._beacons: set[Point] = set()\n",
    "        self.candidates: set[Point] = set()\n",
    "        self.left = None\n",
    "        self.right = None\n",
    "\n",
    "    def scan(self, sensor: Point, beacon: Point) -> None:\n",
    "        distance = manhattan_distance(sensor, beacon)\n",
    "        self.scans.append(Scan(sensor, beacon, distance))\n",
    "        self._sensors.add(sensor)\n",
    "        self._beacons.add(beacon)\n",
    "        if self.left is None or sensor.x - distance < self.left:\n",
    "            self.left = sensor.x - distance\n",
    "        if self.right is None or self.right < sensor.x + distance:\n",
    "            self.right = sensor.x + distance\n",
    "        # draw 1 unit outside the scanned area\n",
    "        self.candidates.update(p for p in manhattan_circle(sensor, distance + 1))\n",
    "\n",
    "    def is_known_beacon(self, point: Point) -> bool:\n",
    "        for scan in self.scans:\n",
    "            if scan.beacon == point:\n",
    "                return True\n",
    "        return False\n",
    "\n",
    "    def is_clear(self, point: Point) -> bool:\n",
    "        for scan in self.scans:\n",
    "            if scan.sensor == point:\n",
    "                return True\n",
    "            if scan.beacon == point:\n",
    "                return False # beacon can never be clear of beacon\n",
    "            if manhattan_distance(scan.sensor, point) <= scan.distance:\n",
    "                return True\n",
    "        return False\n",
    "\n",
    "    def is_clear_or_inactive_beacons(self, point: Point) -> bool:\n",
    "        for scan in self.scans:\n",
    "            if scan.sensor == point:\n",
    "                return True\n",
    "            if scan.beacon == point:\n",
    "                return True\n",
    "            if manhattan_distance(scan.sensor, point) <= scan.distance:\n",
    "                return True\n",
    "        return False\n",
    "\n",
    "    def count_row(self, y: int) -> int:\n",
    "        rv = 0\n",
    "        for x in tn.tqdm(range(self.left, self.right + 1), desc='counting checked locations in row y={y}'):\n",
    "            p = Point(x=x, y=y)\n",
    "            if self.is_clear(p):\n",
    "                rv += 1\n",
    "        return rv"
   ],
   "metadata": {
    "collapsed": false
   }
  },
  {
   "cell_type": "markdown",
   "source": [
    "### Input Parsing"
   ],
   "metadata": {
    "collapsed": false
   }
  },
  {
   "cell_type": "code",
   "execution_count": null,
   "outputs": [],
   "source": [
    "def read_scans(filename: str) -> Iterator[tuple[Point, Point]]:\n",
    "    with open(filename) as file:\n",
    "        for line in file:\n",
    "            line = line.strip()\n",
    "            match = re.search(r'Sensor at x=(-?\\d+), y=(-?\\d+): closest beacon is at x=(-?\\d+), y=(-?\\d+)', line)\n",
    "            match = [int(m) for m in match.groups()]\n",
    "            assert len(match) == 4\n",
    "            yield Point(x=match[0], y=match[1]), Point(x=match[2], y=match[3])"
   ],
   "metadata": {
    "collapsed": false
   }
  },
  {
   "cell_type": "markdown",
   "source": [
    "### Building the World (For Part 1 and Part 2)"
   ],
   "metadata": {
    "collapsed": false
   }
  },
  {
   "cell_type": "code",
   "execution_count": null,
   "outputs": [],
   "source": [
    "INPUT_FILE = 'data/input15.txt'"
   ],
   "metadata": {
    "collapsed": false
   }
  },
  {
   "cell_type": "code",
   "execution_count": null,
   "outputs": [],
   "source": [
    "WORLD = World()\n",
    "\n",
    "lines = list(read_scans(INPUT_FILE))\n",
    "for sensor, beacon in tn.tqdm(lines, desc='Scanning'):\n",
    "    WORLD.scan(sensor, beacon)"
   ],
   "metadata": {
    "collapsed": false
   }
  },
  {
   "cell_type": "markdown",
   "source": [
    "### Part 1"
   ],
   "metadata": {
    "collapsed": false
   }
  },
  {
   "cell_type": "code",
   "execution_count": null,
   "outputs": [],
   "source": [
    "ROW_TO_CHECK = 2000000\n",
    "print(f'The number of locations cleared in row y={ROW_TO_CHECK} is {WORLD.count_row(y=ROW_TO_CHECK)}')"
   ],
   "metadata": {
    "collapsed": false
   }
  },
  {
   "cell_type": "markdown",
   "source": [
    "### Part 2"
   ],
   "metadata": {
    "collapsed": false
   }
  },
  {
   "cell_type": "code",
   "execution_count": null,
   "outputs": [],
   "source": [
    "MAX = 4_000_000\n",
    "X_MULTIPLIER = 4_000_000\n",
    "\n",
    "for p in tn.tqdm(WORLD.candidates, desc='Searching Candidates'):\n",
    "    if 0 <= p.x <= MAX and 0 <= p.y <= MAX:\n",
    "        if not WORLD.is_clear_or_inactive_beacons(p):\n",
    "            print('Stopping search. Found a match!')\n",
    "            print(f'Location: {p}\\nFrequency: {p.x * X_MULTIPLIER + p.y}')\n",
    "            break"
   ],
   "metadata": {
    "collapsed": false
   }
  }
 ],
 "metadata": {
  "kernelspec": {
   "display_name": "Python 3",
   "language": "python",
   "name": "python3"
  },
  "language_info": {
   "codemirror_mode": {
    "name": "ipython",
    "version": 2
   },
   "file_extension": ".py",
   "mimetype": "text/x-python",
   "name": "python",
   "nbconvert_exporter": "python",
   "pygments_lexer": "ipython2",
   "version": "2.7.6"
  }
 },
 "nbformat": 4,
 "nbformat_minor": 0
}
