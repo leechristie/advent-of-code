{
 "cells": [
  {
   "cell_type": "markdown",
   "source": [
    "# Advent of Code 2015\n",
    "\n",
    "## Day 18: Like a GIF For Your Yard\n",
    "\n",
    "Solution code by [leechristie](https://github.com/leechristie) for Advent of Code 2015."
   ],
   "metadata": {
    "collapsed": false
   }
  },
  {
   "cell_type": "code",
   "execution_count": null,
   "outputs": [],
   "source": [
    "from aoc import *"
   ],
   "metadata": {
    "collapsed": false
   }
  },
  {
   "cell_type": "code",
   "execution_count": null,
   "outputs": [],
   "source": [
    "INITIAL = DefaultMatrix(load_int_matrix('data/input18.txt', lambda x: 1 if x == '#' else 0))\n",
    "NUM_STEPS = 100"
   ],
   "metadata": {
    "collapsed": false
   }
  },
  {
   "cell_type": "code",
   "execution_count": null,
   "outputs": [],
   "source": [
    "def next_state(current_state):\n",
    "    next_matrix = DefaultMatrix(np.zeros(current_state.shape, dtype=int))\n",
    "    for y in range(current_state.shape[0]):\n",
    "        for x in range(current_state.shape[1]):\n",
    "            position = y, x\n",
    "            total = 0\n",
    "            for n in current_state.neighbours(position):\n",
    "                total += current_state[n]\n",
    "            if current_state[position]:\n",
    "                if total in (2, 3):\n",
    "                    next_matrix[position] = 1\n",
    "            else:\n",
    "                if total == 3:\n",
    "                    next_matrix[position] = 1\n",
    "    return next_matrix"
   ],
   "metadata": {
    "collapsed": false
   }
  },
  {
   "cell_type": "markdown",
   "source": [
    "### Part 1"
   ],
   "metadata": {
    "collapsed": false
   }
  },
  {
   "cell_type": "code",
   "execution_count": null,
   "outputs": [],
   "source": [
    "state = INITIAL\n",
    "for _ in range(NUM_STEPS):\n",
    "    state = next_state(state)\n",
    "\n",
    "print(f'The number of lights on after {NUM_STEPS} steps is {np.count_nonzero(state.matrix)}.')"
   ],
   "metadata": {
    "collapsed": false
   }
  },
  {
   "cell_type": "markdown",
   "source": [
    "### Part 2"
   ],
   "metadata": {
    "collapsed": false
   }
  },
  {
   "cell_type": "code",
   "execution_count": null,
   "outputs": [],
   "source": [
    "def set_corners(current_state, value):\n",
    "    current_state[(0, 0)] = value\n",
    "    current_state[(current_state.height - 1, 0)] = value\n",
    "    current_state[(0, current_state.width - 1)] = value\n",
    "    current_state[(current_state.height - 1, current_state.width - 1)] = value"
   ],
   "metadata": {
    "collapsed": false
   }
  },
  {
   "cell_type": "code",
   "execution_count": null,
   "outputs": [],
   "source": [
    "state = INITIAL\n",
    "\n",
    "state = state.copy()\n",
    "set_corners(state, 1)\n",
    "\n",
    "for _ in range(NUM_STEPS):\n",
    "    state = next_state(state)\n",
    "    set_corners(state, 1)\n",
    "\n",
    "print(f'The number of lights on after {NUM_STEPS} with  fixed lights is steps is {np.count_nonzero(state.matrix)}.')"
   ],
   "metadata": {
    "collapsed": false
   }
  },
  {
   "cell_type": "code",
   "execution_count": null,
   "outputs": [],
   "source": [],
   "metadata": {
    "collapsed": false
   }
  }
 ],
 "metadata": {
  "kernelspec": {
   "display_name": "Python 3",
   "language": "python",
   "name": "python3"
  },
  "language_info": {
   "codemirror_mode": {
    "name": "ipython",
    "version": 2
   },
   "file_extension": ".py",
   "mimetype": "text/x-python",
   "name": "python",
   "nbconvert_exporter": "python",
   "pygments_lexer": "ipython2",
   "version": "2.7.6"
  }
 },
 "nbformat": 4,
 "nbformat_minor": 0
}
