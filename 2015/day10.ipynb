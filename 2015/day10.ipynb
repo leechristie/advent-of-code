{
 "cells": [
  {
   "cell_type": "markdown",
   "source": [
    "# Advent of Code 2015\n",
    "\n",
    "## Day 10: Elves Look, Elves Say\n",
    "\n",
    "Solution code by [leechristie](https://github.com/leechristie) for Advent of Code 2015."
   ],
   "metadata": {
    "collapsed": false
   }
  },
  {
   "cell_type": "code",
   "execution_count": null,
   "outputs": [],
   "source": [
    "def iter_groups(value):\n",
    "    count, current = 0, None\n",
    "    for char in value:\n",
    "        if current is None:\n",
    "            assert count == 0\n",
    "            count = 1\n",
    "            current = char\n",
    "        else:\n",
    "            assert count > 0\n",
    "            if current == char:\n",
    "                count += 1\n",
    "            else:\n",
    "                yield count, current\n",
    "                count, current = 1, char\n",
    "    if current is not None:\n",
    "        assert count > 0\n",
    "        yield count, current\n",
    "    else:\n",
    "        assert count == 0"
   ],
   "metadata": {
    "collapsed": false
   }
  },
  {
   "cell_type": "code",
   "execution_count": null,
   "outputs": [],
   "source": [
    "def look_and_say(value):\n",
    "    rv = ''\n",
    "    for count, current in iter_groups(value):\n",
    "        rv += str(count) + current\n",
    "    return rv"
   ],
   "metadata": {
    "collapsed": false
   }
  },
  {
   "cell_type": "code",
   "execution_count": null,
   "outputs": [],
   "source": [
    "def iterate_look_and_say(value, iteratons):\n",
    "    for i in range(iteratons):\n",
    "        value = look_and_say(value)\n",
    "    return value"
   ],
   "metadata": {
    "collapsed": false
   }
  },
  {
   "cell_type": "code",
   "execution_count": null,
   "outputs": [],
   "source": [
    "INPUT = '3113322113'"
   ],
   "metadata": {
    "collapsed": false
   }
  },
  {
   "cell_type": "markdown",
   "source": [
    "### Part 1"
   ],
   "metadata": {
    "collapsed": false
   }
  },
  {
   "cell_type": "code",
   "execution_count": null,
   "outputs": [],
   "source": [
    "value = iterate_look_and_say(INPUT, 40)\n",
    "\n",
    "print(f'The length of the code after 40 iterations is {len(value)}')"
   ],
   "metadata": {
    "collapsed": false
   }
  },
  {
   "cell_type": "markdown",
   "source": [
    "### Part 2"
   ],
   "metadata": {
    "collapsed": false
   }
  },
  {
   "cell_type": "code",
   "execution_count": null,
   "outputs": [],
   "source": [
    "value = iterate_look_and_say(INPUT, 50)\n",
    "\n",
    "print(f'The length of the code after 50 iterations is {len(value)}')"
   ],
   "metadata": {
    "collapsed": false
   }
  },
  {
   "cell_type": "code",
   "execution_count": null,
   "outputs": [],
   "source": [],
   "metadata": {
    "collapsed": false
   }
  }
 ],
 "metadata": {
  "kernelspec": {
   "display_name": "Python 3",
   "language": "python",
   "name": "python3"
  },
  "language_info": {
   "codemirror_mode": {
    "name": "ipython",
    "version": 2
   },
   "file_extension": ".py",
   "mimetype": "text/x-python",
   "name": "python",
   "nbconvert_exporter": "python",
   "pygments_lexer": "ipython2",
   "version": "2.7.6"
  }
 },
 "nbformat": 4,
 "nbformat_minor": 0
}
