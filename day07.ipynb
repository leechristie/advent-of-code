{
 "cells": [
  {
   "cell_type": "markdown",
   "source": [
    "# Advent of Code 2022\n",
    "\n",
    "## Day 7: No Space Left On Device\n",
    "\n",
    "Solution code by [leechristie](https://github.com/leechristie) for Advent of Code 2022.\n",
    "\n",
    "The difficulty went back up compared to yesterday!\n",
    "\n",
    "I built three classes `Node` and its subclasses `Folder` and `File`.\n",
    "\n",
    "`Node` tracks the name of a node on the file system and its parent (I could probably solve this without linking the parent in the node, but this made it easier). `Folder` tracks child nodes (or `None` if an `ls` command has not been issued yet), `File` tracks the size.\n",
    "\n",
    "Some of the methods like `full_name` are just there for testing and debugging. The important work is done by `compute_size` which is recursive on `Folder`.\n",
    "\n",
    "`process_commands` does the work of looping over commands and building the tree, tracking `cwd` and navigating up and down. Once this process is complete I had a recursive `get_all_folders` mothod to get a list of folders and then it's relatively simple to apply the logic described in the puzzle for deciding on the correct folder by size. Some extra print lines were in part 2 to check the maths of file sizes was working."
   ],
   "metadata": {
    "collapsed": false
   }
  },
  {
   "cell_type": "code",
   "execution_count": null,
   "outputs": [],
   "source": [
    "from typing import Optional, Iterator\n",
    "from abc import ABC"
   ],
   "metadata": {
    "collapsed": false
   }
  },
  {
   "cell_type": "code",
   "execution_count": null,
   "outputs": [],
   "source": [
    "def read(filename: str, limit: Optional[int] = None) -> Iterator[str]:\n",
    "    with open(filename) as file:\n",
    "        count = 0\n",
    "        for line in file:\n",
    "            line = line.strip()\n",
    "            yield line\n",
    "            count += 1\n",
    "            if limit is not None and count >= limit:\n",
    "                break"
   ],
   "metadata": {
    "collapsed": false
   }
  },
  {
   "cell_type": "code",
   "execution_count": null,
   "outputs": [],
   "source": [
    "class Node(ABC):\n",
    "\n",
    "    __slots__ = ['parent', 'name']\n",
    "\n",
    "    def __init__(self, parent: Optional['Node'], name: str):\n",
    "        self.parent = parent\n",
    "        self.name = name\n",
    "\n",
    "    def __str__(self):\n",
    "        return self.to_string()\n",
    "\n",
    "    def __repr__(self):\n",
    "        return str(self)\n",
    "\n",
    "    def to_string(self, indent: int = 0):\n",
    "        pass\n",
    "\n",
    "    def full_name(self):\n",
    "        if self.parent is None:\n",
    "            return self.name\n",
    "        elif self.parent.parent is None:\n",
    "            return self.parent.name + self.name\n",
    "        else:\n",
    "            return self.parent.full_name() + '/' + self.name\n",
    "\n",
    "    def compute_size(self):\n",
    "        pass\n",
    "\n",
    "\n",
    "class Folder(Node):\n",
    "\n",
    "    __slots__ = [ 'children']\n",
    "\n",
    "    def __init__(self, parent: Optional['Node'], name: str, children: Optional[list[Node]] = None):\n",
    "        super().__init__(parent, name)\n",
    "        self.children = children\n",
    "\n",
    "    def to_string(self, indent: int = 0):\n",
    "        rv = ' ' * (4 * indent) + '- ' + self.name + ' (dir)\\n'\n",
    "        if self.children is None:\n",
    "            rv += ' ' * (4 * (indent + 1)) + 'ERROR - UNKNOWN CONTENTS!!!\\n'\n",
    "        else:\n",
    "            for c in self.children:\n",
    "                rv += c.to_string(indent + 1)\n",
    "        return rv\n",
    "\n",
    "    def compute_size(self):\n",
    "        return sum([c.compute_size() for c in self.children])\n",
    "\n",
    "class File(Node):\n",
    "\n",
    "    __slots__ = ['size']\n",
    "\n",
    "    def __init__(self, parent: Optional['Node'], name: str, size: int = None):\n",
    "        super().__init__(parent, name)\n",
    "        self.size = size\n",
    "\n",
    "    def to_string(self, indent: int = 0):\n",
    "        return ' ' * (4 * indent) + '- ' + self.name + ' (file, size=' + str(self.size) + ')\\n'\n",
    "\n",
    "    def compute_size(self):\n",
    "        return self.size"
   ],
   "metadata": {
    "collapsed": false
   }
  },
  {
   "cell_type": "code",
   "execution_count": null,
   "outputs": [],
   "source": [
    "def read_commands(filename: str) -> Iterator[tuple[str, list[str]]]:\n",
    "\n",
    "    command, output = None, []\n",
    "\n",
    "    for line in read(filename):\n",
    "\n",
    "        # line is a command\n",
    "        if line.startswith('$ '):\n",
    "\n",
    "            if command is not None:\n",
    "                yield command, output\n",
    "\n",
    "            command, output = line[2:], []\n",
    "\n",
    "        # line is an output\n",
    "        else:\n",
    "\n",
    "            assert command is not None\n",
    "            output.append(line)\n",
    "\n",
    "    if command is not None:\n",
    "        yield command, output"
   ],
   "metadata": {
    "collapsed": false
   }
  },
  {
   "cell_type": "code",
   "execution_count": null,
   "outputs": [],
   "source": [
    "def process_commands(file):\n",
    "\n",
    "    root = Folder(None, '/')\n",
    "    cwd = None\n",
    "\n",
    "    for command, output in read_commands(file):\n",
    "\n",
    "        if cwd is None:\n",
    "            assert (command == 'cd /'), f'first command was {command} instead of cd /'\n",
    "\n",
    "        # change directory (absolute)\n",
    "        if command == 'cd /':\n",
    "            cwd = root\n",
    "\n",
    "        # up one directory\n",
    "        elif command == 'cd ..':\n",
    "            cwd = cwd.parent\n",
    "\n",
    "        # go into a directory\n",
    "        elif command.startswith('cd'):\n",
    "            _, name = command.split(' ')\n",
    "            child = None\n",
    "            for c in cwd.children:\n",
    "                if c.name == name:\n",
    "                    child = c\n",
    "            assert child is not None\n",
    "            cwd = child\n",
    "\n",
    "        # list directory contents\n",
    "        elif command == 'ls':\n",
    "            assert type(cwd) == Folder\n",
    "            assert (cwd.children is None), f'{cwd.full_name()}, already has contents, but trying to list again'\n",
    "            cwd.children = []\n",
    "            for o in output:\n",
    "                size, name = o.split(' ')\n",
    "                if size == 'dir':\n",
    "                    new = Folder(cwd, name)\n",
    "                    cwd.children.append(new)\n",
    "                else:\n",
    "                    size = int(size)\n",
    "                    new = File(cwd, name, size)\n",
    "                    cwd.children.append(new)\n",
    "\n",
    "        # error\n",
    "        else:\n",
    "            raise ValueError(f'unknown command: {command}')\n",
    "\n",
    "    return root"
   ],
   "metadata": {
    "collapsed": false
   }
  },
  {
   "cell_type": "code",
   "execution_count": null,
   "outputs": [],
   "source": [
    "def get_all_folders(root: Optional[Folder], into: list[Folder]) -> None:\n",
    "    if type(root) == Folder:\n",
    "        into.append(root)\n",
    "        for c in root.children:\n",
    "            get_all_folders(c, into)"
   ],
   "metadata": {
    "collapsed": false
   }
  },
  {
   "cell_type": "code",
   "execution_count": null,
   "outputs": [],
   "source": [
    "INPUT_FILE = 'data/input07.txt'"
   ],
   "metadata": {
    "collapsed": false
   }
  },
  {
   "cell_type": "markdown",
   "source": [
    "### Part 1"
   ],
   "metadata": {
    "collapsed": false
   }
  },
  {
   "cell_type": "code",
   "execution_count": null,
   "outputs": [],
   "source": [
    "MAX_SIZE = 100000\n",
    "\n",
    "def main():\n",
    "    final_structure = process_commands(INPUT_FILE)\n",
    "    folders = []\n",
    "    get_all_folders(final_structure, folders)\n",
    "    total = 0\n",
    "    for f in folders:\n",
    "        if f.compute_size() <= MAX_SIZE:\n",
    "            total += f.compute_size()\n",
    "\n",
    "    # print(final_structure)  # for testing\n",
    "    # print()\n",
    "    print('total size =', final_structure.compute_size())\n",
    "    print(f'sum of folders at most {MAX_SIZE} = {total}')"
   ],
   "metadata": {
    "collapsed": false
   }
  },
  {
   "cell_type": "code",
   "execution_count": null,
   "outputs": [],
   "source": [
    "if __name__ == '__main__':\n",
    "    main()"
   ],
   "metadata": {
    "collapsed": false
   }
  },
  {
   "cell_type": "markdown",
   "source": [
    "### Part 2"
   ],
   "metadata": {
    "collapsed": false
   }
  },
  {
   "cell_type": "code",
   "execution_count": null,
   "outputs": [],
   "source": [
    "FILE_SYSTEM_SIZE = 70000000\n",
    "UPDATE_SIZE = 30000000\n",
    "\n",
    "def main():\n",
    "    final_structure = process_commands(INPUT_FILE)\n",
    "    folders = []\n",
    "    get_all_folders(final_structure, folders)\n",
    "    possible_folder = []\n",
    "    current_used = final_structure.compute_size()\n",
    "    print('current space used :', current_used)\n",
    "    print('needed for update :', UPDATE_SIZE)\n",
    "    print('file system size :', FILE_SYSTEM_SIZE)\n",
    "    print('need to free at least :', (UPDATE_SIZE + current_used - FILE_SYSTEM_SIZE))\n",
    "    for f in folders:\n",
    "        possible_folder.append((f.compute_size(), f.full_name()))\n",
    "    possible_folder.sort()\n",
    "    for size, folder in possible_folder:\n",
    "        if size >= UPDATE_SIZE + current_used - FILE_SYSTEM_SIZE:\n",
    "            print(f'folder to delete is {folder}, of size {size}')\n",
    "            return\n",
    "    print('nothing found!')"
   ],
   "metadata": {
    "collapsed": false
   }
  },
  {
   "cell_type": "code",
   "execution_count": null,
   "outputs": [],
   "source": [
    "if __name__ == '__main__':\n",
    "    main()"
   ],
   "metadata": {
    "collapsed": false
   }
  }
 ],
 "metadata": {
  "kernelspec": {
   "display_name": "Python 3",
   "language": "python",
   "name": "python3"
  },
  "language_info": {
   "codemirror_mode": {
    "name": "ipython",
    "version": 2
   },
   "file_extension": ".py",
   "mimetype": "text/x-python",
   "name": "python",
   "nbconvert_exporter": "python",
   "pygments_lexer": "ipython2",
   "version": "2.7.6"
  }
 },
 "nbformat": 4,
 "nbformat_minor": 0
}
