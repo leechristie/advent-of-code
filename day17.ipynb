{
 "cells": [
  {
   "cell_type": "markdown",
   "source": [
    "# Advent of Code 2022\n",
    "\n",
    "## Day 17: Pyroclastic Flow\n",
    "\n",
    "Solution code by [leechristie](https://github.com/leechristie) for Advent of Code 2022."
   ],
   "metadata": {
    "collapsed": false
   }
  },
  {
   "cell_type": "markdown",
   "source": [
    "### Imports"
   ],
   "metadata": {
    "collapsed": false
   }
  },
  {
   "cell_type": "code",
   "execution_count": 390,
   "outputs": [],
   "source": [
    "from enum import Enum\n",
    "from typing import Iterator, Optional\n",
    "from collections import namedtuple\n",
    "import tqdm.notebook as tqdm"
   ],
   "metadata": {
    "collapsed": false
   }
  },
  {
   "cell_type": "markdown",
   "source": [
    "### Directions"
   ],
   "metadata": {
    "collapsed": false
   }
  },
  {
   "cell_type": "code",
   "execution_count": 391,
   "outputs": [],
   "source": [
    "class Direction(Enum):\n",
    "    LEFT = 1\n",
    "    RIGHT = 2\n",
    "    UP = 3\n",
    "    DOWN = 4\n",
    "\n",
    "    def __str__(self):\n",
    "        assert self in {Direction.LEFT, Direction.RIGHT, Direction.UP, Direction.DOWN}\n",
    "        if self == Direction.LEFT:\n",
    "            return '←'\n",
    "        if self == Direction.RIGHT:\n",
    "            return '→'\n",
    "        if self == Direction.UP:\n",
    "            return '↑'\n",
    "        return '↓'\n",
    "\n",
    "    def velocity(self):\n",
    "        assert self in {Direction.LEFT, Direction.RIGHT, Direction.UP, Direction.DOWN}\n",
    "        if self == Direction.LEFT:\n",
    "            return Point(x=-1, y=0)\n",
    "        if self == Direction.RIGHT:\n",
    "            return Point(x=1, y=0)\n",
    "        if self == Direction.UP:\n",
    "            return Point(x=0, y=1)\n",
    "        return Point(x=0, y=-1)\n",
    "\n",
    "    def __repr__(self):\n",
    "        return str(self)\n",
    "\n",
    "    @staticmethod\n",
    "    def parse(symbol: str) -> 'Direction':\n",
    "        assert symbol in {'<', '>'}\n",
    "        if symbol == '<':\n",
    "            return Direction.LEFT\n",
    "        return Direction.RIGHT\n",
    "\n",
    "INPUT_FILE = 'data/input17.txt'\n",
    "\n",
    "with open(INPUT_FILE) as file:\n",
    "    line = next(file).strip()\n",
    "    DIRECTIONS = [Direction.parse(symbol) for symbol in line]\n",
    "\n",
    "def infinite_direction_source(*, limit: Optional[int] = None) -> Iterator[Direction]:\n",
    "    global DIRECTIONS\n",
    "    assert limit is None or (type(limit) == int and limit >= 0)\n",
    "    count = 0\n",
    "    while True:\n",
    "        for rv in DIRECTIONS:\n",
    "            if limit is not None and count >= limit:\n",
    "                return\n",
    "            yield rv\n",
    "            count += 1"
   ],
   "metadata": {
    "collapsed": false
   }
  },
  {
   "cell_type": "markdown",
   "source": [
    "### Rocks Shapes"
   ],
   "metadata": {
    "collapsed": false
   }
  },
  {
   "cell_type": "code",
   "execution_count": 392,
   "outputs": [],
   "source": [
    "class RockShape:\n",
    "\n",
    "    __slots__ = ['slices']\n",
    "\n",
    "    def __init__(self, encoding: list[str]):\n",
    "        assert (len(encoding) >= 1), f'{len(encoding) = }'\n",
    "        length = None\n",
    "        slices = []\n",
    "        for line in encoding:\n",
    "            assert (len(line) >= 1), f'encoding has empty line'\n",
    "            if length is None:\n",
    "                length = len(line)\n",
    "            else:\n",
    "                assert (len(line) == length), f'encoding is not rectangular'\n",
    "            for char in line:\n",
    "                assert (char in {'.', '#'}), f'unknown character in encoding'\n",
    "            slices.append(tuple([char == '#' for char in line]))\n",
    "        self.slices = tuple(slices)\n",
    "\n",
    "    def __str__(self):\n",
    "        rv = ''\n",
    "        for line in self.slices:\n",
    "            for filled in line:\n",
    "                if filled:\n",
    "                    rv += '@'\n",
    "                else:\n",
    "                    rv += ' '\n",
    "            rv += '\\n'\n",
    "        return rv\n",
    "\n",
    "    def __repr__(self):\n",
    "        return str(self)\n",
    "\n",
    "ROCK_SHAPES = [\n",
    "    RockShape(['####']),              # minus\n",
    "    RockShape(['.#.', '###', '.#.']), # plus\n",
    "    RockShape(['..#', '..#', '###']), # J\n",
    "    RockShape(['#', '#', '#', '#']),  # I\n",
    "    RockShape(['##', '##'])           # square\n",
    "]\n",
    "\n",
    "def infinite_rock_shape_source(*, limit: Optional[int] = None) -> Iterator[RockShape]:\n",
    "    global ROCK_SHAPES\n",
    "    assert limit is None or (type(limit) == int and limit >= 0)\n",
    "    count = 0\n",
    "    while True:\n",
    "        for rv in ROCK_SHAPES:\n",
    "            if limit is not None and count >= limit:\n",
    "                return\n",
    "            yield rv\n",
    "            count += 1"
   ],
   "metadata": {
    "collapsed": false
   }
  },
  {
   "cell_type": "markdown",
   "source": [
    "### Falling Rocks"
   ],
   "metadata": {
    "collapsed": false
   }
  },
  {
   "cell_type": "code",
   "execution_count": 393,
   "outputs": [],
   "source": [
    "# noinspection PyTypeChecker\n",
    "Point = namedtuple('Point', ['x', 'y'])\n",
    "\n",
    "def add(a: Point, b: Point) -> Point:\n",
    "    return Point(x=a.x+b.x, y=a.y+b.y)\n",
    "\n",
    "def negate(a: Point) -> Point:\n",
    "    return Point(x=-a.x, y=-a.y)"
   ],
   "metadata": {
    "collapsed": false
   }
  },
  {
   "cell_type": "code",
   "execution_count": 394,
   "outputs": [],
   "source": [
    "class FallingRock:\n",
    "\n",
    "    __slots__ = ['shape', 'bottom_left']\n",
    "\n",
    "    def __init__(self, shape: RockShape, bottom_left: Point):\n",
    "        self.shape = shape\n",
    "        self.bottom_left = bottom_left\n",
    "\n",
    "    def to_points(self) -> set[Point]:\n",
    "        rv = []\n",
    "        current_y = self.bottom_left.y\n",
    "        for neg_y_offset, cross_section in reversed(list(enumerate(self.shape.slices))):\n",
    "            current_x = self.bottom_left.x\n",
    "            for x_offset, is_rock in enumerate(cross_section):\n",
    "                if is_rock:\n",
    "                    rv.append(Point(x=current_x, y=current_y))\n",
    "                current_x += 1\n",
    "            current_y += 1\n",
    "        return set(rv)\n",
    "\n",
    "    def attempt_move(self, direction: Direction, chamber: 'Chamber'):\n",
    "\n",
    "        velocity = direction.velocity()\n",
    "        for p in self.to_points():\n",
    "            assert (p not in chamber.points), f'ready to move rock, but {p} is landed'\n",
    "\n",
    "        self.bottom_left = add(self.bottom_left, velocity)\n",
    "        points = self.to_points()\n",
    "        crashed = False\n",
    "\n",
    "        # check for going outside area\n",
    "        for p in points:\n",
    "            if p.y < 0 or p.x < 0 or p.x >= Chamber.WIDTH:\n",
    "                crashed = True\n",
    "                break\n",
    "\n",
    "        # check for landing\n",
    "        if not crashed:\n",
    "            for p in points:\n",
    "                if p in chamber.points:\n",
    "                    crashed = True\n",
    "                    break\n",
    "\n",
    "        # move back\n",
    "        if crashed:\n",
    "            self.bottom_left = add(self.bottom_left, negate(velocity))\n",
    "            points = self.to_points()\n",
    "            for p in points:\n",
    "                assert (p not in chamber.points), f'moved rock back, but {p} is landed'\n",
    "            return False\n",
    "\n",
    "        return True"
   ],
   "metadata": {
    "collapsed": false
   }
  },
  {
   "cell_type": "markdown",
   "source": [
    "### Chamber"
   ],
   "metadata": {
    "collapsed": false
   }
  },
  {
   "cell_type": "code",
   "execution_count": 395,
   "outputs": [],
   "source": [
    "class Chamber:\n",
    "\n",
    "    WIDTH = 7\n",
    "\n",
    "    __slots__ = ['points', 'rocks', 'stack_height']\n",
    "\n",
    "    def __init__(self):\n",
    "        self.points: set[Point] = set()\n",
    "        self.rocks: set[FallingRock] = set()\n",
    "        self.stack_height = 0\n",
    "\n",
    "\n",
    "    def land(self, falling_rock: FallingRock) -> None:\n",
    "        for p in falling_rock.to_points():\n",
    "            assert (p not in self.points), f'trying to land rock but aleady landed point {p}'\n",
    "            self.points.add(p)\n",
    "            self.rocks.add(falling_rock)\n",
    "            if p.y + 1 > self.stack_height:\n",
    "                self.stack_height = p.y + 1\n",
    "\n",
    "    def spawn_rock(self, shape: RockShape) -> FallingRock:\n",
    "        start = Point(x=2, y=3+self.stack_height)\n",
    "        return FallingRock(shape, start)\n",
    "\n",
    "    def render(self, falling_rock: Optional[FallingRock] = None) -> None:\n",
    "        points = falling_rock.to_points() if falling_rock else set()\n",
    "        start_height = self.stack_height\n",
    "        if falling_rock is not None:\n",
    "            new_top = falling_rock.bottom_left.y + len(falling_rock.shape.slices)\n",
    "            if new_top > start_height:\n",
    "                start_height = new_top\n",
    "        for y in range(start_height, -1, -1):\n",
    "            print('🔳', end='')\n",
    "            for x in range(0, Chamber.WIDTH):\n",
    "                p = Point(x=x, y=y)\n",
    "                if p in self.points:\n",
    "                    print('🟥', end='')\n",
    "                elif p in points:\n",
    "                    print('🟩', end='')\n",
    "                else:\n",
    "                    print('⬛', end='')\n",
    "            print(f'🔳 {y}')\n",
    "        print(f'🔳🔳🔳🔳🔳🔳🔳🔳🔳\\tstack height = {self.stack_height}')\n",
    "        print()"
   ],
   "metadata": {
    "collapsed": false
   }
  },
  {
   "cell_type": "markdown",
   "source": [
    "### Part 1"
   ],
   "metadata": {
    "collapsed": false
   }
  },
  {
   "cell_type": "code",
   "execution_count": 396,
   "outputs": [
    {
     "data": {
      "text/plain": "  0%|          | 0/2022 [00:00<?, ?it/s]",
      "application/vnd.jupyter.widget-view+json": {
       "version_major": 2,
       "version_minor": 0,
       "model_id": "cdbb4ec03e834450a6382526ba1f2655"
      }
     },
     "metadata": {},
     "output_type": "display_data"
    },
    {
     "name": "stdout",
     "output_type": "stream",
     "text": [
      "Simulation ended.\n",
      "stack height is 3232\n",
      "\n"
     ]
    }
   ],
   "source": [
    "chamber = Chamber()\n",
    "\n",
    "directions = infinite_direction_source()\n",
    "\n",
    "verbose = False\n",
    "print_each_block = False\n",
    "print_end = False\n",
    "\n",
    "num_blocks = 2022\n",
    "\n",
    "for shape in tqdm.tqdm(infinite_rock_shape_source(limit=num_blocks), total=num_blocks):\n",
    "\n",
    "    rock: Optional[FallingRock] = chamber.spawn_rock(shape)\n",
    "    if verbose:\n",
    "        print('rock begins falling')\n",
    "        chamber.render(rock)\n",
    "\n",
    "    while rock is not None:\n",
    "\n",
    "        direction = next(directions)\n",
    "        if verbose:\n",
    "            print(f'jet of gas pushes {direction}', end= '')\n",
    "        moved = rock.attempt_move(direction, chamber)\n",
    "        if verbose:\n",
    "            if not moved:\n",
    "                print(' but nothing happened', end='')\n",
    "            print(':')\n",
    "            chamber.render(rock)\n",
    "\n",
    "        direction = Direction.DOWN\n",
    "        if verbose:\n",
    "            print('rock falls 1 unit', end= '')\n",
    "        moved = rock.attempt_move(direction, chamber)\n",
    "        if not moved:\n",
    "            if verbose:\n",
    "                print(' causing it to come to a rest', end='')\n",
    "            chamber.land(rock)\n",
    "            rock = None\n",
    "        if verbose:\n",
    "            print(':')\n",
    "        if verbose or print_each_block:\n",
    "            chamber.render(rock)\n",
    "\n",
    "print('Simulation ended.')\n",
    "print(f'stack height is {chamber.stack_height}')\n",
    "print()\n",
    "if not verbose and not print_each_block:\n",
    "    if print_end:\n",
    "        chamber.render()"
   ],
   "metadata": {
    "collapsed": false
   }
  }
 ],
 "metadata": {
  "kernelspec": {
   "display_name": "Python 3",
   "language": "python",
   "name": "python3"
  },
  "language_info": {
   "codemirror_mode": {
    "name": "ipython",
    "version": 2
   },
   "file_extension": ".py",
   "mimetype": "text/x-python",
   "name": "python",
   "nbconvert_exporter": "python",
   "pygments_lexer": "ipython2",
   "version": "2.7.6"
  }
 },
 "nbformat": 4,
 "nbformat_minor": 0
}
