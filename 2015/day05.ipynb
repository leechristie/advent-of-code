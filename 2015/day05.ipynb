{
 "cells": [
  {
   "cell_type": "markdown",
   "source": [
    "# Advent of Code 2015\n",
    "\n",
    "## Day 5: Doesn't He Have Intern-Elves For This?\n",
    "\n",
    "Solution code by [leechristie](https://github.com/leechristie) for Advent of Code 2015."
   ],
   "metadata": {
    "collapsed": false
   }
  },
  {
   "cell_type": "code",
   "execution_count": null,
   "outputs": [],
   "source": [
    "from aoc import *\n",
    "\n",
    "DATA = load_lines('data/input05.txt')"
   ],
   "metadata": {
    "collapsed": false
   }
  },
  {
   "cell_type": "markdown",
   "source": [
    "### Part 1"
   ],
   "metadata": {
    "collapsed": false
   }
  },
  {
   "cell_type": "code",
   "execution_count": null,
   "outputs": [],
   "source": [
    "def is_nice1(candidate_string: str) -> bool:\n",
    "\n",
    "    # rule 3\n",
    "    for banned_string in 'ab', 'cd', 'pq', 'xy':\n",
    "        if banned_string in candidate_string:\n",
    "            return False\n",
    "\n",
    "   # rule 2\n",
    "    for i in range(len(candidate_string)-1):\n",
    "        j = i + 1\n",
    "        if candidate_string[i] == candidate_string[j]:\n",
    "            break\n",
    "    else:\n",
    "        return False\n",
    "\n",
    "    # rule 1\n",
    "    vowel_count = 0\n",
    "    for v in 'aeiou':\n",
    "        vowel_count += candidate_string.count(v)\n",
    "        if vowel_count >= 3:\n",
    "            return True\n",
    "    return False"
   ],
   "metadata": {
    "collapsed": false
   }
  },
  {
   "cell_type": "code",
   "execution_count": null,
   "outputs": [],
   "source": [
    "def count_nice(strings, rule):\n",
    "    nice_count = 0\n",
    "    for string in strings:\n",
    "        if rule(string):\n",
    "            nice_count += 1\n",
    "    return nice_count"
   ],
   "metadata": {
    "collapsed": false
   }
  },
  {
   "cell_type": "code",
   "execution_count": null,
   "outputs": [],
   "source": [
    "print(f'There are {count_nice(DATA, is_nice1)} nice strings')"
   ],
   "metadata": {
    "collapsed": false
   }
  },
  {
   "cell_type": "markdown",
   "source": [
    "### Part 2"
   ],
   "metadata": {
    "collapsed": false
   }
  },
  {
   "cell_type": "code",
   "execution_count": null,
   "outputs": [],
   "source": [
    "def has_repeat_with_one_letter_between(candidate_string: str) -> bool:\n",
    "    if len(candidate_string) < 3:\n",
    "        return False\n",
    "    for i in range(len(candidate_string)-2):\n",
    "        j = i + 2\n",
    "        if candidate_string[i] == candidate_string[j]:\n",
    "            return True\n",
    "    return False"
   ],
   "metadata": {
    "collapsed": false
   }
  },
  {
   "cell_type": "code",
   "execution_count": null,
   "outputs": [],
   "source": [
    "def has_two_letters_repeat(candidate_string: str) -> bool:\n",
    "    if len(candidate_string) < 4:\n",
    "        return False\n",
    "    for i in range(len(candidate_string) - 3):\n",
    "        for j in range(i+2, len(candidate_string)-1):\n",
    "            if candidate_string[i:i+2] == candidate_string[j:j+2]:\n",
    "                return True\n",
    "    return False"
   ],
   "metadata": {
    "collapsed": false
   }
  },
  {
   "cell_type": "code",
   "execution_count": null,
   "outputs": [],
   "source": [
    "def is_nice2(candidate_string):\n",
    "    return has_two_letters_repeat(candidate_string) and has_repeat_with_one_letter_between(candidate_string)"
   ],
   "metadata": {
    "collapsed": false
   }
  },
  {
   "cell_type": "code",
   "execution_count": null,
   "outputs": [],
   "source": [
    "print(f'There are {count_nice(DATA, is_nice2)} nice strings')"
   ],
   "metadata": {
    "collapsed": false
   }
  }
 ],
 "metadata": {
  "kernelspec": {
   "display_name": "Python 3",
   "language": "python",
   "name": "python3"
  },
  "language_info": {
   "codemirror_mode": {
    "name": "ipython",
    "version": 2
   },
   "file_extension": ".py",
   "mimetype": "text/x-python",
   "name": "python",
   "nbconvert_exporter": "python",
   "pygments_lexer": "ipython2",
   "version": "2.7.6"
  }
 },
 "nbformat": 4,
 "nbformat_minor": 0
}
