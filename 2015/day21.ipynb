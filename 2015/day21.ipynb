{
 "cells": [
  {
   "cell_type": "markdown",
   "source": [
    "### Part 1"
   ],
   "metadata": {
    "collapsed": false
   }
  },
  {
   "cell_type": "code",
   "execution_count": null,
   "outputs": [],
   "source": [
    "WEAPONS = []\n",
    "ARMORS = []\n",
    "RINGS = []\n",
    "\n",
    "class Item:\n",
    "\n",
    "    __slots__ = ['name', 'cost', 'damage', 'armor']\n",
    "\n",
    "    def __init__(self, name, cost, damage, armor):\n",
    "        self.name = name\n",
    "        self.cost = cost\n",
    "        self.damage = damage\n",
    "        self.armor = armor\n",
    "\n",
    "    def __str__(self):\n",
    "        return f'Item(name={self.name=}, cost={self.cost}, damage{self.damage}, armor={self.armor})'\n",
    "\n",
    "    def __repr__(self):\n",
    "        return str(self)\n",
    "\n",
    "\n",
    "def add(collection, name, cost, damage, armor):\n",
    "    collection.append(Item(name, cost, damage, armor))\n",
    "\n",
    "add(WEAPONS, 'Dagger', 8, 4, 0)\n",
    "add(WEAPONS, 'Shortsword', 10, 5, 0)\n",
    "add(WEAPONS, 'Warhammer', 25, 6, 0)\n",
    "add(WEAPONS, 'Longsword', 40, 7, 0)\n",
    "add(WEAPONS, 'Greataxe', 74, 8, 0)\n",
    "\n",
    "add(ARMORS, 'Leather', 13, 0, 1)\n",
    "add(ARMORS, 'Chainmail', 31, 0, 2)\n",
    "add(ARMORS, 'Splintmail', 53, 0, 3)\n",
    "add(ARMORS, 'Bandedmail', 75, 0, 4)\n",
    "add(ARMORS, 'Platemail', 102, 0, 5)\n",
    "\n",
    "add(RINGS, 'Damage +1', 25, 1, 0)\n",
    "add(RINGS, 'Damage +2', 50, 2, 0)\n",
    "add(RINGS, 'Damage +3', 100, 3, 0)\n",
    "add(RINGS, 'Defense +1', 20, 0, 1)\n",
    "add(RINGS, 'Defense +2', 40, 0, 2)\n",
    "add(RINGS, 'Defense +3', 80, 0, 3)"
   ],
   "metadata": {
    "collapsed": false
   }
  },
  {
   "cell_type": "code",
   "execution_count": null,
   "outputs": [],
   "source": [
    "from typing import Optional\n",
    "\n",
    "\n",
    "def validate(weapon: Item, armor: Optional[Item], rings: list[Item]) -> None:\n",
    "    assert (weapon is not None), f'weapon is None'\n",
    "    assert (type(weapon) == Item), f'{type(weapon) = }, expected Item'\n",
    "    assert (armor is None or type(armor) == Item), f'{armor = }, expected None or Item'\n",
    "    assert (type(rings) == list), f'{type(rings) = }, expected list'\n",
    "    assert (len(rings) in (0, 1, 2)), f'{len(rings) = }, expected 0, 1, or 2'\n",
    "    for i, r in enumerate(rings):\n",
    "        assert (type(r) == Item), f'type(rings[{i}]) = {type(r)}, expected Item'\n",
    "\n",
    "VALID_CHOICES = []\n",
    "\n",
    "# one weapon\n",
    "for weapon in WEAPONS:\n",
    "    # one armor or none\n",
    "    for armor in ARMORS + [None]:\n",
    "        # no rings\n",
    "        validate(weapon, armor, [])\n",
    "        VALID_CHOICES.append((weapon, armor, []))\n",
    "        # one ring\n",
    "        for ring in RINGS:\n",
    "            validate(weapon, armor, [ring])\n",
    "            VALID_CHOICES.append((weapon, armor, [ring]))\n",
    "        # two rings\n",
    "        for i in range(len(RINGS)-1):\n",
    "            for j in range(i+1, len(RINGS)):\n",
    "                validate(weapon, armor, [RINGS[i], RINGS[j]])\n",
    "                VALID_CHOICES.append((weapon, armor, [RINGS[i], RINGS[j]]))\n",
    "\n",
    "print('There are', len(VALID_CHOICES), 'valid choices to evaluate.')"
   ],
   "metadata": {
    "collapsed": false
   }
  },
  {
   "cell_type": "code",
   "execution_count": null,
   "outputs": [],
   "source": [
    "class Status:\n",
    "\n",
    "    __slots__ = ['hp', 'dmg', 'ac']\n",
    "\n",
    "    def __init__(self, hp: int, dmg: int, ac: int):\n",
    "        self.hp = hp\n",
    "        self.dmg = dmg\n",
    "        self.ac = ac\n",
    "\n",
    "\n",
    "BOSS_HP = 109\n",
    "BOSS_DMG = 8\n",
    "BOSS_AC = 2\n",
    "\n",
    "PLAYER_HP = 100\n",
    "\n",
    "\n",
    "def init_boss() -> Status:\n",
    "    return Status(BOSS_HP, BOSS_DMG, BOSS_AC)\n",
    "\n",
    "\n",
    "def init_player(weapon: Item, armor: Optional[Item], rings: list[Item]) -> Status:\n",
    "    rv = Status(PLAYER_HP, 0, 0)\n",
    "    items = [weapon]\n",
    "    if armor:\n",
    "        items.append(armor)\n",
    "    items.extend(rings)\n",
    "    for item in items:\n",
    "        rv.ac += item.armor\n",
    "        rv.dmg += item.damage\n",
    "    return rv\n",
    "\n",
    "\n",
    "def calc_total_cost(weapon: Item, armor: Optional[Item], rings: list[Item]) -> int:\n",
    "    rv = 0\n",
    "    items = [weapon]\n",
    "    if armor:\n",
    "        items.append(armor)\n",
    "    items.extend(rings)\n",
    "    for item in items:\n",
    "        rv += item.cost\n",
    "    return rv\n",
    "\n",
    "\n",
    "def calc_dmg(attacker: Status, defender: Status) -> int:\n",
    "    rv = attacker.dmg - defender.ac\n",
    "    if rv < 1:\n",
    "        rv = 1\n",
    "    return rv\n",
    "\n",
    "\n",
    "def eval(weapon: Item, armor: Optional[Item], rings: list[Item]) -> tuple[bool, int]:\n",
    "    boss = init_boss()\n",
    "    player = init_player(weapon, armor, rings)\n",
    "    attacker, defender = player, boss\n",
    "    while boss.hp > 0 and player.hp > 0:\n",
    "        dmg = calc_dmg(attacker, defender)\n",
    "        defender.hp -= dmg\n",
    "        attacker, defender = defender, attacker\n",
    "    if boss.hp <= 0:\n",
    "        return True, calc_total_cost(weapon, armor, rings)\n",
    "    return False, calc_total_cost(weapon, armor, rings)"
   ],
   "metadata": {
    "collapsed": false
   }
  },
  {
   "cell_type": "markdown",
   "source": [
    "### Part 1"
   ],
   "metadata": {
    "collapsed": false
   }
  },
  {
   "cell_type": "code",
   "execution_count": null,
   "outputs": [],
   "source": [
    "from tqdm.notebook import tqdm\n",
    "\n",
    "lowest_winning_cost = None\n",
    "associated_setup = None\n",
    "\n",
    "win_count = 0\n",
    "lose_count = 0\n",
    "\n",
    "for weapon, armor, rings in tqdm(VALID_CHOICES):\n",
    "    player_wins, total_cost = eval(weapon, armor, rings)\n",
    "    if player_wins:\n",
    "        win_count += 1\n",
    "    else:\n",
    "        lose_count += 1\n",
    "    if player_wins and (lowest_winning_cost is None or total_cost < lowest_winning_cost):\n",
    "        lowest_winning_cost = total_cost\n",
    "        associated_setup = weapon, armor, rings\n",
    "\n",
    "if lowest_winning_cost is None:\n",
    "    print(f'ERROR! Did not find any winning setup!')\n",
    "else:\n",
    "    print(f'Lowest Winning Cost: {lowest_winning_cost} gold')"
   ],
   "metadata": {
    "collapsed": false
   }
  },
  {
   "cell_type": "markdown",
   "source": [
    "### Part 2"
   ],
   "metadata": {
    "collapsed": false
   }
  },
  {
   "cell_type": "code",
   "execution_count": null,
   "outputs": [],
   "source": [
    "from tqdm.notebook import tqdm\n",
    "\n",
    "highest_losing_cost = None\n",
    "associated_setup = None\n",
    "\n",
    "win_count = 0\n",
    "lose_count = 0\n",
    "\n",
    "for weapon, armor, rings in tqdm(VALID_CHOICES):\n",
    "    player_wins, total_cost = eval(weapon, armor, rings)\n",
    "    if player_wins:\n",
    "        win_count += 1\n",
    "    else:\n",
    "        lose_count += 1\n",
    "    if (not player_wins) and (highest_losing_cost is None or total_cost > highest_losing_cost):\n",
    "        highest_losing_cost = total_cost\n",
    "        associated_setup = weapon, armor, rings\n",
    "\n",
    "if highest_losing_cost is None:\n",
    "    print(f'ERROR! Did not find any losing setup!')\n",
    "else:\n",
    "    print(f'Highest Losing Cost: {highest_losing_cost} gold')"
   ],
   "metadata": {
    "collapsed": false
   }
  },
  {
   "cell_type": "code",
   "execution_count": null,
   "outputs": [],
   "source": [],
   "metadata": {
    "collapsed": false
   }
  }
 ],
 "metadata": {
  "kernelspec": {
   "display_name": "Python 3",
   "language": "python",
   "name": "python3"
  },
  "language_info": {
   "codemirror_mode": {
    "name": "ipython",
    "version": 2
   },
   "file_extension": ".py",
   "mimetype": "text/x-python",
   "name": "python",
   "nbconvert_exporter": "python",
   "pygments_lexer": "ipython2",
   "version": "2.7.6"
  }
 },
 "nbformat": 4,
 "nbformat_minor": 0
}
