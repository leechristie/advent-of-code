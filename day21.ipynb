{
 "cells": [
  {
   "cell_type": "markdown",
   "source": [
    "# Advent of Code 2022\n",
    "\n",
    "## Day 21: Monkey Math\n",
    "\n",
    "Solution code by [leechristie](https://github.com/leechristie) for Advent of Code 2022.\n",
    "\n",
    "Day 21 was fun and not too hard. The monkeys are nodes in a tree, with number-only monkeys as leafs and calculating monkeys as intermediate nodes. Actually the data could be a DAG not a tree but I didn't check for that as it didn't really matter. In part 1 I just make `ValueMonkey` for the leaves, and `OpMonkey` for the intermediate nodes. A compile step wires their pointers togethor, and a call to `query()` on `root` recursively calls `query()` on child monkeys. I used `Fraction` instead of `int` in case there were non-integer divisions.\n",
    "\n",
    "Part 2 I used `sympy` because just iterating over possible inputs was taking too long even with caching parts of the tree which don't depend on input. So now `Monkey.symbolic()` returns a value sympy can solve using similar logic to `query()` but passing a big `Eq` object to be solved. `HumanPretendingToBeMonkey` returns a `symbols('humn')` which I solved for."
   ],
   "metadata": {
    "collapsed": false
   }
  },
  {
   "cell_type": "markdown",
   "source": [
    "### Imports"
   ],
   "metadata": {
    "collapsed": false
   }
  },
  {
   "cell_type": "code",
   "execution_count": null,
   "outputs": [],
   "source": [
    "from abc import ABC, abstractmethod\n",
    "from typing import Optional, Union\n",
    "from fractions import Fraction\n",
    "from sympy import symbols, Eq, solve"
   ],
   "metadata": {
    "collapsed": false
   }
  },
  {
   "cell_type": "markdown",
   "source": [
    "### Monkeys Objects"
   ],
   "metadata": {
    "collapsed": false
   }
  },
  {
   "cell_type": "code",
   "execution_count": null,
   "outputs": [],
   "source": [
    "class Monkey(ABC):\n",
    "\n",
    "    def __init__(self, name: str):\n",
    "        self.name = name\n",
    "\n",
    "    @abstractmethod\n",
    "    def compile(self, monkeys: dict[str, 'Monkey']) -> None:\n",
    "        pass\n",
    "\n",
    "    @abstractmethod\n",
    "    def query(self) -> Fraction:\n",
    "        pass\n",
    "\n",
    "    @abstractmethod\n",
    "    def symbolic(self):\n",
    "        pass\n",
    "\n",
    "\n",
    "class ValueMonkey(Monkey):\n",
    "\n",
    "    def __init__(self, name, value: int):\n",
    "        super().__init__(name)\n",
    "        self.value = value\n",
    "\n",
    "    def compile(self, monkeys: dict[str, Monkey]) -> None:\n",
    "        pass\n",
    "\n",
    "    def query(self) -> Fraction:\n",
    "        return Fraction(self.value)\n",
    "\n",
    "    def symbolic(self):\n",
    "        return self.value\n",
    "\n",
    "\n",
    "class OpMonkey(Monkey):\n",
    "\n",
    "    def __init__(self, name: str, left: str, op: str, right: str):\n",
    "        super().__init__(name)\n",
    "        self.left: Union[str, Monkey] = left\n",
    "        self.op: str = op\n",
    "        self.right: Union[str, Monkey] = right\n",
    "        self.value: Optional[Fraction] = None\n",
    "\n",
    "    def compile(self, monkeys: dict[str, Monkey]) -> None:\n",
    "        assert isinstance(self.left, str) and isinstance(self.right, str)\n",
    "        self.left = monkeys[self.left]\n",
    "        self.right = monkeys[self.right]\n",
    "\n",
    "    def query(self) -> Fraction:\n",
    "        if self.op == '=':\n",
    "            raise AssertionError(f'invalid op: = with method query(), use symbolic()')\n",
    "        elif self.op == '+':\n",
    "            return self.left.query() + self.right.query()\n",
    "        elif self.op == '-':\n",
    "            return self.left.query() - self.right.query()\n",
    "        elif self.op == '*':\n",
    "            return self.left.query() * self.right.query()\n",
    "        elif self.op == '/':\n",
    "            return self.left.query() / self.right.query()\n",
    "        else:\n",
    "            raise AssertionError(f'invalid op: {self.op}')\n",
    "\n",
    "    def symbolic(self):\n",
    "        if self.op == '=':\n",
    "            return Eq(self.left.symbolic(), self.right.symbolic())\n",
    "        elif self.op == '+':\n",
    "            return self.left.symbolic() + self.right.symbolic()\n",
    "        elif self.op == '-':\n",
    "            return self.left.symbolic() - self.right.symbolic()\n",
    "        elif self.op == '*':\n",
    "            return self.left.symbolic() * self.right.symbolic()\n",
    "        elif self.op == '/':\n",
    "            return self.left.symbolic() / self.right.symbolic()\n",
    "        else:\n",
    "            raise AssertionError(f'invalid op: {self.op}')\n",
    "\n",
    "\n",
    "\n",
    "class HumanPretendingToBeMonkey(Monkey):\n",
    "\n",
    "    def __init__(self, name: str):\n",
    "        super().__init__(name)\n",
    "        self.symbol = symbols('humn')\n",
    "\n",
    "    def compile(self, monkeys: dict[str, Monkey]) -> None:\n",
    "        pass\n",
    "\n",
    "    def query(self) -> Fraction:\n",
    "        raise AssertionError(f'HumanPretendingToBeMonkey can not participate in query(), use symbolic()')\n",
    "\n",
    "    def symbolic(self):\n",
    "        return self.symbol"
   ],
   "metadata": {
    "collapsed": false
   }
  },
  {
   "cell_type": "markdown",
   "source": [
    "### Input Parsing"
   ],
   "metadata": {
    "collapsed": false
   }
  },
  {
   "cell_type": "code",
   "execution_count": null,
   "outputs": [],
   "source": [
    "def make_monkeys(filenaname: str) -> dict[str, Monkey]:\n",
    "    monkeys = {}\n",
    "    with open(filenaname) as file:\n",
    "        for line in file:\n",
    "            line = line.strip()\n",
    "            monkey, inst_raw = line.split(': ')\n",
    "            if ' ' in inst_raw:\n",
    "                l, o, r = inst_raw.split(' ')\n",
    "                monkeys[monkey] = OpMonkey(monkey, l, o, r)\n",
    "            else:\n",
    "                monkeys[monkey] = ValueMonkey(monkey, int(inst_raw))\n",
    "    return monkeys"
   ],
   "metadata": {
    "collapsed": false
   }
  },
  {
   "cell_type": "code",
   "execution_count": null,
   "outputs": [],
   "source": [
    "def compile_all(monkeys: dict[str, Monkey]) -> None:\n",
    "    for m in monkeys.values():\n",
    "        m.compile(monkeys)"
   ],
   "metadata": {
    "collapsed": false
   }
  },
  {
   "cell_type": "code",
   "execution_count": null,
   "outputs": [],
   "source": [
    "INPUT_FILE = 'data/input21.txt'"
   ],
   "metadata": {
    "collapsed": false
   }
  },
  {
   "cell_type": "markdown",
   "source": [
    "### Part 1"
   ],
   "metadata": {
    "collapsed": false
   }
  },
  {
   "cell_type": "code",
   "execution_count": null,
   "outputs": [],
   "source": [
    "def main():\n",
    "\n",
    "    # make monkey\n",
    "    monkeys = make_monkeys(INPUT_FILE)\n",
    "\n",
    "    # compile monkey\n",
    "    compile_all(monkeys)\n",
    "\n",
    "    # get monkey\n",
    "    root = monkeys['root']\n",
    "\n",
    "    # query monkey\n",
    "    ans = root.query()\n",
    "\n",
    "    print(f'The monkey named root will yell the number {int(ans)}')"
   ],
   "metadata": {
    "collapsed": false
   }
  },
  {
   "cell_type": "code",
   "execution_count": null,
   "outputs": [],
   "source": [
    "if __name__ == '__main__':\n",
    "    main()"
   ],
   "metadata": {
    "collapsed": false
   }
  },
  {
   "cell_type": "markdown",
   "source": [
    "### Part 2"
   ],
   "metadata": {
    "collapsed": false
   }
  },
  {
   "cell_type": "code",
   "execution_count": null,
   "outputs": [],
   "source": [
    "def main():\n",
    "\n",
    "    # make monkey\n",
    "    monkeys = make_monkeys(INPUT_FILE)\n",
    "\n",
    "    # become monkey\n",
    "    human = HumanPretendingToBeMonkey('humn')\n",
    "    monkeys['humn'] = human\n",
    "\n",
    "    # get monkey\n",
    "    root = monkeys['root']\n",
    "\n",
    "    # update monkey\n",
    "    root.op = '='\n",
    "\n",
    "    # compile monkey\n",
    "    compile_all(monkeys)\n",
    "\n",
    "    # solve monkey\n",
    "    ans = int(solve(root.symbolic())[0])\n",
    "\n",
    "    print(f'I should yell the number {int(ans)}')"
   ],
   "metadata": {
    "collapsed": false
   }
  },
  {
   "cell_type": "code",
   "execution_count": null,
   "outputs": [],
   "source": [
    "if __name__ == '__main__':\n",
    "    main()"
   ],
   "metadata": {
    "collapsed": false
   }
  }
 ],
 "metadata": {
  "kernelspec": {
   "display_name": "Python 3",
   "language": "python",
   "name": "python3"
  },
  "language_info": {
   "codemirror_mode": {
    "name": "ipython",
    "version": 2
   },
   "file_extension": ".py",
   "mimetype": "text/x-python",
   "name": "python",
   "nbconvert_exporter": "python",
   "pygments_lexer": "ipython2",
   "version": "2.7.6"
  }
 },
 "nbformat": 4,
 "nbformat_minor": 0
}
