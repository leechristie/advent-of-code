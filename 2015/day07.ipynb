{
 "cells": [
  {
   "cell_type": "markdown",
   "source": [
    "# Advent of Code 2015\n",
    "\n",
    "## Day 7: Some Assembly Required\n",
    "\n",
    "Solution code by [leechristie](https://github.com/leechristie) for Advent of Code 2015."
   ],
   "metadata": {
    "collapsed": false
   }
  },
  {
   "cell_type": "code",
   "execution_count": null,
   "outputs": [],
   "source": [
    "from aoc import *"
   ],
   "metadata": {
    "collapsed": false
   }
  },
  {
   "cell_type": "code",
   "execution_count": null,
   "outputs": [],
   "source": [
    "from typing import Union\n",
    "from abc import *\n",
    "\n",
    "class uint16:\n",
    "\n",
    "    __slots__ = ['value']\n",
    "\n",
    "    def __init__(self, value: Union[int, 'uint16'] = 0):\n",
    "        if type(value) == int:\n",
    "            self.value = value\n",
    "        else:\n",
    "            assert type(value) == uint16\n",
    "            self.value = value.value\n",
    "\n",
    "    def __str__(self):\n",
    "        return f'uint16({self.value})'\n",
    "\n",
    "    def __repr__(self):\n",
    "        return str(self)\n",
    "\n",
    "    def op_not(self) -> 'uint16':\n",
    "        return uint16(self.value ^ 65535)\n",
    "\n",
    "    def op_and(self, other: Union[int, 'uint16']) -> 'uint16':\n",
    "        if type(other) == uint16:\n",
    "            other = other.value\n",
    "        return uint16(self.value & other)\n",
    "\n",
    "    def op_or(self, other: Union[int, 'uint16']) -> 'uint16':\n",
    "        if type(other) == uint16:\n",
    "            other = other.value\n",
    "        return uint16(self.value | other)\n",
    "\n",
    "    def op_lshift(self, other: Union[int, 'uint16']) -> 'uint16':\n",
    "        if type(other) == uint16:\n",
    "            other = other.value\n",
    "        return uint16((self.value << other) & 65535)\n",
    "\n",
    "    def op_rshift(self, other: Union[int, 'uint16']) -> 'uint16':\n",
    "        if type(other) == uint16:\n",
    "            other = other.value\n",
    "        return uint16(self.value >> other)"
   ],
   "metadata": {
    "collapsed": false
   }
  },
  {
   "cell_type": "code",
   "execution_count": null,
   "outputs": [],
   "source": [
    "class Instruction(ABC):\n",
    "\n",
    "    @staticmethod\n",
    "    def validate_l_value(value: str) -> Union[str, int]:\n",
    "        value = parse_int_or_str(value)\n",
    "        if type(value) == str:\n",
    "            assert is_non_empty_lowercase_alphabetic_only(value)\n",
    "        else:\n",
    "            assert type(value) == int\n",
    "            value = uint16(value)\n",
    "        return value\n",
    "\n",
    "    @staticmethod\n",
    "    def validate_binary_op_code(value: str) -> str:\n",
    "        assert value in {'AND', 'RSHIFT', 'OR', 'LSHIFT', 'NOT'}\n",
    "        return value\n",
    "\n",
    "    @staticmethod\n",
    "    def validate_unary_op_code(value: str) -> str:\n",
    "        assert value in {'NOT'}\n",
    "        return value\n",
    "\n",
    "    @staticmethod\n",
    "    def validate_r_value(value: str) -> str:\n",
    "        assert is_non_empty_lowercase_alphabetic_only(value)\n",
    "        return value\n",
    "\n",
    "    @staticmethod\n",
    "    def parse_instruction(tokens: tuple) -> 'Instruction':\n",
    "\n",
    "        assert tokens[-2] == '->'\n",
    "\n",
    "        if len(tokens) == 3:\n",
    "\n",
    "            input_token, _, output_token = tokens\n",
    "\n",
    "            input_token = Instruction.validate_l_value(input_token)\n",
    "            output_token = Instruction.validate_r_value(output_token)\n",
    "\n",
    "            return SetInstruction(input_token, output_token)\n",
    "\n",
    "        elif len(tokens) == 5:\n",
    "\n",
    "            left_token, op_token, right_token, _, output_token = tokens\n",
    "\n",
    "            left_token = Instruction.validate_l_value(left_token)\n",
    "            op_token = Instruction.validate_binary_op_code(op_token)\n",
    "            right_token = Instruction.validate_l_value(right_token)\n",
    "            output_token = Instruction.validate_r_value(output_token)\n",
    "\n",
    "            return BinaryInstruction(left_token, op_token, right_token, output_token)\n",
    "\n",
    "        elif len(tokens) == 4:\n",
    "\n",
    "            op_token, right_token, _, output_token = tokens\n",
    "\n",
    "            op_token = Instruction.validate_unary_op_code(op_token)\n",
    "            right_token = Instruction.validate_l_value(right_token)\n",
    "            output_token = Instruction.validate_r_value(output_token)\n",
    "\n",
    "            return UnaryInstruction(op_token, right_token, output_token)\n",
    "\n",
    "    @abstractmethod\n",
    "    def wires(self) -> set[str]:\n",
    "        pass\n",
    "\n",
    "    @abstractmethod\n",
    "    def evaluate(self, lookup: 'InstructionLookup') -> uint16:\n",
    "        pass\n",
    "\n",
    "    @abstractmethod\n",
    "    def output_node_id(self) -> str:\n",
    "        pass\n",
    "\n",
    "    @abstractmethod\n",
    "    def __str__(self):\n",
    "        pass\n",
    "\n",
    "    def __repr__(self):\n",
    "        return str(self)\n",
    "\n",
    "class SetInstruction(Instruction):\n",
    "\n",
    "    def __init__(self, input_token: Union[str, uint16], output_token: str):\n",
    "        self.input_token = input_token\n",
    "        self.output_token = output_token\n",
    "        self.memo = None\n",
    "\n",
    "    def __str__(self):\n",
    "        return f'SetInstruction({repr(self.input_token)}, {repr(self.output_token)})'\n",
    "\n",
    "    def wires(self) -> set[str]:\n",
    "        rv = set()\n",
    "        for token in self.input_token, self.output_token:\n",
    "            if type(token) == str:\n",
    "                rv.add(token)\n",
    "        return rv\n",
    "\n",
    "    def evaluate(self, lookup: 'InstructionLookup') -> uint16:\n",
    "        if self.memo is not None:\n",
    "            return self.memo\n",
    "        if type(self.input_token) == uint16:\n",
    "            rv = self.input_token\n",
    "        else:\n",
    "            assert type(self.input_token) == str\n",
    "            rv = lookup[self.input_token]\n",
    "        self.memo = rv\n",
    "        return rv\n",
    "\n",
    "    def output_node_id(self) -> str:\n",
    "        return self.output_token\n",
    "\n",
    "\n",
    "class BinaryInstruction(Instruction):\n",
    "\n",
    "    def __init__(self, left_token: Union[str, uint16], op_token: str, right_token: Union[str, uint16], output_token: str):\n",
    "        self.left_token = left_token\n",
    "        self.op_token = op_token\n",
    "        self.right_token = right_token\n",
    "        self.output_token = output_token\n",
    "        self.memo = None\n",
    "\n",
    "    def __str__(self):\n",
    "        return f'BinaryInstruction({repr(self.left_token)}, {repr(self.op_token)}, {repr(self.right_token)}, {repr(self.output_token)})'\n",
    "\n",
    "    def wires(self) -> set[str]:\n",
    "        rv = set()\n",
    "        for token in self.left_token, self.right_token, self.output_token:\n",
    "            if type(token) == str:\n",
    "                rv.add(token)\n",
    "        return rv\n",
    "\n",
    "    def evaluate(self, lookup: 'InstructionLookup') -> uint16:\n",
    "        if self.memo is not None:\n",
    "            return self.memo\n",
    "\n",
    "        if type(self.left_token) == uint16:\n",
    "            left_value = self.left_token\n",
    "        else:\n",
    "            assert type(self.left_token) == str\n",
    "            left_value = lookup[self.left_token]\n",
    "\n",
    "        if type(self.right_token) == uint16:\n",
    "            right_value = self.right_token\n",
    "        else:\n",
    "            assert type(self.right_token) == str\n",
    "            right_value = lookup[self.right_token]\n",
    "\n",
    "        if self.op_token == 'AND':\n",
    "            value = left_value.op_and(right_value)\n",
    "        elif self.op_token == 'RSHIFT':\n",
    "            value = left_value.op_rshift(right_value)\n",
    "        elif self.op_token == 'OR':\n",
    "            value = left_value.op_or(right_value)\n",
    "        else:\n",
    "            assert self.op_token == 'LSHIFT'\n",
    "            value = left_value.op_lshift(right_value)\n",
    "\n",
    "        self.memo = value\n",
    "        return value\n",
    "\n",
    "    def output_node_id(self) -> str:\n",
    "        return self.output_token\n",
    "\n",
    "\n",
    "class UnaryInstruction(Instruction):\n",
    "\n",
    "    def __init__(self, op_token: str, right_token: Union[str, uint16], output_token: str):\n",
    "        self.op_token = op_token\n",
    "        self.right_token = right_token\n",
    "        self.output_token = output_token\n",
    "        self.memo = None\n",
    "\n",
    "    def __str__(self):\n",
    "        return f'UnaryInstruction({repr(self.op_token)}, {repr(self.right_token)}, {repr(self.output_token)})'\n",
    "\n",
    "    def wires(self) -> set[str]:\n",
    "        rv = set()\n",
    "        for token in self.right_token, self.output_token:\n",
    "            if type(token) == str:\n",
    "                rv.add(token)\n",
    "        return rv\n",
    "\n",
    "    def evaluate(self, lookup: 'InstructionLookup') -> uint16:\n",
    "        if self.memo is not None:\n",
    "            return self.memo\n",
    "        assert self.op_token == 'NOT'\n",
    "        if type(self.right_token) == uint16:\n",
    "            rv = self.right_token.op_not()\n",
    "        else:\n",
    "            assert type(self.right_token) == str\n",
    "            rv = lookup[self.right_token].op_not()\n",
    "        self.memo = rv\n",
    "        return rv\n",
    "\n",
    "    def output_node_id(self) -> str:\n",
    "        return self.output_token"
   ],
   "metadata": {
    "collapsed": false
   }
  },
  {
   "cell_type": "code",
   "execution_count": null,
   "outputs": [],
   "source": [
    "class InstructionLookup:\n",
    "\n",
    "    __slots__ = ['lookup']\n",
    "\n",
    "    def __init__(self, instructions: list[Instruction]):\n",
    "        self.lookup = {}\n",
    "        for instruction in instructions:\n",
    "            current_id = instruction.output_node_id()\n",
    "            assert current_id not in self.lookup\n",
    "            self.lookup[current_id] = instruction\n",
    "\n",
    "    def __getitem__(self, item: str) -> uint16:\n",
    "        return self.lookup[item].evaluate(self)"
   ],
   "metadata": {
    "collapsed": false
   }
  },
  {
   "cell_type": "markdown",
   "source": [
    "# Part 1"
   ],
   "metadata": {
    "collapsed": false
   }
  },
  {
   "cell_type": "code",
   "execution_count": null,
   "outputs": [],
   "source": [
    "def load_instructions(filename):\n",
    "    INSTRUCTIONS = []\n",
    "    for tokens in load_split_lines(filename, ' ', str):\n",
    "        instruction = Instruction.parse_instruction(tokens)\n",
    "        INSTRUCTIONS.append(instruction)\n",
    "    return INSTRUCTIONS, InstructionLookup(INSTRUCTIONS)"
   ],
   "metadata": {
    "collapsed": false
   }
  },
  {
   "cell_type": "code",
   "execution_count": null,
   "outputs": [],
   "source": [
    "# load the instructions\n",
    "INSTRUCTIONS, lookup = load_instructions('data/input07.txt')"
   ],
   "metadata": {
    "collapsed": false
   }
  },
  {
   "cell_type": "code",
   "execution_count": null,
   "outputs": [],
   "source": [
    "# get result from wire a\n",
    "result_part1 = lookup['a'].value\n",
    "print(f'The signal on wire a is {result_part1}')"
   ],
   "metadata": {
    "collapsed": false
   }
  },
  {
   "cell_type": "markdown",
   "source": [
    "### Part 2"
   ],
   "metadata": {
    "collapsed": false
   }
  },
  {
   "cell_type": "code",
   "execution_count": null,
   "outputs": [],
   "source": [
    "# reload\n",
    "INSTRUCTIONS, lookup = load_instructions('data/input07.txt')"
   ],
   "metadata": {
    "collapsed": false
   }
  },
  {
   "cell_type": "code",
   "execution_count": null,
   "outputs": [],
   "source": [
    "# patch the wire\n",
    "lookup.lookup['b'].input_token = uint16(result_part1)"
   ],
   "metadata": {
    "collapsed": false
   }
  },
  {
   "cell_type": "code",
   "execution_count": null,
   "outputs": [],
   "source": [
    "# get result from wire a\n",
    "result_part2 = lookup['a'].value\n",
    "print(f'The signal on wire a after patching wire b is {result_part2}')"
   ],
   "metadata": {
    "collapsed": false
   }
  }
 ],
 "metadata": {
  "kernelspec": {
   "display_name": "Python 3",
   "language": "python",
   "name": "python3"
  },
  "language_info": {
   "codemirror_mode": {
    "name": "ipython",
    "version": 2
   },
   "file_extension": ".py",
   "mimetype": "text/x-python",
   "name": "python",
   "nbconvert_exporter": "python",
   "pygments_lexer": "ipython2",
   "version": "2.7.6"
  }
 },
 "nbformat": 4,
 "nbformat_minor": 0
}
