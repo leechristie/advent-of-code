{
 "cells": [
  {
   "cell_type": "code",
   "execution_count": 2,
   "outputs": [],
   "source": [
    "# def decode(x1, x2, x3, x4):\n",
    "#     return [0] * x1 + [1] * x2 + [2] * x3 + [3] * x4\n",
    "#\n",
    "# def okay(plan):\n",
    "#     if len(plan) <= 21:\n",
    "#         return False\n",
    "#     if not plan:\n",
    "#         return False\n",
    "#     return plan[-1] == 3 and 1 in plan and 2 in plan\n",
    "#\n",
    "# TOTAL1 = 31\n",
    "# alls = []\n",
    "# for x1 in range(0, TOTAL1 + 1):\n",
    "#     TOTAL2 = TOTAL1 - x1\n",
    "#     for x2 in range(0, TOTAL2 + 1):\n",
    "#         TOTAL3 = TOTAL2 - x2\n",
    "#         for x3 in range(0, TOTAL3 + 1):\n",
    "#             TOTAL4 = TOTAL3 - x3\n",
    "#             for x4 in range(0, TOTAL4 + 1):\n",
    "#                 plan = decode(x1, x2, x3, x4)\n",
    "#                 if okay(plan):\n",
    "#                     #plan = str(plan).replace('[', '').replace(']', '').replace(' ', '')\n",
    "#                     alls.append(plan)\n",
    "#\n",
    "# import random\n",
    "# random.shuffle(alls)"
   ],
   "metadata": {
    "collapsed": false
   }
  },
  {
   "cell_type": "code",
   "execution_count": 3,
   "outputs": [
    {
     "name": "stdout",
     "output_type": "stream",
     "text": [
      "MAX_LENGTH = 31\n",
      "# PLANS (BEFORE INSERTION) = 35959\n"
     ]
    }
   ],
   "source": [
    "def decode(x1, x2, x3, x4):\n",
    "    return [0] * x1 + [1] * x2 + [2] * x3 + [3] * x4\n",
    "\n",
    "def encode(x1, x2, x3, x4):\n",
    "    return x1, x2, x3, x4\n",
    "\n",
    "def monotonic(it):\n",
    "    if len(it) == 0:\n",
    "        return True\n",
    "    prev = it[0]\n",
    "    for element in it[1:]:\n",
    "        if prev > element:\n",
    "            return False\n",
    "        prev = element\n",
    "    return True\n",
    "\n",
    "def okay(plan):\n",
    "    if len(plan) <= 3:\n",
    "        return False\n",
    "    if not plan:\n",
    "        return False\n",
    "    return plan[-1] == 3 and 1 in plan and 2 in plan\n",
    "\n",
    "MAX_LENGTH = -1\n",
    "TOTAL1 = 31\n",
    "alls = set()\n",
    "for x1 in range(0, TOTAL1 + 1):\n",
    "    TOTAL2 = TOTAL1 - x1\n",
    "    for x2 in range(0, TOTAL2 + 1):\n",
    "        TOTAL3 = TOTAL2 - x2\n",
    "        for x3 in range(0, TOTAL3 + 1):\n",
    "            TOTAL4 = TOTAL3 - x3\n",
    "            for x4 in range(0, TOTAL4 + 1):\n",
    "                plan = decode(x1, x2, x3, x4)\n",
    "                if okay(plan):\n",
    "                    if len(plan) > MAX_LENGTH:\n",
    "                        MAX_LENGTH = len(plan)\n",
    "                    plan = encode(x1, x2, x3, x4)\n",
    "                    alls.add(plan)\n",
    "\n",
    "print('MAX_LENGTH =', MAX_LENGTH)\n",
    "print('# PLANS (BEFORE INSERTION) =', len(alls))\n",
    "\n",
    "alls = list(alls)\n",
    "import random\n",
    "random.shuffle(alls)"
   ],
   "metadata": {
    "collapsed": false
   }
  },
  {
   "cell_type": "code",
   "execution_count": 4,
   "outputs": [],
   "source": [
    "def single_insertions(encoded):\n",
    "    first = []\n",
    "    for i in [0, 1, 2, 3]:\n",
    "        first.extend([i] * encoded[i])\n",
    "    yield tuple(first)\n",
    "    if len(first) >= MAX_LENGTH:\n",
    "        return\n",
    "    for thing_to_insert in {0, 1, 2, 3}:\n",
    "        for place_to_insert in {0, 1, 2, 3} - {thing_to_insert}:\n",
    "            for insertion_index in range(0, encoded[place_to_insert]+1):\n",
    "                rv = []\n",
    "                for i in range(4):\n",
    "                    if i == place_to_insert:\n",
    "                        rv += [place_to_insert] * insertion_index + [thing_to_insert] + [place_to_insert] * (encoded[place_to_insert] - insertion_index)\n",
    "                    else:\n",
    "                        rv += [i] * encoded[i]\n",
    "                if not monotonic(rv):\n",
    "                    yield tuple(rv)"
   ],
   "metadata": {
    "collapsed": false
   }
  },
  {
   "cell_type": "code",
   "execution_count": 5,
   "outputs": [
    {
     "data": {
      "text/plain": "  0%|          | 0/35959 [00:00<?, ?it/s]",
      "application/vnd.jupyter.widget-view+json": {
       "version_major": 2,
       "version_minor": 0,
       "model_id": "5717b5872c9546c88c859ecdf1bf5fdf"
      }
     },
     "metadata": {},
     "output_type": "display_data"
    },
    {
     "name": "stdout",
     "output_type": "stream",
     "text": [
      "MAX_LENGTH2 = 31\n",
      "# PLANS (AFTER INSERTION) = 2275852\n"
     ]
    }
   ],
   "source": [
    "import tqdm.notebook as tqdm\n",
    "\n",
    "MAX_LENGTH2 = -1\n",
    "with_insert = set()\n",
    "for a in tqdm.tqdm(alls):\n",
    "    for r in single_insertions(a):\n",
    "        with_insert.add(r)\n",
    "        if len(r) > MAX_LENGTH2:\n",
    "            MAX_LENGTH2 = len(r)\n",
    "\n",
    "print('MAX_LENGTH2 =', MAX_LENGTH2)\n",
    "print('# PLANS (AFTER INSERTION) =', len(with_insert))\n",
    "\n"
   ],
   "metadata": {
    "collapsed": false
   }
  },
  {
   "cell_type": "code",
   "execution_count": 6,
   "outputs": [
    {
     "data": {
      "text/plain": "  0%|          | 0/2275852 [00:00<?, ?it/s]",
      "application/vnd.jupyter.widget-view+json": {
       "version_major": 2,
       "version_minor": 0,
       "model_id": "4dbf91efc2894f31b20bb6f036f58c81"
      }
     },
     "metadata": {},
     "output_type": "display_data"
    }
   ],
   "source": [
    "with open('plans_1_insert.csv', 'w') as file:\n",
    "    for plan in tqdm.tqdm(with_insert):\n",
    "        print(','.join([str(e) for e in plan]), end='\\n', file=file)"
   ],
   "metadata": {
    "collapsed": false
   }
  },
  {
   "cell_type": "code",
   "execution_count": 7,
   "outputs": [],
   "source": [
    "def decode2nd(x):\n",
    "    x0, x1, x2, x3 = x\n",
    "    return tuple(x0 + x1 + x2 + x3)\n",
    "\n",
    "def insert_in_list(lst, thing_to_insert):\n",
    "    for insertion_index in range(0, len(lst)+1):\n",
    "        yield lst[:insertion_index] + [thing_to_insert] + lst[insertion_index:]\n",
    "\n",
    "def second_insert(x):\n",
    "    decoded = decode2nd(x)\n",
    "    yield tuple(decoded)\n",
    "    if len(decoded) >= MAX_LENGTH:\n",
    "        return\n",
    "    x = [list(e) for e in x] # copy\n",
    "    for thing_to_insert in {0, 1, 2, 3}:\n",
    "        for place_to_insert in {0, 1, 2, 3} - {thing_to_insert}:\n",
    "            for rv in insert_in_list(x[place_to_insert], thing_to_insert):\n",
    "                temp = []\n",
    "                for i in range(4):\n",
    "                    if i == place_to_insert:\n",
    "                        temp.extend(rv)\n",
    "                    else:\n",
    "                        temp.extend(x[i])\n",
    "                yield tuple(temp)\n",
    "\n",
    "def double_insertions(encoded):\n",
    "    first = []\n",
    "    for i in [0, 1, 2, 3]:\n",
    "        first.extend([i] * encoded[i])\n",
    "    yield tuple(first)\n",
    "    if len(first) >= MAX_LENGTH:\n",
    "        return\n",
    "    for thing_to_insert in {0, 1, 2, 3}:\n",
    "        for place_to_insert in {0, 1, 2, 3} - {thing_to_insert}:\n",
    "            for insertion_index in range(0, encoded[place_to_insert]+1):\n",
    "                temp = []\n",
    "                for i in range(4):\n",
    "                    if i == place_to_insert:\n",
    "                        temp.append([place_to_insert] * insertion_index + [thing_to_insert] + [place_to_insert] * (encoded[place_to_insert] - insertion_index))\n",
    "                    else:\n",
    "                        temp.append([i] * encoded[i])\n",
    "                for inner in second_insert(temp):\n",
    "                    yield inner"
   ],
   "metadata": {
    "collapsed": false
   }
  },
  {
   "cell_type": "code",
   "execution_count": 10,
   "outputs": [
    {
     "data": {
      "text/plain": "  0%|          | 0/35959 [00:00<?, ?it/s]",
      "application/vnd.jupyter.widget-view+json": {
       "version_major": 2,
       "version_minor": 0,
       "model_id": "04761fa25b5d458791393114ed817b79"
      }
     },
     "metadata": {},
     "output_type": "display_data"
    },
    {
     "name": "stdout",
     "output_type": "stream",
     "text": [
      "MAX_LENGTH2 = 31\n",
      "# PLANS (AFTER INSERTION) = 10818655\n"
     ]
    }
   ],
   "source": [
    "import tqdm.notebook as tqdm\n",
    "\n",
    "MAX_LENGTH2 = -1\n",
    "with_insert = set()\n",
    "i = 0\n",
    "with tqdm.tqdm(total=len(alls)) as pbar:\n",
    "    for a in alls:\n",
    "        for r in double_insertions(a):\n",
    "            with_insert.add(r)\n",
    "            if len(r) > MAX_LENGTH2:\n",
    "                MAX_LENGTH2 = len(r)\n",
    "        i += 1\n",
    "        if i % 10 == 0 and i > 0:\n",
    "            pbar.desc = '# with insert = ' + str(len(with_insert))\n",
    "            pbar.update(10)\n",
    "        if len(with_insert) > 12_000_000:\n",
    "            with_insert = list(with_insert)\n",
    "            random.shuffle(with_insert)\n",
    "            with_insert = set(with_insert[:10_000_000])\n",
    "\n",
    "print('MAX_LENGTH2 =', MAX_LENGTH2)\n",
    "print('# PLANS (AFTER INSERTION) =', len(with_insert))\n",
    "\n"
   ],
   "metadata": {
    "collapsed": false
   }
  },
  {
   "cell_type": "code",
   "execution_count": 11,
   "outputs": [
    {
     "name": "stdout",
     "output_type": "stream",
     "text": [
      "10000000\n"
     ]
    }
   ],
   "source": [
    "with_insert = list(with_insert)\n",
    "random.shuffle(with_insert)\n",
    "with_insert = set(with_insert[:10_000_000])\n",
    "\n",
    "print(len(with_insert))"
   ],
   "metadata": {
    "collapsed": false
   }
  },
  {
   "cell_type": "code",
   "execution_count": 12,
   "outputs": [
    {
     "data": {
      "text/plain": "  0%|          | 0/10000000 [00:01<?, ?it/s]",
      "application/vnd.jupyter.widget-view+json": {
       "version_major": 2,
       "version_minor": 0,
       "model_id": "d0cb9358d9284ed89b413a6b7aa38f2a"
      }
     },
     "metadata": {},
     "output_type": "display_data"
    }
   ],
   "source": [
    "with open('plans_2_insert_sample.csv', 'w') as file:\n",
    "    for plan in tqdm.tqdm(with_insert):\n",
    "        print(','.join([str(e) for e in plan]), end='\\n', file=file)"
   ],
   "metadata": {
    "collapsed": false
   }
  },
  {
   "cell_type": "code",
   "execution_count": 13,
   "outputs": [
    {
     "data": {
      "text/plain": "(0,\n 0,\n 0,\n 0,\n 0,\n 1,\n 2,\n 2,\n 3,\n 2,\n 2,\n 2,\n 2,\n 1,\n 2,\n 2,\n 2,\n 2,\n 2,\n 2,\n 2,\n 2,\n 2,\n 3,\n 3,\n 3,\n 3,\n 3)"
     },
     "execution_count": 13,
     "metadata": {},
     "output_type": "execute_result"
    }
   ],
   "source": [
    "wi = list(with_insert)\n",
    "wi[0]"
   ],
   "metadata": {
    "collapsed": false
   }
  },
  {
   "cell_type": "code",
   "execution_count": null,
   "outputs": [],
   "source": [],
   "metadata": {
    "collapsed": false
   }
  }
 ],
 "metadata": {
  "kernelspec": {
   "display_name": "Python 3",
   "language": "python",
   "name": "python3"
  },
  "language_info": {
   "codemirror_mode": {
    "name": "ipython",
    "version": 2
   },
   "file_extension": ".py",
   "mimetype": "text/x-python",
   "name": "python",
   "nbconvert_exporter": "python",
   "pygments_lexer": "ipython2",
   "version": "2.7.6"
  }
 },
 "nbformat": 4,
 "nbformat_minor": 0
}
