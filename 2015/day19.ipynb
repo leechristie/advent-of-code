{
 "cells": [
  {
   "cell_type": "markdown",
   "source": [
    "# Advent of Code 2015\n",
    "\n",
    "## Day 19: Medicine for Rudolph (PART 2 UNFINISHED)\n",
    "\n",
    "Solution code by [leechristie](https://github.com/leechristie) for Advent of Code 2015."
   ],
   "metadata": {
    "collapsed": false
   }
  },
  {
   "cell_type": "code",
   "execution_count": null,
   "outputs": [],
   "source": [
    "def load_input(filename: str) -> tuple[list[tuple[str, str]], str]:\n",
    "    with open(filename) as file:\n",
    "        replacements = []\n",
    "        for line in file:\n",
    "            line = line.strip()\n",
    "            if not line:\n",
    "                break\n",
    "            line = line.split(' => ')\n",
    "            replacements.append(tuple(line))\n",
    "        final = None\n",
    "        for line in file:\n",
    "            assert not final\n",
    "            final = line\n",
    "        return replacements, final\n",
    "\n",
    "REPLACEMENTS, MOLECULE = load_input('data/input19.txt')"
   ],
   "metadata": {
    "collapsed": false
   }
  },
  {
   "cell_type": "markdown",
   "source": [
    "### Part 1"
   ],
   "metadata": {
    "collapsed": false
   }
  },
  {
   "cell_type": "code",
   "execution_count": null,
   "outputs": [],
   "source": [
    "from collections import defaultdict\n",
    "\n",
    "REPLACEMENTS1 = defaultdict(list)\n",
    "REPLACEMENTS2 = defaultdict(list)\n",
    "for from_element, to_molecule in REPLACEMENTS:\n",
    "    if len(from_element) == 1:\n",
    "        REPLACEMENTS1[from_element].append(to_molecule)\n",
    "    elif len(from_element) == 2:\n",
    "        REPLACEMENTS2[from_element].append(to_molecule)\n",
    "    else:\n",
    "        raise ValueError(f'bad element length: {from_element}')\n",
    "REPLACEMENTS1 = dict(REPLACEMENTS1)\n",
    "REPLACEMENTS2 = dict(REPLACEMENTS2)"
   ],
   "metadata": {
    "collapsed": false
   }
  },
  {
   "cell_type": "code",
   "execution_count": null,
   "outputs": [],
   "source": [
    "def possible_new_molecules(molecule, replacements1, replacements2):\n",
    "\n",
    "    rv = set()\n",
    "\n",
    "    for index in range(len(molecule)):\n",
    "\n",
    "        pre = molecule[:index]\n",
    "        substr1 = molecule[index]\n",
    "        post1 = molecule[index+1:]\n",
    "        if substr1 in replacements1:\n",
    "            for replacement in replacements1[substr1]:\n",
    "                rv.add(pre + replacement + post1)\n",
    "\n",
    "        substr2 = molecule[index:index+2]\n",
    "        if len(substr2) == 2:\n",
    "            post2 = molecule[index+2:]\n",
    "            if substr2 in replacements2:\n",
    "                for replacement in replacements2[substr2]:\n",
    "                    rv.add(pre + replacement + post2)\n",
    "\n",
    "    return rv"
   ],
   "metadata": {
    "collapsed": false
   }
  },
  {
   "cell_type": "code",
   "execution_count": null,
   "outputs": [],
   "source": [
    "result = possible_new_molecules(MOLECULE, REPLACEMENTS1, REPLACEMENTS2)\n",
    "\n",
    "print(f'The number of possible new molecules after 1 replacement is {len(result)}.')"
   ],
   "metadata": {
    "collapsed": false
   }
  },
  {
   "cell_type": "markdown",
   "source": [
    "### Part 2"
   ],
   "metadata": {
    "collapsed": false
   }
  },
  {
   "cell_type": "code",
   "execution_count": null,
   "outputs": [],
   "source": [
    "from collections import deque\n",
    "from tqdm.notebook import tqdm\n",
    "\n",
    "def find_target(current, target, replacements1, replacements2):\n",
    "\n",
    "    with tqdm() as p:\n",
    "\n",
    "        highest_distance = 0\n",
    "        longest_string = 0\n",
    "        queue = deque([(current, 0)])\n",
    "        enqueued_molecules = {current}\n",
    "\n",
    "        while queue:\n",
    "\n",
    "            current, distance = queue.popleft()\n",
    "\n",
    "            if len(current) > longest_string:\n",
    "                longest_string = len(current)\n",
    "                p.set_description(f'longest string seen: {longest_string} of {len(target)}')\n",
    "\n",
    "            if distance > highest_distance:\n",
    "                p.update(distance - highest_distance)\n",
    "                highest_distance = distance\n",
    "\n",
    "            if current == target:\n",
    "                return distance\n",
    "\n",
    "            for next_molecule in possible_new_molecules(current, replacements1, replacements2):\n",
    "                if len(next_molecule) <= len(target) and (next_molecule not in enqueued_molecules):\n",
    "                    queue.append((next_molecule, distance + 1))\n",
    "                    enqueued_molecules.add(next_molecule)\n",
    "\n",
    "        raise ValueError('target not reachable')\n",
    "\n",
    "find_target('e', MOLECULE, REPLACEMENTS1, REPLACEMENTS2)"
   ],
   "metadata": {
    "collapsed": false
   }
  },
  {
   "cell_type": "markdown",
   "source": [
    "Unfinished, checked all 0 to 9 edit depth (longest string checked is 46)."
   ],
   "metadata": {
    "collapsed": false
   }
  },
  {
   "cell_type": "code",
   "execution_count": null,
   "outputs": [],
   "source": [],
   "metadata": {
    "collapsed": false
   }
  }
 ],
 "metadata": {
  "kernelspec": {
   "display_name": "Python 3",
   "language": "python",
   "name": "python3"
  },
  "language_info": {
   "codemirror_mode": {
    "name": "ipython",
    "version": 2
   },
   "file_extension": ".py",
   "mimetype": "text/x-python",
   "name": "python",
   "nbconvert_exporter": "python",
   "pygments_lexer": "ipython2",
   "version": "2.7.6"
  }
 },
 "nbformat": 4,
 "nbformat_minor": 0
}
