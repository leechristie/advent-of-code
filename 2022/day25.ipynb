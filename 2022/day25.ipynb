{
 "cells": [
  {
   "cell_type": "markdown",
   "source": [
    "# Advent of Code 2022\n",
    "\n",
    "## Day 25: Full of Hot Air\n",
    "\n",
    "Solution code by [leechristie](https://github.com/leechristie) for Advent of Code 2022.\n",
    "\n",
    "Today, code is mess.\n",
    "\n",
    "Finished 12:04 p.m. Xmas day.\n",
    "\n",
    "I'm off to play video games."
   ],
   "metadata": {
    "collapsed": false
   }
  },
  {
   "cell_type": "code",
   "execution_count": null,
   "outputs": [],
   "source": [
    "from typing import Optional, Iterator, Any, Callable"
   ],
   "metadata": {
    "collapsed": false
   }
  },
  {
   "cell_type": "code",
   "execution_count": null,
   "outputs": [],
   "source": [
    "def read(filename: str, limit: Optional[int] = None) -> Iterator[str]:\n",
    "    with open(filename) as file:\n",
    "        count = 0\n",
    "        for line in file:\n",
    "            line = line.strip()\n",
    "            yield line\n",
    "            count += 1\n",
    "            if limit is not None and count >= limit:\n",
    "                break"
   ],
   "metadata": {
    "collapsed": false
   }
  },
  {
   "cell_type": "code",
   "execution_count": null,
   "outputs": [],
   "source": [
    "LOOKUP = {\n",
    "    '=' : -2,\n",
    "    '-' : -1,\n",
    "    '0' : 0,\n",
    "    '1' : 1,\n",
    "    '2' : 2,\n",
    "    -2 : '=',\n",
    "    -1 : '-',\n",
    "    0 : '0',\n",
    "    1 : '1',\n",
    "    2 : '2'\n",
    "}\n",
    "\n",
    "def read_ints(filename: str, limit: Optional[int] = None) -> Iterator[tuple[str, list[int]]]:\n",
    "    for line in read(filename, limit):\n",
    "        yield line, [LOOKUP[e] for e in reversed(list(line))]\n",
    "\n",
    "def stringify(snafu: list[int]) -> str:\n",
    "    rv = ''\n",
    "    for e in snafu:\n",
    "        rv = LOOKUP[e] + rv\n",
    "    return rv"
   ],
   "metadata": {
    "collapsed": false
   }
  },
  {
   "cell_type": "code",
   "execution_count": null,
   "outputs": [],
   "source": [
    "def decode(snafu: list[int]) -> int:\n",
    "    multiplier = 1\n",
    "    rv = 0\n",
    "    for value in snafu:\n",
    "        rv += value * multiplier\n",
    "        multiplier *= 5\n",
    "    return rv"
   ],
   "metadata": {
    "collapsed": false
   }
  },
  {
   "cell_type": "code",
   "execution_count": null,
   "outputs": [],
   "source": [
    "def to_proxy(snafu: list[int]) -> int:\n",
    "    multiplier = 1\n",
    "    rv = 0\n",
    "    for e in snafu:\n",
    "        rv += multiplier * (e + 2)\n",
    "        multiplier *= 5\n",
    "    return rv\n",
    "\n",
    "def from_proxy(proxy: int) -> list[int]:\n",
    "    rv = []\n",
    "    divider = 5\n",
    "    while proxy != 0:\n",
    "        assert proxy > 0\n",
    "        current = proxy % divider\n",
    "        proxy = proxy // divider\n",
    "        rv += [current - 2]\n",
    "    return rv"
   ],
   "metadata": {
    "collapsed": false
   }
  },
  {
   "cell_type": "code",
   "execution_count": null,
   "outputs": [],
   "source": [
    "INPUT_DATA = 'data/input25.txt'\n",
    "\n",
    "total = 0\n",
    "print(f'{\"SNAFU\":>25}{\"Decimal\":>25}')\n",
    "for line, ints in read_ints(INPUT_DATA):\n",
    "    print(f'{line:>25}{decode(ints):>25}')\n",
    "    total += decode(ints)\n",
    "\n",
    "print()\n",
    "print(f'Total = {total}')"
   ],
   "metadata": {
    "collapsed": false
   }
  },
  {
   "cell_type": "code",
   "execution_count": null,
   "outputs": [],
   "source": [
    "def num_digits(number: int) -> int:\n",
    "    rv = [2]\n",
    "    while decode(rv) < number:\n",
    "        rv = [2] + rv\n",
    "    return len(rv)"
   ],
   "metadata": {
    "collapsed": false
   }
  },
  {
   "cell_type": "code",
   "execution_count": null,
   "outputs": [],
   "source": [
    "def sgn(x):\n",
    "    assert (type(x) == int), f'called sgn({x}) with type {type(x)}'\n",
    "    if x < 0:\n",
    "        return -1\n",
    "    if x > 0:\n",
    "        return 1\n",
    "    return 0\n",
    "\n",
    "\n",
    "def __binary_search(i: int, k: int, f_i: Any, f_k: Any, f: Callable[[int], Any]) -> Optional[int]:\n",
    "    assert (type(i) == int), f'called __binary_search(... i={i} ...)'\n",
    "    assert (type(k) == int), f'called __binary_search(... k={k} ...)'\n",
    "    assert (type(f_i) == int), f'called __binary_search(... f_i={f_i} ...)'\n",
    "    assert (type(f_k) == int), f'called __binary_search(... f_k={f_k} ...)'\n",
    "    if f_i == 0:\n",
    "        return i\n",
    "    elif f_k == 0:\n",
    "        return k\n",
    "    if sgn(f_i) == sgn(f_k):\n",
    "        return None\n",
    "    if i >= k:\n",
    "        return None\n",
    "    if i == k - 1:\n",
    "        return None\n",
    "    j = (i + k) // 2\n",
    "    assert i < j < k\n",
    "    f_j = f(j)\n",
    "    if f_j == 0:\n",
    "        return j\n",
    "    if sgn(f_i) == sgn(f_j):\n",
    "        return __binary_search(j, k, f_j, f_k, f)\n",
    "    return __binary_search(i, j, f_i, f_j, f)\n",
    "\n",
    "\n",
    "def binary_search(i: int, j: int, f: Callable[[int], Any]) -> Optional[int]:\n",
    "    f_i = f(i)\n",
    "    f_j = f(j)\n",
    "    assert type(f_i) == int\n",
    "    assert type(f_j) == int\n",
    "    if sgn(f_i) == sgn(f_j):\n",
    "        raise ValueError(f'f({i}) = {f_i}, f({j}) = {f_j}')\n",
    "    return __binary_search(i, j, f(i), f(j), f)"
   ],
   "metadata": {
    "collapsed": false
   }
  },
  {
   "cell_type": "code",
   "execution_count": null,
   "outputs": [],
   "source": [
    "def proxy_to_decimal(proxy: int) -> int:\n",
    "    assert (type(proxy) == int), f'called proxy_to_decimal({proxy}) with type {type(proxy)}'\n",
    "    return decode(from_proxy(proxy))\n",
    "\n",
    "def diff_total(total: int) -> Callable[[int], int]:\n",
    "    def f(x):\n",
    "        assert (type(x) == int), f'called f({x}) with type {type(x)}'\n",
    "        return proxy_to_decimal(x) - total\n",
    "    return f\n",
    "\n",
    "d = num_digits(total)\n",
    "\n",
    "lower = []\n",
    "upper = [2] * d\n",
    "\n",
    "lower_proxy = to_proxy(lower)\n",
    "upper_proxy = to_proxy(upper)\n",
    "\n",
    "proxy = binary_search(lower_proxy, upper_proxy, diff_total(total))\n",
    "\n",
    "proxy\n",
    "\n",
    "stringify(from_proxy(proxy))\n"
   ],
   "metadata": {
    "collapsed": false
   }
  },
  {
   "cell_type": "code",
   "execution_count": null,
   "outputs": [],
   "source": [],
   "metadata": {
    "collapsed": false
   }
  }
 ],
 "metadata": {
  "kernelspec": {
   "display_name": "Python 3",
   "language": "python",
   "name": "python3"
  },
  "language_info": {
   "codemirror_mode": {
    "name": "ipython",
    "version": 2
   },
   "file_extension": ".py",
   "mimetype": "text/x-python",
   "name": "python",
   "nbconvert_exporter": "python",
   "pygments_lexer": "ipython2",
   "version": "2.7.6"
  }
 },
 "nbformat": 4,
 "nbformat_minor": 0
}
