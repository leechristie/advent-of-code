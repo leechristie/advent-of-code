{
 "cells": [
  {
   "cell_type": "markdown",
   "source": [
    "# Advent of Code 2015\n",
    "\n",
    "## Day 12: JSAbacusFramework.io\n",
    "\n",
    "Solution code by [leechristie](https://github.com/leechristie) for Advent of Code 2015."
   ],
   "metadata": {
    "collapsed": false
   }
  },
  {
   "cell_type": "code",
   "execution_count": null,
   "outputs": [],
   "source": [
    "from aoc import *"
   ],
   "metadata": {
    "collapsed": false
   }
  },
  {
   "cell_type": "code",
   "execution_count": null,
   "outputs": [],
   "source": [
    "INPUT = load_single_line('data/input12.txt')"
   ],
   "metadata": {
    "collapsed": false
   }
  },
  {
   "cell_type": "markdown",
   "source": [
    "### Part 1"
   ],
   "metadata": {
    "collapsed": false
   }
  },
  {
   "cell_type": "code",
   "execution_count": null,
   "outputs": [],
   "source": [
    "def integers_in_string(string: str):\n",
    "    DIGITS = '-0123456789'\n",
    "    buffer = ''\n",
    "    for char in string:\n",
    "        if char in DIGITS:\n",
    "            buffer += char\n",
    "        else:\n",
    "            if buffer:\n",
    "                yield int(buffer)\n",
    "                buffer = ''\n",
    "    if buffer:\n",
    "        yield int(buffer)\n",
    "\n",
    "print(f'The total of all the numbers in the JSON file is {sum(integers_in_string(INPUT))}')"
   ],
   "metadata": {
    "collapsed": false
   }
  },
  {
   "cell_type": "markdown",
   "source": [
    "### Part 2"
   ],
   "metadata": {
    "collapsed": false
   }
  },
  {
   "cell_type": "code",
   "execution_count": null,
   "outputs": [],
   "source": [
    "import json"
   ],
   "metadata": {
    "collapsed": false
   }
  },
  {
   "cell_type": "code",
   "execution_count": null,
   "outputs": [],
   "source": [
    "def sum_of_numbers(obj):\n",
    "\n",
    "    assert type(obj) in (list, str, dict, int)\n",
    "\n",
    "    if type(obj) == int:\n",
    "        return obj\n",
    "\n",
    "    if type(obj) == str:\n",
    "        return 0\n",
    "\n",
    "    if type(obj) == list:\n",
    "        total = 0\n",
    "        for element in obj:\n",
    "            total += sum_of_numbers(element)\n",
    "        return total\n",
    "\n",
    "    if type(obj) == dict:\n",
    "\n",
    "        for k, v in obj.items():\n",
    "            assert type(k) == str\n",
    "            assert k != 'red'\n",
    "            if v == 'red':\n",
    "                return 0\n",
    "\n",
    "        total = 0\n",
    "        for v in obj.values():\n",
    "            total += sum_of_numbers(v)\n",
    "        return total"
   ],
   "metadata": {
    "collapsed": false
   }
  },
  {
   "cell_type": "code",
   "execution_count": null,
   "outputs": [],
   "source": [
    "print(f'The total of all the numbers in the JSON file is without red things is {sum_of_numbers(json.loads(INPUT))}')"
   ],
   "metadata": {
    "collapsed": false
   }
  }
 ],
 "metadata": {
  "kernelspec": {
   "display_name": "Python 3",
   "language": "python",
   "name": "python3"
  },
  "language_info": {
   "codemirror_mode": {
    "name": "ipython",
    "version": 2
   },
   "file_extension": ".py",
   "mimetype": "text/x-python",
   "name": "python",
   "nbconvert_exporter": "python",
   "pygments_lexer": "ipython2",
   "version": "2.7.6"
  }
 },
 "nbformat": 4,
 "nbformat_minor": 0
}
