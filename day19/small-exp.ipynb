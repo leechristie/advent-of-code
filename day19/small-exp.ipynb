{
 "cells": [
  {
   "cell_type": "code",
   "execution_count": 35,
   "metadata": {
    "collapsed": true
   },
   "outputs": [],
   "source": [
    "import numpy as np"
   ]
  },
  {
   "cell_type": "code",
   "execution_count": 36,
   "outputs": [
    {
     "data": {
      "text/plain": "array([[ -1,   0,   0,   0,   0,   0,   0,   0,   0],\n       [ -1,  -4,   0,   0,   0,   1,   0,   0,   0],\n       [ -1,  -2,   0,   0,   0,   0,   1,   0,   0],\n       [ -1,  -3, -14,   0,   0,   0,   0,   1,   0],\n       [ -1,  -2,   0,  -7,   0,   0,   0,   0,   1]])"
     },
     "execution_count": 36,
     "metadata": {},
     "output_type": "execute_result"
    }
   ],
   "source": [
    "costs = np.array([\n",
    "    [-1,    0,    0,    0,    0,    0,    0,    0,    0],\n",
    "    [-1,   -4,    0,    0,    0,    1,    0,    0,    0],\n",
    "    [-1,   -2,    0,    0,    0,    0,    1,    0,    0],\n",
    "    [-1,   -3,  -14,    0,    0,    0,    0,    1,    0],\n",
    "    [-1,   -2,    0,   -7,    0,    0,    0,    0,    1]\n",
    "])\n",
    "\n",
    "gather = np.array([\n",
    "    [1,    0,    0,    0,    0,    0,    0,    0,    0],\n",
    "    [0,    1,    0,    0,    0,    0,    0,    0,    0],\n",
    "    [0,    0,    1,    0,    0,    0,    0,    0,    0],\n",
    "    [0,    0,    0,    1,    0,    0,    0,    0,    0],\n",
    "    [0,    0,    0,    0,    1,    0,    0,    0,    0],\n",
    "    [0,    1,    0,    0,    0,    1,    0,    0,    0],\n",
    "    [0,    0,    1,    0,    0,    0,    1,    0,    0],\n",
    "    [0,    0,    0,    1,    0,    0,    0,    1,    0],\n",
    "    [0,    0,    0,    0,    1,    0,    0,    0,    1],\n",
    "])\n",
    "\n",
    "costs"
   ],
   "metadata": {
    "collapsed": false
   }
  },
  {
   "cell_type": "code",
   "execution_count": 37,
   "outputs": [],
   "source": [
    "wait = np.array([1, 0, 0, 0, 0])\n",
    "build_ore_robot = np.array([0, 1, 0, 0, 0])\n",
    "build_clay_robot = np.array([0, 0, 1, 0, 0])\n",
    "build_obsidian_robot = np.array([0, 0, 0, 1, 0])\n",
    "build_geode_robot = np.array([0, 0, 0, 0, 1])"
   ],
   "metadata": {
    "collapsed": false
   }
  },
  {
   "cell_type": "code",
   "execution_count": 38,
   "outputs": [
    {
     "data": {
      "text/plain": "array([ 0,  6, 41,  8,  9,  1,  4,  2,  2])"
     },
     "execution_count": 38,
     "metadata": {},
     "output_type": "execute_result"
    }
   ],
   "source": [
    "resource = np.array([\n",
    "    24, # time\n",
    "    0,  # ore\n",
    "    0,  # clay\n",
    "    0,  # obsidian\n",
    "    0,  # geode\n",
    "    1,  # ore robot\n",
    "    0,  # clay robot\n",
    "    0,  # obsidian robot\n",
    "    0   # geode robot\n",
    "])\n",
    "\n",
    "resource = resource @ gather + wait @ costs\n",
    "resource = resource @ gather + wait @ costs\n",
    "resource = resource @ gather + build_clay_robot @ costs\n",
    "resource = resource @ gather + wait @ costs\n",
    "resource = resource @ gather + build_clay_robot @ costs\n",
    "resource = resource @ gather + wait @ costs\n",
    "resource = resource @ gather + build_clay_robot @ costs\n",
    "resource = resource @ gather + wait @ costs\n",
    "resource = resource @ gather + wait @ costs\n",
    "resource = resource @ gather + wait @ costs\n",
    "resource = resource @ gather + build_obsidian_robot @ costs\n",
    "resource = resource @ gather + build_clay_robot @ costs\n",
    "resource = resource @ gather + wait @ costs\n",
    "resource = resource @ gather + wait @ costs\n",
    "resource = resource @ gather + build_obsidian_robot @ costs\n",
    "resource = resource @ gather + wait @ costs\n",
    "resource = resource @ gather + wait @ costs\n",
    "resource = resource @ gather + build_geode_robot @ costs\n",
    "resource = resource @ gather + wait @ costs\n",
    "resource = resource @ gather + wait @ costs\n",
    "resource = resource @ gather + build_geode_robot @ costs\n",
    "resource = resource @ gather + wait @ costs\n",
    "resource = resource @ gather + wait @ costs\n",
    "resource = resource @ gather + wait @ costs\n",
    "\n",
    "resource"
   ],
   "metadata": {
    "collapsed": false
   }
  }
 ],
 "metadata": {
  "kernelspec": {
   "display_name": "Python 3",
   "language": "python",
   "name": "python3"
  },
  "language_info": {
   "codemirror_mode": {
    "name": "ipython",
    "version": 2
   },
   "file_extension": ".py",
   "mimetype": "text/x-python",
   "name": "python",
   "nbconvert_exporter": "python",
   "pygments_lexer": "ipython2",
   "version": "2.7.6"
  }
 },
 "nbformat": 4,
 "nbformat_minor": 0
}
