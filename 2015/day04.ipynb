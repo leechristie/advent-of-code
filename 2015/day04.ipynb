{
 "cells": [
  {
   "cell_type": "markdown",
   "source": [
    "# Advent of Code 2015\n",
    "\n",
    "## Day 4: The Ideal Stocking Stuffer\n",
    "\n",
    "Solution code by [leechristie](https://github.com/leechristie) for Advent of Code 2015."
   ],
   "metadata": {
    "collapsed": false
   }
  },
  {
   "cell_type": "code",
   "execution_count": 1,
   "outputs": [],
   "source": [
    "from hashlib import md5\n",
    "from itertools import count\n",
    "\n",
    "INPUT = 'bgvyzdsv'"
   ],
   "metadata": {
    "collapsed": false
   }
  },
  {
   "cell_type": "markdown",
   "source": [
    "### Part 1"
   ],
   "metadata": {
    "collapsed": false
   }
  },
  {
   "cell_type": "code",
   "execution_count": 2,
   "outputs": [],
   "source": [
    "def hash_candidate(secret: str, nonce: int) -> str:\n",
    "    candidate = f'{secret}{nonce}'\n",
    "    return md5(candidate.encode('ascii')).hexdigest()"
   ],
   "metadata": {
    "collapsed": false
   }
  },
  {
   "cell_type": "code",
   "execution_count": 3,
   "outputs": [],
   "source": [
    "def left_zeros(md5_hash: str) -> int:\n",
    "    return len(md5_hash) - len(md5_hash.lstrip('0'))"
   ],
   "metadata": {
    "collapsed": false
   }
  },
  {
   "cell_type": "code",
   "execution_count": 4,
   "outputs": [],
   "source": [
    "def mine(secret: str, difficulty: int) -> int:\n",
    "    for nonce in count(1):\n",
    "        md5_hash = hash_candidate(secret, nonce)\n",
    "        if left_zeros(md5_hash) >= difficulty:\n",
    "            return nonce"
   ],
   "metadata": {
    "collapsed": false
   }
  },
  {
   "cell_type": "code",
   "execution_count": 5,
   "outputs": [
    {
     "name": "stdout",
     "output_type": "stream",
     "text": [
      "The winning nonce is 254575\n"
     ]
    }
   ],
   "source": [
    "winning_nonce = mine(INPUT, 5)\n",
    "\n",
    "print(f'The winning nonce is {winning_nonce}')"
   ],
   "metadata": {
    "collapsed": false
   }
  },
  {
   "cell_type": "markdown",
   "source": [
    "### Part 2"
   ],
   "metadata": {
    "collapsed": false
   }
  },
  {
   "cell_type": "code",
   "execution_count": 6,
   "outputs": [
    {
     "name": "stdout",
     "output_type": "stream",
     "text": [
      "The winning nonce is 1038736\n"
     ]
    }
   ],
   "source": [
    "winning_nonce = mine(INPUT, 6)\n",
    "\n",
    "print(f'The winning nonce is {winning_nonce}')"
   ],
   "metadata": {
    "collapsed": false
   }
  },
  {
   "cell_type": "code",
   "execution_count": null,
   "outputs": [],
   "source": [],
   "metadata": {
    "collapsed": false
   }
  }
 ],
 "metadata": {
  "kernelspec": {
   "display_name": "Python 3",
   "language": "python",
   "name": "python3"
  },
  "language_info": {
   "codemirror_mode": {
    "name": "ipython",
    "version": 2
   },
   "file_extension": ".py",
   "mimetype": "text/x-python",
   "name": "python",
   "nbconvert_exporter": "python",
   "pygments_lexer": "ipython2",
   "version": "2.7.6"
  }
 },
 "nbformat": 4,
 "nbformat_minor": 0
}
