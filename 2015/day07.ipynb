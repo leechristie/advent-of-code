{
 "cells": [
  {
   "cell_type": "markdown",
   "source": [
    "# Advent of Code 2015\n",
    "\n",
    "## Day 7: Some Assembly Required\n",
    "\n",
    "Solution code by [leechristie](https://github.com/leechristie) for Advent of Code 2015."
   ],
   "metadata": {
    "collapsed": false
   }
  },
  {
   "cell_type": "code",
   "execution_count": null,
   "outputs": [],
   "source": [
    "from aoc import *\n",
    "\n",
    "\n",
    "class Instruction(ABC):\n",
    "\n",
    "    @staticmethod\n",
    "    def validate_l_value(value: str) -> Union[str, int]:\n",
    "        value = parse_int_or_str(value)\n",
    "        if type(value) == str:\n",
    "            assert is_non_empty_lowercase_alphabetic_only(value)\n",
    "        return value\n",
    "\n",
    "    @staticmethod\n",
    "    def validate_binary_op_code(value: str) -> str:\n",
    "        assert value in {'AND', 'RSHIFT', 'OR', 'LSHIFT', 'NOT'}\n",
    "        return value\n",
    "\n",
    "    @staticmethod\n",
    "    def validate_unary_op_code(value: str) -> str:\n",
    "        assert value in {'NOT'}\n",
    "        return value\n",
    "\n",
    "    @staticmethod\n",
    "    def validate_r_value(value: str) -> str:\n",
    "        assert is_non_empty_lowercase_alphabetic_only(value)\n",
    "        return value\n",
    "\n",
    "    @staticmethod\n",
    "    def parse_instruction(tokens: tuple) -> 'Instruction':\n",
    "\n",
    "        assert tokens[-2] == '->'\n",
    "\n",
    "        if len(tokens) == 3:\n",
    "\n",
    "            input_token, _, output_token = tokens\n",
    "\n",
    "            input_token = Instruction.validate_l_value(input_token)\n",
    "            output_token = Instruction.validate_r_value(output_token)\n",
    "\n",
    "            return SetInstruction(input_token, output_token)\n",
    "\n",
    "        elif len(tokens) == 5:\n",
    "\n",
    "            left_token, op_token, right_token, _, output_token = tokens\n",
    "\n",
    "            left_token = Instruction.validate_l_value(left_token)\n",
    "            op_token = Instruction.validate_binary_op_code(op_token)\n",
    "            right_token = Instruction.validate_l_value(right_token)\n",
    "            output_token = Instruction.validate_r_value(output_token)\n",
    "\n",
    "            return BinaryInstruction(left_token, op_token, right_token, output_token)\n",
    "\n",
    "        elif len(tokens) == 4:\n",
    "\n",
    "            op_token, right_token, _, output_token = tokens\n",
    "\n",
    "            op_token = Instruction.validate_unary_op_code(op_token)\n",
    "            right_token = Instruction.validate_l_value(right_token)\n",
    "            output_token = Instruction.validate_r_value(output_token)\n",
    "\n",
    "            return UnaryInstruction(op_token, right_token, output_token)\n",
    "\n",
    "    @abstractmethod\n",
    "    def wires(self) -> set[str]:\n",
    "        pass\n",
    "\n",
    "    @abstractmethod\n",
    "    def __str__(self):\n",
    "        pass\n",
    "\n",
    "    def __repr__(self):\n",
    "        return str(self)\n",
    "\n",
    "class SetInstruction(Instruction):\n",
    "\n",
    "    def __init__(self, input_token: Union[str, int], output_token: str):\n",
    "        self.input_token = input_token\n",
    "        self.output_token = output_token\n",
    "\n",
    "    def __str__(self):\n",
    "        return f'SetInstruction({repr(self.input_token)}, {repr(self.output_token)})'\n",
    "\n",
    "    def wires(self) -> set[str]:\n",
    "        rv = set()\n",
    "        for token in self.input_token, self.output_token:\n",
    "            if type(token) == str:\n",
    "                rv.add(token)\n",
    "        return rv\n",
    "\n",
    "\n",
    "class BinaryInstruction(Instruction):\n",
    "\n",
    "    def __init__(self, left_token: Union[str, int], op_token: str, right_token: Union[str, int], output_token: str):\n",
    "        self.left_token = left_token\n",
    "        self.op_token = op_token\n",
    "        self.right_token = right_token\n",
    "        self.output_token = output_token\n",
    "\n",
    "    def __str__(self):\n",
    "        return f'BinaryInstruction({repr(self.left_token)}, {repr(self.op_token)}, {repr(self.right_token)}, {repr(self.output_token)})'\n",
    "\n",
    "    def wires(self) -> set[str]:\n",
    "        rv = set()\n",
    "        for token in self.left_token, self.right_token, self.output_token:\n",
    "            if type(token) == str:\n",
    "                rv.add(token)\n",
    "        return rv\n",
    "\n",
    "\n",
    "class UnaryInstruction(Instruction):\n",
    "\n",
    "    def __init__(self, op_token: str, right_token: Union[str, int], output_token: str):\n",
    "        self.op_token = op_token\n",
    "        self.right_token = right_token\n",
    "        self.output_token = output_token\n",
    "\n",
    "    def __str__(self):\n",
    "        return f'UnaryInstruction({repr(self.op_token)}, {repr(self.right_token)}, {repr(self.output_token)})'\n",
    "\n",
    "    def wires(self) -> set[str]:\n",
    "        rv = set()\n",
    "        for token in self.right_token, self.output_token:\n",
    "            if type(token) == str:\n",
    "                rv.add(token)\n",
    "        return rv"
   ],
   "metadata": {
    "collapsed": false
   }
  },
  {
   "cell_type": "code",
   "execution_count": null,
   "outputs": [],
   "source": [
    "INSTRUCTIONS = []\n",
    "WIRES = set()\n",
    "for tokens in load_split_lines('data/sample07.txt', ' ', str):\n",
    "    instruction = Instruction.parse_instruction(tokens)\n",
    "    WIRES.update(instruction.wires())\n",
    "    INSTRUCTIONS.append(instruction)\n",
    "WIRES = sorted(WIRES)"
   ],
   "metadata": {
    "collapsed": false
   }
  },
  {
   "cell_type": "markdown",
   "source": [
    "# Part 1"
   ],
   "metadata": {
    "collapsed": false
   }
  },
  {
   "cell_type": "code",
   "execution_count": null,
   "outputs": [],
   "source": [
    "for instruction in INSTRUCTIONS:\n",
    "    print(instruction)\n",
    "print()\n",
    "\n",
    "for wire in WIRES:\n",
    "    print(wire)\n",
    "print()"
   ],
   "metadata": {
    "collapsed": false
   }
  },
  {
   "cell_type": "code",
   "execution_count": null,
   "outputs": [],
   "source": [],
   "metadata": {
    "collapsed": false
   }
  }
 ],
 "metadata": {
  "kernelspec": {
   "display_name": "Python 3",
   "language": "python",
   "name": "python3"
  },
  "language_info": {
   "codemirror_mode": {
    "name": "ipython",
    "version": 2
   },
   "file_extension": ".py",
   "mimetype": "text/x-python",
   "name": "python",
   "nbconvert_exporter": "python",
   "pygments_lexer": "ipython2",
   "version": "2.7.6"
  }
 },
 "nbformat": 4,
 "nbformat_minor": 0
}
