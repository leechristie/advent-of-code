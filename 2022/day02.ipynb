{
 "cells": [
  {
   "cell_type": "markdown",
   "source": [
    "# Advent of Code 2022\n",
    "\n",
    "## Day 2: Rock Paper Scissors\n",
    "\n",
    "Solution code by [leechristie](https://github.com/leechristie) for Advent of Code 2022.\n",
    "\n",
    "This solution is largely based on mapping the inputs through several `dict` objects. I translate `'A'`, `'B'`, `'C'` and `'X'`, `'Y'`, `'Z'` to `'Rock'`, `'Paper'`, `'Scissors'` as this makes the `dict` objects easier to understand.\n",
    "\n",
    "I think this paid off in part 2 as I just needed to change around some key-value pairs. Having the literal words made it easier to avoid making mistakes."
   ],
   "metadata": {
    "collapsed": false
   }
  },
  {
   "cell_type": "code",
   "execution_count": null,
   "outputs": [],
   "source": [
    "from collections.abc import Iterator"
   ],
   "metadata": {
    "collapsed": false
   }
  },
  {
   "cell_type": "code",
   "execution_count": null,
   "outputs": [],
   "source": [
    "def read_lines(filename: str) -> Iterator[str]:\n",
    "    with open(filename) as file:\n",
    "        for line in file:\n",
    "            line = line.strip()\n",
    "            yield line"
   ],
   "metadata": {
    "collapsed": false
   }
  },
  {
   "cell_type": "code",
   "execution_count": null,
   "id": "4adc0049-4b85-4c24-8a85-ebec8e5eb1ff",
   "metadata": {},
   "outputs": [],
   "source": [
    "choice_points = {\n",
    "    'Rock': 1,\n",
    "    'Paper': 2,\n",
    "    'Scissors': 3\n",
    "}\n",
    "\n",
    "outcome_points = {\n",
    "    'Lose': 0,\n",
    "    'Draw': 3,\n",
    "    'Win': 6\n",
    "}"
   ]
  },
  {
   "cell_type": "code",
   "execution_count": null,
   "outputs": [],
   "source": [
    "INPUT_FILE = 'data/input02.txt'"
   ],
   "metadata": {
    "collapsed": false
   }
  },
  {
   "cell_type": "markdown",
   "source": [
    "### Part 1"
   ],
   "metadata": {
    "collapsed": false
   }
  },
  {
   "cell_type": "code",
   "execution_count": null,
   "outputs": [],
   "source": [
    "decode_to_hands = {\n",
    "    'A': 'Rock', 'B': 'Paper', 'C': 'Scissors',\n",
    "    'X': 'Rock', 'Y': 'Paper', 'Z': 'Scissors'\n",
    "}\n",
    "\n",
    "outcome_mapping = {\n",
    "\n",
    "    ('Rock', 'Rock'): 'Draw',\n",
    "    ('Rock', 'Paper'): 'Win',\n",
    "    ('Rock', 'Scissors'): 'Lose',\n",
    "\n",
    "    ('Paper', 'Rock'): 'Lose',\n",
    "    ('Paper', 'Paper'): 'Draw',\n",
    "    ('Paper', 'Scissors'): 'Win',\n",
    "\n",
    "    ('Scissors', 'Rock'): 'Win',\n",
    "    ('Scissors', 'Paper'): 'Lose',\n",
    "    ('Scissors', 'Scissors'): 'Draw'\n",
    "\n",
    "}"
   ],
   "metadata": {
    "collapsed": false
   }
  },
  {
   "cell_type": "code",
   "execution_count": null,
   "outputs": [],
   "source": [
    "def main():\n",
    "\n",
    "    total_score = 0\n",
    "\n",
    "    for line in read_lines(INPUT_FILE):\n",
    "\n",
    "        opponent_hand, my_hand = line.split(' ')\n",
    "        opponent_hand = decode_to_hands[opponent_hand]\n",
    "        my_hand = decode_to_hands[my_hand]\n",
    "\n",
    "        outcome = outcome_mapping[(opponent_hand, my_hand)]\n",
    "\n",
    "        total_score += choice_points[my_hand]\n",
    "        total_score += outcome_points[outcome]\n",
    "\n",
    "    print(f'The total score for following the guide is {total_score} points.')"
   ],
   "metadata": {
    "collapsed": false
   }
  },
  {
   "cell_type": "code",
   "execution_count": null,
   "outputs": [],
   "source": [
    "if __name__ == '__main__':\n",
    "    main()"
   ],
   "metadata": {
    "collapsed": false
   }
  },
  {
   "cell_type": "markdown",
   "source": [
    "### Part 2"
   ],
   "metadata": {
    "collapsed": false
   }
  },
  {
   "cell_type": "code",
   "execution_count": null,
   "id": "ce147e64-6ffa-49f6-88b3-46f30dee83e6",
   "metadata": {},
   "outputs": [],
   "source": [
    "decode_to_hands = {\n",
    "    'A': 'Rock', 'B': 'Paper', 'C': 'Scissors'\n",
    "}\n",
    "\n",
    "decode_to_outcome = {\n",
    "    'X': 'Lose', 'Y': 'Draw', 'Z': 'Win'\n",
    "}\n",
    "\n",
    "reverse_outcome_mapping = {\n",
    "    \n",
    "    ('Rock', 'Lose'): 'Scissors',\n",
    "    ('Rock', 'Draw'): 'Rock',\n",
    "    ('Rock', 'Win'): 'Paper',\n",
    "    \n",
    "    ('Paper', 'Lose'): 'Rock',\n",
    "    ('Paper', 'Draw'): 'Paper',\n",
    "    ('Paper', 'Win'): 'Scissors',\n",
    "    \n",
    "    ('Scissors', 'Lose'): 'Paper',\n",
    "    ('Scissors', 'Draw'): 'Scissors',\n",
    "    ('Scissors', 'Win'): 'Rock'\n",
    "    \n",
    "}"
   ]
  },
  {
   "cell_type": "code",
   "execution_count": null,
   "id": "85d09ba4-6184-4cae-ac76-b81497afaac8",
   "metadata": {},
   "outputs": [],
   "source": [
    "def main():\n",
    "\n",
    "    total_score = 0\n",
    "\n",
    "    for line in read_lines(INPUT_FILE):\n",
    "\n",
    "        opponent_hand, outcome = line.split(' ')\n",
    "        opponent_hand = decode_to_hands[opponent_hand]\n",
    "        outcome = decode_to_outcome[outcome]\n",
    "\n",
    "        total_score += outcome_points[outcome]\n",
    "\n",
    "        my_hand = reverse_outcome_mapping[(opponent_hand, outcome)]\n",
    "\n",
    "        total_score += choice_points[my_hand]\n",
    "\n",
    "    print(f'The total score for following the guide is {total_score} points.')"
   ]
  },
  {
   "cell_type": "code",
   "execution_count": null,
   "outputs": [],
   "source": [
    "if __name__ == '__main__':\n",
    "    main()"
   ],
   "metadata": {
    "collapsed": false
   }
  }
 ],
 "metadata": {
  "kernelspec": {
   "display_name": "Python 3 (ipykernel)",
   "language": "python",
   "name": "python3"
  },
  "language_info": {
   "codemirror_mode": {
    "name": "ipython",
    "version": 3
   },
   "file_extension": ".py",
   "mimetype": "text/x-python",
   "name": "python",
   "nbconvert_exporter": "python",
   "pygments_lexer": "ipython3",
   "version": "3.10.6"
  }
 },
 "nbformat": 4,
 "nbformat_minor": 5
}
