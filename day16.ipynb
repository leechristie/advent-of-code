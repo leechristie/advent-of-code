{
 "cells": [
  {
   "cell_type": "markdown",
   "source": [
    "# Advent of Code 2022\n",
    "\n",
    "## Day 16: Proboscidea Volcanium\n",
    "\n",
    "Solution code by [leechristie](https://github.com/leechristie) for Advent of Code 2022.\n",
    "\n",
    "Today's notebook isn't too tidy. I didn't get finished until 8:00 PM.\n",
    "\n",
    "For part 1 I read the graph of the caves, collapse all nodes with 0 flow rate down to shortest paths, ultimately build a distance matrix between the set containing all flow-rate > 0 nodes and the start node. I represent the solution as an ordered list of valves to open, e.g. for test input: `['DD', 'HH']` means go from AA to DD, open DD, go from DD to EE to FF to GG to HH. Intermediate nodes are implied. In evaluating, time jumps forward in steps of travel time plus 1 for opening. Venting score is remaining time times flow rate so I don't keep adding each time step.\n",
    "\n",
    "I search all the possible sequences and in not too much time come up with the largest score.\n",
    "\n",
    "Part 2 I enumerate al possible sequences one human/elephant can use to open the valves in 26 minutes. Then make all pairs of non-overlapping sequences. This takes my M1 Pro one hour to do! Finally in a shorter step I just loop over the pairs, adding up the score to find the highest.\n",
    "\n",
    "Solution works. Did it within the day the puzzle went up, no spoilers, continued the 16-days streak. It's not a great solution but it works."
   ],
   "metadata": {
    "collapsed": false
   }
  },
  {
   "cell_type": "markdown",
   "source": [
    "### Imports"
   ],
   "metadata": {
    "collapsed": false
   }
  },
  {
   "cell_type": "code",
   "execution_count": null,
   "outputs": [],
   "source": [
    "import random\n",
    "from collections import defaultdict\n",
    "from tqdm.notebook import tqdm as tqdm\n",
    "from typing import Iterator, Optional\n",
    "import re\n",
    "from math import inf"
   ],
   "metadata": {
    "collapsed": false
   }
  },
  {
   "cell_type": "markdown",
   "source": [
    "### Reading Input"
   ],
   "metadata": {
    "collapsed": false
   }
  },
  {
   "cell_type": "code",
   "execution_count": null,
   "outputs": [],
   "source": [
    "def read_input(filename: str) -> Iterator[tuple[str, int, list[str]]]:\n",
    "    with open(filename) as file:\n",
    "        for line in file:\n",
    "            line = line.strip()\n",
    "            match = re.search(r'^Valve ([A-Z][A-Z]) has flow rate=([0-9][0-9]?); tunnel[a-z]* lead[a-z]* to valve[a-z]* ([A-Z, ]*)$', line)\n",
    "            if match is None:\n",
    "                raise ValueError(f're.search returned {match} on string \"{line}\"')\n",
    "            if len(match.groups()) != 3:\n",
    "                raise ValueError(f're.search returned {len(match.groups())} match grounps on string \"{line}\"')\n",
    "            valve_number, flow_rate, leads_to = match.groups()\n",
    "            yield valve_number, int(flow_rate), leads_to.split(', ')"
   ],
   "metadata": {
    "collapsed": false
   }
  },
  {
   "cell_type": "code",
   "execution_count": null,
   "outputs": [],
   "source": [
    "INPUT_FILE = 'data/input16.txt'\n",
    "START = 'AA'"
   ],
   "metadata": {
    "collapsed": false
   }
  },
  {
   "cell_type": "markdown",
   "source": [
    "### Data"
   ],
   "metadata": {
    "collapsed": false
   }
  },
  {
   "cell_type": "code",
   "execution_count": null,
   "outputs": [],
   "source": [
    "key_nodes = {}\n",
    "neighbours_raw = {}\n",
    "for valve_number, flow_rate, leads_to in read_input(INPUT_FILE):\n",
    "    if valve_number == START or flow_rate != 0:\n",
    "        key_nodes[valve_number] = flow_rate\n",
    "    neighbours_raw[valve_number] = leads_to"
   ],
   "metadata": {
    "collapsed": false
   }
  },
  {
   "cell_type": "markdown",
   "source": [
    "### Part 1"
   ],
   "metadata": {
    "collapsed": false
   }
  },
  {
   "cell_type": "code",
   "execution_count": null,
   "outputs": [],
   "source": [
    "def search(path, shortest):\n",
    "\n",
    "    if path:\n",
    "\n",
    "        # process path\n",
    "        length = len(path) - 1\n",
    "        head, tail = path[0], path[-1]\n",
    "        assert (type(head) == str), f'{head = }, {path = }'\n",
    "        assert (type(tail) == str), f'{tail = }, {path = }'\n",
    "        best = shortest[(head, tail)]\n",
    "        if length < best:\n",
    "            shortest[(head, tail)] = length\n",
    "\n",
    "            # all next neighbours\n",
    "            for neighbour in neighbours_raw[tail]:\n",
    "                search(path + [neighbour], shortest)\n",
    "\n",
    "    else:\n",
    "\n",
    "        # all start points\n",
    "        for neighbour in neighbours_raw.keys():\n",
    "            search([neighbour], shortest)\n",
    "\n",
    "shortest = defaultdict(lambda: inf)\n",
    "search([], shortest)\n",
    "\n",
    "distance_matrix = {}\n",
    "for x in sorted(key_nodes.keys()):\n",
    "    distance_matrix[x] = {}\n",
    "    for y in sorted(key_nodes.keys()):\n",
    "        distance_matrix[x][y] = shortest[(x, y)]"
   ],
   "metadata": {
    "collapsed": false
   }
  },
  {
   "cell_type": "code",
   "execution_count": null,
   "outputs": [],
   "source": [
    "print('Nodes we can visit, with amount to vent:')\n",
    "print(key_nodes)\n",
    "print()\n",
    "\n",
    "print('Shortest path distance between all pairs of nodes:')\n",
    "for x in distance_matrix:\n",
    "    print(x, distance_matrix[x])\n",
    "print()"
   ],
   "metadata": {
    "collapsed": false
   }
  },
  {
   "cell_type": "code",
   "execution_count": null,
   "outputs": [],
   "source": [
    "# for a given sequence of vents, returns the total score\n",
    "def score_sequence(sequence: list[str], total_time: int) -> Optional[int]:\n",
    "    assert len(set(sequence)) == len(sequence)\n",
    "    current_vertex = 'AA'\n",
    "    time_remaining = total_time\n",
    "    vented = 0\n",
    "    for next_vertex in sequence:\n",
    "        distance = distance_matrix[current_vertex][next_vertex]\n",
    "        if time_remaining >= distance:\n",
    "            current_vertex = next_vertex\n",
    "            time_remaining -= distance\n",
    "            if time_remaining == 1:\n",
    "                return None\n",
    "            elif time_remaining >= 0:\n",
    "                time_remaining -= 1\n",
    "                vented += key_nodes[current_vertex] * time_remaining\n",
    "            else:\n",
    "                return None\n",
    "        else:\n",
    "            return None\n",
    "    return vented"
   ],
   "metadata": {
    "collapsed": false
   }
  },
  {
   "cell_type": "code",
   "execution_count": null,
   "outputs": [],
   "source": [
    "if 'test' in INPUT_FILE:\n",
    "    example_sequence = ['DD', 'BB', 'JJ', 'HH', 'EE', 'CC']\n",
    "    print(score_sequence([], 30))\n",
    "    print(score_sequence(['DD'], 30))\n",
    "    print(score_sequence(['DD', 'BB'], 30))\n",
    "    print(score_sequence(['DD', 'BB', 'JJ'], 30))\n",
    "    print(score_sequence(['DD', 'BB', 'JJ', 'HH'], 30))\n",
    "    print(score_sequence(['DD', 'BB', 'JJ', 'HH', 'EE'], 30))\n",
    "    print(score_sequence(['DD', 'BB', 'JJ', 'HH', 'EE', 'CC'], 30))\n",
    "else:\n",
    "    print('running on real file')"
   ],
   "metadata": {
    "collapsed": false
   }
  },
  {
   "cell_type": "code",
   "execution_count": null,
   "outputs": [],
   "source": [
    "BEST_SCORE = 0\n",
    "BEST_SEQUENCE = []\n",
    "\n",
    "def track_best(score, sequence):\n",
    "    global BEST_SCORE\n",
    "    global BEST_SEQUENCE\n",
    "    if score > BEST_SCORE:\n",
    "        BEST_SCORE = score\n",
    "        BEST_SEQUENCE = sequence\n",
    "        print(BEST_SCORE, BEST_SEQUENCE)\n",
    "\n",
    "\n",
    "def search_problem(sequence: list[str], total_time: int, closed: set[str], callback):\n",
    "\n",
    "    score = score_sequence(sequence, total_time=total_time)\n",
    "\n",
    "    if score is None:\n",
    "        return\n",
    "\n",
    "    callback(score, sequence)\n",
    "\n",
    "    for next_vent in closed:\n",
    "        search_problem(sequence=sequence+[next_vent], total_time=total_time, closed=closed-{next_vent}, callback=callback)\n",
    "\n",
    "search_problem(sequence=[], total_time=30, closed=set(key_nodes.keys())-{'AA'}, callback=track_best)\n",
    "print()\n",
    "print('DONE')\n",
    "print()\n",
    "print(f'Best Score : {BEST_SCORE}')\n",
    "print(f'Best Sequence : {BEST_SEQUENCE}')"
   ],
   "metadata": {
    "collapsed": false
   }
  },
  {
   "cell_type": "markdown",
   "source": [
    "## Part 2"
   ],
   "metadata": {
    "collapsed": false
   }
  },
  {
   "cell_type": "code",
   "execution_count": null,
   "outputs": [],
   "source": [
    "ALL_VIABLE = {i: {} for i in range(len(key_nodes))} # no sub 1, want 0 to 15\n",
    "\n",
    "def track_viable(score, sequence):\n",
    "    global ALL_VIABLE\n",
    "    ALL_VIABLE[len(sequence)][tuple(sequence)] = score\n",
    "\n",
    "\n",
    "def search_problem(sequence: list[str], total_time: int, closed: set[str], callback):\n",
    "    score = score_sequence(sequence, total_time=total_time)\n",
    "    if score is None:\n",
    "        return\n",
    "    callback(score, sequence)\n",
    "    for next_vent in closed:\n",
    "        search_problem(sequence=sequence+[next_vent], total_time=total_time, closed=closed-{next_vent}, callback=callback)\n",
    "\n",
    "\n",
    "search_problem(sequence=[], total_time=26, closed=set(key_nodes.keys())-{'AA'}, callback=track_viable)\n",
    "print('DONE')"
   ],
   "metadata": {
    "collapsed": false
   }
  },
  {
   "cell_type": "code",
   "execution_count": null,
   "outputs": [],
   "source": [
    "MAXIMUM_VENTS = 0\n",
    "for length, viable in ALL_VIABLE.items():\n",
    "    print(length, len(viable))\n",
    "    if len(viable) > 0:\n",
    "        if MAXIMUM_VENTS < length:\n",
    "            MAXIMUM_VENTS = length\n",
    "print()\n",
    "print(f'one person can open at most {MAXIMUM_VENTS} vents')\n",
    "ALL_VIABLE = {k: v for k, v in ALL_VIABLE.items() if len(v) > 0}\n",
    "ALL_VIABLE_UNGROUPED = {}\n",
    "for length, viable in ALL_VIABLE.items():\n",
    "    print(length, len(viable))\n",
    "    for seq, score in viable.items():\n",
    "        ALL_VIABLE_UNGROUPED[seq] = score\n",
    "len(ALL_VIABLE_UNGROUPED)"
   ],
   "metadata": {
    "collapsed": false
   }
  },
  {
   "cell_type": "code",
   "execution_count": null,
   "outputs": [],
   "source": [
    "ALL_PAIRS = set()\n",
    "X1 = list(ALL_VIABLE_UNGROUPED.keys())\n",
    "random.shuffle(X1)\n",
    "X2 = list(ALL_VIABLE_UNGROUPED.keys())\n",
    "random.shuffle(X2)\n",
    "for x in tqdm(X1, desc=\"creating all pairs of viable solves that don't overlap\"):\n",
    "    if len(x) > 0:\n",
    "        for y in X2:\n",
    "            if len(y) > 0:\n",
    "                sx = set(x)\n",
    "                sy = set(y)\n",
    "                if len(sx | sy) == len(sx) + len(sy):\n",
    "                    pair = [x, y]\n",
    "                    pair.sort()\n",
    "                    pair = tuple(pair)\n",
    "                    ALL_PAIRS.add(pair)"
   ],
   "metadata": {
    "collapsed": false
   }
  },
  {
   "cell_type": "code",
   "execution_count": null,
   "outputs": [],
   "source": [
    "best_score = 0\n",
    "for y, e in tqdm(ALL_PAIRS, desc='checking pairs'):\n",
    "    score = ALL_VIABLE_UNGROUPED[y] + ALL_VIABLE_UNGROUPED[e]\n",
    "    if score > best_score:\n",
    "        best_score = score\n",
    "        #print(score, y, e, sep='\\t')\n",
    "\n",
    "#print()\n",
    "print('The answer is', best_score)"
   ],
   "metadata": {
    "collapsed": false
   }
  }
 ],
 "metadata": {
  "kernelspec": {
   "display_name": "Python 3",
   "language": "python",
   "name": "python3"
  },
  "language_info": {
   "codemirror_mode": {
    "name": "ipython",
    "version": 2
   },
   "file_extension": ".py",
   "mimetype": "text/x-python",
   "name": "python",
   "nbconvert_exporter": "python",
   "pygments_lexer": "ipython2",
   "version": "2.7.6"
  }
 },
 "nbformat": 4,
 "nbformat_minor": 0
}
