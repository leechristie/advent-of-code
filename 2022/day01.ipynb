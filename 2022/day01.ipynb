{
 "cells": [
  {
   "cell_type": "markdown",
   "source": [
    "# Advent of Code 2022\n",
    "\n",
    "## Day 1: Calorie Counting\n",
    "\n",
    "Solution code by [leechristie](https://github.com/leechristie) for Advent of Code 2022.\n",
    "\n",
    "I've never done Advent of Code before. Previously I'd heard of it half way through the month of December and not bothered to start, This is the first time I've been reminded of it in time to start on Dec 1st.\n",
    "\n",
    "I'm using Jupyter Notebooks and Python 3.10. The editor I'm using is DataSpell, and I've trying to use more type hinting on function definitions, so this might not run on some earlier versions of Python.\n",
    "\n",
    "In these I decided to write a generator to read the input and do any minimal processing required for the lines to simplify the design of `main`. All input files are in a private `data/` directory named `data/input01.txt` etc. that I git-ignored.\n",
    "\n",
    "This first day as very easy. In part 1 I track the highest value seen as `most_calories` and the cumulative count for the current elf. In part 2 rather than tracking the top three, it was easier to keep a list of all totals and sort, taking the top 3. If the data set were huge this O(n log n) step might be a problem, but with this data set it takes a faction of a second.\n",
    "\n",
    "I encapsulated the state update into an `update` function but in part 2, this function becomes a lot simpler, so it may be better to take it out."
   ],
   "metadata": {
    "collapsed": false
   }
  },
  {
   "cell_type": "code",
   "execution_count": null,
   "outputs": [],
   "source": [
    "from typing import Optional\n",
    "from collections.abc import Iterator"
   ],
   "metadata": {
    "collapsed": false
   }
  },
  {
   "cell_type": "code",
   "execution_count": null,
   "outputs": [],
   "source": [
    "def read_lines(filename: str) -> Iterator[str]:\n",
    "    with open(filename) as file:\n",
    "        for line in file:\n",
    "            line = line.strip()\n",
    "            yield line"
   ],
   "metadata": {
    "collapsed": false
   }
  },
  {
   "cell_type": "code",
   "execution_count": null,
   "outputs": [],
   "source": [
    "INPUT_FILE = 'data/input01.txt'"
   ],
   "metadata": {
    "collapsed": false
   }
  },
  {
   "cell_type": "markdown",
   "source": [
    "### Part 1"
   ],
   "metadata": {
    "collapsed": false
   }
  },
  {
   "cell_type": "code",
   "execution_count": null,
   "outputs": [],
   "source": [
    "def update(most: Optional[int],\n",
    "           cumulative: int,\n",
    "           line: Optional[str]) -> tuple[int, int]:\n",
    "\n",
    "    # starting or continuing a list of numbers\n",
    "    if line:\n",
    "        return most, cumulative + int(line)\n",
    "\n",
    "    # end of set, cumulative total is larger than most\n",
    "    if not most or cumulative > most:\n",
    "        return cumulative, 0\n",
    "\n",
    "    # end of set, cumulative total is not larger than most\n",
    "    return most, 0"
   ],
   "metadata": {
    "collapsed": false
   }
  },
  {
   "cell_type": "code",
   "execution_count": null,
   "outputs": [],
   "source": [
    "def main():\n",
    "\n",
    "    most_calories = None\n",
    "    cumulative_total = 0\n",
    "\n",
    "    for line in read_lines(INPUT_FILE):\n",
    "        most_calories, cumulative_total = update(most_calories, cumulative_total, line)\n",
    "\n",
    "    # process the final line (in case input did not end with a blank line)\n",
    "    most_calories, cumulative_total = update(most_calories, cumulative_total, None)\n",
    "\n",
    "    print(f'The elf carrying the most calories has {most_calories} calories.')"
   ],
   "metadata": {
    "collapsed": false
   }
  },
  {
   "cell_type": "code",
   "execution_count": null,
   "outputs": [],
   "source": [
    "if __name__ == '__main__':\n",
    "    main()"
   ],
   "metadata": {
    "collapsed": false
   }
  },
  {
   "cell_type": "markdown",
   "source": [
    "### Part 2"
   ],
   "metadata": {
    "collapsed": false
   }
  },
  {
   "cell_type": "code",
   "execution_count": null,
   "outputs": [],
   "source": [
    "def update(totals: list[int],\n",
    "           cumulative: int,\n",
    "           line: Optional[str]) -> int:\n",
    "\n",
    "    # starting or continuing a list of numbers\n",
    "    if line:\n",
    "        return cumulative + int(line)\n",
    "\n",
    "    # end of set\n",
    "    totals.append(cumulative)\n",
    "    return 0"
   ],
   "metadata": {
    "collapsed": false
   }
  },
  {
   "cell_type": "code",
   "execution_count": null,
   "outputs": [],
   "source": [
    "def main():\n",
    "\n",
    "    all_totals = []\n",
    "    cumulative_total = 0\n",
    "\n",
    "    for line in read_lines(INPUT_FILE):\n",
    "        cumulative_total = update(all_totals, cumulative_total, line)\n",
    "\n",
    "    # process the final line (in case input did not end with a blank line)\n",
    "    update(all_totals, cumulative_total, None)\n",
    "\n",
    "    three_highest = sum(sorted(all_totals)[-3:])\n",
    "\n",
    "    print(f'The 3 elves carrying the most calories have {three_highest} calories in total.')"
   ],
   "metadata": {
    "collapsed": false
   }
  },
  {
   "cell_type": "code",
   "execution_count": null,
   "outputs": [],
   "source": [
    "if __name__ == '__main__':\n",
    "    main()"
   ],
   "metadata": {
    "collapsed": false
   }
  }
 ],
 "metadata": {
  "kernelspec": {
   "display_name": "Python 3 (ipykernel)",
   "language": "python",
   "name": "python3"
  },
  "language_info": {
   "codemirror_mode": {
    "name": "ipython",
    "version": 3
   },
   "file_extension": ".py",
   "mimetype": "text/x-python",
   "name": "python",
   "nbconvert_exporter": "python",
   "pygments_lexer": "ipython3",
   "version": "3.10.6"
  }
 },
 "nbformat": 4,
 "nbformat_minor": 5
}
