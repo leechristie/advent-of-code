{
 "cells": [
  {
   "cell_type": "markdown",
   "source": [
    "# Advent of Code 2022\n",
    "\n",
    "## Day 20: Grove Positioning System\n",
    "\n",
    "Solution code by [leechristie](https://github.com/leechristie) for Advent of Code 2022.\n",
    "\n",
    "I solved day 20 pretty quickly, but I'm writing this with day 19 part 2 from yesterday still unsolved.\n",
    "\n",
    "I started the solution for part 1 by making a data structure I called `Ring` which stores `int` objects inside a data structure called `LinkedNode`. A `dict` stores pointers to the nodes to jump immediately to each node for only the cost of a `dict` lookup, and moving 1 space left of right takes constant time. When moving `n` spaces, only one lookup is done and the whole operation is `O(n)`. So moving `m` ints takes `O(m*max(n)`. I added a `__getitem__` and `__len__` to `Ring` to read it back like a list, with modular arithmetic applied to the index so solution is `ring[1000] + ring[2000] + ring[3000]`. However, if the ring isn't mutated between reads I need to cache the list to avoid recomputing it each time, so subsequent reads are constant time.\n",
    "\n",
    "However, my input file contains repeated values! Unlike the example. The fix was not difficult, I just replaced `int` with an object I call `ReferenceInt`. It acts like an `int` but it's equality and hash code is based on object identity not value., and part 1 is solved.\n",
    "\n",
    "For part 2 I had to divide all ints through by `m-1` and take the remainder. I used my `ReferenceInt` to store both the original and remainder value. Since the"
   ],
   "metadata": {
    "collapsed": false
   }
  },
  {
   "cell_type": "markdown",
   "source": [
    "### Imports"
   ],
   "metadata": {
    "collapsed": false
   }
  },
  {
   "cell_type": "code",
   "execution_count": null,
   "outputs": [],
   "source": [
    "from typing import Optional\n",
    "import tqdm.notebook as tqdm\n",
    "from typing import Iterator"
   ],
   "metadata": {
    "collapsed": false
   }
  },
  {
   "cell_type": "markdown",
   "source": [
    "### Reference Int"
   ],
   "metadata": {
    "collapsed": false
   }
  },
  {
   "cell_type": "code",
   "execution_count": null,
   "outputs": [],
   "source": [
    "class ReferenceInt:\n",
    "\n",
    "    __next_hash = 0\n",
    "\n",
    "    __slots__ = ['remainder', 'original_value', 'hash_proxy']\n",
    "\n",
    "    def __init__(self, original_value : int):\n",
    "        self.remainder = original_value\n",
    "        self.original_value = original_value\n",
    "        self.hash_proxy = ReferenceInt.__next_hash\n",
    "        ReferenceInt.__next_hash += 1\n",
    "\n",
    "    def divide(self, base: int):\n",
    "        assert base >= 1\n",
    "        if self.original_value > 0:\n",
    "            self.remainder = self.remainder % base\n",
    "        else:\n",
    "            self.remainder = -((-self.remainder) % base)\n",
    "\n",
    "    def __str__(self):\n",
    "        if self.remainder == self.original_value:\n",
    "            return f'<{self.original_value}>'\n",
    "        return f'<{self.remainder}|{self.original_value}>'\n",
    "\n",
    "    def __repr__(self):\n",
    "        return str(self)\n",
    "\n",
    "    def __eq__(self, other) -> bool:\n",
    "        return self is other\n",
    "\n",
    "    def __ne__(self, other: 'ReferenceInt') -> bool:\n",
    "        return self is not other\n",
    "\n",
    "    def __hash__(self):\n",
    "        return hash(self.hash_proxy)"
   ],
   "metadata": {
    "collapsed": false
   }
  },
  {
   "cell_type": "markdown",
   "source": [
    "### Linked Node"
   ],
   "metadata": {
    "collapsed": false
   }
  },
  {
   "cell_type": "code",
   "execution_count": null,
   "outputs": [],
   "source": [
    "class LinkedNode:\n",
    "\n",
    "    __slots__ = ['previous_node', 'next_node', 'value']\n",
    "\n",
    "    def __init__(self, value: ReferenceInt):\n",
    "        self.previous_node: Optional[LinkedNode] = None\n",
    "        self.next_node: Optional[LinkedNode] = None\n",
    "        self.value = value\n",
    "\n",
    "    def link(self, previous_node: 'LinkedNode', next_node: 'LinkedNode') -> None:\n",
    "        self.previous_node = previous_node\n",
    "        self.next_node = next_node\n",
    "\n",
    "    @staticmethod\n",
    "    def relink(a: 'LinkedNode', b: 'LinkedNode', c: 'LinkedNode', d: 'LinkedNode'):\n",
    "        a.next_node = b\n",
    "        b.next_node = c\n",
    "        c.next_node = d\n",
    "        d.previous_node = c\n",
    "        c.previous_node = b\n",
    "        b.previous_node = a\n",
    "\n",
    "    def move_right(self) -> None:\n",
    "        LinkedNode.relink(self.previous_node, self.next_node, self, self.next_node.next_node)\n",
    "\n",
    "    def move_left(self) -> None:\n",
    "        LinkedNode.relink(self.previous_node.previous_node, self, self.previous_node, self.next_node)\n",
    "\n",
    "    def __str__(self):\n",
    "        return str(self.value)\n",
    "\n",
    "    def __repr__(self):\n",
    "        return str(self)"
   ],
   "metadata": {
    "collapsed": false
   }
  },
  {
   "cell_type": "markdown",
   "source": [
    "### Ring"
   ],
   "metadata": {
    "collapsed": false
   }
  },
  {
   "cell_type": "code",
   "execution_count": null,
   "outputs": [],
   "source": [
    "class Ring:\n",
    "\n",
    "    __slots__ = ['codes', 'nodes', 'flattened', 'start_value']\n",
    "\n",
    "    def __init__(self, arrangement: list[ReferenceInt], start_value: ReferenceInt):\n",
    "\n",
    "        self.codes = arrangement\n",
    "        self.nodes: dict[ReferenceInt, LinkedNode] = {value: LinkedNode(value) for value in arrangement}\n",
    "        self.flattened: Optional[list[int]] = None\n",
    "        self.start_value = start_value\n",
    "\n",
    "        for listIndex, value in enumerate(arrangement):\n",
    "\n",
    "            previousIndex: int = (listIndex - 1) % len(arrangement)\n",
    "            nextIndex: int = (listIndex + 1) % len(arrangement)\n",
    "\n",
    "            previousValue: ReferenceInt = arrangement[previousIndex]\n",
    "            nextValue: ReferenceInt = arrangement[nextIndex]\n",
    "\n",
    "            previous_node: LinkedNode = self.nodes[previousValue]\n",
    "            next_node: LinkedNode = self.nodes[nextValue]\n",
    "            node: LinkedNode = self.nodes[value]\n",
    "\n",
    "            node.link(previous_node, next_node)\n",
    "\n",
    "    def __len__(self):\n",
    "        return len(self.nodes)\n",
    "\n",
    "    def __getitem__(self, item: int) -> int:\n",
    "        assert item >= 0\n",
    "        if self.flattened is None:\n",
    "            self.flattened = self.to_list()\n",
    "        return self.flattened[item % len(self.flattened)]\n",
    "\n",
    "    def mix(self, value: ReferenceInt) -> None:\n",
    "        self.flattened = None\n",
    "        node = self.nodes[value]\n",
    "        if value.remainder < 0:\n",
    "            for _ in range(-value.remainder):\n",
    "                node.move_left()\n",
    "        else:\n",
    "            for _ in range(value.remainder):\n",
    "                node.move_right()\n",
    "\n",
    "    def values(self) -> Iterator[int]:\n",
    "        yield self.start_value\n",
    "        node: LinkedNode = self.nodes[self.start_value].next_node\n",
    "        while node.value != self.start_value:\n",
    "            yield node.value\n",
    "            node = node.next_node\n",
    "\n",
    "    def to_list(self) -> list[int]:\n",
    "        return [value.original_value for value in tqdm.tqdm(self.values(), total=len(self), desc='flattening list')]\n",
    "\n",
    "    def __str__(self):\n",
    "        node: LinkedNode = self.nodes[self.start_value]\n",
    "        rv = str(node)\n",
    "        node = node.next_node\n",
    "        while node.value != self.start_value:\n",
    "            rv += ' -> ' + str(node)\n",
    "            node = node.next_node\n",
    "        rv += ' -> ' + str(self.start_value)\n",
    "        return rv\n",
    "\n",
    "    def __repr__(self):\n",
    "        return str(self)"
   ],
   "metadata": {
    "collapsed": false
   }
  },
  {
   "cell_type": "markdown",
   "source": [
    "### Input Parsing"
   ],
   "metadata": {
    "collapsed": false
   }
  },
  {
   "cell_type": "code",
   "execution_count": null,
   "outputs": [],
   "source": [
    "INPUT_FILE = 'data/input20.txt'"
   ],
   "metadata": {
    "collapsed": false
   }
  },
  {
   "cell_type": "code",
   "execution_count": null,
   "outputs": [],
   "source": [
    "def read_ints(filename: str, key: int = 1) -> Iterator[ReferenceInt]:\n",
    "    with open(filename) as file:\n",
    "        for line in file:\n",
    "            line = line.strip()\n",
    "            current = ReferenceInt(int(line) * key)\n",
    "            yield current"
   ],
   "metadata": {
    "collapsed": false
   }
  },
  {
   "cell_type": "code",
   "execution_count": null,
   "outputs": [],
   "source": [
    "def read_codes(filename: str, key: int = 1) -> Ring:\n",
    "    codes = []\n",
    "    start_value = None\n",
    "    for current in read_ints(filename, key):\n",
    "        if current.original_value == 0:\n",
    "            start_value = current\n",
    "        codes.append(current)\n",
    "    assert start_value is not None\n",
    "    return Ring(codes, start_value)"
   ],
   "metadata": {
    "collapsed": false
   }
  },
  {
   "cell_type": "markdown",
   "source": [
    "### Part 1"
   ],
   "metadata": {
    "collapsed": false
   }
  },
  {
   "cell_type": "code",
   "execution_count": null,
   "outputs": [],
   "source": [
    "def main():\n",
    "    ring = read_codes(INPUT_FILE)\n",
    "    for c in tqdm.tqdm(ring.codes, desc='mixing ring'):\n",
    "        ring.mix(c)\n",
    "    print(f'The sum of the three numbers that form the grove coordinates is {ring[1000] + ring[2000] + ring[3000]}')"
   ],
   "metadata": {
    "collapsed": false
   }
  },
  {
   "cell_type": "code",
   "execution_count": null,
   "outputs": [],
   "source": [
    "if __name__ == '__main__':\n",
    "    main()"
   ],
   "metadata": {
    "collapsed": false
   }
  },
  {
   "cell_type": "markdown",
   "source": [
    "### Part 2"
   ],
   "metadata": {
    "collapsed": false
   }
  },
  {
   "cell_type": "code",
   "execution_count": null,
   "outputs": [],
   "source": [
    "TIMES_TO_MIX = 10\n",
    "KEY = 811589153"
   ],
   "metadata": {
    "collapsed": false
   }
  },
  {
   "cell_type": "code",
   "execution_count": null,
   "outputs": [],
   "source": [
    "def main():\n",
    "    ring = read_codes(INPUT_FILE, KEY)\n",
    "    for value in ring.codes:\n",
    "        value.divide(len(ring) - 1)\n",
    "    for c in tqdm.tqdm(ring.codes * TIMES_TO_MIX, desc='mixing ring'):\n",
    "        ring.mix(c)\n",
    "    print(f'The sum of the three numbers that form the grove coordinates is {ring[1000] + ring[2000] + ring[3000]}')"
   ],
   "metadata": {
    "collapsed": false
   }
  },
  {
   "cell_type": "code",
   "execution_count": null,
   "outputs": [],
   "source": [
    "if __name__ == '__main__':\n",
    "    main()"
   ],
   "metadata": {
    "collapsed": false
   }
  }
 ],
 "metadata": {
  "kernelspec": {
   "display_name": "Python 3",
   "language": "python",
   "name": "python3"
  },
  "language_info": {
   "codemirror_mode": {
    "name": "ipython",
    "version": 2
   },
   "file_extension": ".py",
   "mimetype": "text/x-python",
   "name": "python",
   "nbconvert_exporter": "python",
   "pygments_lexer": "ipython2",
   "version": "2.7.6"
  }
 },
 "nbformat": 4,
 "nbformat_minor": 0
}
