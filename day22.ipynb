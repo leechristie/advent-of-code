{
 "cells": [
  {
   "cell_type": "markdown",
   "source": [
    "# Advent of Code 2022\n",
    "\n",
    "## Day 22: Monkey Map\n",
    "\n",
    "Solution code by [leechristie](https://github.com/leechristie) for Advent of Code 2022.\n",
    "\n",
    "Today wasn't hard, it just took a long time.\n",
    "\n",
    "I made a `Board` object which stores the data in a `numpy` array. I also track footsteps with another array for rendering the output (commented out since it's not needed). For wrapping, if we walk off into the void, velocity reverses and walks backwards to find the other side of the void leading back in.\n",
    "\n",
    "For part two I had to rewrite the wrapping logic to take wrapping parmameters e.g. `board.add_wrap((2, EAST), (5, WEST))` means if leaving side `2` going `EAST` then go to side `5` going `WEST`. These were then hard-coded in after drawing on a paper cube, rather than implmenting a cube-folding algorithm. The `compute_to_position_wrap` algorithm has a lot of unit tests because I wasn't sure I could get that right without a lot of tests, there's too much room for error."
   ],
   "metadata": {
    "collapsed": false
   }
  },
  {
   "cell_type": "markdown",
   "source": [
    "### Imports"
   ],
   "metadata": {
    "collapsed": false
   }
  },
  {
   "cell_type": "code",
   "execution_count": null,
   "outputs": [],
   "source": [
    "from collections import namedtuple\n",
    "import numpy as np"
   ],
   "metadata": {
    "collapsed": false
   }
  },
  {
   "cell_type": "markdown",
   "source": [
    "### Point"
   ],
   "metadata": {
    "collapsed": false
   }
  },
  {
   "cell_type": "code",
   "execution_count": null,
   "outputs": [],
   "source": [
    "# noinspection PyTypeChecker\n",
    "Point = namedtuple('Point', ['x', 'y'])\n",
    "# noinspection PyTypeChecker\n",
    "Velocity = namedtuple('Velocity', ['dx', 'dy', 'encoding', 'name'])"
   ],
   "metadata": {
    "collapsed": false
   }
  },
  {
   "cell_type": "markdown",
   "source": [
    "### Constants and Stuff"
   ],
   "metadata": {
    "collapsed": false
   }
  },
  {
   "cell_type": "code",
   "execution_count": null,
   "outputs": [],
   "source": [
    "VOID = ' '\n",
    "FLOOR = '.'\n",
    "WALL = '#'\n",
    "TILE_TYPES = [VOID, FLOOR, WALL]\n",
    "\n",
    "NORTH = Velocity(dx=0, dy=-1, encoding=1, name='NORTH')\n",
    "SOUTH = Velocity(dx=0, dy=+1, encoding=2, name='SOUTH')\n",
    "EAST = Velocity(dx=1, dy=0, encoding=3, name='EAST')\n",
    "WEST = Velocity(dx=-1, dy=0, encoding=4, name='WEST')\n",
    "\n",
    "FOOTSTEP_RENDER = [None, '^', 'v', '>', '<']\n",
    "FACING_NUMBER = {\n",
    "    NORTH : 3,\n",
    "    SOUTH : 1,\n",
    "    EAST : 0,\n",
    "    WEST : 2\n",
    "}"
   ],
   "metadata": {
    "collapsed": false
   }
  },
  {
   "cell_type": "markdown",
   "source": [
    "### Relative Position Wrap\n",
    "\n",
    "Only used for Part 2"
   ],
   "metadata": {
    "collapsed": false
   }
  },
  {
   "cell_type": "code",
   "execution_count": null,
   "outputs": [],
   "source": [
    "def compute_to_position_wrap(size: int, from_position: Point, from_velocity: Velocity, to_velocity: Velocity) -> Point:\n",
    "\n",
    "    assert 0 < size\n",
    "    assert 0 <= from_position.x < size\n",
    "    assert 0 <= from_position.y < size\n",
    "    assert from_velocity in {NORTH, SOUTH, EAST, WEST}\n",
    "    assert to_velocity in {NORTH, SOUTH, EAST, WEST}\n",
    "    x = from_position.x\n",
    "    y = from_position.y\n",
    "    edge = size-1\n",
    "\n",
    "    if from_velocity == EAST:\n",
    "        assert x == edge\n",
    "        var = y\n",
    "        if to_velocity == EAST:\n",
    "            return Point(x=0, y=var)\n",
    "        if to_velocity == WEST:\n",
    "            return Point(x=edge, y=edge-var)\n",
    "        if to_velocity == NORTH:\n",
    "            return Point(x=var, y=edge)\n",
    "        if to_velocity == SOUTH:\n",
    "            return Point(x=edge-var, y=0)\n",
    "\n",
    "    if from_velocity == WEST:\n",
    "        assert x == 0\n",
    "        var = y\n",
    "        if to_velocity == EAST:\n",
    "            return Point(x=0, y=edge-var)\n",
    "        if to_velocity == WEST:\n",
    "            return Point(x=edge, y=var)\n",
    "        if to_velocity == NORTH:\n",
    "            return Point(x=edge-var, y=edge)\n",
    "        if to_velocity == SOUTH:\n",
    "            return Point(x=var, y=0)\n",
    "\n",
    "    if from_velocity == NORTH:\n",
    "        assert y == 0\n",
    "        var = x\n",
    "        if to_velocity == EAST:\n",
    "            return Point(x=0, y=var)\n",
    "        if to_velocity == WEST:\n",
    "            return Point(x=edge, y=edge-var)\n",
    "        if to_velocity == NORTH:\n",
    "            return Point(x=var, y=edge)\n",
    "        if to_velocity == SOUTH:\n",
    "            return Point(x=edge-var, y=0)\n",
    "\n",
    "    assert from_velocity == SOUTH\n",
    "    assert y == edge\n",
    "    var = x\n",
    "    if to_velocity == EAST:\n",
    "        return Point(x=0, y=edge-var)\n",
    "    if to_velocity == WEST:\n",
    "        return Point(x=edge, y=var)\n",
    "    if to_velocity == NORTH:\n",
    "        return Point(x=edge-var, y=edge)\n",
    "    if to_velocity == SOUTH:\n",
    "        return Point(x=var, y=0)\n",
    "\n",
    "# checking all the wrapping works as expected - moving east\n",
    "assert compute_to_position_wrap(3, Point(x=2, y=0), EAST, EAST) == Point(x=0, y=0)\n",
    "assert compute_to_position_wrap(3, Point(x=2, y=1), EAST, EAST) == Point(x=0, y=1)\n",
    "assert compute_to_position_wrap(3, Point(x=2, y=2), EAST, EAST) == Point(x=0, y=2)\n",
    "assert compute_to_position_wrap(3, Point(x=2, y=0), EAST, WEST) == Point(x=2, y=2)\n",
    "assert compute_to_position_wrap(3, Point(x=2, y=1), EAST, WEST) == Point(x=2, y=1)\n",
    "assert compute_to_position_wrap(3, Point(x=2, y=2), EAST, WEST) == Point(x=2, y=0)\n",
    "assert compute_to_position_wrap(3, Point(x=2, y=0), EAST, NORTH) == Point(x=0, y=2)\n",
    "assert compute_to_position_wrap(3, Point(x=2, y=1), EAST, NORTH) == Point(x=1, y=2)\n",
    "assert compute_to_position_wrap(3, Point(x=2, y=2), EAST, NORTH) == Point(x=2, y=2)\n",
    "assert compute_to_position_wrap(3, Point(x=2, y=0), EAST, SOUTH) == Point(x=2, y=0)\n",
    "assert compute_to_position_wrap(3, Point(x=2, y=1), EAST, SOUTH) == Point(x=1, y=0)\n",
    "assert compute_to_position_wrap(3, Point(x=2, y=2), EAST, SOUTH) == Point(x=0, y=0)\n",
    "assert compute_to_position_wrap(4, Point(x=3, y=0), EAST, EAST) == Point(x=0, y=0)\n",
    "assert compute_to_position_wrap(4, Point(x=3, y=1), EAST, EAST) == Point(x=0, y=1)\n",
    "assert compute_to_position_wrap(4, Point(x=3, y=2), EAST, EAST) == Point(x=0, y=2)\n",
    "assert compute_to_position_wrap(4, Point(x=3, y=3), EAST, EAST) == Point(x=0, y=3)\n",
    "assert compute_to_position_wrap(4, Point(x=3, y=0), EAST, WEST) == Point(x=3, y=3)\n",
    "assert compute_to_position_wrap(4, Point(x=3, y=1), EAST, WEST) == Point(x=3, y=2)\n",
    "assert compute_to_position_wrap(4, Point(x=3, y=2), EAST, WEST) == Point(x=3, y=1)\n",
    "assert compute_to_position_wrap(4, Point(x=3, y=3), EAST, WEST) == Point(x=3, y=0)\n",
    "assert compute_to_position_wrap(4, Point(x=3, y=0), EAST, NORTH) == Point(x=0, y=3)\n",
    "assert compute_to_position_wrap(4, Point(x=3, y=1), EAST, NORTH) == Point(x=1, y=3)\n",
    "assert compute_to_position_wrap(4, Point(x=3, y=2), EAST, NORTH) == Point(x=2, y=3)\n",
    "assert compute_to_position_wrap(4, Point(x=3, y=3), EAST, NORTH) == Point(x=3, y=3)\n",
    "assert compute_to_position_wrap(4, Point(x=3, y=0), EAST, SOUTH) == Point(x=3, y=0)\n",
    "assert compute_to_position_wrap(4, Point(x=3, y=1), EAST, SOUTH) == Point(x=2, y=0)\n",
    "assert compute_to_position_wrap(4, Point(x=3, y=2), EAST, SOUTH) == Point(x=1, y=0)\n",
    "assert compute_to_position_wrap(4, Point(x=3, y=3), EAST, SOUTH) == Point(x=0, y=0)\n",
    "\n",
    "# checking all the wrapping works as expected - moving west\n",
    "assert compute_to_position_wrap(3, Point(x=0, y=0), WEST, EAST) == Point(x=0, y=2)\n",
    "assert compute_to_position_wrap(3, Point(x=0, y=1), WEST, EAST) == Point(x=0, y=1)\n",
    "assert compute_to_position_wrap(3, Point(x=0, y=2), WEST, EAST) == Point(x=0, y=0)\n",
    "assert compute_to_position_wrap(3, Point(x=0, y=0), WEST, WEST) == Point(x=2, y=0)\n",
    "assert compute_to_position_wrap(3, Point(x=0, y=1), WEST, WEST) == Point(x=2, y=1)\n",
    "assert compute_to_position_wrap(3, Point(x=0, y=2), WEST, WEST) == Point(x=2, y=2)\n",
    "assert compute_to_position_wrap(3, Point(x=0, y=0), WEST, NORTH) == Point(x=2, y=2)\n",
    "assert compute_to_position_wrap(3, Point(x=0, y=1), WEST, NORTH) == Point(x=1, y=2)\n",
    "assert compute_to_position_wrap(3, Point(x=0, y=2), WEST, NORTH) == Point(x=0, y=2)\n",
    "assert compute_to_position_wrap(3, Point(x=0, y=0), WEST, SOUTH) == Point(x=0, y=0)\n",
    "assert compute_to_position_wrap(3, Point(x=0, y=1), WEST, SOUTH) == Point(x=1, y=0)\n",
    "assert compute_to_position_wrap(3, Point(x=0, y=2), WEST, SOUTH) == Point(x=2, y=0)\n",
    "assert compute_to_position_wrap(4, Point(x=0, y=0), WEST, EAST) == Point(x=0, y=3)\n",
    "assert compute_to_position_wrap(4, Point(x=0, y=1), WEST, EAST) == Point(x=0, y=2)\n",
    "assert compute_to_position_wrap(4, Point(x=0, y=2), WEST, EAST) == Point(x=0, y=1)\n",
    "assert compute_to_position_wrap(4, Point(x=0, y=3), WEST, EAST) == Point(x=0, y=0)\n",
    "assert compute_to_position_wrap(4, Point(x=0, y=0), WEST, WEST) == Point(x=3, y=0)\n",
    "assert compute_to_position_wrap(4, Point(x=0, y=1), WEST, WEST) == Point(x=3, y=1)\n",
    "assert compute_to_position_wrap(4, Point(x=0, y=2), WEST, WEST) == Point(x=3, y=2)\n",
    "assert compute_to_position_wrap(4, Point(x=0, y=3), WEST, WEST) == Point(x=3, y=3)\n",
    "assert compute_to_position_wrap(4, Point(x=0, y=0), WEST, NORTH) == Point(x=3, y=3)\n",
    "assert compute_to_position_wrap(4, Point(x=0, y=1), WEST, NORTH) == Point(x=2, y=3)\n",
    "assert compute_to_position_wrap(4, Point(x=0, y=2), WEST, NORTH) == Point(x=1, y=3)\n",
    "assert compute_to_position_wrap(4, Point(x=0, y=3), WEST, NORTH) == Point(x=0, y=3)\n",
    "assert compute_to_position_wrap(4, Point(x=0, y=0), WEST, SOUTH) == Point(x=0, y=0)\n",
    "assert compute_to_position_wrap(4, Point(x=0, y=1), WEST, SOUTH) == Point(x=1, y=0)\n",
    "assert compute_to_position_wrap(4, Point(x=0, y=2), WEST, SOUTH) == Point(x=2, y=0)\n",
    "assert compute_to_position_wrap(4, Point(x=0, y=3), WEST, SOUTH) == Point(x=3, y=0)\n",
    "\n",
    "# checking all the wrapping works as expected - moving north\n",
    "assert compute_to_position_wrap(3, Point(x=0, y=0), NORTH, EAST) == Point(x=0, y=0)\n",
    "assert compute_to_position_wrap(3, Point(x=1, y=0), NORTH, EAST) == Point(x=0, y=1)\n",
    "assert compute_to_position_wrap(3, Point(x=2, y=0), NORTH, EAST) == Point(x=0, y=2)\n",
    "assert compute_to_position_wrap(3, Point(x=0, y=0), NORTH, WEST) == Point(x=2, y=2)\n",
    "assert compute_to_position_wrap(3, Point(x=1, y=0), NORTH, WEST) == Point(x=2, y=1)\n",
    "assert compute_to_position_wrap(3, Point(x=2, y=0), NORTH, WEST) == Point(x=2, y=0)\n",
    "assert compute_to_position_wrap(3, Point(x=0, y=0), NORTH, NORTH) == Point(x=0, y=2)\n",
    "assert compute_to_position_wrap(3, Point(x=1, y=0), NORTH, NORTH) == Point(x=1, y=2)\n",
    "assert compute_to_position_wrap(3, Point(x=2, y=0), NORTH, NORTH) == Point(x=2, y=2)\n",
    "assert compute_to_position_wrap(3, Point(x=0, y=0), NORTH, SOUTH) == Point(x=2, y=0)\n",
    "assert compute_to_position_wrap(3, Point(x=1, y=0), NORTH, SOUTH) == Point(x=1, y=0)\n",
    "assert compute_to_position_wrap(3, Point(x=2, y=0), NORTH, SOUTH) == Point(x=0, y=0)\n",
    "assert compute_to_position_wrap(4, Point(x=0, y=0), NORTH, EAST) == Point(x=0, y=0)\n",
    "assert compute_to_position_wrap(4, Point(x=1, y=0), NORTH, EAST) == Point(x=0, y=1)\n",
    "assert compute_to_position_wrap(4, Point(x=2, y=0), NORTH, EAST) == Point(x=0, y=2)\n",
    "assert compute_to_position_wrap(4, Point(x=3, y=0), NORTH, EAST) == Point(x=0, y=3)\n",
    "assert compute_to_position_wrap(4, Point(x=0, y=0), NORTH, WEST) == Point(x=3, y=3)\n",
    "assert compute_to_position_wrap(4, Point(x=1, y=0), NORTH, WEST) == Point(x=3, y=2)\n",
    "assert compute_to_position_wrap(4, Point(x=2, y=0), NORTH, WEST) == Point(x=3, y=1)\n",
    "assert compute_to_position_wrap(4, Point(x=3, y=0), NORTH, WEST) == Point(x=3, y=0)\n",
    "assert compute_to_position_wrap(4, Point(x=0, y=0), NORTH, NORTH) == Point(x=0, y=3)\n",
    "assert compute_to_position_wrap(4, Point(x=1, y=0), NORTH, NORTH) == Point(x=1, y=3)\n",
    "assert compute_to_position_wrap(4, Point(x=2, y=0), NORTH, NORTH) == Point(x=2, y=3)\n",
    "assert compute_to_position_wrap(4, Point(x=3, y=0), NORTH, NORTH) == Point(x=3, y=3)\n",
    "assert compute_to_position_wrap(4, Point(x=0, y=0), NORTH, SOUTH) == Point(x=3, y=0)\n",
    "assert compute_to_position_wrap(4, Point(x=1, y=0), NORTH, SOUTH) == Point(x=2, y=0)\n",
    "assert compute_to_position_wrap(4, Point(x=2, y=0), NORTH, SOUTH) == Point(x=1, y=0)\n",
    "assert compute_to_position_wrap(4, Point(x=3, y=0), NORTH, SOUTH) == Point(x=0, y=0)\n",
    "\n",
    "# checking all the wrapping works as expected - moving south\n",
    "assert compute_to_position_wrap(3, Point(x=0, y=2), SOUTH, EAST) == Point(x=0, y=2)\n",
    "assert compute_to_position_wrap(3, Point(x=1, y=2), SOUTH, EAST) == Point(x=0, y=1)\n",
    "assert compute_to_position_wrap(3, Point(x=2, y=2), SOUTH, EAST) == Point(x=0, y=0)\n",
    "assert compute_to_position_wrap(3, Point(x=0, y=2), SOUTH, WEST) == Point(x=2, y=0)\n",
    "assert compute_to_position_wrap(3, Point(x=1, y=2), SOUTH, WEST) == Point(x=2, y=1)\n",
    "assert compute_to_position_wrap(3, Point(x=2, y=2), SOUTH, WEST) == Point(x=2, y=2)\n",
    "assert compute_to_position_wrap(3, Point(x=0, y=2), SOUTH, NORTH) == Point(x=2, y=2)\n",
    "assert compute_to_position_wrap(3, Point(x=1, y=2), SOUTH, NORTH) == Point(x=1, y=2)\n",
    "assert compute_to_position_wrap(3, Point(x=2, y=2), SOUTH, NORTH) == Point(x=0, y=2)\n",
    "assert compute_to_position_wrap(3, Point(x=0, y=2), SOUTH, SOUTH) == Point(x=0, y=0)\n",
    "assert compute_to_position_wrap(3, Point(x=1, y=2), SOUTH, SOUTH) == Point(x=1, y=0)\n",
    "assert compute_to_position_wrap(3, Point(x=2, y=2), SOUTH, SOUTH) == Point(x=2, y=0)\n",
    "assert compute_to_position_wrap(4, Point(x=0, y=3), SOUTH, EAST) == Point(x=0, y=3)\n",
    "assert compute_to_position_wrap(4, Point(x=1, y=3), SOUTH, EAST) == Point(x=0, y=2)\n",
    "assert compute_to_position_wrap(4, Point(x=2, y=3), SOUTH, EAST) == Point(x=0, y=1)\n",
    "assert compute_to_position_wrap(4, Point(x=3, y=3), SOUTH, EAST) == Point(x=0, y=0)\n",
    "assert compute_to_position_wrap(4, Point(x=0, y=3), SOUTH, WEST) == Point(x=3, y=0)\n",
    "assert compute_to_position_wrap(4, Point(x=1, y=3), SOUTH, WEST) == Point(x=3, y=1)\n",
    "assert compute_to_position_wrap(4, Point(x=2, y=3), SOUTH, WEST) == Point(x=3, y=2)\n",
    "assert compute_to_position_wrap(4, Point(x=3, y=3), SOUTH, WEST) == Point(x=3, y=3)\n",
    "assert compute_to_position_wrap(4, Point(x=0, y=3), SOUTH, NORTH) == Point(x=3, y=3)\n",
    "assert compute_to_position_wrap(4, Point(x=1, y=3), SOUTH, NORTH) == Point(x=2, y=3)\n",
    "assert compute_to_position_wrap(4, Point(x=2, y=3), SOUTH, NORTH) == Point(x=1, y=3)\n",
    "assert compute_to_position_wrap(4, Point(x=3, y=3), SOUTH, NORTH) == Point(x=0, y=3)\n",
    "assert compute_to_position_wrap(4, Point(x=0, y=3), SOUTH, SOUTH) == Point(x=0, y=0)\n",
    "assert compute_to_position_wrap(4, Point(x=1, y=3), SOUTH, SOUTH) == Point(x=1, y=0)\n",
    "assert compute_to_position_wrap(4, Point(x=2, y=3), SOUTH, SOUTH) == Point(x=2, y=0)\n",
    "assert compute_to_position_wrap(4, Point(x=3, y=3), SOUTH, SOUTH) == Point(x=3, y=0)"
   ],
   "metadata": {
    "collapsed": false
   }
  },
  {
   "cell_type": "markdown",
   "source": [
    "### Board"
   ],
   "metadata": {
    "collapsed": false
   }
  },
  {
   "cell_type": "code",
   "execution_count": null,
   "outputs": [],
   "source": [
    "\n",
    "\n",
    "def turn(direction: Velocity, rotation: str) -> Velocity:\n",
    "    assert direction in (NORTH, SOUTH, EAST, WEST)\n",
    "    assert rotation in ('R', 'L')\n",
    "    if (direction, rotation) == (NORTH, 'R'):\n",
    "        return EAST\n",
    "    if (direction, rotation) == (NORTH, 'L'):\n",
    "        return WEST\n",
    "    if (direction, rotation) == (EAST, 'R'):\n",
    "        return SOUTH\n",
    "    if (direction, rotation) == (EAST, 'L'):\n",
    "        return NORTH\n",
    "    if (direction, rotation) == (SOUTH, 'R'):\n",
    "        return WEST\n",
    "    if (direction, rotation) == (SOUTH, 'L'):\n",
    "        return EAST\n",
    "    if (direction, rotation) == (WEST, 'R'):\n",
    "        return NORTH\n",
    "    if (direction, rotation) == (WEST, 'L'):\n",
    "        return SOUTH\n",
    "    raise AssertionError(f'{direction = }, {rotation = }')\n",
    "\n",
    "class Board:\n",
    "\n",
    "    def __init__(self, encoded: list[str], filename):\n",
    "        self.filename = filename\n",
    "        self.height = len(encoded)\n",
    "        self.width = max(len(line) for line in encoded)\n",
    "        self.side_size = max([self.width, self.height])\n",
    "        self.cube_wrapping = False\n",
    "        self.wraps: dict[tuple[Point, Velocity], tuple[Point, Velocity]] = {}\n",
    "        self.top_lefts: dict[int, Point] = {}\n",
    "        self.hide_sides = False\n",
    "\n",
    "        # convert encoded map data to a numpy array\n",
    "        self.arr = np.zeros((self.height, self.width), dtype=int)\n",
    "        self.sides = np.zeros((self.height, self.width), dtype=int)\n",
    "        self.footsteps = np.zeros((self.height, self.width), dtype=int)\n",
    "        for y in range(self.height):\n",
    "            for x, s in enumerate(encoded[y]):\n",
    "                self.arr[(y, x)] = TILE_TYPES.index(s)\n",
    "\n",
    "    def __getitem__(self, point: Point) -> str:\n",
    "        if 0 <= point.y < self.height and 0 <= point.x < self.width:\n",
    "            return TILE_TYPES[self.arr[(point.y, point.x)]]\n",
    "        return VOID\n",
    "\n",
    "    def absolute_position(self, side_num: int, relative: Point):\n",
    "        top_left = self.top_lefts[side_num]\n",
    "        return Point(x=top_left.x + relative.x, y=top_left.y + relative.y)\n",
    "\n",
    "    def relative_position(self, position: Point) -> tuple[int, Point]:\n",
    "        side_number = self.side_number(position)\n",
    "        x = position.x\n",
    "        y = position.y\n",
    "        x %= self.side_size\n",
    "        y %= self.side_size\n",
    "        return side_number, Point(x=x, y=y)\n",
    "\n",
    "    def start_position(self):\n",
    "        p = Point(x=0, y=0)\n",
    "        while self[p] != FLOOR:\n",
    "            p = Point(x=p.x+1, y=p.y)\n",
    "        return p\n",
    "\n",
    "    def move_part1(self, position: Point, velocity: Velocity) -> Point:\n",
    "        if self[position] != FLOOR:\n",
    "            raise ValueError(f'{position} is {repr(self[position])}, expected {repr(FLOOR)}')\n",
    "        p = Point(x=position.x + velocity.dx, y=position.y + velocity.dy)\n",
    "        if self[p] == FLOOR:\n",
    "            return p\n",
    "        if self[p] == WALL:\n",
    "            return position\n",
    "        assert self[p] == VOID\n",
    "        p = position\n",
    "        assert self[p] == FLOOR\n",
    "        while self[p] != VOID:\n",
    "            p = Point(x=p.x - velocity.dx, y=p.y - velocity.dy)\n",
    "        p = Point(x=p.x + velocity.dx, y=p.y + velocity.dy)\n",
    "        assert self[p] != VOID\n",
    "        if self[p] == FLOOR:\n",
    "            return p\n",
    "        assert self[p] == WALL\n",
    "        return position\n",
    "\n",
    "    def move_part2(self, position: Point, velocity: Velocity) -> tuple[Point, Velocity]:\n",
    "        if self[position] != FLOOR:\n",
    "            raise ValueError(f'{position} is {repr(self[position])}, expected {repr(FLOOR)}')\n",
    "        p = Point(x=position.x + velocity.dx, y=position.y + velocity.dy)\n",
    "        if self[p] == FLOOR:\n",
    "            return p, velocity\n",
    "        if self[p] == WALL:\n",
    "            return position, velocity\n",
    "        assert self[p] == VOID\n",
    "        p = position\n",
    "        assert self[p] == FLOOR\n",
    "        side_number, relative = self.relative_position(position)\n",
    "        wrap_from = (side_number, velocity)\n",
    "        wrap_to_side_number, wrap_to_velocity = self.wraps[wrap_from]\n",
    "        relative_to_position = compute_to_position_wrap(self.side_size, relative, velocity, wrap_to_velocity)\n",
    "        absolute_to_position = self.absolute_position(wrap_to_side_number, relative_to_position)\n",
    "        p = absolute_to_position\n",
    "        assert self[p] != VOID\n",
    "        if self[p] == FLOOR:\n",
    "            return p, wrap_to_velocity\n",
    "        assert self[p] == WALL\n",
    "        return position, velocity # reset position and velocity\n",
    "\n",
    "    def move(self, position: Point, velocity: Velocity) -> tuple[Point, Velocity]:\n",
    "        if self.cube_wrapping:\n",
    "            rv = self.move_part2(position, velocity)\n",
    "            assert (type(rv) == tuple and len(rv) == 2), f'expected 2-tuple but move_part2 returned {rv}'\n",
    "            return rv\n",
    "        rv = self.move_part1(position, velocity)\n",
    "        return rv, velocity\n",
    "\n",
    "    def map_sides(self, side_size):\n",
    "\n",
    "        self.side_size = side_size\n",
    "        self.cube_wrapping = True\n",
    "\n",
    "        side_numbers = {}\n",
    "        next_side_number = 1\n",
    "\n",
    "        # render the map\n",
    "        for y in range(self.height):\n",
    "            for x in range(self.width):\n",
    "                p = Point(x=x, y=y)\n",
    "                if self[p] != VOID:\n",
    "                    side_x = x // self.side_size\n",
    "                    side_y = y // self.side_size\n",
    "                    side = (side_y, side_x)\n",
    "                    if side not in side_numbers:\n",
    "                        side_numbers[side] = next_side_number\n",
    "                        self.top_lefts[next_side_number] = p\n",
    "                        next_side_number += 1\n",
    "                    side_number = side_numbers[side]\n",
    "                    self.sides[(p.y, p.x)] = side_number\n",
    "\n",
    "    def add_wrap(self, from_state, to_state):\n",
    "        assert from_state not in self.wraps\n",
    "        self.wraps[from_state] = to_state\n",
    "\n",
    "    def side_number(self, point):\n",
    "        if 0 <= point.y < self.height and 0 <= point.x < self.width:\n",
    "            if self.sides[(point.y, point.x)] == 0:\n",
    "                return None\n",
    "            return self.sides[(point.y, point.x)]\n",
    "        return None\n",
    "\n",
    "    def render_sides(self):\n",
    "\n",
    "        # render the column numbers\n",
    "        rv = '    '\n",
    "        for col_num in range(self.width):\n",
    "            rv += f'{col_num // 100 % 10}'\n",
    "        rv += '\\n'\n",
    "        rv += '    '\n",
    "        for col_num in range(self.width):\n",
    "            rv += f'{col_num // 10 % 10}'\n",
    "        rv += '\\n'\n",
    "        rv += '    '\n",
    "        for col_num in range(self.width):\n",
    "            rv += f'{col_num % 10}'\n",
    "        rv += '\\n'\n",
    "\n",
    "        # render the map\n",
    "        for y in range(self.height):\n",
    "            rv += f'{y:>003} '\n",
    "            for x in range(self.width):\n",
    "                p = Point(x=x, y=y)\n",
    "                sn = self.side_number(p)\n",
    "                if sn is not None:\n",
    "                    rv += str(sn)\n",
    "                else:\n",
    "                    rv += ' '\n",
    "            rv += '\\n'\n",
    "\n",
    "        return rv\n",
    "\n",
    "\n",
    "    def __str__(self):\n",
    "\n",
    "        # render the column numbers\n",
    "        rv = '    '\n",
    "        for col_num in range(self.width):\n",
    "            rv += f'{col_num // 100 % 10}'\n",
    "        rv += '\\n'\n",
    "        rv += '    '\n",
    "        for col_num in range(self.width):\n",
    "            rv += f'{col_num // 10 % 10}'\n",
    "        rv += '\\n'\n",
    "        rv += '    '\n",
    "        for col_num in range(self.width):\n",
    "            rv += f'{col_num % 10}'\n",
    "        rv += '\\n'\n",
    "\n",
    "        # render the map\n",
    "        for y in range(self.height):\n",
    "            rv += f'{y:>003} '\n",
    "            for x in range(self.width):\n",
    "                p = Point(x=x, y=y)\n",
    "                step = FOOTSTEP_RENDER[self.footsteps[(y, x)]]\n",
    "                if step is not None:\n",
    "                    rv += step\n",
    "                else:\n",
    "                    p = Point(x=x, y=y)\n",
    "                    sn = self.side_number(p)\n",
    "                    if sn is not None:\n",
    "                        if not self.hide_sides and self[p] == FLOOR:\n",
    "                            rv += str(sn)\n",
    "                        else:\n",
    "                            rv += self[p]\n",
    "                    else:\n",
    "\n",
    "                        rv += self[p]\n",
    "            rv += '\\n'\n",
    "\n",
    "        return rv\n",
    "\n",
    "    def __repr__(self):\n",
    "        return str(self)\n",
    "\n",
    "    @staticmethod\n",
    "    def read(file, filename) -> 'BoardMap':\n",
    "        rv = []\n",
    "        line = next(file)\n",
    "        line = line.strip('\\r\\n')\n",
    "        while line.strip():\n",
    "            rv.append(line)\n",
    "            line = next(file)\n",
    "            line = line.strip('\\r\\n')\n",
    "        return Board(rv, filename)"
   ],
   "metadata": {
    "collapsed": false
   }
  },
  {
   "cell_type": "markdown",
   "source": [
    "### Directions"
   ],
   "metadata": {
    "collapsed": false
   }
  },
  {
   "cell_type": "code",
   "execution_count": null,
   "outputs": [],
   "source": [
    "def read_instructions(file):\n",
    "    rv = []\n",
    "    line = next(file).strip()\n",
    "    prev_digit = None\n",
    "    buffer = ''\n",
    "    for c in line:\n",
    "        digit = c in '0123456789'\n",
    "        if digit == prev_digit:\n",
    "            buffer += c\n",
    "        else:\n",
    "            if prev_digit is None:\n",
    "                pass\n",
    "            elif prev_digit:\n",
    "                rv.append(int(buffer))\n",
    "            else:\n",
    "                rv.append(buffer)\n",
    "            buffer = c\n",
    "        prev_digit = digit\n",
    "    if buffer:\n",
    "        if prev_digit:\n",
    "            rv.append(int(buffer))\n",
    "        else:\n",
    "            rv.append(buffer)\n",
    "    return rv"
   ],
   "metadata": {
    "collapsed": false
   }
  },
  {
   "cell_type": "markdown",
   "source": [
    "### Input Reading"
   ],
   "metadata": {
    "collapsed": false
   }
  },
  {
   "cell_type": "code",
   "execution_count": null,
   "outputs": [],
   "source": [
    "def read_data(filename):\n",
    "    with open(filename) as file:\n",
    "        board = Board.read(file, filename)\n",
    "        instructions = read_instructions(file)\n",
    "        return board, instructions"
   ],
   "metadata": {
    "collapsed": false
   }
  },
  {
   "cell_type": "markdown",
   "source": [
    "### Instruction Processor"
   ],
   "metadata": {
    "collapsed": false
   }
  },
  {
   "cell_type": "code",
   "execution_count": null,
   "outputs": [],
   "source": [
    "def run_instructions(board, instructions):\n",
    "    position = board.start_position()\n",
    "    velocity = EAST\n",
    "    board.footsteps[(position.y, position.x)] = velocity.encoding\n",
    "    for ins in instructions:\n",
    "        if type(ins) == int:\n",
    "            for i in range(ins):\n",
    "                rv = board.move(position, velocity)\n",
    "                assert (type(rv) == tuple and (len(rv) == 2)), f'expected 2-tuple but move returned {rv}'\n",
    "                next_position, next_velocity = rv\n",
    "                if next_position != position:\n",
    "                    position = next_position\n",
    "                    velocity = next_velocity\n",
    "                    board.footsteps[(position.y, position.x)] = velocity.encoding\n",
    "                else:\n",
    "                    break # bumped into a wall, skip the rest of moving forward until we turn\n",
    "        else:\n",
    "            velocity = turn(velocity, ins)\n",
    "            board.footsteps[(position.y, position.x)] = velocity.encoding\n",
    "    return position, velocity\n",
    "\n",
    "def compute_password(position, velocity):\n",
    "    return 1000 * (position.y+1) + 4 * (position.x+1) + FACING_NUMBER[velocity]"
   ],
   "metadata": {
    "collapsed": false
   }
  },
  {
   "cell_type": "markdown",
   "source": [
    "### Part 1"
   ],
   "metadata": {
    "collapsed": false
   }
  },
  {
   "cell_type": "code",
   "execution_count": null,
   "outputs": [],
   "source": [
    "INPUT_FILE = 'data/input22.txt'"
   ],
   "metadata": {
    "collapsed": false
   }
  },
  {
   "cell_type": "code",
   "execution_count": null,
   "outputs": [],
   "source": [
    "def main():\n",
    "    board, instructions = read_data(INPUT_FILE)\n",
    "    position, velocity = run_instructions(board, instructions)\n",
    "    password = compute_password(position, velocity)\n",
    "    print(f'The final password is {password}')"
   ],
   "metadata": {
    "collapsed": false
   }
  },
  {
   "cell_type": "code",
   "execution_count": null,
   "outputs": [],
   "source": [
    "if __name__ == '__main__':\n",
    "    main()"
   ],
   "metadata": {
    "collapsed": false
   }
  },
  {
   "cell_type": "markdown",
   "source": [
    "### Hard-Coded Wrapping Parameters"
   ],
   "metadata": {
    "collapsed": false
   }
  },
  {
   "cell_type": "code",
   "execution_count": null,
   "outputs": [],
   "source": [
    "def map_cube(board):\n",
    "    if board.filename == 'data/example22.txt':\n",
    "\n",
    "        board.map_sides(side_size=4)\n",
    "\n",
    "        board.add_wrap((1, WEST), (3, SOUTH))\n",
    "        board.add_wrap((1, NORTH), (2, SOUTH))\n",
    "        board.add_wrap((1, EAST), (6, WEST))\n",
    "\n",
    "        board.add_wrap((2, SOUTH), (5, NORTH))\n",
    "        board.add_wrap((2, NORTH), (1, SOUTH))\n",
    "        board.add_wrap((2, WEST), (6, NORTH))\n",
    "\n",
    "        board.add_wrap((3, NORTH), (1, EAST))\n",
    "        board.add_wrap((3, SOUTH), (5, EAST))\n",
    "\n",
    "        board.add_wrap((4, EAST), (6, SOUTH))\n",
    "\n",
    "        board.add_wrap((5, WEST), (3, NORTH))\n",
    "        board.add_wrap((5, SOUTH), (2, NORTH))\n",
    "\n",
    "        board.add_wrap((6, NORTH), (4, WEST))\n",
    "        board.add_wrap((6, EAST), (1, EAST))\n",
    "        board.add_wrap((6, SOUTH), (2, EAST))\n",
    "\n",
    "    elif board.filename == 'data/input22.txt':\n",
    "\n",
    "        board.map_sides(side_size=50)\n",
    "\n",
    "        board.add_wrap((1, NORTH), (6, EAST))\n",
    "        board.add_wrap((1, WEST), (4, EAST))\n",
    "\n",
    "        board.add_wrap((2, NORTH), (6, NORTH))\n",
    "        board.add_wrap((2, EAST), (5, WEST))\n",
    "        board.add_wrap((2, SOUTH), (3, WEST))\n",
    "\n",
    "        board.add_wrap((3, WEST), (4, SOUTH))\n",
    "        board.add_wrap((3, EAST), (2, NORTH))\n",
    "\n",
    "        board.add_wrap((4, NORTH), (3, EAST))\n",
    "        board.add_wrap((4, WEST), (1, EAST))\n",
    "\n",
    "        board.add_wrap((5, EAST), (2, WEST))\n",
    "        board.add_wrap((5, SOUTH), (6, WEST))\n",
    "\n",
    "        board.add_wrap((6, WEST), (1, SOUTH))\n",
    "        board.add_wrap((6, SOUTH), (2, SOUTH))\n",
    "        board.add_wrap((6, EAST), (5, NORTH))\n",
    "\n",
    "    else:\n",
    "        raise AssertionError('unknown data file')"
   ],
   "metadata": {
    "collapsed": false
   }
  },
  {
   "cell_type": "markdown",
   "source": [
    "### Part 2"
   ],
   "metadata": {
    "collapsed": false
   }
  },
  {
   "cell_type": "code",
   "execution_count": null,
   "outputs": [],
   "source": [
    "INPUT_FILE = 'data/input22.txt'"
   ],
   "metadata": {
    "collapsed": false
   }
  },
  {
   "cell_type": "code",
   "execution_count": null,
   "outputs": [],
   "source": [
    "def main():\n",
    "\n",
    "    board, instructions = read_data(INPUT_FILE)\n",
    "\n",
    "    # map the cube wrapping\n",
    "    map_cube(board)\n",
    "\n",
    "    position, velocity = run_instructions(board, instructions)\n",
    "    password = compute_password(position, velocity)\n",
    "\n",
    "    print(f'The final password is {password}')"
   ],
   "metadata": {
    "collapsed": false
   }
  },
  {
   "cell_type": "code",
   "execution_count": null,
   "outputs": [],
   "source": [
    "if __name__ == '__main__':\n",
    "    main()"
   ],
   "metadata": {
    "collapsed": false
   }
  }
 ],
 "metadata": {
  "kernelspec": {
   "display_name": "Python 3",
   "language": "python",
   "name": "python3"
  },
  "language_info": {
   "codemirror_mode": {
    "name": "ipython",
    "version": 2
   },
   "file_extension": ".py",
   "mimetype": "text/x-python",
   "name": "python",
   "nbconvert_exporter": "python",
   "pygments_lexer": "ipython2",
   "version": "2.7.6"
  }
 },
 "nbformat": 4,
 "nbformat_minor": 0
}
