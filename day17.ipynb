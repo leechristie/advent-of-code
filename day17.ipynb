{
 "cells": [
  {
   "cell_type": "markdown",
   "source": [
    "# Advent of Code 2022\n",
    "\n",
    "## Day 17: Pyroclastic Flow\n",
    "\n",
    "Solution code by [leechristie](https://github.com/leechristie) for Advent of Code 2022.\n",
    "\n",
    "My notebooks are getting messier.\n",
    "\n",
    "Today didn't take me quite as long as yesterday, but still took a while.\n",
    "\n",
    "Part 1 I just simulate the tetris blocks falling. I used a bit more classes and abstraction today. Key to not getting confused is splitting the `RockShape` class from the `FallingRock` class. As a small optimisation, the stack tracks all landed squares in the pile, but instead of using a set of points, which I started off doing, I use another class `ChamberPoints` which looks up the row number in a dict, and gets a list of 7 bools to check. Bonus rending an emoji stack of blocks.\n",
    "\n",
    "Part 2 luckily didn't take too long to figure out the key, the number of units added to the stack each time is either 0, 1, 2, or 3, so start run the simulation for a large number of blocks, say 10000, then taking difference in heights giving 9999 differences, or 'deltas' and search for the period. I don't know if there's a good way to search for a period other than the dumb method I implemented, but in my case it comes out to be 80 not repeated deltas at for the first 80 drops, then a period of 1740 from then on. I grab the first 80 deltas, the next 1740 deltas, create a function that spits out another function that uses some modular arithmetic, partial sums, and multiplication to look up height of the stack after N blocks have dropped, in constant time w.r.t. N. Final code doesn't take long to run although the period finding is a little slow."
   ],
   "metadata": {
    "collapsed": false
   }
  },
  {
   "cell_type": "markdown",
   "source": [
    "### Imports"
   ],
   "metadata": {
    "collapsed": false
   }
  },
  {
   "cell_type": "code",
   "execution_count": null,
   "outputs": [],
   "source": [
    "from enum import Enum\n",
    "from typing import Iterator, Optional\n",
    "from collections import namedtuple\n",
    "import tqdm.notebook as tqdm\n",
    "from collections import defaultdict"
   ],
   "metadata": {
    "collapsed": false
   }
  },
  {
   "cell_type": "markdown",
   "source": [
    "### Directions"
   ],
   "metadata": {
    "collapsed": false
   }
  },
  {
   "cell_type": "code",
   "execution_count": null,
   "outputs": [],
   "source": [
    "class Direction(Enum):\n",
    "    LEFT = 1\n",
    "    RIGHT = 2\n",
    "    UP = 3\n",
    "    DOWN = 4\n",
    "\n",
    "    def __str__(self):\n",
    "        assert self in {Direction.LEFT, Direction.RIGHT, Direction.UP, Direction.DOWN}\n",
    "        if self == Direction.LEFT:\n",
    "            return '←'\n",
    "        if self == Direction.RIGHT:\n",
    "            return '→'\n",
    "        if self == Direction.UP:\n",
    "            return '↑'\n",
    "        return '↓'\n",
    "\n",
    "    def velocity(self):\n",
    "        assert self in {Direction.LEFT, Direction.RIGHT, Direction.UP, Direction.DOWN}\n",
    "        if self == Direction.LEFT:\n",
    "            return Point(x=-1, y=0)\n",
    "        if self == Direction.RIGHT:\n",
    "            return Point(x=1, y=0)\n",
    "        if self == Direction.UP:\n",
    "            return Point(x=0, y=1)\n",
    "        return Point(x=0, y=-1)\n",
    "\n",
    "    def __repr__(self):\n",
    "        return str(self)\n",
    "\n",
    "    @staticmethod\n",
    "    def parse(symbol: str) -> 'Direction':\n",
    "        assert symbol in {'<', '>'}\n",
    "        if symbol == '<':\n",
    "            return Direction.LEFT\n",
    "        return Direction.RIGHT\n",
    "\n",
    "INPUT_FILE = 'data/input17.txt'\n",
    "\n",
    "with open(INPUT_FILE) as file:\n",
    "    line = next(file).strip()\n",
    "    DIRECTIONS = [Direction.parse(symbol) for symbol in line]\n",
    "\n",
    "def infinite_direction_source(*, limit: Optional[int] = None) -> Iterator[Direction]:\n",
    "    global DIRECTIONS\n",
    "    assert limit is None or (type(limit) == int and limit >= 0)\n",
    "    count = 0\n",
    "    while True:\n",
    "        for rv in DIRECTIONS:\n",
    "            if limit is not None and count >= limit:\n",
    "                return\n",
    "            yield rv\n",
    "            count += 1"
   ],
   "metadata": {
    "collapsed": false
   }
  },
  {
   "cell_type": "markdown",
   "source": [
    "### Rocks Shapes"
   ],
   "metadata": {
    "collapsed": false
   }
  },
  {
   "cell_type": "code",
   "execution_count": null,
   "outputs": [],
   "source": [
    "class RockShape:\n",
    "\n",
    "    __slots__ = ['slices']\n",
    "\n",
    "    def __init__(self, encoding: list[str]):\n",
    "        assert (len(encoding) >= 1), f'{len(encoding) = }'\n",
    "        length = None\n",
    "        slices = []\n",
    "        for line in encoding:\n",
    "            assert (len(line) >= 1), f'encoding has empty line'\n",
    "            if length is None:\n",
    "                length = len(line)\n",
    "            else:\n",
    "                assert (len(line) == length), f'encoding is not rectangular'\n",
    "            for char in line:\n",
    "                assert (char in {'.', '#'}), f'unknown character in encoding'\n",
    "            slices.append(tuple([char == '#' for char in line]))\n",
    "        self.slices = tuple(slices)\n",
    "\n",
    "    def __str__(self):\n",
    "        rv = ''\n",
    "        for line in self.slices:\n",
    "            for filled in line:\n",
    "                if filled:\n",
    "                    rv += '@'\n",
    "                else:\n",
    "                    rv += ' '\n",
    "            rv += '\\n'\n",
    "        return rv\n",
    "\n",
    "    def __repr__(self):\n",
    "        return str(self)\n",
    "\n",
    "ROCK_SHAPES = [\n",
    "    RockShape(['####']),              # minus\n",
    "    RockShape(['.#.', '###', '.#.']), # plus\n",
    "    RockShape(['..#', '..#', '###']), # J\n",
    "    RockShape(['#', '#', '#', '#']),  # I\n",
    "    RockShape(['##', '##'])           # square\n",
    "]\n",
    "\n",
    "def infinite_rock_shape_source(*, limit: Optional[int] = None) -> Iterator[RockShape]:\n",
    "    global ROCK_SHAPES\n",
    "    assert limit is None or (type(limit) == int and limit >= 0)\n",
    "    count = 0\n",
    "    while True:\n",
    "        for rv in ROCK_SHAPES:\n",
    "            if limit is not None and count >= limit:\n",
    "                return\n",
    "            yield rv\n",
    "            count += 1"
   ],
   "metadata": {
    "collapsed": false
   }
  },
  {
   "cell_type": "markdown",
   "source": [
    "### Falling Rocks"
   ],
   "metadata": {
    "collapsed": false
   }
  },
  {
   "cell_type": "code",
   "execution_count": null,
   "outputs": [],
   "source": [
    "# noinspection PyTypeChecker\n",
    "Point = namedtuple('Point', ['x', 'y'])\n",
    "\n",
    "def add(a: Point, b: Point) -> Point:\n",
    "    return Point(x=a.x+b.x, y=a.y+b.y)\n",
    "\n",
    "def negate(a: Point) -> Point:\n",
    "    return Point(x=-a.x, y=-a.y)"
   ],
   "metadata": {
    "collapsed": false
   }
  },
  {
   "cell_type": "code",
   "execution_count": null,
   "outputs": [],
   "source": [
    "class FallingRock:\n",
    "\n",
    "    __slots__ = ['shape', 'bottom_left']\n",
    "\n",
    "    def __init__(self, shape: RockShape, bottom_left: Point):\n",
    "        self.shape = shape\n",
    "        self.bottom_left = bottom_left\n",
    "\n",
    "    def to_points(self) -> set[Point]:\n",
    "        rv = []\n",
    "        current_y = self.bottom_left.y\n",
    "        for neg_y_offset, cross_section in reversed(list(enumerate(self.shape.slices))):\n",
    "            current_x = self.bottom_left.x\n",
    "            for x_offset, is_rock in enumerate(cross_section):\n",
    "                if is_rock:\n",
    "                    rv.append(Point(x=current_x, y=current_y))\n",
    "                current_x += 1\n",
    "            current_y += 1\n",
    "        return set(rv)\n",
    "\n",
    "    def attempt_move(self, direction: Direction, chamber: 'Chamber'):\n",
    "\n",
    "        velocity = direction.velocity()\n",
    "\n",
    "        self.bottom_left = add(self.bottom_left, velocity)\n",
    "        points = self.to_points()\n",
    "        crashed = False\n",
    "\n",
    "        # check for going outside area\n",
    "        for p in points:\n",
    "            if p.y < 0 or p.x < 0 or p.x >= Chamber.WIDTH:\n",
    "                crashed = True\n",
    "                break\n",
    "\n",
    "        # check for landing\n",
    "        if not crashed:\n",
    "            for p in points:\n",
    "                if p in chamber.points:\n",
    "                    crashed = True\n",
    "                    break\n",
    "\n",
    "        # move back\n",
    "        if crashed:\n",
    "            self.bottom_left = add(self.bottom_left, negate(velocity))\n",
    "            #points = self.to_points()\n",
    "            #for p in points:\n",
    "            #    assert (p not in chamber.points), f'moved rock back, but {p} is landed'\n",
    "            return False\n",
    "\n",
    "        return True"
   ],
   "metadata": {
    "collapsed": false
   }
  },
  {
   "cell_type": "markdown",
   "source": [
    "### Chamber"
   ],
   "metadata": {
    "collapsed": false
   }
  },
  {
   "cell_type": "code",
   "execution_count": null,
   "outputs": [],
   "source": [
    "class ChamberPoints:\n",
    "\n",
    "    __slots__ = ['rows']\n",
    "\n",
    "    def __init__(self):\n",
    "        self.rows = defaultdict(lambda: [False] * Chamber.WIDTH)\n",
    "\n",
    "    def add(self, point: Point):\n",
    "        row = self.rows[point.y]\n",
    "        row[point.x] = True\n",
    "\n",
    "    def __contains__(self, point: Point):\n",
    "        return self.rows[point.y][point.x]"
   ],
   "metadata": {
    "collapsed": false
   }
  },
  {
   "cell_type": "code",
   "execution_count": null,
   "outputs": [],
   "source": [
    "class Chamber:\n",
    "\n",
    "    WIDTH = 7\n",
    "\n",
    "    __slots__ = ['points', 'rocks', 'stack_height']\n",
    "\n",
    "    def __init__(self):\n",
    "        self.points = ChamberPoints()\n",
    "        self.rocks: set[FallingRock] = set()\n",
    "        self.stack_height = 0\n",
    "\n",
    "\n",
    "    def land(self, falling_rock: FallingRock) -> None:\n",
    "        for p in falling_rock.to_points():\n",
    "            assert (p not in self.points), f'trying to land rock but aleady landed point {p}'\n",
    "            self.points.add(p)\n",
    "            self.rocks.add(falling_rock)\n",
    "            if p.y + 1 > self.stack_height:\n",
    "                self.stack_height = p.y + 1\n",
    "\n",
    "    def spawn_rock(self, shape: RockShape) -> FallingRock:\n",
    "        start = Point(x=2, y=3+self.stack_height)\n",
    "        return FallingRock(shape, start)\n",
    "\n",
    "    def render(self, falling_rock: Optional[FallingRock] = None) -> None:\n",
    "        points = falling_rock.to_points() if falling_rock else set()\n",
    "        start_height = self.stack_height\n",
    "        if falling_rock is not None:\n",
    "            new_top = falling_rock.bottom_left.y + len(falling_rock.shape.slices)\n",
    "            if new_top > start_height:\n",
    "                start_height = new_top\n",
    "        for y in range(start_height, -1, -1):\n",
    "            print('🔳', end='')\n",
    "            for x in range(0, Chamber.WIDTH):\n",
    "                p = Point(x=x, y=y)\n",
    "                if p in self.points:\n",
    "                    print('🟥', end='')\n",
    "                elif p in points:\n",
    "                    print('🟩', end='')\n",
    "                else:\n",
    "                    print('⬛', end='')\n",
    "            print(f'🔳 {y}')\n",
    "        print(f'🔳🔳🔳🔳🔳🔳🔳🔳🔳\\tstack height = {self.stack_height}')\n",
    "        print()"
   ],
   "metadata": {
    "collapsed": false
   }
  },
  {
   "cell_type": "markdown",
   "source": [
    "### Part 1"
   ],
   "metadata": {
    "collapsed": false
   }
  },
  {
   "cell_type": "code",
   "execution_count": null,
   "outputs": [],
   "source": [
    "def main():\n",
    "\n",
    "    chamber = Chamber()\n",
    "\n",
    "    directions = infinite_direction_source()\n",
    "\n",
    "    verbose = False\n",
    "    print_each_block = False\n",
    "    print_end = True\n",
    "\n",
    "    num_blocks = 2022\n",
    "\n",
    "    for shape in tqdm.tqdm(infinite_rock_shape_source(limit=num_blocks), total=num_blocks):\n",
    "\n",
    "        rock: Optional[FallingRock] = chamber.spawn_rock(shape)\n",
    "        if verbose:\n",
    "            print('rock begins falling')\n",
    "            chamber.render(rock)\n",
    "\n",
    "        while rock is not None:\n",
    "\n",
    "            direction = next(directions)\n",
    "            if verbose:\n",
    "                print(f'jet of gas pushes {direction}', end= '')\n",
    "            moved = rock.attempt_move(direction, chamber)\n",
    "            if verbose:\n",
    "                if not moved:\n",
    "                    print(' but nothing happened', end='')\n",
    "                print(':')\n",
    "                chamber.render(rock)\n",
    "\n",
    "            direction = Direction.DOWN\n",
    "            if verbose:\n",
    "                print('rock falls 1 unit', end= '')\n",
    "            moved = rock.attempt_move(direction, chamber)\n",
    "            if not moved:\n",
    "                if verbose:\n",
    "                    print(' causing it to come to a rest', end='')\n",
    "                chamber.land(rock)\n",
    "                rock = None\n",
    "            if verbose:\n",
    "                print(':')\n",
    "            if verbose or print_each_block:\n",
    "                chamber.render(rock)\n",
    "\n",
    "    print('Simulation ended.')\n",
    "    print(f'stack height is {chamber.stack_height}')\n",
    "    print()\n",
    "    if not verbose and not print_each_block:\n",
    "        if print_end:\n",
    "            chamber.render()"
   ],
   "metadata": {
    "collapsed": false
   }
  },
  {
   "cell_type": "code",
   "execution_count": null,
   "outputs": [],
   "source": [
    "if __name__ == '__main__':\n",
    "    main()"
   ],
   "metadata": {
    "collapsed": false
   }
  },
  {
   "cell_type": "markdown",
   "source": [
    "### Part 2"
   ],
   "metadata": {
    "collapsed": false
   }
  },
  {
   "cell_type": "code",
   "execution_count": null,
   "outputs": [],
   "source": [
    "chamber = Chamber()\n",
    "directions = infinite_direction_source()\n",
    "num_blocks = 10000\n",
    "heights = [0]\n",
    "for shape in tqdm.tqdm(infinite_rock_shape_source(limit=num_blocks), total=num_blocks):\n",
    "    rock: Optional[FallingRock] = chamber.spawn_rock(shape)\n",
    "    while rock is not None:\n",
    "        direction = next(directions)\n",
    "        rock.attempt_move(direction, chamber)\n",
    "        direction = Direction.DOWN\n",
    "        moved = rock.attempt_move(direction, chamber)\n",
    "        if not moved:\n",
    "            chamber.land(rock)\n",
    "            rock = None\n",
    "    heights.append(chamber.stack_height)\n",
    "\n",
    "deltas = []\n",
    "for i in range(1, len(heights)):\n",
    "    deltas.append(heights[i] - heights[i-1])"
   ],
   "metadata": {
    "collapsed": false
   }
  },
  {
   "cell_type": "code",
   "execution_count": null,
   "outputs": [],
   "source": [
    "deltas[:10]"
   ],
   "metadata": {
    "collapsed": false
   }
  },
  {
   "cell_type": "code",
   "execution_count": null,
   "outputs": [],
   "source": [
    "def is_potential_period(seq, period, required):\n",
    "    expected = None\n",
    "    checked = 0\n",
    "    for start in range(0, len(seq), period):\n",
    "        current = seq[start:start+period]\n",
    "        if expected is None:\n",
    "            expected = current\n",
    "        elif len(current) < len(expected):\n",
    "            return True\n",
    "        elif current != expected:\n",
    "            return False\n",
    "        else:\n",
    "            # current == expected\n",
    "            checked += 1\n",
    "            if checked >= required:\n",
    "                return True\n",
    "    return True\n",
    "\n",
    "def find_period(seq, required):\n",
    "    maximum = len(seq) // 2\n",
    "    for p in range(1, maximum+1):\n",
    "        if is_potential_period(seq, p, required):\n",
    "            yield p\n",
    "\n",
    "def loop_period(seq, required):\n",
    "    for stripped in tqdm.tqdm(range(len(seq))):\n",
    "        for potential in find_period(seq, required):\n",
    "            print(f'Strip off the first {stripped} elements.')\n",
    "            print(f'Then, period seems to be {potential}')\n",
    "            return\n",
    "        seq = seq[1:]\n",
    "\n",
    "loop_period(deltas, required=3)"
   ],
   "metadata": {
    "collapsed": false
   }
  },
  {
   "cell_type": "markdown",
   "source": [
    "### Output Saved\n",
    "\n",
    "    Strip off the first 80 elements.\n",
    "    Then, period seems to be 1740"
   ],
   "metadata": {
    "collapsed": false
   }
  },
  {
   "cell_type": "markdown",
   "source": [
    "### Testing Function Reconstruction with the example"
   ],
   "metadata": {
    "collapsed": false
   }
  },
  {
   "cell_type": "code",
   "execution_count": null,
   "outputs": [],
   "source": [
    "example_deltas = [1, 3, 3, 1, 3, 3, 7, 1, 3, 3, 7, 1, 3, 3, 7, 1, 3, 3, 7, 1, 3, 3, 7]\n",
    "example_values = [0]\n",
    "for d in example_deltas:\n",
    "    example_values.append(example_values[-1] + d)\n",
    "print(example_values)\n",
    "\n",
    "example_deltas_recomputed = []\n",
    "for i in range(1, len(example_values)):\n",
    "    example_deltas_recomputed.append(example_values[i] - example_values[i-1])\n",
    "\n",
    "print(f'{example_deltas = }')\n",
    "print(f'{example_deltas_recomputed = }')\n",
    "assert example_deltas == example_deltas_recomputed\n",
    "print('recomputed correctly')\n",
    "\n",
    "loop_period(example_deltas, required=3)"
   ],
   "metadata": {
    "collapsed": false
   }
  },
  {
   "cell_type": "code",
   "execution_count": null,
   "outputs": [],
   "source": [
    "header_length = 3\n",
    "loop_part_length = 4"
   ],
   "metadata": {
    "collapsed": false
   }
  },
  {
   "cell_type": "code",
   "execution_count": null,
   "outputs": [],
   "source": [
    "header = example_deltas[: header_length]\n",
    "loop1 = example_deltas[header_length : header_length+loop_part_length]\n",
    "loop2 = example_deltas[header_length+loop_part_length : header_length+loop_part_length*2]\n",
    "loop3 = example_deltas[header_length+loop_part_length*2 : header_length+loop_part_length*3]\n",
    "\n",
    "print(header)\n",
    "print()\n",
    "print(loop1)\n",
    "print()\n",
    "print(loop1 == loop2)\n",
    "print(loop2 == loop3)"
   ],
   "metadata": {
    "collapsed": false
   }
  },
  {
   "cell_type": "code",
   "execution_count": null,
   "outputs": [],
   "source": [
    "def reconstruct_function(header, loop):\n",
    "    sum_header = sum(header)\n",
    "    sum_loop = sum(loop)\n",
    "    def f(x):\n",
    "        assert type(x) == int\n",
    "        assert x >= 0\n",
    "        if x <= len(header):\n",
    "            return sum([d for d in header[:x]])\n",
    "        rv = sum_header + sum_loop * ((x - len(header)) // len(loop))\n",
    "        if (x - len(header)) % len(loop) == 0:\n",
    "            return rv\n",
    "        else:\n",
    "            return rv + sum(loop[:(x - len(header)) % len(loop)])\n",
    "    return f"
   ],
   "metadata": {
    "collapsed": false
   }
  },
  {
   "cell_type": "code",
   "execution_count": null,
   "outputs": [],
   "source": [
    "reconstructed = reconstruct_function(header, loop1)\n",
    "for i in range(len(example_values)):\n",
    "    print(i, reconstructed(i), example_values[i], reconstructed(i) == example_values[i], sep='\\t')"
   ],
   "metadata": {
    "collapsed": false
   }
  },
  {
   "cell_type": "markdown",
   "source": [
    "### Now back to real data"
   ],
   "metadata": {
    "collapsed": false
   }
  },
  {
   "cell_type": "code",
   "execution_count": null,
   "outputs": [],
   "source": [
    "header_length = 80\n",
    "loop_part_length = 1740\n",
    "\n",
    "header = deltas[: header_length]\n",
    "loop1 = deltas[header_length : header_length+loop_part_length]\n",
    "loop2 = deltas[header_length+loop_part_length : header_length+loop_part_length*2]\n",
    "loop3 = deltas[header_length+loop_part_length*2 : header_length+loop_part_length*3]\n",
    "\n",
    "print(header)\n",
    "print()\n",
    "print(loop1)\n",
    "print()\n",
    "print(loop1 == loop2)\n",
    "print(loop2 == loop3)"
   ],
   "metadata": {
    "collapsed": false
   }
  },
  {
   "cell_type": "code",
   "execution_count": null,
   "outputs": [],
   "source": [
    "print('checking header add up to next')\n",
    "print(f'{sum(header) = }')\n",
    "print(f'{heights[header_length] = }')\n",
    "assert sum(header) == heights[header_length]\n",
    "print()\n",
    "offset_height = heights[header_length]\n",
    "print(f'must add {offset_height} to the height')"
   ],
   "metadata": {
    "collapsed": false
   }
  },
  {
   "cell_type": "code",
   "execution_count": null,
   "outputs": [],
   "source": [
    "reconstructed = reconstruct_function(header, loop1)\n",
    "\n",
    "for i, h in enumerate(heights):\n",
    "    assert reconstructed(i) == h\n",
    "\n",
    "print('okay for all heights!')"
   ],
   "metadata": {
    "collapsed": false
   }
  },
  {
   "cell_type": "markdown",
   "source": [
    "### Part 1 Answer (Again)"
   ],
   "metadata": {
    "collapsed": false
   }
  },
  {
   "cell_type": "code",
   "execution_count": null,
   "outputs": [],
   "source": [
    "# checking answer for part 1\n",
    "reconstructed(2022)"
   ],
   "metadata": {
    "collapsed": false
   }
  },
  {
   "cell_type": "markdown",
   "source": [
    "### Part 2 Answer"
   ],
   "metadata": {
    "collapsed": false
   }
  },
  {
   "cell_type": "code",
   "execution_count": null,
   "outputs": [],
   "source": [
    "reconstructed(1000000000000)"
   ],
   "metadata": {
    "collapsed": false
   }
  }
 ],
 "metadata": {
  "kernelspec": {
   "display_name": "Python 3",
   "language": "python",
   "name": "python3"
  },
  "language_info": {
   "codemirror_mode": {
    "name": "ipython",
    "version": 2
   },
   "file_extension": ".py",
   "mimetype": "text/x-python",
   "name": "python",
   "nbconvert_exporter": "python",
   "pygments_lexer": "ipython2",
   "version": "2.7.6"
  }
 },
 "nbformat": 4,
 "nbformat_minor": 0
}
