{
 "cells": [
  {
   "cell_type": "markdown",
   "source": [
    "# Advent of Code 2015\n",
    "\n",
    "## Day 2: I Was Told There Would Be No Math\n",
    "\n",
    "Solution code by [leechristie](https://github.com/leechristie) for Advent of Code 2015."
   ],
   "metadata": {
    "collapsed": false
   }
  },
  {
   "cell_type": "code",
   "execution_count": 1,
   "outputs": [],
   "source": [
    "import aoc\n",
    "\n",
    "DATA = aoc.load_split_lines('data/input02.txt', 'x', int)"
   ],
   "metadata": {
    "collapsed": false
   }
  },
  {
   "cell_type": "markdown",
   "source": [
    "### Part 1"
   ],
   "metadata": {
    "collapsed": false
   }
  },
  {
   "cell_type": "code",
   "execution_count": 4,
   "outputs": [
    {
     "name": "stdout",
     "output_type": "stream",
     "text": [
      "They should order 1588178 square feet of wrapping paper\n"
     ]
    }
   ],
   "source": [
    "total_area = 0\n",
    "for l, w, h in DATA:\n",
    "    side1 = l * w\n",
    "    side2 = w * h\n",
    "    side3 = h * l\n",
    "    surface_area = 2 * side1 + 2 * side2 + 2 * side3\n",
    "    slack = min(side1, side2, side3)\n",
    "    total_area += surface_area + slack\n",
    "\n",
    "print(f'They should order {total_area} square feet of wrapping paper')"
   ],
   "metadata": {
    "collapsed": false
   }
  },
  {
   "cell_type": "markdown",
   "source": [
    "### Part 2"
   ],
   "metadata": {
    "collapsed": false
   }
  },
  {
   "cell_type": "code",
   "execution_count": 3,
   "outputs": [
    {
     "name": "stdout",
     "output_type": "stream",
     "text": [
      "They should order 3783758 feet of ribbon\n"
     ]
    }
   ],
   "source": [
    "total_length = 0\n",
    "\n",
    "for l, w, h in DATA:\n",
    "\n",
    "    perimeter1 = 2*l + 2*w\n",
    "    perimeter2 = 2*w + 2*h\n",
    "    perimeter3 = 2*h + 2*l\n",
    "\n",
    "    ribbon_length = min(perimeter1, perimeter2, perimeter3)\n",
    "    bow_length = l * w * h\n",
    "\n",
    "    total_length += ribbon_length + bow_length\n",
    "\n",
    "print(f'They should order {total_length} feet of ribbon')"
   ],
   "metadata": {
    "collapsed": false
   }
  }
 ],
 "metadata": {
  "kernelspec": {
   "display_name": "Python 3",
   "language": "python",
   "name": "python3"
  },
  "language_info": {
   "codemirror_mode": {
    "name": "ipython",
    "version": 2
   },
   "file_extension": ".py",
   "mimetype": "text/x-python",
   "name": "python",
   "nbconvert_exporter": "python",
   "pygments_lexer": "ipython2",
   "version": "2.7.6"
  }
 },
 "nbformat": 4,
 "nbformat_minor": 0
}
