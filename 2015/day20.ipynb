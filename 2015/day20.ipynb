{
 "cells": [
  {
   "cell_type": "markdown",
   "source": [
    "# Advent of Code 2015\n",
    "\n",
    "## Day 20: Infinite Elves and Infinite Houses\n",
    "\n",
    "Solution code by [leechristie](https://github.com/leechristie) for Advent of Code 2015."
   ],
   "metadata": {
    "collapsed": false
   }
  },
  {
   "cell_type": "code",
   "execution_count": null,
   "outputs": [],
   "source": [
    "from typing import Optional\n",
    "from itertools import count\n",
    "from tqdm.notebook import tqdm\n",
    "\n",
    "def num_gifts(house_number: int, gifts: int, max_houses: Optional[int]=None) -> int:\n",
    "    total = house_number\n",
    "    for elf in range(1, (house_number // 2) + 1):\n",
    "        if house_number % elf == 0:\n",
    "            last_house_for_elf = elf * max_houses if max_houses is not None else None\n",
    "            if last_house_for_elf is None or house_number <= last_house_for_elf:\n",
    "                total += elf\n",
    "    return total * gifts\n",
    "\n",
    "def solve(target: int, gifts: int, max_houses: Optional[int]=None) -> int:\n",
    "    best = 0\n",
    "    with tqdm(total=target) as p:\n",
    "        for house_number in count(1):\n",
    "            n = num_gifts(house_number, gifts, max_houses=max_houses)\n",
    "            if n > best:\n",
    "                p.update(n - best)\n",
    "                best = n\n",
    "            if n >= target:\n",
    "                return house_number\n",
    "\n",
    "INPUT = 36000000"
   ],
   "metadata": {
    "collapsed": false
   }
  },
  {
   "cell_type": "markdown",
   "source": [
    "### Part 1"
   ],
   "metadata": {
    "collapsed": false
   }
  },
  {
   "cell_type": "code",
   "execution_count": null,
   "outputs": [],
   "source": [
    "print(f'The smallest numbered house to get at least {INPUT} gifts is {solve(INPUT, gifts=10)}')"
   ],
   "metadata": {
    "collapsed": false
   }
  },
  {
   "cell_type": "markdown",
   "source": [
    "### Part 2"
   ],
   "metadata": {
    "collapsed": false
   }
  },
  {
   "cell_type": "code",
   "execution_count": null,
   "outputs": [],
   "source": [
    "print(f'The smallest numbered house now to get at least {INPUT} gifts is {solve(INPUT, gifts=11, max_houses=50)}')"
   ],
   "metadata": {
    "collapsed": false
   }
  },
  {
   "cell_type": "code",
   "execution_count": null,
   "outputs": [],
   "source": [],
   "metadata": {
    "collapsed": false
   }
  }
 ],
 "metadata": {
  "kernelspec": {
   "display_name": "Python 3",
   "language": "python",
   "name": "python3"
  },
  "language_info": {
   "codemirror_mode": {
    "name": "ipython",
    "version": 2
   },
   "file_extension": ".py",
   "mimetype": "text/x-python",
   "name": "python",
   "nbconvert_exporter": "python",
   "pygments_lexer": "ipython2",
   "version": "2.7.6"
  }
 },
 "nbformat": 4,
 "nbformat_minor": 0
}
