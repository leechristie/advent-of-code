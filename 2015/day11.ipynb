{
 "cells": [
  {
   "cell_type": "markdown",
   "source": [
    "# Advent of Code 2015\n",
    "\n",
    "## Day 11: Corporate Policy\n",
    "\n",
    "Solution code by [leechristie](https://github.com/leechristie) for Advent of Code 2015."
   ],
   "metadata": {
    "collapsed": false
   }
  },
  {
   "cell_type": "code",
   "execution_count": null,
   "outputs": [],
   "source": [
    "import string\n",
    "\n",
    "CHAR_SET = string.ascii_lowercase\n",
    "REVERSE = {}\n",
    "for i, c in enumerate(CHAR_SET):\n",
    "    REVERSE[c] = i\n",
    "\n",
    "def base_26_decode(encoded: int, length: int) -> str:\n",
    "    rv = ''\n",
    "    for i in range(length):\n",
    "        rv = CHAR_SET[encoded % 26] + rv\n",
    "        encoded //= 26\n",
    "    assert encoded == 0\n",
    "    return rv\n",
    "\n",
    "def base_26_encode(decoded: str, length: int) -> int:\n",
    "    assert len(decoded) == length\n",
    "    rv = 0\n",
    "    for i in range(length):\n",
    "        rv *= 26\n",
    "        rv += REVERSE[decoded[0]]\n",
    "        decoded = decoded[1:]\n",
    "    return rv\n",
    "\n",
    "def increment(decoded: str, length: int) -> str:\n",
    "    encoded = base_26_encode(decoded, length)\n",
    "    encoded += 1\n",
    "    return base_26_decode(encoded, length)"
   ],
   "metadata": {
    "collapsed": false
   }
  },
  {
   "cell_type": "code",
   "execution_count": null,
   "outputs": [],
   "source": [
    "def req1(password: str) -> bool:\n",
    "    for i in range(len(password) - 2):\n",
    "        j = i + 1\n",
    "        k = i + 2\n",
    "        if ord(password[i]) + 1 == ord(password[j]) and ord(password[i]) + 2 == ord(password[k]):\n",
    "            return True\n",
    "    return False\n",
    "\n",
    "def req2(password: str) -> bool:\n",
    "    return not ('i' in password or 'o' in password or 'l' in password)\n",
    "\n",
    "def req3(password: str) -> bool:\n",
    "    i = 0\n",
    "    pairs = 0\n",
    "    while i < len(password):\n",
    "        j = i + 1\n",
    "        if j >= len(password):\n",
    "            break\n",
    "        if password[i] == password[j]:\n",
    "            i += 2\n",
    "            pairs += 1\n",
    "            if pairs >= 2:\n",
    "                return True\n",
    "        else:\n",
    "            i += 1\n",
    "    return pairs >= 2\n",
    "\n",
    "def is_valid(password: str) -> bool:\n",
    "    return req2(password) and req1(password) and req3(password)"
   ],
   "metadata": {
    "collapsed": false
   }
  },
  {
   "cell_type": "markdown",
   "source": [
    "### Part 1"
   ],
   "metadata": {
    "collapsed": false
   }
  },
  {
   "cell_type": "code",
   "execution_count": null,
   "outputs": [],
   "source": [
    "INPUT = 'cqjxjnds'\n",
    "LENGTH = len(INPUT)\n",
    "current = INPUT\n",
    "\n",
    "while not is_valid(current):\n",
    "    current = increment(current, LENGTH)\n",
    "\n",
    "print(f\"Santa's next password is {current}\")"
   ],
   "metadata": {
    "collapsed": false
   }
  },
  {
   "cell_type": "markdown",
   "source": [
    "### Part 2"
   ],
   "metadata": {
    "collapsed": false
   }
  },
  {
   "cell_type": "code",
   "execution_count": null,
   "outputs": [],
   "source": [
    "current = increment(current, LENGTH)\n",
    "while not is_valid(current):\n",
    "    current = increment(current, LENGTH)\n",
    "\n",
    "print(f\"Santa's next next password is {current}\")"
   ],
   "metadata": {
    "collapsed": false
   }
  }
 ],
 "metadata": {
  "kernelspec": {
   "display_name": "Python 3",
   "language": "python",
   "name": "python3"
  },
  "language_info": {
   "codemirror_mode": {
    "name": "ipython",
    "version": 2
   },
   "file_extension": ".py",
   "mimetype": "text/x-python",
   "name": "python",
   "nbconvert_exporter": "python",
   "pygments_lexer": "ipython2",
   "version": "2.7.6"
  }
 },
 "nbformat": 4,
 "nbformat_minor": 0
}
