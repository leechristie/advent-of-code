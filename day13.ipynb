{
 "cells": [
  {
   "cell_type": "markdown",
   "source": [
    "# Advent of Code 2022\n",
    "\n",
    "## Day 13: Distress Signal\n",
    "\n",
    "Solution code by [leechristie](https://github.com/leechristie) for Advent of Code 2022.\n",
    "\n",
    "The hardest part of today's puzzle was the wording for the question:\n",
    "\n",
    "*\"If both values are lists, compare the first value of each list, then the second value, and so on. If the left list runs out of items first, the inputs are in the right order. If the right list runs out of items first, the inputs are not in the right order. If the lists are the same length and no comparison makes a decision about the order, continue checking the next part of the input.\"*\n",
    "\n",
    "It turns out you compare lengths only if the lists have all equal elements up until the point where one list runs out. This wording had me stuck for a long time. After resolving it, it was prety easy.\n",
    "\n",
    "Part 1, I read the lines in pairs, and pass them to `eval`.\n",
    "\n",
    "![After all... why not? Why shouldn't I eval?](https://i.redd.it/p3h0axhitl5a1.png)\n",
    "\n",
    "(Above image found via u/Eclypse-Prime when browsing this subreddit afterwards)\n",
    "\n",
    "I wrote a recursive cmp function which returns `-1`, `0`, or `1` even though these are out-of-fashion in Python 2. It turns out you don't need equality on the depth 0 call because all of the lists are unequal so you just need `<` but I did a full cmp function.\n",
    "\n",
    "Part 2 was simply a matter of passing my cmp function to `cmp_to_key` and sorting.\n"
   ],
   "metadata": {
    "collapsed": false
   }
  },
  {
   "cell_type": "markdown",
   "source": [
    "### Imports"
   ],
   "metadata": {
    "collapsed": false
   }
  },
  {
   "cell_type": "code",
   "execution_count": null,
   "outputs": [],
   "source": [
    "from collections.abc import Iterator\n",
    "from typing import Union, Optional\n",
    "import functools"
   ],
   "metadata": {
    "collapsed": false
   }
  },
  {
   "cell_type": "markdown",
   "source": [
    "### Input File Reading"
   ],
   "metadata": {
    "collapsed": false
   }
  },
  {
   "cell_type": "code",
   "execution_count": null,
   "outputs": [],
   "source": [
    "# read lines in group of `group_size` lines at a time\n",
    "def read_lines(filename: str,\n",
    "               group_size: Optional[int] = None,\n",
    "               discard_blank: bool = False) -> Iterator[Union[str, tuple[str]]]:\n",
    "    assert (group_size is None) or (type(group_size) == int and group_size >= 2)\n",
    "    with open(filename) as file:\n",
    "        rv = []\n",
    "        for line in file:\n",
    "            line = line.strip()\n",
    "            if line or not discard_blank:\n",
    "                rv.append(line)\n",
    "                if group_size is None or len(rv) == group_size:\n",
    "                    if group_size:\n",
    "                        yield tuple(rv)\n",
    "                    else:\n",
    "                        yield rv[0]\n",
    "                    rv = []\n",
    "\n",
    "        # make sure we don't leave any extra lines\n",
    "        assert not rv, f'{len(rv)} left unprocessed at the end of the file!'"
   ],
   "metadata": {
    "collapsed": false
   }
  },
  {
   "cell_type": "markdown",
   "source": [
    "### The cmp function for comparing order of lists"
   ],
   "metadata": {
    "collapsed": false
   }
  },
  {
   "cell_type": "code",
   "execution_count": null,
   "outputs": [],
   "source": [
    "def compare(left: Union[list, int, str], right: Union[list, int, str]) -> int:\n",
    "\n",
    "    # using eval to decode the strings\n",
    "    if type(left) == str:\n",
    "        left = eval(left)\n",
    "    if type(right) == str:\n",
    "        right = eval(right)\n",
    "\n",
    "    # compare ints\n",
    "    if type(left) == int and type(right) == int:\n",
    "        if left < right:\n",
    "            return -1\n",
    "        if left > right:\n",
    "            return 1\n",
    "        return 0\n",
    "\n",
    "    # wrap the int if not same type\n",
    "    if type(left) == int and type(right) == list:\n",
    "        return compare([left], right)\n",
    "    if type(left) == list and type(right) == int:\n",
    "        return compare(left, [right])\n",
    "\n",
    "    # element-wise compare\n",
    "    for l, r in zip(left, right):\n",
    "        cmp = compare(l, r)\n",
    "        if cmp:\n",
    "            return cmp\n",
    "\n",
    "    # If the left list runs out of items first, the inputs are in the right order.\n",
    "    if len(right) > len(left):\n",
    "        return -1\n",
    "\n",
    "    # If the right list runs out of items first, the inputs are not in the right order.\n",
    "    if len(right) < len(left):\n",
    "        return 1\n",
    "\n",
    "    # all elements match, same length\n",
    "    return 0"
   ],
   "metadata": {
    "collapsed": false
   }
  },
  {
   "cell_type": "markdown",
   "source": [
    "### Part 1"
   ],
   "metadata": {
    "collapsed": false
   }
  },
  {
   "cell_type": "code",
   "execution_count": null,
   "outputs": [],
   "source": [
    "INPUT_FILE = 'data/input13.txt'"
   ],
   "metadata": {
    "collapsed": false
   }
  },
  {
   "cell_type": "code",
   "execution_count": null,
   "outputs": [],
   "source": [
    "def main():\n",
    "\n",
    "    index = 1\n",
    "    total = 0\n",
    "\n",
    "    for left, right in read_lines(INPUT_FILE, group_size=2, discard_blank=True):\n",
    "        if compare(left, right) <= 0:\n",
    "            total += index\n",
    "        index += 1\n",
    "\n",
    "    print(f'The sum of the indices of pairs in the right order is {total}')"
   ],
   "metadata": {
    "collapsed": false
   }
  },
  {
   "cell_type": "code",
   "execution_count": null,
   "outputs": [],
   "source": [
    "if __name__ == '__main__':\n",
    "    main()"
   ],
   "metadata": {
    "collapsed": false
   }
  },
  {
   "cell_type": "markdown",
   "source": [
    "### Part 2"
   ],
   "metadata": {
    "collapsed": false
   }
  },
  {
   "cell_type": "code",
   "execution_count": null,
   "outputs": [],
   "source": [
    "DIVIDER_1 = [[2]]\n",
    "DIVIDER_2 = [[6]]"
   ],
   "metadata": {
    "collapsed": false
   }
  },
  {
   "cell_type": "code",
   "execution_count": null,
   "outputs": [],
   "source": [
    "def main():\n",
    "\n",
    "    lines = list(read_lines(INPUT_FILE, discard_blank=True))\n",
    "    lines.append(DIVIDER_1)\n",
    "    lines.append(DIVIDER_2)\n",
    "\n",
    "    lines.sort(key=functools.cmp_to_key(compare))\n",
    "\n",
    "    index1 = lines.index(DIVIDER_1) + 1\n",
    "    index2 = lines.index(DIVIDER_2) + 1\n",
    "\n",
    "    decoder_key = index1 * index2\n",
    "\n",
    "    print(f'The decoder key for the distress signal is {decoder_key}')"
   ],
   "metadata": {
    "collapsed": false
   }
  },
  {
   "cell_type": "code",
   "execution_count": null,
   "outputs": [],
   "source": [
    "if __name__ == '__main__':\n",
    "    main()"
   ],
   "metadata": {
    "collapsed": false
   }
  }
 ],
 "metadata": {
  "kernelspec": {
   "display_name": "Python 3",
   "language": "python",
   "name": "python3"
  },
  "language_info": {
   "codemirror_mode": {
    "name": "ipython",
    "version": 2
   },
   "file_extension": ".py",
   "mimetype": "text/x-python",
   "name": "python",
   "nbconvert_exporter": "python",
   "pygments_lexer": "ipython2",
   "version": "2.7.6"
  }
 },
 "nbformat": 4,
 "nbformat_minor": 0
}
