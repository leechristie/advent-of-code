{
 "cells": [
  {
   "cell_type": "markdown",
   "source": [
    "# Advent of Code 2022\n",
    "\n",
    "## Day 18: Boiling Boulders\n",
    "\n",
    "Solution code by [leechristie](https://github.com/leechristie) for Advent of Code 2022.\n",
    "\n",
    "Day 18 was pretty easy, and only took about 20 minutes.\n",
    "\n",
    "I've submitted both parts successfully but the code is a mess, so I'll tidy it later and push a nicer version to GitHub."
   ],
   "metadata": {
    "collapsed": false
   }
  },
  {
   "cell_type": "code",
   "execution_count": null,
   "outputs": [],
   "source": [
    "from collections.abc import Iterator\n",
    "import sys"
   ],
   "metadata": {
    "collapsed": false
   }
  },
  {
   "cell_type": "code",
   "execution_count": null,
   "outputs": [],
   "source": [
    "def read_lines(filename: str) -> Iterator[tuple[int, int, int]]:\n",
    "    with open(filename) as file:\n",
    "        for line in file:\n",
    "            yield tuple(int(i) for i in line.strip().split(','))"
   ],
   "metadata": {
    "collapsed": false
   }
  },
  {
   "cell_type": "code",
   "execution_count": null,
   "outputs": [],
   "source": [
    "def neighbours(loc):\n",
    "    x, y, z = loc\n",
    "    yield x-1, y, z\n",
    "    yield x+1, y, z\n",
    "    yield x, y-1, z\n",
    "    yield x, y+1, z\n",
    "    yield x, y, z-1\n",
    "    yield x, y, z+1\n",
    "\n",
    "class Blob:\n",
    "\n",
    "    def __init__(self):\n",
    "        self.rocks = set()\n",
    "        self.flood = set()\n",
    "\n",
    "    def total(self):\n",
    "        rv = 0\n",
    "        for rock in self.rocks:\n",
    "            for n in neighbours(rock):\n",
    "                if n not in self.rocks:\n",
    "                    rv += 1\n",
    "        return rv\n",
    "\n",
    "    def total2(self):\n",
    "        rv = 0\n",
    "        for rock in self.rocks:\n",
    "            for n in neighbours(rock):\n",
    "                if n in self.flood:\n",
    "                    rv += 1\n",
    "        return rv\n",
    "\n",
    "    def is_rock(self, loc):\n",
    "        return loc in self.rocks\n",
    "\n",
    "    def add_flood(self, loc):\n",
    "        if loc in self.flood:\n",
    "            return False\n",
    "        self.flood.add(loc)\n",
    "        return True\n",
    "\n",
    "    def add(self, loc):\n",
    "        assert not (loc in self.rocks), f'{loc} appears twice'\n",
    "        self.rocks.add(loc)"
   ],
   "metadata": {
    "collapsed": false
   }
  },
  {
   "cell_type": "code",
   "execution_count": null,
   "outputs": [],
   "source": [
    "blob = Blob()\n",
    "for loc in read_lines('data/example.txt'):\n",
    "    blob.add(loc)\n",
    "    print(loc, blob.total(), sep='\\t')\n",
    "print()\n",
    "print()\n",
    "print(blob.total(), sep='\\t')"
   ],
   "metadata": {
    "collapsed": false
   }
  },
  {
   "cell_type": "markdown",
   "source": [
    "Part 2"
   ],
   "metadata": {
    "collapsed": false
   }
  },
  {
   "cell_type": "code",
   "execution_count": null,
   "outputs": [],
   "source": [
    "blob = Blob()\n",
    "for loc in read_lines('data/input18.txt'):\n",
    "    blob.add(loc)\n",
    "\n",
    "print(blob.total(), sep='\\t')\n",
    "\n",
    "\n",
    "xs, ys, zs = set(), set(), set()\n",
    "for loc in read_lines('data/input18.txt'):\n",
    "    x, y, z = loc\n",
    "    xs.add(x)\n",
    "    ys.add(y)\n",
    "    zs.add(z)\n",
    "x_min = min(xs)\n",
    "y_min = min(ys)\n",
    "z_min = min(zs)\n",
    "x_max = max(xs)\n",
    "y_max = max(ys)\n",
    "z_max = max(zs)\n",
    "\n",
    "xs = list(range(x_min-1, x_max+2))\n",
    "ys = list(range(y_min-1, y_max+2))\n",
    "zs = list(range(z_min-1, z_max+2))\n",
    "\n",
    "print(f'{x_min}-{x_max} {xs}')\n",
    "print(f'{y_min}-{y_max} {ys}')\n",
    "print(f'{z_min}-{z_max} {zs}')\n",
    "\n",
    "start = 0, 0, 0\n",
    "\n",
    "def flood(loc, blob, xs, ys, zs):\n",
    "\n",
    "    x, y, z = loc\n",
    "    if x not in xs or y not in ys or z not in zs:\n",
    "        return\n",
    "\n",
    "    if blob.is_rock(loc):\n",
    "        return\n",
    "\n",
    "    if not blob.add_flood(loc):\n",
    "        return\n",
    "\n",
    "    for n in neighbours(loc):\n",
    "        flood(n, blob, xs, ys, zs)\n",
    "\n",
    "sys.setrecursionlimit(100000)\n",
    "\n",
    "flood(start, blob, xs, ys, zs)\n",
    "\n",
    "print(blob.total())\n",
    "print(blob.total2())"
   ],
   "metadata": {
    "collapsed": false
   }
  },
  {
   "cell_type": "code",
   "execution_count": null,
   "outputs": [],
   "source": [],
   "metadata": {
    "collapsed": false
   }
  }
 ],
 "metadata": {
  "kernelspec": {
   "display_name": "Python 3",
   "language": "python",
   "name": "python3"
  },
  "language_info": {
   "codemirror_mode": {
    "name": "ipython",
    "version": 2
   },
   "file_extension": ".py",
   "mimetype": "text/x-python",
   "name": "python",
   "nbconvert_exporter": "python",
   "pygments_lexer": "ipython2",
   "version": "2.7.6"
  }
 },
 "nbformat": 4,
 "nbformat_minor": 0
}
